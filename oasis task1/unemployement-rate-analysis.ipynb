{
 "cells": [
  {
   "cell_type": "code",
   "execution_count": 2,
   "metadata": {},
   "outputs": [],
   "source": [
    "import numpy as np # linear algebra\n",
    "import pandas as pd # data processing, CSV file I/O (e.g. pd.read_csv)\n",
    "\n",
    "# Input data files are available in the read-only \"../input/\" directory\n",
    "# For example, running this (by clicking run or pressing Shift+Enter) will list all files under the input directory\n",
    "\n",
    "import os\n",
    "for dirname, _, filenames in os.walk('/kaggle/input'):\n",
    "    for filename in filenames:\n",
    "        print(os.path.join(dirname, filename))\n"
   ]
  },
  {
   "attachments": {},
   "cell_type": "markdown",
   "metadata": {},
   "source": [
    "IMPORT LIBRARIES"
   ]
  },
  {
   "cell_type": "code",
   "execution_count": 1,
   "metadata": {},
   "outputs": [],
   "source": [
    "import pandas as pd\n",
    "import numpy as np\n",
    "import matplotlib.pyplot as plt\n",
    "import sklearn\n",
    "import plotly.express as px"
   ]
  },
  {
   "attachments": {},
   "cell_type": "markdown",
   "metadata": {},
   "source": [
    "READ THE DATA FROM PANDASREAD THE DATA FROM PANDAS"
   ]
  },
  {
   "cell_type": "code",
   "execution_count": 19,
   "metadata": {},
   "outputs": [],
   "source": [
    "df=pd.read_csv(\"Unemployment in India.csv\")"
   ]
  },
  {
   "cell_type": "code",
   "execution_count": 23,
   "metadata": {},
   "outputs": [
    {
     "data": {
      "text/html": [
       "<div>\n",
       "<style scoped>\n",
       "    .dataframe tbody tr th:only-of-type {\n",
       "        vertical-align: middle;\n",
       "    }\n",
       "\n",
       "    .dataframe tbody tr th {\n",
       "        vertical-align: top;\n",
       "    }\n",
       "\n",
       "    .dataframe thead th {\n",
       "        text-align: right;\n",
       "    }\n",
       "</style>\n",
       "<table border=\"1\" class=\"dataframe\">\n",
       "  <thead>\n",
       "    <tr style=\"text-align: right;\">\n",
       "      <th></th>\n",
       "      <th>Region</th>\n",
       "      <th>Date</th>\n",
       "      <th>Frequency</th>\n",
       "      <th>Estimated Unemployment Rate (%)</th>\n",
       "      <th>Estimated Employed</th>\n",
       "      <th>Estimated Labour Participation Rate (%)</th>\n",
       "      <th>Area</th>\n",
       "    </tr>\n",
       "  </thead>\n",
       "  <tbody>\n",
       "    <tr>\n",
       "      <th>0</th>\n",
       "      <td>0</td>\n",
       "      <td>31-05-2019</td>\n",
       "      <td>Monthly</td>\n",
       "      <td>3.65</td>\n",
       "      <td>11999139.0</td>\n",
       "      <td>43.24</td>\n",
       "      <td>Rural</td>\n",
       "    </tr>\n",
       "    <tr>\n",
       "      <th>1</th>\n",
       "      <td>0</td>\n",
       "      <td>30-06-2019</td>\n",
       "      <td>Monthly</td>\n",
       "      <td>3.05</td>\n",
       "      <td>11755881.0</td>\n",
       "      <td>42.05</td>\n",
       "      <td>Rural</td>\n",
       "    </tr>\n",
       "    <tr>\n",
       "      <th>2</th>\n",
       "      <td>0</td>\n",
       "      <td>31-07-2019</td>\n",
       "      <td>Monthly</td>\n",
       "      <td>3.75</td>\n",
       "      <td>12086707.0</td>\n",
       "      <td>43.50</td>\n",
       "      <td>Rural</td>\n",
       "    </tr>\n",
       "    <tr>\n",
       "      <th>3</th>\n",
       "      <td>0</td>\n",
       "      <td>31-08-2019</td>\n",
       "      <td>Monthly</td>\n",
       "      <td>3.32</td>\n",
       "      <td>12285693.0</td>\n",
       "      <td>43.97</td>\n",
       "      <td>Rural</td>\n",
       "    </tr>\n",
       "    <tr>\n",
       "      <th>4</th>\n",
       "      <td>0</td>\n",
       "      <td>30-09-2019</td>\n",
       "      <td>Monthly</td>\n",
       "      <td>5.17</td>\n",
       "      <td>12256762.0</td>\n",
       "      <td>44.68</td>\n",
       "      <td>Rural</td>\n",
       "    </tr>\n",
       "  </tbody>\n",
       "</table>\n",
       "</div>"
      ],
      "text/plain": [
       "   Region         Date  Frequency   Estimated Unemployment Rate (%)  \\\n",
       "0       0   31-05-2019    Monthly                              3.65   \n",
       "1       0   30-06-2019    Monthly                              3.05   \n",
       "2       0   31-07-2019    Monthly                              3.75   \n",
       "3       0   31-08-2019    Monthly                              3.32   \n",
       "4       0   30-09-2019    Monthly                              5.17   \n",
       "\n",
       "    Estimated Employed   Estimated Labour Participation Rate (%)   Area  \n",
       "0           11999139.0                                     43.24  Rural  \n",
       "1           11755881.0                                     42.05  Rural  \n",
       "2           12086707.0                                     43.50  Rural  \n",
       "3           12285693.0                                     43.97  Rural  \n",
       "4           12256762.0                                     44.68  Rural  "
      ]
     },
     "execution_count": 23,
     "metadata": {},
     "output_type": "execute_result"
    }
   ],
   "source": [
    "df.head()"
   ]
  },
  {
   "cell_type": "code",
   "execution_count": 32,
   "metadata": {},
   "outputs": [
    {
     "data": {
      "text/plain": [
       "(768, 7)"
      ]
     },
     "execution_count": 32,
     "metadata": {},
     "output_type": "execute_result"
    }
   ],
   "source": [
    "df.shape"
   ]
  },
  {
   "cell_type": "code",
   "execution_count": 33,
   "metadata": {},
   "outputs": [
    {
     "name": "stdout",
     "output_type": "stream",
     "text": [
      "<class 'pandas.core.frame.DataFrame'>\n",
      "RangeIndex: 768 entries, 0 to 767\n",
      "Data columns (total 7 columns):\n",
      " #   Column                                    Non-Null Count  Dtype  \n",
      "---  ------                                    --------------  -----  \n",
      " 0   Region                                    768 non-null    int64  \n",
      " 1    Date                                     740 non-null    object \n",
      " 2    Frequency                                740 non-null    object \n",
      " 3    Estimated Unemployment Rate (%)          740 non-null    float64\n",
      " 4    Estimated Employed                       740 non-null    float64\n",
      " 5    Estimated Labour Participation Rate (%)  740 non-null    float64\n",
      " 6   Area                                      740 non-null    object \n",
      "dtypes: float64(3), int64(1), object(3)\n",
      "memory usage: 42.1+ KB\n"
     ]
    }
   ],
   "source": [
    "df.info()"
   ]
  },
  {
   "cell_type": "code",
   "execution_count": 34,
   "metadata": {},
   "outputs": [
    {
     "data": {
      "text/html": [
       "<div>\n",
       "<style scoped>\n",
       "    .dataframe tbody tr th:only-of-type {\n",
       "        vertical-align: middle;\n",
       "    }\n",
       "\n",
       "    .dataframe tbody tr th {\n",
       "        vertical-align: top;\n",
       "    }\n",
       "\n",
       "    .dataframe thead th {\n",
       "        text-align: right;\n",
       "    }\n",
       "</style>\n",
       "<table border=\"1\" class=\"dataframe\">\n",
       "  <thead>\n",
       "    <tr style=\"text-align: right;\">\n",
       "      <th></th>\n",
       "      <th>Region</th>\n",
       "      <th>Estimated Unemployment Rate (%)</th>\n",
       "      <th>Estimated Employed</th>\n",
       "      <th>Estimated Labour Participation Rate (%)</th>\n",
       "    </tr>\n",
       "  </thead>\n",
       "  <tbody>\n",
       "    <tr>\n",
       "      <th>count</th>\n",
       "      <td>768.000000</td>\n",
       "      <td>740.000000</td>\n",
       "      <td>7.400000e+02</td>\n",
       "      <td>740.000000</td>\n",
       "    </tr>\n",
       "    <tr>\n",
       "      <th>mean</th>\n",
       "      <td>14.212240</td>\n",
       "      <td>11.787946</td>\n",
       "      <td>7.204460e+06</td>\n",
       "      <td>42.630122</td>\n",
       "    </tr>\n",
       "    <tr>\n",
       "      <th>std</th>\n",
       "      <td>8.347443</td>\n",
       "      <td>10.721298</td>\n",
       "      <td>8.087988e+06</td>\n",
       "      <td>8.111094</td>\n",
       "    </tr>\n",
       "    <tr>\n",
       "      <th>min</th>\n",
       "      <td>0.000000</td>\n",
       "      <td>0.000000</td>\n",
       "      <td>4.942000e+04</td>\n",
       "      <td>13.330000</td>\n",
       "    </tr>\n",
       "    <tr>\n",
       "      <th>25%</th>\n",
       "      <td>7.000000</td>\n",
       "      <td>4.657500</td>\n",
       "      <td>1.190404e+06</td>\n",
       "      <td>38.062500</td>\n",
       "    </tr>\n",
       "    <tr>\n",
       "      <th>50%</th>\n",
       "      <td>14.000000</td>\n",
       "      <td>8.350000</td>\n",
       "      <td>4.744178e+06</td>\n",
       "      <td>41.160000</td>\n",
       "    </tr>\n",
       "    <tr>\n",
       "      <th>75%</th>\n",
       "      <td>22.000000</td>\n",
       "      <td>15.887500</td>\n",
       "      <td>1.127549e+07</td>\n",
       "      <td>45.505000</td>\n",
       "    </tr>\n",
       "    <tr>\n",
       "      <th>max</th>\n",
       "      <td>28.000000</td>\n",
       "      <td>76.740000</td>\n",
       "      <td>4.577751e+07</td>\n",
       "      <td>72.570000</td>\n",
       "    </tr>\n",
       "  </tbody>\n",
       "</table>\n",
       "</div>"
      ],
      "text/plain": [
       "           Region   Estimated Unemployment Rate (%)   Estimated Employed  \\\n",
       "count  768.000000                        740.000000         7.400000e+02   \n",
       "mean    14.212240                         11.787946         7.204460e+06   \n",
       "std      8.347443                         10.721298         8.087988e+06   \n",
       "min      0.000000                          0.000000         4.942000e+04   \n",
       "25%      7.000000                          4.657500         1.190404e+06   \n",
       "50%     14.000000                          8.350000         4.744178e+06   \n",
       "75%     22.000000                         15.887500         1.127549e+07   \n",
       "max     28.000000                         76.740000         4.577751e+07   \n",
       "\n",
       "        Estimated Labour Participation Rate (%)  \n",
       "count                                740.000000  \n",
       "mean                                  42.630122  \n",
       "std                                    8.111094  \n",
       "min                                   13.330000  \n",
       "25%                                   38.062500  \n",
       "50%                                   41.160000  \n",
       "75%                                   45.505000  \n",
       "max                                   72.570000  "
      ]
     },
     "execution_count": 34,
     "metadata": {},
     "output_type": "execute_result"
    }
   ],
   "source": [
    "df.describe()"
   ]
  },
  {
   "cell_type": "code",
   "execution_count": 35,
   "metadata": {},
   "outputs": [],
   "source": [
    "x=df['Region']"
   ]
  },
  {
   "cell_type": "code",
   "execution_count": null,
   "metadata": {},
   "outputs": [],
   "source": [
    "x"
   ]
  },
  {
   "cell_type": "code",
   "execution_count": 37,
   "metadata": {},
   "outputs": [],
   "source": [
    "y=df[' Estimated Unemployment Rate (%)']"
   ]
  },
  {
   "cell_type": "code",
   "execution_count": 39,
   "metadata": {},
   "outputs": [
    {
     "data": {
      "text/plain": [
       "0      3.65\n",
       "1      3.05\n",
       "2      3.75\n",
       "3      3.32\n",
       "4      5.17\n",
       "       ... \n",
       "763     NaN\n",
       "764     NaN\n",
       "765     NaN\n",
       "766     NaN\n",
       "767     NaN\n",
       "Name:  Estimated Unemployment Rate (%), Length: 768, dtype: float64"
      ]
     },
     "execution_count": 39,
     "metadata": {},
     "output_type": "execute_result"
    }
   ],
   "source": [
    "y"
   ]
  },
  {
   "cell_type": "code",
   "execution_count": 40,
   "metadata": {},
   "outputs": [],
   "source": [
    "df2=df.iloc[:,3]"
   ]
  },
  {
   "cell_type": "code",
   "execution_count": 41,
   "metadata": {},
   "outputs": [
    {
     "data": {
      "text/plain": [
       "0      3.65\n",
       "1      3.05\n",
       "2      3.75\n",
       "3      3.32\n",
       "4      5.17\n",
       "       ... \n",
       "763     NaN\n",
       "764     NaN\n",
       "765     NaN\n",
       "766     NaN\n",
       "767     NaN\n",
       "Name:  Estimated Unemployment Rate (%), Length: 768, dtype: float64"
      ]
     },
     "execution_count": 41,
     "metadata": {},
     "output_type": "execute_result"
    }
   ],
   "source": [
    "df2"
   ]
  },
  {
   "cell_type": "code",
   "execution_count": 42,
   "metadata": {},
   "outputs": [],
   "source": [
    "import plotly.express as px\n",
    "import matplotlib.pyplot as plt"
   ]
  },
  {
   "cell_type": "code",
   "execution_count": 43,
   "metadata": {},
   "outputs": [
    {
     "data": {
      "application/vnd.plotly.v1+json": {
       "config": {
        "plotlyServerURL": "https://plot.ly"
       },
       "data": [
        {
         "alignmentgroup": "True",
         "hovertemplate": " Date= 31-05-2019<br>Region=%{marker.color}<br> Estimated Unemployment Rate (%)=%{y}<extra></extra>",
         "legendgroup": "",
         "marker": {
          "color": [
           0,
           1,
           2,
           4,
           5,
           6,
           7,
           8,
           9,
           10,
           11,
           12,
           13,
           14,
           15,
           16,
           17,
           18,
           19,
           20,
           22,
           23,
           24,
           25,
           26,
           27,
           0,
           1,
           2,
           3,
           4,
           5,
           6,
           7,
           8,
           9,
           10,
           11,
           12,
           13,
           14,
           15,
           16,
           17,
           18,
           19,
           20,
           21,
           22,
           23,
           24,
           25,
           26,
           27
          ],
          "coloraxis": "coloraxis",
          "pattern": {
           "shape": ""
          }
         },
         "name": "",
         "offsetgroup": "",
         "orientation": "v",
         "showlegend": false,
         "textposition": "auto",
         "type": "bar",
         "x": [
          0,
          1,
          2,
          4,
          5,
          6,
          7,
          8,
          9,
          10,
          11,
          12,
          13,
          14,
          15,
          16,
          17,
          18,
          19,
          20,
          22,
          23,
          24,
          25,
          26,
          27,
          0,
          1,
          2,
          3,
          4,
          5,
          6,
          7,
          8,
          9,
          10,
          11,
          12,
          13,
          14,
          15,
          16,
          17,
          18,
          19,
          20,
          21,
          22,
          23,
          24,
          25,
          26,
          27
         ],
         "xaxis": "x",
         "y": [
          3.65,
          4.29,
          9.27,
          9.82,
          12.56,
          2.91,
          2.88,
          14.54,
          13.68,
          12.78,
          7.11,
          5.46,
          6.63,
          3.63,
          3.67,
          3.16,
          4.17,
          0,
          9.17,
          4.03,
          0.97,
          2.23,
          29.25,
          10.26,
          1.63,
          6.02,
          6.09,
          7.87,
          19.9,
          18.35,
          9.77,
          12.31,
          2.75,
          4.09,
          24.67,
          10.88,
          23.04,
          17.23,
          6.56,
          6.11,
          3.91,
          6.08,
          8.4,
          2.95,
          1.25,
          13.49,
          13.62,
          8.2,
          0.89,
          1.52,
          34.69,
          14.4,
          9.17,
          7.25
         ],
         "yaxis": "y"
        }
       ],
       "frames": [
        {
         "data": [
          {
           "alignmentgroup": "True",
           "hovertemplate": " Date= 31-05-2019<br>Region=%{marker.color}<br> Estimated Unemployment Rate (%)=%{y}<extra></extra>",
           "legendgroup": "",
           "marker": {
            "color": [
             0,
             1,
             2,
             4,
             5,
             6,
             7,
             8,
             9,
             10,
             11,
             12,
             13,
             14,
             15,
             16,
             17,
             18,
             19,
             20,
             22,
             23,
             24,
             25,
             26,
             27,
             0,
             1,
             2,
             3,
             4,
             5,
             6,
             7,
             8,
             9,
             10,
             11,
             12,
             13,
             14,
             15,
             16,
             17,
             18,
             19,
             20,
             21,
             22,
             23,
             24,
             25,
             26,
             27
            ],
            "coloraxis": "coloraxis",
            "pattern": {
             "shape": ""
            }
           },
           "name": "",
           "offsetgroup": "",
           "orientation": "v",
           "showlegend": false,
           "textposition": "auto",
           "type": "bar",
           "x": [
            0,
            1,
            2,
            4,
            5,
            6,
            7,
            8,
            9,
            10,
            11,
            12,
            13,
            14,
            15,
            16,
            17,
            18,
            19,
            20,
            22,
            23,
            24,
            25,
            26,
            27,
            0,
            1,
            2,
            3,
            4,
            5,
            6,
            7,
            8,
            9,
            10,
            11,
            12,
            13,
            14,
            15,
            16,
            17,
            18,
            19,
            20,
            21,
            22,
            23,
            24,
            25,
            26,
            27
           ],
           "xaxis": "x",
           "y": [
            3.65,
            4.29,
            9.27,
            9.82,
            12.56,
            2.91,
            2.88,
            14.54,
            13.68,
            12.78,
            7.11,
            5.46,
            6.63,
            3.63,
            3.67,
            3.16,
            4.17,
            0,
            9.17,
            4.03,
            0.97,
            2.23,
            29.25,
            10.26,
            1.63,
            6.02,
            6.09,
            7.87,
            19.9,
            18.35,
            9.77,
            12.31,
            2.75,
            4.09,
            24.67,
            10.88,
            23.04,
            17.23,
            6.56,
            6.11,
            3.91,
            6.08,
            8.4,
            2.95,
            1.25,
            13.49,
            13.62,
            8.2,
            0.89,
            1.52,
            34.69,
            14.4,
            9.17,
            7.25
           ],
           "yaxis": "y"
          }
         ],
         "name": " 31-05-2019"
        },
        {
         "data": [
          {
           "alignmentgroup": "True",
           "hovertemplate": " Date= 30-06-2019<br>Region=%{marker.color}<br> Estimated Unemployment Rate (%)=%{y}<extra></extra>",
           "legendgroup": "",
           "marker": {
            "color": [
             0,
             1,
             2,
             4,
             5,
             6,
             7,
             8,
             9,
             10,
             11,
             12,
             13,
             14,
             15,
             16,
             17,
             18,
             19,
             20,
             22,
             23,
             24,
             25,
             26,
             27,
             0,
             1,
             2,
             3,
             4,
             5,
             6,
             7,
             8,
             9,
             10,
             11,
             12,
             13,
             14,
             15,
             16,
             17,
             18,
             19,
             20,
             21,
             22,
             23,
             24,
             25,
             26,
             27
            ],
            "coloraxis": "coloraxis",
            "pattern": {
             "shape": ""
            }
           },
           "name": "",
           "offsetgroup": "",
           "orientation": "v",
           "showlegend": false,
           "textposition": "auto",
           "type": "bar",
           "x": [
            0,
            1,
            2,
            4,
            5,
            6,
            7,
            8,
            9,
            10,
            11,
            12,
            13,
            14,
            15,
            16,
            17,
            18,
            19,
            20,
            22,
            23,
            24,
            25,
            26,
            27,
            0,
            1,
            2,
            3,
            4,
            5,
            6,
            7,
            8,
            9,
            10,
            11,
            12,
            13,
            14,
            15,
            16,
            17,
            18,
            19,
            20,
            21,
            22,
            23,
            24,
            25,
            26,
            27
           ],
           "xaxis": "x",
           "y": [
            3.05,
            5.08,
            10.2,
            6.76,
            9.33,
            5.45,
            4.77,
            23.08,
            11.43,
            12.09,
            8.46,
            5.98,
            9,
            4.25,
            4.34,
            4.23,
            4.71,
            0,
            12.21,
            13.7,
            0.92,
            5.92,
            26.64,
            11.13,
            4.65,
            5.85,
            3.8,
            9.89,
            13.29,
            12.4,
            11.77,
            12.76,
            13.33,
            6.31,
            20.42,
            21.43,
            19.88,
            20.51,
            5,
            6.67,
            6.38,
            6.46,
            8.66,
            2.63,
            0,
            13.17,
            14.36,
            7.76,
            1.56,
            1.43,
            25.59,
            11.62,
            4.69,
            7.38
           ],
           "yaxis": "y"
          }
         ],
         "name": " 30-06-2019"
        },
        {
         "data": [
          {
           "alignmentgroup": "True",
           "hovertemplate": " Date= 31-07-2019<br>Region=%{marker.color}<br> Estimated Unemployment Rate (%)=%{y}<extra></extra>",
           "legendgroup": "",
           "marker": {
            "color": [
             0,
             1,
             2,
             4,
             5,
             6,
             7,
             8,
             9,
             10,
             11,
             12,
             13,
             14,
             15,
             16,
             17,
             18,
             19,
             20,
             22,
             23,
             24,
             25,
             26,
             27,
             0,
             1,
             2,
             3,
             4,
             5,
             6,
             7,
             8,
             9,
             10,
             11,
             12,
             13,
             14,
             15,
             16,
             17,
             18,
             19,
             20,
             21,
             22,
             23,
             24,
             25,
             26,
             27
            ],
            "coloraxis": "coloraxis",
            "pattern": {
             "shape": ""
            }
           },
           "name": "",
           "offsetgroup": "",
           "orientation": "v",
           "showlegend": false,
           "textposition": "auto",
           "type": "bar",
           "x": [
            0,
            1,
            2,
            4,
            5,
            6,
            7,
            8,
            9,
            10,
            11,
            12,
            13,
            14,
            15,
            16,
            17,
            18,
            19,
            20,
            22,
            23,
            24,
            25,
            26,
            27,
            0,
            1,
            2,
            3,
            4,
            5,
            6,
            7,
            8,
            9,
            10,
            11,
            12,
            13,
            14,
            15,
            16,
            17,
            18,
            19,
            20,
            21,
            22,
            23,
            24,
            25,
            26,
            27
           ],
           "xaxis": "x",
           "y": [
            3.75,
            4.26,
            13.44,
            4.54,
            11.07,
            10.98,
            4.58,
            16.22,
            20.59,
            13.67,
            9.98,
            0.52,
            4.95,
            3.92,
            3.66,
            1.03,
            3.31,
            0,
            9.64,
            9.7,
            6.01,
            2.45,
            22.47,
            9.19,
            5.74,
            5.62,
            5.64,
            3.21,
            16.41,
            21.8,
            8.17,
            14.68,
            12.28,
            5.15,
            25.45,
            21.51,
            21.55,
            15.67,
            2.29,
            7.58,
            7.38,
            6.35,
            4.43,
            1.78,
            0,
            11.61,
            11.67,
            2.56,
            3.18,
            3.73,
            25.81,
            11.8,
            6.94,
            7.91
           ],
           "yaxis": "y"
          }
         ],
         "name": " 31-07-2019"
        },
        {
         "data": [
          {
           "alignmentgroup": "True",
           "hovertemplate": " Date= 31-08-2019<br>Region=%{marker.color}<br> Estimated Unemployment Rate (%)=%{y}<extra></extra>",
           "legendgroup": "",
           "marker": {
            "color": [
             0,
             1,
             2,
             4,
             5,
             6,
             7,
             8,
             9,
             10,
             11,
             12,
             13,
             14,
             15,
             16,
             17,
             18,
             19,
             20,
             22,
             23,
             24,
             25,
             26,
             27,
             0,
             1,
             2,
             3,
             4,
             5,
             6,
             7,
             8,
             9,
             11,
             12,
             13,
             14,
             15,
             16,
             17,
             18,
             19,
             20,
             21,
             22,
             23,
             24,
             25,
             26,
             27
            ],
            "coloraxis": "coloraxis",
            "pattern": {
             "shape": ""
            }
           },
           "name": "",
           "offsetgroup": "",
           "orientation": "v",
           "showlegend": false,
           "textposition": "auto",
           "type": "bar",
           "x": [
            0,
            1,
            2,
            4,
            5,
            6,
            7,
            8,
            9,
            10,
            11,
            12,
            13,
            14,
            15,
            16,
            17,
            18,
            19,
            20,
            22,
            23,
            24,
            25,
            26,
            27,
            0,
            1,
            2,
            3,
            4,
            5,
            6,
            7,
            8,
            9,
            11,
            12,
            13,
            14,
            15,
            16,
            17,
            18,
            19,
            20,
            21,
            22,
            23,
            24,
            25,
            26,
            27
           ],
           "xaxis": "x",
           "y": [
            3.32,
            5.79,
            11,
            4.64,
            17.18,
            1.98,
            3.7,
            30.94,
            18.56,
            11.32,
            12.06,
            0.37,
            10.32,
            4.94,
            3.76,
            0.52,
            3.68,
            4.85,
            6.69,
            12.5,
            2.91,
            1.4,
            25.49,
            11.47,
            6.11,
            5.58,
            4.61,
            10.39,
            17.66,
            9.52,
            6.29,
            13.52,
            4.9,
            4.2,
            24.19,
            24.48,
            20.25,
            1.27,
            7.69,
            6.82,
            7.57,
            5.8,
            3.5,
            8.95,
            11.99,
            14.71,
            4.82,
            9.53,
            4.19,
            33.45,
            14.73,
            7.43,
            7.27
           ],
           "yaxis": "y"
          }
         ],
         "name": " 31-08-2019"
        },
        {
         "data": [
          {
           "alignmentgroup": "True",
           "hovertemplate": " Date= 30-09-2019<br>Region=%{marker.color}<br> Estimated Unemployment Rate (%)=%{y}<extra></extra>",
           "legendgroup": "",
           "marker": {
            "color": [
             0,
             1,
             2,
             4,
             5,
             6,
             7,
             8,
             9,
             11,
             12,
             13,
             14,
             15,
             16,
             17,
             18,
             19,
             20,
             22,
             23,
             24,
             25,
             26,
             27,
             0,
             1,
             2,
             3,
             4,
             5,
             6,
             7,
             8,
             9,
             11,
             12,
             13,
             14,
             15,
             16,
             17,
             18,
             19,
             20,
             21,
             22,
             23,
             24,
             25,
             26,
             27
            ],
            "coloraxis": "coloraxis",
            "pattern": {
             "shape": ""
            }
           },
           "name": "",
           "offsetgroup": "",
           "orientation": "v",
           "showlegend": false,
           "textposition": "auto",
           "type": "bar",
           "x": [
            0,
            1,
            2,
            4,
            5,
            6,
            7,
            8,
            9,
            11,
            12,
            13,
            14,
            15,
            16,
            17,
            18,
            19,
            20,
            22,
            23,
            24,
            25,
            26,
            27,
            0,
            1,
            2,
            3,
            4,
            5,
            6,
            7,
            8,
            9,
            11,
            12,
            13,
            14,
            15,
            16,
            17,
            18,
            19,
            20,
            21,
            22,
            23,
            24,
            25,
            26,
            27
           ],
           "xaxis": "x",
           "y": [
            5.17,
            4.46,
            8.87,
            8.33,
            12.5,
            3.61,
            6.29,
            16.36,
            15.98,
            7.12,
            3.2,
            5.35,
            3.08,
            4.4,
            0.24,
            4.31,
            0,
            8.59,
            5.45,
            1.71,
            5.49,
            30.23,
            6.45,
            3.47,
            5.26,
            6.01,
            9.26,
            20.46,
            20.14,
            9.46,
            20.59,
            3.16,
            5.96,
            26.84,
            12,
            21.16,
            3.57,
            5.52,
            7,
            7.6,
            5.3,
            3.78,
            1.22,
            15.69,
            12.63,
            4.81,
            1.86,
            6.19,
            33.57,
            13.58,
            9.62,
            7.79
           ],
           "yaxis": "y"
          }
         ],
         "name": " 30-09-2019"
        },
        {
         "data": [
          {
           "alignmentgroup": "True",
           "hovertemplate": " Date= 31-10-2019<br>Region=%{marker.color}<br> Estimated Unemployment Rate (%)=%{y}<extra></extra>",
           "legendgroup": "",
           "marker": {
            "color": [
             0,
             1,
             2,
             4,
             5,
             6,
             7,
             8,
             9,
             10,
             11,
             12,
             13,
             14,
             15,
             16,
             17,
             18,
             19,
             20,
             21,
             22,
             23,
             24,
             25,
             26,
             27,
             0,
             1,
             2,
             3,
             4,
             5,
             6,
             7,
             8,
             9,
             10,
             11,
             12,
             13,
             14,
             15,
             16,
             17,
             18,
             19,
             20,
             21,
             22,
             23,
             24,
             25,
             26,
             27
            ],
            "coloraxis": "coloraxis",
            "pattern": {
             "shape": ""
            }
           },
           "name": "",
           "offsetgroup": "",
           "orientation": "v",
           "showlegend": false,
           "textposition": "auto",
           "type": "bar",
           "x": [
            0,
            1,
            2,
            4,
            5,
            6,
            7,
            8,
            9,
            10,
            11,
            12,
            13,
            14,
            15,
            16,
            17,
            18,
            19,
            20,
            21,
            22,
            23,
            24,
            25,
            26,
            27,
            0,
            1,
            2,
            3,
            4,
            5,
            6,
            7,
            8,
            9,
            10,
            11,
            12,
            13,
            14,
            15,
            16,
            17,
            18,
            19,
            20,
            21,
            22,
            23,
            24,
            25,
            26,
            27
           ],
           "xaxis": "x",
           "y": [
            3.52,
            4.65,
            12.47,
            6.96,
            15.84,
            7.21,
            4.91,
            24.17,
            15.81,
            19.27,
            6.57,
            7.13,
            9.14,
            2.98,
            3.81,
            3.7,
            4.28,
            1.18,
            12.56,
            14.66,
            5.48,
            1.46,
            7.29,
            27.54,
            10.18,
            4.83,
            6.78,
            4.7,
            11.17,
            14.06,
            13.99,
            10.27,
            12.41,
            12.31,
            5.45,
            21.04,
            23.77,
            24.06,
            19.05,
            3.87,
            5.35,
            4.4,
            7.51,
            7.2,
            4.5,
            1.17,
            13.75,
            13.02,
            9.68,
            1.13,
            6.74,
            26.67,
            10.35,
            4.72,
            7.83
           ],
           "yaxis": "y"
          }
         ],
         "name": " 31-10-2019"
        },
        {
         "data": [
          {
           "alignmentgroup": "True",
           "hovertemplate": " Date= 30-11-2019<br>Region=%{marker.color}<br> Estimated Unemployment Rate (%)=%{y}<extra></extra>",
           "legendgroup": "",
           "marker": {
            "color": [
             0,
             1,
             2,
             4,
             5,
             6,
             7,
             8,
             9,
             10,
             11,
             12,
             13,
             14,
             15,
             16,
             17,
             18,
             19,
             20,
             21,
             22,
             23,
             24,
             25,
             26,
             27,
             0,
             1,
             2,
             3,
             4,
             5,
             6,
             7,
             8,
             9,
             10,
             11,
             12,
             13,
             14,
             15,
             16,
             17,
             18,
             19,
             20,
             21,
             22,
             23,
             24,
             25,
             26,
             27
            ],
            "coloraxis": "coloraxis",
            "pattern": {
             "shape": ""
            }
           },
           "name": "",
           "offsetgroup": "",
           "orientation": "v",
           "showlegend": false,
           "textposition": "auto",
           "type": "bar",
           "x": [
            0,
            1,
            2,
            4,
            5,
            6,
            7,
            8,
            9,
            10,
            11,
            12,
            13,
            14,
            15,
            16,
            17,
            18,
            19,
            20,
            21,
            22,
            23,
            24,
            25,
            26,
            27,
            0,
            1,
            2,
            3,
            4,
            5,
            6,
            7,
            8,
            9,
            10,
            11,
            12,
            13,
            14,
            15,
            16,
            17,
            18,
            19,
            20,
            21,
            22,
            23,
            24,
            25,
            26,
            27
           ],
           "xaxis": "x",
           "y": [
            4.12,
            4.66,
            12.4,
            2.77,
            11.11,
            23.71,
            4.68,
            16.59,
            22.86,
            14.73,
            8.07,
            1.19,
            5,
            2.72,
            3.68,
            1.5,
            4.72,
            0,
            7.07,
            10.47,
            13.11,
            2.46,
            6.47,
            25.25,
            6.94,
            5.56,
            5.83,
            7.54,
            6.31,
            17.62,
            22.05,
            8.32,
            16.11,
            25.2,
            7.53,
            27.06,
            27.27,
            14.29,
            17.34,
            3.44,
            6.71,
            6.06,
            7.6,
            3.02,
            2.23,
            1.37,
            10.39,
            14.3,
            4.04,
            2.65,
            5.23,
            27.15,
            11.31,
            6.34,
            6.61
           ],
           "yaxis": "y"
          }
         ],
         "name": " 30-11-2019"
        },
        {
         "data": [
          {
           "alignmentgroup": "True",
           "hovertemplate": " Date= 31-12-2019<br>Region=%{marker.color}<br> Estimated Unemployment Rate (%)=%{y}<extra></extra>",
           "legendgroup": "",
           "marker": {
            "color": [
             0,
             2,
             4,
             5,
             6,
             7,
             8,
             9,
             11,
             12,
             13,
             14,
             15,
             16,
             17,
             18,
             19,
             20,
             21,
             22,
             23,
             24,
             25,
             26,
             27,
             0,
             1,
             2,
             3,
             4,
             5,
             6,
             7,
             8,
             9,
             10,
             11,
             12,
             13,
             14,
             15,
             16,
             17,
             18,
             19,
             20,
             21,
             22,
             23,
             24,
             25,
             26,
             27
            ],
            "coloraxis": "coloraxis",
            "pattern": {
             "shape": ""
            }
           },
           "name": "",
           "offsetgroup": "",
           "orientation": "v",
           "showlegend": false,
           "textposition": "auto",
           "type": "bar",
           "x": [
            0,
            2,
            4,
            5,
            6,
            7,
            8,
            9,
            11,
            12,
            13,
            14,
            15,
            16,
            17,
            18,
            19,
            20,
            21,
            22,
            23,
            24,
            25,
            26,
            27,
            0,
            1,
            2,
            3,
            4,
            5,
            6,
            7,
            8,
            9,
            10,
            11,
            12,
            13,
            14,
            15,
            16,
            17,
            18,
            19,
            20,
            21,
            22,
            23,
            24,
            25,
            26,
            27
           ],
           "xaxis": "x",
           "y": [
            4.38,
            10.16,
            6.11,
            16.97,
            3.54,
            3.46,
            29.56,
            19.46,
            15.15,
            0.41,
            10.77,
            2.94,
            3.03,
            1.8,
            4.67,
            1.99,
            6.13,
            13.96,
            1,
            3.73,
            1.35,
            26.53,
            8.43,
            4.52,
            5.79,
            7.88,
            5.02,
            14.91,
            8.33,
            3.57,
            11.07,
            16.22,
            5.71,
            23.65,
            25.32,
            7.02,
            22.01,
            1.56,
            7.31,
            6.2,
            7.83,
            5.21,
            3.36,
            5.21,
            11.97,
            18.04,
            7.37,
            8.05,
            4.22,
            33.48,
            12.37,
            7.39,
            7.24
           ],
           "yaxis": "y"
          }
         ],
         "name": " 31-12-2019"
        },
        {
         "data": [
          {
           "alignmentgroup": "True",
           "hovertemplate": " Date= 31-01-2020<br>Region=%{marker.color}<br> Estimated Unemployment Rate (%)=%{y}<extra></extra>",
           "legendgroup": "",
           "marker": {
            "color": [
             0,
             1,
             2,
             4,
             5,
             6,
             7,
             8,
             9,
             10,
             11,
             12,
             13,
             14,
             15,
             16,
             17,
             18,
             19,
             20,
             22,
             23,
             24,
             25,
             26,
             27,
             0,
             1,
             2,
             3,
             4,
             5,
             6,
             7,
             8,
             9,
             10,
             11,
             12,
             13,
             14,
             15,
             16,
             17,
             18,
             19,
             20,
             22,
             23,
             24,
             25,
             26,
             27
            ],
            "coloraxis": "coloraxis",
            "pattern": {
             "shape": ""
            }
           },
           "name": "",
           "offsetgroup": "",
           "orientation": "v",
           "showlegend": false,
           "textposition": "auto",
           "type": "bar",
           "x": [
            0,
            1,
            2,
            4,
            5,
            6,
            7,
            8,
            9,
            10,
            11,
            12,
            13,
            14,
            15,
            16,
            17,
            18,
            19,
            20,
            22,
            23,
            24,
            25,
            26,
            27,
            0,
            1,
            2,
            3,
            4,
            5,
            6,
            7,
            8,
            9,
            10,
            11,
            12,
            13,
            14,
            15,
            16,
            17,
            18,
            19,
            20,
            22,
            23,
            24,
            25,
            26,
            27
           ],
           "xaxis": "x",
           "y": [
            4.84,
            4.29,
            9.13,
            9.89,
            13.48,
            5.38,
            5.35,
            16.21,
            16.67,
            22.19,
            6.16,
            2.57,
            4.11,
            3.66,
            3.8,
            0.97,
            1.81,
            0.58,
            9.69,
            8,
            1.18,
            5.02,
            31.91,
            6.06,
            4.17,
            6.79,
            7.11,
            7.24,
            20.69,
            20,
            9.01,
            22.45,
            10.92,
            5.82,
            27.24,
            18.15,
            18.54,
            22.96,
            3.31,
            6.65,
            5.17,
            6.67,
            4.76,
            2.28,
            0.57,
            13.68,
            18.82,
            2.05,
            6.49,
            34.37,
            12.34,
            8.92,
            7.27
           ],
           "yaxis": "y"
          }
         ],
         "name": " 31-01-2020"
        },
        {
         "data": [
          {
           "alignmentgroup": "True",
           "hovertemplate": " Date= 29-02-2020<br>Region=%{marker.color}<br> Estimated Unemployment Rate (%)=%{y}<extra></extra>",
           "legendgroup": "",
           "marker": {
            "color": [
             0,
             1,
             2,
             4,
             5,
             6,
             7,
             8,
             9,
             10,
             11,
             12,
             13,
             14,
             15,
             16,
             17,
             18,
             19,
             20,
             22,
             23,
             24,
             25,
             26,
             27,
             0,
             1,
             2,
             3,
             4,
             5,
             6,
             7,
             8,
             9,
             10,
             11,
             12,
             13,
             14,
             15,
             16,
             17,
             18,
             19,
             20,
             22,
             23,
             24,
             25,
             26,
             27
            ],
            "coloraxis": "coloraxis",
            "pattern": {
             "shape": ""
            }
           },
           "name": "",
           "offsetgroup": "",
           "orientation": "v",
           "showlegend": false,
           "textposition": "auto",
           "type": "bar",
           "x": [
            0,
            1,
            2,
            4,
            5,
            6,
            7,
            8,
            9,
            10,
            11,
            12,
            13,
            14,
            15,
            16,
            17,
            18,
            19,
            20,
            22,
            23,
            24,
            25,
            26,
            27,
            0,
            1,
            2,
            3,
            4,
            5,
            6,
            7,
            8,
            9,
            10,
            11,
            12,
            13,
            14,
            15,
            16,
            17,
            18,
            19,
            20,
            22,
            23,
            24,
            25,
            26,
            27
           ],
           "xaxis": "x",
           "y": [
            5.91,
            3.26,
            9.61,
            7.89,
            13.81,
            0,
            6.64,
            27.19,
            15.42,
            21.23,
            9.06,
            4.11,
            8.91,
            4.42,
            4.24,
            2.76,
            3.31,
            1.74,
            10.41,
            14.48,
            1.17,
            9.02,
            26.22,
            8.12,
            4.85,
            3.78,
            5.66,
            9.98,
            15.11,
            16.67,
            9.79,
            14.86,
            4.31,
            6.04,
            23.29,
            27.31,
            19.86,
            19.67,
            2.88,
            6.08,
            4.96,
            5.34,
            7.37,
            2.19,
            1.78,
            11.99,
            17.02,
            3.31,
            6.74,
            33.88,
            11.65,
            5.28,
            7.55
           ],
           "yaxis": "y"
          }
         ],
         "name": " 29-02-2020"
        },
        {
         "data": [
          {
           "alignmentgroup": "True",
           "hovertemplate": " Date= 31-03-2020<br>Region=%{marker.color}<br> Estimated Unemployment Rate (%)=%{y}<extra></extra>",
           "legendgroup": "",
           "marker": {
            "color": [
             0,
             1,
             2,
             4,
             5,
             7,
             8,
             9,
             10,
             11,
             12,
             13,
             14,
             15,
             16,
             17,
             18,
             19,
             20,
             22,
             23,
             24,
             25,
             27,
             0,
             1,
             2,
             3,
             4,
             5,
             6,
             7,
             8,
             9,
             10,
             11,
             12,
             13,
             14,
             15,
             16,
             17,
             18,
             19,
             20,
             21,
             22,
             23,
             24,
             25,
             26,
             27
            ],
            "coloraxis": "coloraxis",
            "pattern": {
             "shape": ""
            }
           },
           "name": "",
           "offsetgroup": "",
           "orientation": "v",
           "showlegend": false,
           "textposition": "auto",
           "type": "bar",
           "x": [
            0,
            1,
            2,
            4,
            5,
            7,
            8,
            9,
            10,
            11,
            12,
            13,
            14,
            15,
            16,
            17,
            18,
            19,
            20,
            22,
            23,
            24,
            25,
            27,
            0,
            1,
            2,
            3,
            4,
            5,
            6,
            7,
            8,
            9,
            10,
            11,
            12,
            13,
            14,
            15,
            16,
            17,
            18,
            19,
            20,
            21,
            22,
            23,
            24,
            25,
            26,
            27
           ],
           "xaxis": "x",
           "y": [
            4.06,
            3.77,
            15.39,
            7.31,
            15.18,
            7.59,
            23.92,
            17.71,
            16,
            5.01,
            2.39,
            8.85,
            1.19,
            5.38,
            1.28,
            15.09,
            2.31,
            10.51,
            9.47,
            6.36,
            5.63,
            31.61,
            9.37,
            7.02,
            9.88,
            10.34,
            15.73,
            21.43,
            8.21,
            17.09,
            4.76,
            5.39,
            27.14,
            26.44,
            14.29,
            16.4,
            4.92,
            9.14,
            4.8,
            6.34,
            2.8,
            3.96,
            0.62,
            9.97,
            18.54,
            20.45,
            6.46,
            6.1,
            25.69,
            12.32,
            8.15,
            6.67
           ],
           "yaxis": "y"
          }
         ],
         "name": " 31-03-2020"
        },
        {
         "data": [
          {
           "alignmentgroup": "True",
           "hovertemplate": " Date= 30-04-2020<br>Region=%{marker.color}<br> Estimated Unemployment Rate (%)=%{y}<extra></extra>",
           "legendgroup": "",
           "marker": {
            "color": [
             0,
             2,
             4,
             5,
             6,
             7,
             8,
             9,
             11,
             12,
             13,
             14,
             15,
             16,
             17,
             18,
             19,
             20,
             21,
             22,
             23,
             24,
             25,
             26,
             27,
             0,
             1,
             2,
             4,
             5,
             6,
             7,
             8,
             9,
             11,
             12,
             13,
             14,
             15,
             16,
             17,
             18,
             19,
             20,
             21,
             22,
             23,
             24,
             25,
             26,
             27
            ],
            "coloraxis": "coloraxis",
            "pattern": {
             "shape": ""
            }
           },
           "name": "",
           "offsetgroup": "",
           "orientation": "v",
           "showlegend": false,
           "textposition": "auto",
           "type": "bar",
           "x": [
            0,
            2,
            4,
            5,
            6,
            7,
            8,
            9,
            11,
            12,
            13,
            14,
            15,
            16,
            17,
            18,
            19,
            20,
            21,
            22,
            23,
            24,
            25,
            26,
            27,
            0,
            1,
            2,
            4,
            5,
            6,
            7,
            8,
            9,
            11,
            12,
            13,
            14,
            15,
            16,
            17,
            18,
            19,
            20,
            21,
            22,
            23,
            24,
            25,
            26,
            27
           ],
           "xaxis": "x",
           "y": [
            16.29,
            45.09,
            0,
            20.69,
            15.91,
            12,
            41.61,
            2.13,
            41.72,
            33.17,
            10.71,
            12.5,
            25.28,
            8.38,
            24.48,
            74.51,
            3.69,
            12.25,
            0,
            53.19,
            4.51,
            43.64,
            19.92,
            3.66,
            18.32,
            32.3,
            8.37,
            58.77,
            20.13,
            16.51,
            11.76,
            25.94,
            46.89,
            2.7,
            61.48,
            25.12,
            21.43,
            11.94,
            14.99,
            17.39,
            20.5,
            76.74,
            1.13,
            35.53,
            5.77,
            45.55,
            10.5,
            34.88,
            26.94,
            13.18,
            15.63
           ],
           "yaxis": "y"
          }
         ],
         "name": " 30-04-2020"
        },
        {
         "data": [
          {
           "alignmentgroup": "True",
           "hovertemplate": " Date= 31-05-2020<br>Region=%{marker.color}<br> Estimated Unemployment Rate (%)=%{y}<extra></extra>",
           "legendgroup": "",
           "marker": {
            "color": [
             0,
             1,
             2,
             4,
             5,
             6,
             7,
             8,
             9,
             10,
             11,
             12,
             13,
             14,
             15,
             16,
             17,
             19,
             20,
             22,
             23,
             24,
             25,
             26,
             27,
             0,
             1,
             2,
             4,
             5,
             7,
             8,
             9,
             10,
             11,
             12,
             13,
             14,
             15,
             16,
             17,
             18,
             19,
             20,
             21,
             22,
             23,
             24,
             25,
             26,
             27
            ],
            "coloraxis": "coloraxis",
            "pattern": {
             "shape": ""
            }
           },
           "name": "",
           "offsetgroup": "",
           "orientation": "v",
           "showlegend": false,
           "textposition": "auto",
           "type": "bar",
           "x": [
            0,
            1,
            2,
            4,
            5,
            6,
            7,
            8,
            9,
            10,
            11,
            12,
            13,
            14,
            15,
            16,
            17,
            19,
            20,
            22,
            23,
            24,
            25,
            26,
            27,
            0,
            1,
            2,
            4,
            5,
            7,
            8,
            9,
            10,
            11,
            12,
            13,
            14,
            15,
            16,
            17,
            18,
            19,
            20,
            21,
            22,
            23,
            24,
            25,
            26,
            27
           ],
           "xaxis": "x",
           "y": [
            14.46,
            9.38,
            47.26,
            7.64,
            22.76,
            20,
            14.58,
            34.22,
            25.64,
            2.22,
            55.1,
            23.72,
            23.38,
            22.46,
            16.89,
            3.73,
            9.45,
            40.59,
            10.45,
            38.73,
            34.01,
            14.71,
            16.89,
            3.57,
            18.43,
            24.91,
            10.77,
            37.87,
            24.1,
            45.78,
            11.62,
            38.46,
            50,
            12.96,
            70.17,
            15.88,
            30.28,
            40.49,
            15.92,
            14.58,
            10,
            75,
            20.54,
            25.35,
            19.75,
            25.95,
            36.57,
            16.78,
            32.06,
            17.36,
            15.22
           ],
           "yaxis": "y"
          }
         ],
         "name": " 31-05-2020"
        },
        {
         "data": [
          {
           "alignmentgroup": "True",
           "hovertemplate": " Date= 30-06-2020<br>Region=%{marker.color}<br> Estimated Unemployment Rate (%)=%{y}<extra></extra>",
           "legendgroup": "",
           "marker": {
            "color": [
             0,
             1,
             2,
             4,
             5,
             7,
             8,
             9,
             10,
             11,
             12,
             13,
             14,
             15,
             16,
             17,
             19,
             20,
             21,
             22,
             23,
             24,
             25,
             26,
             27,
             0,
             1,
             2,
             3,
             4,
             5,
             7,
             8,
             9,
             11,
             12,
             13,
             14,
             15,
             17,
             18,
             19,
             20,
             21,
             22,
             23,
             24,
             25,
             26,
             27
            ],
            "coloraxis": "coloraxis",
            "pattern": {
             "shape": ""
            }
           },
           "name": "",
           "offsetgroup": "",
           "orientation": "v",
           "showlegend": false,
           "textposition": "auto",
           "type": "bar",
           "x": [
            0,
            1,
            2,
            4,
            5,
            7,
            8,
            9,
            10,
            11,
            12,
            13,
            14,
            15,
            16,
            17,
            19,
            20,
            21,
            22,
            23,
            24,
            25,
            26,
            27,
            0,
            1,
            2,
            3,
            4,
            5,
            7,
            8,
            9,
            11,
            12,
            13,
            14,
            15,
            17,
            18,
            19,
            20,
            21,
            22,
            23,
            24,
            25,
            26,
            27
           ],
           "xaxis": "x",
           "y": [
            0.85,
            0,
            20.49,
            10.14,
            21.14,
            1.41,
            35.57,
            1.12,
            18.97,
            21.53,
            10.92,
            27.66,
            6.46,
            9.4,
            1.35,
            4.59,
            20,
            13.86,
            5.81,
            2.06,
            19.3,
            18.84,
            8.51,
            10.71,
            4.94,
            5.86,
            3.42,
            12.45,
            7.22,
            27.07,
            18.11,
            4.54,
            29.41,
            10.81,
            19.38,
            6.12,
            12.17,
            12.72,
            10.01,
            2.18,
            4.55,
            10.55,
            13.04,
            2.63,
            24.93,
            6.92,
            27.47,
            13.05,
            5.08,
            9.86
           ],
           "yaxis": "y"
          }
         ],
         "name": " 30-06-2020"
        }
       ],
       "layout": {
        "barmode": "relative",
        "coloraxis": {
         "colorbar": {
          "title": {
           "text": "Region"
          }
         },
         "colorscale": [
          [
           0,
           "#0d0887"
          ],
          [
           0.1111111111111111,
           "#46039f"
          ],
          [
           0.2222222222222222,
           "#7201a8"
          ],
          [
           0.3333333333333333,
           "#9c179e"
          ],
          [
           0.4444444444444444,
           "#bd3786"
          ],
          [
           0.5555555555555556,
           "#d8576b"
          ],
          [
           0.6666666666666666,
           "#ed7953"
          ],
          [
           0.7777777777777778,
           "#fb9f3a"
          ],
          [
           0.8888888888888888,
           "#fdca26"
          ],
          [
           1,
           "#f0f921"
          ]
         ]
        },
        "legend": {
         "tracegroupgap": 0
        },
        "sliders": [
         {
          "active": 0,
          "currentvalue": {
           "prefix": " Date="
          },
          "len": 0.9,
          "pad": {
           "b": 10,
           "t": 60
          },
          "steps": [
           {
            "args": [
             [
              " 31-05-2019"
             ],
             {
              "frame": {
               "duration": 0,
               "redraw": true
              },
              "fromcurrent": true,
              "mode": "immediate",
              "transition": {
               "duration": 0,
               "easing": "linear"
              }
             }
            ],
            "label": " 31-05-2019",
            "method": "animate"
           },
           {
            "args": [
             [
              " 30-06-2019"
             ],
             {
              "frame": {
               "duration": 0,
               "redraw": true
              },
              "fromcurrent": true,
              "mode": "immediate",
              "transition": {
               "duration": 0,
               "easing": "linear"
              }
             }
            ],
            "label": " 30-06-2019",
            "method": "animate"
           },
           {
            "args": [
             [
              " 31-07-2019"
             ],
             {
              "frame": {
               "duration": 0,
               "redraw": true
              },
              "fromcurrent": true,
              "mode": "immediate",
              "transition": {
               "duration": 0,
               "easing": "linear"
              }
             }
            ],
            "label": " 31-07-2019",
            "method": "animate"
           },
           {
            "args": [
             [
              " 31-08-2019"
             ],
             {
              "frame": {
               "duration": 0,
               "redraw": true
              },
              "fromcurrent": true,
              "mode": "immediate",
              "transition": {
               "duration": 0,
               "easing": "linear"
              }
             }
            ],
            "label": " 31-08-2019",
            "method": "animate"
           },
           {
            "args": [
             [
              " 30-09-2019"
             ],
             {
              "frame": {
               "duration": 0,
               "redraw": true
              },
              "fromcurrent": true,
              "mode": "immediate",
              "transition": {
               "duration": 0,
               "easing": "linear"
              }
             }
            ],
            "label": " 30-09-2019",
            "method": "animate"
           },
           {
            "args": [
             [
              " 31-10-2019"
             ],
             {
              "frame": {
               "duration": 0,
               "redraw": true
              },
              "fromcurrent": true,
              "mode": "immediate",
              "transition": {
               "duration": 0,
               "easing": "linear"
              }
             }
            ],
            "label": " 31-10-2019",
            "method": "animate"
           },
           {
            "args": [
             [
              " 30-11-2019"
             ],
             {
              "frame": {
               "duration": 0,
               "redraw": true
              },
              "fromcurrent": true,
              "mode": "immediate",
              "transition": {
               "duration": 0,
               "easing": "linear"
              }
             }
            ],
            "label": " 30-11-2019",
            "method": "animate"
           },
           {
            "args": [
             [
              " 31-12-2019"
             ],
             {
              "frame": {
               "duration": 0,
               "redraw": true
              },
              "fromcurrent": true,
              "mode": "immediate",
              "transition": {
               "duration": 0,
               "easing": "linear"
              }
             }
            ],
            "label": " 31-12-2019",
            "method": "animate"
           },
           {
            "args": [
             [
              " 31-01-2020"
             ],
             {
              "frame": {
               "duration": 0,
               "redraw": true
              },
              "fromcurrent": true,
              "mode": "immediate",
              "transition": {
               "duration": 0,
               "easing": "linear"
              }
             }
            ],
            "label": " 31-01-2020",
            "method": "animate"
           },
           {
            "args": [
             [
              " 29-02-2020"
             ],
             {
              "frame": {
               "duration": 0,
               "redraw": true
              },
              "fromcurrent": true,
              "mode": "immediate",
              "transition": {
               "duration": 0,
               "easing": "linear"
              }
             }
            ],
            "label": " 29-02-2020",
            "method": "animate"
           },
           {
            "args": [
             [
              " 31-03-2020"
             ],
             {
              "frame": {
               "duration": 0,
               "redraw": true
              },
              "fromcurrent": true,
              "mode": "immediate",
              "transition": {
               "duration": 0,
               "easing": "linear"
              }
             }
            ],
            "label": " 31-03-2020",
            "method": "animate"
           },
           {
            "args": [
             [
              " 30-04-2020"
             ],
             {
              "frame": {
               "duration": 0,
               "redraw": true
              },
              "fromcurrent": true,
              "mode": "immediate",
              "transition": {
               "duration": 0,
               "easing": "linear"
              }
             }
            ],
            "label": " 30-04-2020",
            "method": "animate"
           },
           {
            "args": [
             [
              " 31-05-2020"
             ],
             {
              "frame": {
               "duration": 0,
               "redraw": true
              },
              "fromcurrent": true,
              "mode": "immediate",
              "transition": {
               "duration": 0,
               "easing": "linear"
              }
             }
            ],
            "label": " 31-05-2020",
            "method": "animate"
           },
           {
            "args": [
             [
              " 30-06-2020"
             ],
             {
              "frame": {
               "duration": 0,
               "redraw": true
              },
              "fromcurrent": true,
              "mode": "immediate",
              "transition": {
               "duration": 0,
               "easing": "linear"
              }
             }
            ],
            "label": " 30-06-2020",
            "method": "animate"
           }
          ],
          "x": 0.1,
          "xanchor": "left",
          "y": 0,
          "yanchor": "top"
         }
        ],
        "template": {
         "data": {
          "bar": [
           {
            "error_x": {
             "color": "#2a3f5f"
            },
            "error_y": {
             "color": "#2a3f5f"
            },
            "marker": {
             "line": {
              "color": "#E5ECF6",
              "width": 0.5
             },
             "pattern": {
              "fillmode": "overlay",
              "size": 10,
              "solidity": 0.2
             }
            },
            "type": "bar"
           }
          ],
          "barpolar": [
           {
            "marker": {
             "line": {
              "color": "#E5ECF6",
              "width": 0.5
             },
             "pattern": {
              "fillmode": "overlay",
              "size": 10,
              "solidity": 0.2
             }
            },
            "type": "barpolar"
           }
          ],
          "carpet": [
           {
            "aaxis": {
             "endlinecolor": "#2a3f5f",
             "gridcolor": "white",
             "linecolor": "white",
             "minorgridcolor": "white",
             "startlinecolor": "#2a3f5f"
            },
            "baxis": {
             "endlinecolor": "#2a3f5f",
             "gridcolor": "white",
             "linecolor": "white",
             "minorgridcolor": "white",
             "startlinecolor": "#2a3f5f"
            },
            "type": "carpet"
           }
          ],
          "choropleth": [
           {
            "colorbar": {
             "outlinewidth": 0,
             "ticks": ""
            },
            "type": "choropleth"
           }
          ],
          "contour": [
           {
            "colorbar": {
             "outlinewidth": 0,
             "ticks": ""
            },
            "colorscale": [
             [
              0,
              "#0d0887"
             ],
             [
              0.1111111111111111,
              "#46039f"
             ],
             [
              0.2222222222222222,
              "#7201a8"
             ],
             [
              0.3333333333333333,
              "#9c179e"
             ],
             [
              0.4444444444444444,
              "#bd3786"
             ],
             [
              0.5555555555555556,
              "#d8576b"
             ],
             [
              0.6666666666666666,
              "#ed7953"
             ],
             [
              0.7777777777777778,
              "#fb9f3a"
             ],
             [
              0.8888888888888888,
              "#fdca26"
             ],
             [
              1,
              "#f0f921"
             ]
            ],
            "type": "contour"
           }
          ],
          "contourcarpet": [
           {
            "colorbar": {
             "outlinewidth": 0,
             "ticks": ""
            },
            "type": "contourcarpet"
           }
          ],
          "heatmap": [
           {
            "colorbar": {
             "outlinewidth": 0,
             "ticks": ""
            },
            "colorscale": [
             [
              0,
              "#0d0887"
             ],
             [
              0.1111111111111111,
              "#46039f"
             ],
             [
              0.2222222222222222,
              "#7201a8"
             ],
             [
              0.3333333333333333,
              "#9c179e"
             ],
             [
              0.4444444444444444,
              "#bd3786"
             ],
             [
              0.5555555555555556,
              "#d8576b"
             ],
             [
              0.6666666666666666,
              "#ed7953"
             ],
             [
              0.7777777777777778,
              "#fb9f3a"
             ],
             [
              0.8888888888888888,
              "#fdca26"
             ],
             [
              1,
              "#f0f921"
             ]
            ],
            "type": "heatmap"
           }
          ],
          "heatmapgl": [
           {
            "colorbar": {
             "outlinewidth": 0,
             "ticks": ""
            },
            "colorscale": [
             [
              0,
              "#0d0887"
             ],
             [
              0.1111111111111111,
              "#46039f"
             ],
             [
              0.2222222222222222,
              "#7201a8"
             ],
             [
              0.3333333333333333,
              "#9c179e"
             ],
             [
              0.4444444444444444,
              "#bd3786"
             ],
             [
              0.5555555555555556,
              "#d8576b"
             ],
             [
              0.6666666666666666,
              "#ed7953"
             ],
             [
              0.7777777777777778,
              "#fb9f3a"
             ],
             [
              0.8888888888888888,
              "#fdca26"
             ],
             [
              1,
              "#f0f921"
             ]
            ],
            "type": "heatmapgl"
           }
          ],
          "histogram": [
           {
            "marker": {
             "pattern": {
              "fillmode": "overlay",
              "size": 10,
              "solidity": 0.2
             }
            },
            "type": "histogram"
           }
          ],
          "histogram2d": [
           {
            "colorbar": {
             "outlinewidth": 0,
             "ticks": ""
            },
            "colorscale": [
             [
              0,
              "#0d0887"
             ],
             [
              0.1111111111111111,
              "#46039f"
             ],
             [
              0.2222222222222222,
              "#7201a8"
             ],
             [
              0.3333333333333333,
              "#9c179e"
             ],
             [
              0.4444444444444444,
              "#bd3786"
             ],
             [
              0.5555555555555556,
              "#d8576b"
             ],
             [
              0.6666666666666666,
              "#ed7953"
             ],
             [
              0.7777777777777778,
              "#fb9f3a"
             ],
             [
              0.8888888888888888,
              "#fdca26"
             ],
             [
              1,
              "#f0f921"
             ]
            ],
            "type": "histogram2d"
           }
          ],
          "histogram2dcontour": [
           {
            "colorbar": {
             "outlinewidth": 0,
             "ticks": ""
            },
            "colorscale": [
             [
              0,
              "#0d0887"
             ],
             [
              0.1111111111111111,
              "#46039f"
             ],
             [
              0.2222222222222222,
              "#7201a8"
             ],
             [
              0.3333333333333333,
              "#9c179e"
             ],
             [
              0.4444444444444444,
              "#bd3786"
             ],
             [
              0.5555555555555556,
              "#d8576b"
             ],
             [
              0.6666666666666666,
              "#ed7953"
             ],
             [
              0.7777777777777778,
              "#fb9f3a"
             ],
             [
              0.8888888888888888,
              "#fdca26"
             ],
             [
              1,
              "#f0f921"
             ]
            ],
            "type": "histogram2dcontour"
           }
          ],
          "mesh3d": [
           {
            "colorbar": {
             "outlinewidth": 0,
             "ticks": ""
            },
            "type": "mesh3d"
           }
          ],
          "parcoords": [
           {
            "line": {
             "colorbar": {
              "outlinewidth": 0,
              "ticks": ""
             }
            },
            "type": "parcoords"
           }
          ],
          "pie": [
           {
            "automargin": true,
            "type": "pie"
           }
          ],
          "scatter": [
           {
            "fillpattern": {
             "fillmode": "overlay",
             "size": 10,
             "solidity": 0.2
            },
            "type": "scatter"
           }
          ],
          "scatter3d": [
           {
            "line": {
             "colorbar": {
              "outlinewidth": 0,
              "ticks": ""
             }
            },
            "marker": {
             "colorbar": {
              "outlinewidth": 0,
              "ticks": ""
             }
            },
            "type": "scatter3d"
           }
          ],
          "scattercarpet": [
           {
            "marker": {
             "colorbar": {
              "outlinewidth": 0,
              "ticks": ""
             }
            },
            "type": "scattercarpet"
           }
          ],
          "scattergeo": [
           {
            "marker": {
             "colorbar": {
              "outlinewidth": 0,
              "ticks": ""
             }
            },
            "type": "scattergeo"
           }
          ],
          "scattergl": [
           {
            "marker": {
             "colorbar": {
              "outlinewidth": 0,
              "ticks": ""
             }
            },
            "type": "scattergl"
           }
          ],
          "scattermapbox": [
           {
            "marker": {
             "colorbar": {
              "outlinewidth": 0,
              "ticks": ""
             }
            },
            "type": "scattermapbox"
           }
          ],
          "scatterpolar": [
           {
            "marker": {
             "colorbar": {
              "outlinewidth": 0,
              "ticks": ""
             }
            },
            "type": "scatterpolar"
           }
          ],
          "scatterpolargl": [
           {
            "marker": {
             "colorbar": {
              "outlinewidth": 0,
              "ticks": ""
             }
            },
            "type": "scatterpolargl"
           }
          ],
          "scatterternary": [
           {
            "marker": {
             "colorbar": {
              "outlinewidth": 0,
              "ticks": ""
             }
            },
            "type": "scatterternary"
           }
          ],
          "surface": [
           {
            "colorbar": {
             "outlinewidth": 0,
             "ticks": ""
            },
            "colorscale": [
             [
              0,
              "#0d0887"
             ],
             [
              0.1111111111111111,
              "#46039f"
             ],
             [
              0.2222222222222222,
              "#7201a8"
             ],
             [
              0.3333333333333333,
              "#9c179e"
             ],
             [
              0.4444444444444444,
              "#bd3786"
             ],
             [
              0.5555555555555556,
              "#d8576b"
             ],
             [
              0.6666666666666666,
              "#ed7953"
             ],
             [
              0.7777777777777778,
              "#fb9f3a"
             ],
             [
              0.8888888888888888,
              "#fdca26"
             ],
             [
              1,
              "#f0f921"
             ]
            ],
            "type": "surface"
           }
          ],
          "table": [
           {
            "cells": {
             "fill": {
              "color": "#EBF0F8"
             },
             "line": {
              "color": "white"
             }
            },
            "header": {
             "fill": {
              "color": "#C8D4E3"
             },
             "line": {
              "color": "white"
             }
            },
            "type": "table"
           }
          ]
         },
         "layout": {
          "annotationdefaults": {
           "arrowcolor": "#2a3f5f",
           "arrowhead": 0,
           "arrowwidth": 1
          },
          "autotypenumbers": "strict",
          "coloraxis": {
           "colorbar": {
            "outlinewidth": 0,
            "ticks": ""
           }
          },
          "colorscale": {
           "diverging": [
            [
             0,
             "#8e0152"
            ],
            [
             0.1,
             "#c51b7d"
            ],
            [
             0.2,
             "#de77ae"
            ],
            [
             0.3,
             "#f1b6da"
            ],
            [
             0.4,
             "#fde0ef"
            ],
            [
             0.5,
             "#f7f7f7"
            ],
            [
             0.6,
             "#e6f5d0"
            ],
            [
             0.7,
             "#b8e186"
            ],
            [
             0.8,
             "#7fbc41"
            ],
            [
             0.9,
             "#4d9221"
            ],
            [
             1,
             "#276419"
            ]
           ],
           "sequential": [
            [
             0,
             "#0d0887"
            ],
            [
             0.1111111111111111,
             "#46039f"
            ],
            [
             0.2222222222222222,
             "#7201a8"
            ],
            [
             0.3333333333333333,
             "#9c179e"
            ],
            [
             0.4444444444444444,
             "#bd3786"
            ],
            [
             0.5555555555555556,
             "#d8576b"
            ],
            [
             0.6666666666666666,
             "#ed7953"
            ],
            [
             0.7777777777777778,
             "#fb9f3a"
            ],
            [
             0.8888888888888888,
             "#fdca26"
            ],
            [
             1,
             "#f0f921"
            ]
           ],
           "sequentialminus": [
            [
             0,
             "#0d0887"
            ],
            [
             0.1111111111111111,
             "#46039f"
            ],
            [
             0.2222222222222222,
             "#7201a8"
            ],
            [
             0.3333333333333333,
             "#9c179e"
            ],
            [
             0.4444444444444444,
             "#bd3786"
            ],
            [
             0.5555555555555556,
             "#d8576b"
            ],
            [
             0.6666666666666666,
             "#ed7953"
            ],
            [
             0.7777777777777778,
             "#fb9f3a"
            ],
            [
             0.8888888888888888,
             "#fdca26"
            ],
            [
             1,
             "#f0f921"
            ]
           ]
          },
          "colorway": [
           "#636efa",
           "#EF553B",
           "#00cc96",
           "#ab63fa",
           "#FFA15A",
           "#19d3f3",
           "#FF6692",
           "#B6E880",
           "#FF97FF",
           "#FECB52"
          ],
          "font": {
           "color": "#2a3f5f"
          },
          "geo": {
           "bgcolor": "white",
           "lakecolor": "white",
           "landcolor": "#E5ECF6",
           "showlakes": true,
           "showland": true,
           "subunitcolor": "white"
          },
          "hoverlabel": {
           "align": "left"
          },
          "hovermode": "closest",
          "mapbox": {
           "style": "light"
          },
          "paper_bgcolor": "white",
          "plot_bgcolor": "#E5ECF6",
          "polar": {
           "angularaxis": {
            "gridcolor": "white",
            "linecolor": "white",
            "ticks": ""
           },
           "bgcolor": "#E5ECF6",
           "radialaxis": {
            "gridcolor": "white",
            "linecolor": "white",
            "ticks": ""
           }
          },
          "scene": {
           "xaxis": {
            "backgroundcolor": "#E5ECF6",
            "gridcolor": "white",
            "gridwidth": 2,
            "linecolor": "white",
            "showbackground": true,
            "ticks": "",
            "zerolinecolor": "white"
           },
           "yaxis": {
            "backgroundcolor": "#E5ECF6",
            "gridcolor": "white",
            "gridwidth": 2,
            "linecolor": "white",
            "showbackground": true,
            "ticks": "",
            "zerolinecolor": "white"
           },
           "zaxis": {
            "backgroundcolor": "#E5ECF6",
            "gridcolor": "white",
            "gridwidth": 2,
            "linecolor": "white",
            "showbackground": true,
            "ticks": "",
            "zerolinecolor": "white"
           }
          },
          "shapedefaults": {
           "line": {
            "color": "#2a3f5f"
           }
          },
          "ternary": {
           "aaxis": {
            "gridcolor": "white",
            "linecolor": "white",
            "ticks": ""
           },
           "baxis": {
            "gridcolor": "white",
            "linecolor": "white",
            "ticks": ""
           },
           "bgcolor": "#E5ECF6",
           "caxis": {
            "gridcolor": "white",
            "linecolor": "white",
            "ticks": ""
           }
          },
          "title": {
           "x": 0.05
          },
          "xaxis": {
           "automargin": true,
           "gridcolor": "white",
           "linecolor": "white",
           "ticks": "",
           "title": {
            "standoff": 15
           },
           "zerolinecolor": "white",
           "zerolinewidth": 2
          },
          "yaxis": {
           "automargin": true,
           "gridcolor": "white",
           "linecolor": "white",
           "ticks": "",
           "title": {
            "standoff": 15
           },
           "zerolinecolor": "white",
           "zerolinewidth": 2
          }
         }
        },
        "title": {
         "text": "Unemployment rate"
        },
        "updatemenus": [
         {
          "buttons": [
           {
            "args": [
             null,
             {
              "frame": {
               "duration": 500,
               "redraw": true
              },
              "fromcurrent": true,
              "mode": "immediate",
              "transition": {
               "duration": 500,
               "easing": "linear"
              }
             }
            ],
            "label": "&#9654;",
            "method": "animate"
           },
           {
            "args": [
             [
              null
             ],
             {
              "frame": {
               "duration": 0,
               "redraw": true
              },
              "fromcurrent": true,
              "mode": "immediate",
              "transition": {
               "duration": 0,
               "easing": "linear"
              }
             }
            ],
            "label": "&#9724;",
            "method": "animate"
           }
          ],
          "direction": "left",
          "pad": {
           "r": 10,
           "t": 70
          },
          "showactive": false,
          "type": "buttons",
          "x": 0.1,
          "xanchor": "right",
          "y": 0,
          "yanchor": "top"
         }
        ],
        "xaxis": {
         "anchor": "y",
         "categoryorder": "total descending",
         "domain": [
          0,
          1
         ],
         "title": {
          "text": "Region"
         }
        },
        "yaxis": {
         "anchor": "x",
         "domain": [
          0,
          1
         ],
         "title": {
          "text": " Estimated Unemployment Rate (%)"
         }
        }
       }
      }
     },
     "metadata": {},
     "output_type": "display_data"
    }
   ],
   "source": [
    "fg = px.bar(df,x='Region',y=' Estimated Unemployment Rate (%)',color='Region',title='Unemployment rate',animation_frame=' Date',template='plotly')\n",
    "fg.update_layout(xaxis={'categoryorder':'total descending'})\n",
    "fg.show()"
   ]
  },
  {
   "cell_type": "code",
   "execution_count": 52,
   "metadata": {},
   "outputs": [
    {
     "data": {
      "application/vnd.plotly.v1+json": {
       "config": {
        "plotlyServerURL": "https://plot.ly"
       },
       "data": [
        {
         "alignmentgroup": "True",
         "hovertemplate": "Region=%{x}<br> Date= 31-05-2019<br> Estimated Unemployment Rate (%)=%{y}<extra></extra>",
         "legendgroup": "0",
         "marker": {
          "color": "#636efa"
         },
         "name": "0",
         "notched": false,
         "offsetgroup": "0",
         "orientation": "v",
         "showlegend": true,
         "type": "box",
         "x": [
          0,
          0
         ],
         "x0": " ",
         "xaxis": "x",
         "y": [
          3.65,
          6.09
         ],
         "y0": " ",
         "yaxis": "y"
        },
        {
         "alignmentgroup": "True",
         "hovertemplate": "Region=%{x}<br> Date= 31-05-2019<br> Estimated Unemployment Rate (%)=%{y}<extra></extra>",
         "legendgroup": "1",
         "marker": {
          "color": "#EF553B"
         },
         "name": "1",
         "notched": false,
         "offsetgroup": "1",
         "orientation": "v",
         "showlegend": true,
         "type": "box",
         "x": [
          1,
          1
         ],
         "x0": " ",
         "xaxis": "x",
         "y": [
          4.29,
          7.87
         ],
         "y0": " ",
         "yaxis": "y"
        },
        {
         "alignmentgroup": "True",
         "hovertemplate": "Region=%{x}<br> Date= 31-05-2019<br> Estimated Unemployment Rate (%)=%{y}<extra></extra>",
         "legendgroup": "2",
         "marker": {
          "color": "#00cc96"
         },
         "name": "2",
         "notched": false,
         "offsetgroup": "2",
         "orientation": "v",
         "showlegend": true,
         "type": "box",
         "x": [
          2,
          2
         ],
         "x0": " ",
         "xaxis": "x",
         "y": [
          9.27,
          19.9
         ],
         "y0": " ",
         "yaxis": "y"
        },
        {
         "alignmentgroup": "True",
         "hovertemplate": "Region=%{x}<br> Date= 31-05-2019<br> Estimated Unemployment Rate (%)=%{y}<extra></extra>",
         "legendgroup": "4",
         "marker": {
          "color": "#ab63fa"
         },
         "name": "4",
         "notched": false,
         "offsetgroup": "4",
         "orientation": "v",
         "showlegend": true,
         "type": "box",
         "x": [
          4,
          4
         ],
         "x0": " ",
         "xaxis": "x",
         "y": [
          9.82,
          9.77
         ],
         "y0": " ",
         "yaxis": "y"
        },
        {
         "alignmentgroup": "True",
         "hovertemplate": "Region=%{x}<br> Date= 31-05-2019<br> Estimated Unemployment Rate (%)=%{y}<extra></extra>",
         "legendgroup": "5",
         "marker": {
          "color": "#FFA15A"
         },
         "name": "5",
         "notched": false,
         "offsetgroup": "5",
         "orientation": "v",
         "showlegend": true,
         "type": "box",
         "x": [
          5,
          5
         ],
         "x0": " ",
         "xaxis": "x",
         "y": [
          12.56,
          12.31
         ],
         "y0": " ",
         "yaxis": "y"
        },
        {
         "alignmentgroup": "True",
         "hovertemplate": "Region=%{x}<br> Date= 31-05-2019<br> Estimated Unemployment Rate (%)=%{y}<extra></extra>",
         "legendgroup": "6",
         "marker": {
          "color": "#19d3f3"
         },
         "name": "6",
         "notched": false,
         "offsetgroup": "6",
         "orientation": "v",
         "showlegend": true,
         "type": "box",
         "x": [
          6,
          6
         ],
         "x0": " ",
         "xaxis": "x",
         "y": [
          2.91,
          2.75
         ],
         "y0": " ",
         "yaxis": "y"
        },
        {
         "alignmentgroup": "True",
         "hovertemplate": "Region=%{x}<br> Date= 31-05-2019<br> Estimated Unemployment Rate (%)=%{y}<extra></extra>",
         "legendgroup": "7",
         "marker": {
          "color": "#FF6692"
         },
         "name": "7",
         "notched": false,
         "offsetgroup": "7",
         "orientation": "v",
         "showlegend": true,
         "type": "box",
         "x": [
          7,
          7
         ],
         "x0": " ",
         "xaxis": "x",
         "y": [
          2.88,
          4.09
         ],
         "y0": " ",
         "yaxis": "y"
        },
        {
         "alignmentgroup": "True",
         "hovertemplate": "Region=%{x}<br> Date= 31-05-2019<br> Estimated Unemployment Rate (%)=%{y}<extra></extra>",
         "legendgroup": "8",
         "marker": {
          "color": "#B6E880"
         },
         "name": "8",
         "notched": false,
         "offsetgroup": "8",
         "orientation": "v",
         "showlegend": true,
         "type": "box",
         "x": [
          8,
          8
         ],
         "x0": " ",
         "xaxis": "x",
         "y": [
          14.54,
          24.67
         ],
         "y0": " ",
         "yaxis": "y"
        },
        {
         "alignmentgroup": "True",
         "hovertemplate": "Region=%{x}<br> Date= 31-05-2019<br> Estimated Unemployment Rate (%)=%{y}<extra></extra>",
         "legendgroup": "9",
         "marker": {
          "color": "#FF97FF"
         },
         "name": "9",
         "notched": false,
         "offsetgroup": "9",
         "orientation": "v",
         "showlegend": true,
         "type": "box",
         "x": [
          9,
          9
         ],
         "x0": " ",
         "xaxis": "x",
         "y": [
          13.68,
          10.88
         ],
         "y0": " ",
         "yaxis": "y"
        },
        {
         "alignmentgroup": "True",
         "hovertemplate": "Region=%{x}<br> Date= 31-05-2019<br> Estimated Unemployment Rate (%)=%{y}<extra></extra>",
         "legendgroup": "10",
         "marker": {
          "color": "#FECB52"
         },
         "name": "10",
         "notched": false,
         "offsetgroup": "10",
         "orientation": "v",
         "showlegend": true,
         "type": "box",
         "x": [
          10,
          10
         ],
         "x0": " ",
         "xaxis": "x",
         "y": [
          12.78,
          23.04
         ],
         "y0": " ",
         "yaxis": "y"
        },
        {
         "alignmentgroup": "True",
         "hovertemplate": "Region=%{x}<br> Date= 31-05-2019<br> Estimated Unemployment Rate (%)=%{y}<extra></extra>",
         "legendgroup": "11",
         "marker": {
          "color": "#636efa"
         },
         "name": "11",
         "notched": false,
         "offsetgroup": "11",
         "orientation": "v",
         "showlegend": true,
         "type": "box",
         "x": [
          11,
          11
         ],
         "x0": " ",
         "xaxis": "x",
         "y": [
          7.11,
          17.23
         ],
         "y0": " ",
         "yaxis": "y"
        },
        {
         "alignmentgroup": "True",
         "hovertemplate": "Region=%{x}<br> Date= 31-05-2019<br> Estimated Unemployment Rate (%)=%{y}<extra></extra>",
         "legendgroup": "12",
         "marker": {
          "color": "#EF553B"
         },
         "name": "12",
         "notched": false,
         "offsetgroup": "12",
         "orientation": "v",
         "showlegend": true,
         "type": "box",
         "x": [
          12,
          12
         ],
         "x0": " ",
         "xaxis": "x",
         "y": [
          5.46,
          6.56
         ],
         "y0": " ",
         "yaxis": "y"
        },
        {
         "alignmentgroup": "True",
         "hovertemplate": "Region=%{x}<br> Date= 31-05-2019<br> Estimated Unemployment Rate (%)=%{y}<extra></extra>",
         "legendgroup": "13",
         "marker": {
          "color": "#00cc96"
         },
         "name": "13",
         "notched": false,
         "offsetgroup": "13",
         "orientation": "v",
         "showlegend": true,
         "type": "box",
         "x": [
          13,
          13
         ],
         "x0": " ",
         "xaxis": "x",
         "y": [
          6.63,
          6.11
         ],
         "y0": " ",
         "yaxis": "y"
        },
        {
         "alignmentgroup": "True",
         "hovertemplate": "Region=%{x}<br> Date= 31-05-2019<br> Estimated Unemployment Rate (%)=%{y}<extra></extra>",
         "legendgroup": "14",
         "marker": {
          "color": "#ab63fa"
         },
         "name": "14",
         "notched": false,
         "offsetgroup": "14",
         "orientation": "v",
         "showlegend": true,
         "type": "box",
         "x": [
          14,
          14
         ],
         "x0": " ",
         "xaxis": "x",
         "y": [
          3.63,
          3.91
         ],
         "y0": " ",
         "yaxis": "y"
        },
        {
         "alignmentgroup": "True",
         "hovertemplate": "Region=%{x}<br> Date= 31-05-2019<br> Estimated Unemployment Rate (%)=%{y}<extra></extra>",
         "legendgroup": "15",
         "marker": {
          "color": "#FFA15A"
         },
         "name": "15",
         "notched": false,
         "offsetgroup": "15",
         "orientation": "v",
         "showlegend": true,
         "type": "box",
         "x": [
          15,
          15
         ],
         "x0": " ",
         "xaxis": "x",
         "y": [
          3.67,
          6.08
         ],
         "y0": " ",
         "yaxis": "y"
        },
        {
         "alignmentgroup": "True",
         "hovertemplate": "Region=%{x}<br> Date= 31-05-2019<br> Estimated Unemployment Rate (%)=%{y}<extra></extra>",
         "legendgroup": "16",
         "marker": {
          "color": "#19d3f3"
         },
         "name": "16",
         "notched": false,
         "offsetgroup": "16",
         "orientation": "v",
         "showlegend": true,
         "type": "box",
         "x": [
          16,
          16
         ],
         "x0": " ",
         "xaxis": "x",
         "y": [
          3.16,
          8.4
         ],
         "y0": " ",
         "yaxis": "y"
        },
        {
         "alignmentgroup": "True",
         "hovertemplate": "Region=%{x}<br> Date= 31-05-2019<br> Estimated Unemployment Rate (%)=%{y}<extra></extra>",
         "legendgroup": "17",
         "marker": {
          "color": "#FF6692"
         },
         "name": "17",
         "notched": false,
         "offsetgroup": "17",
         "orientation": "v",
         "showlegend": true,
         "type": "box",
         "x": [
          17,
          17
         ],
         "x0": " ",
         "xaxis": "x",
         "y": [
          4.17,
          2.95
         ],
         "y0": " ",
         "yaxis": "y"
        },
        {
         "alignmentgroup": "True",
         "hovertemplate": "Region=%{x}<br> Date= 31-05-2019<br> Estimated Unemployment Rate (%)=%{y}<extra></extra>",
         "legendgroup": "18",
         "marker": {
          "color": "#B6E880"
         },
         "name": "18",
         "notched": false,
         "offsetgroup": "18",
         "orientation": "v",
         "showlegend": true,
         "type": "box",
         "x": [
          18,
          18
         ],
         "x0": " ",
         "xaxis": "x",
         "y": [
          0,
          1.25
         ],
         "y0": " ",
         "yaxis": "y"
        },
        {
         "alignmentgroup": "True",
         "hovertemplate": "Region=%{x}<br> Date= 31-05-2019<br> Estimated Unemployment Rate (%)=%{y}<extra></extra>",
         "legendgroup": "19",
         "marker": {
          "color": "#FF97FF"
         },
         "name": "19",
         "notched": false,
         "offsetgroup": "19",
         "orientation": "v",
         "showlegend": true,
         "type": "box",
         "x": [
          19,
          19
         ],
         "x0": " ",
         "xaxis": "x",
         "y": [
          9.17,
          13.49
         ],
         "y0": " ",
         "yaxis": "y"
        },
        {
         "alignmentgroup": "True",
         "hovertemplate": "Region=%{x}<br> Date= 31-05-2019<br> Estimated Unemployment Rate (%)=%{y}<extra></extra>",
         "legendgroup": "20",
         "marker": {
          "color": "#FECB52"
         },
         "name": "20",
         "notched": false,
         "offsetgroup": "20",
         "orientation": "v",
         "showlegend": true,
         "type": "box",
         "x": [
          20,
          20
         ],
         "x0": " ",
         "xaxis": "x",
         "y": [
          4.03,
          13.62
         ],
         "y0": " ",
         "yaxis": "y"
        },
        {
         "alignmentgroup": "True",
         "hovertemplate": "Region=%{x}<br> Date= 31-05-2019<br> Estimated Unemployment Rate (%)=%{y}<extra></extra>",
         "legendgroup": "21",
         "marker": {
          "color": "#636efa"
         },
         "name": "21",
         "notched": false,
         "offsetgroup": "21",
         "orientation": "v",
         "showlegend": true,
         "type": "box",
         "x": [
          21
         ],
         "x0": " ",
         "xaxis": "x",
         "y": [
          8.2
         ],
         "y0": " ",
         "yaxis": "y"
        },
        {
         "alignmentgroup": "True",
         "hovertemplate": "Region=%{x}<br> Date= 31-05-2019<br> Estimated Unemployment Rate (%)=%{y}<extra></extra>",
         "legendgroup": "22",
         "marker": {
          "color": "#EF553B"
         },
         "name": "22",
         "notched": false,
         "offsetgroup": "22",
         "orientation": "v",
         "showlegend": true,
         "type": "box",
         "x": [
          22,
          22
         ],
         "x0": " ",
         "xaxis": "x",
         "y": [
          0.97,
          0.89
         ],
         "y0": " ",
         "yaxis": "y"
        },
        {
         "alignmentgroup": "True",
         "hovertemplate": "Region=%{x}<br> Date= 31-05-2019<br> Estimated Unemployment Rate (%)=%{y}<extra></extra>",
         "legendgroup": "23",
         "marker": {
          "color": "#00cc96"
         },
         "name": "23",
         "notched": false,
         "offsetgroup": "23",
         "orientation": "v",
         "showlegend": true,
         "type": "box",
         "x": [
          23,
          23
         ],
         "x0": " ",
         "xaxis": "x",
         "y": [
          2.23,
          1.52
         ],
         "y0": " ",
         "yaxis": "y"
        },
        {
         "alignmentgroup": "True",
         "hovertemplate": "Region=%{x}<br> Date= 31-05-2019<br> Estimated Unemployment Rate (%)=%{y}<extra></extra>",
         "legendgroup": "24",
         "marker": {
          "color": "#ab63fa"
         },
         "name": "24",
         "notched": false,
         "offsetgroup": "24",
         "orientation": "v",
         "showlegend": true,
         "type": "box",
         "x": [
          24,
          24
         ],
         "x0": " ",
         "xaxis": "x",
         "y": [
          29.25,
          34.69
         ],
         "y0": " ",
         "yaxis": "y"
        },
        {
         "alignmentgroup": "True",
         "hovertemplate": "Region=%{x}<br> Date= 31-05-2019<br> Estimated Unemployment Rate (%)=%{y}<extra></extra>",
         "legendgroup": "25",
         "marker": {
          "color": "#FFA15A"
         },
         "name": "25",
         "notched": false,
         "offsetgroup": "25",
         "orientation": "v",
         "showlegend": true,
         "type": "box",
         "x": [
          25,
          25
         ],
         "x0": " ",
         "xaxis": "x",
         "y": [
          10.26,
          14.4
         ],
         "y0": " ",
         "yaxis": "y"
        },
        {
         "alignmentgroup": "True",
         "hovertemplate": "Region=%{x}<br> Date= 31-05-2019<br> Estimated Unemployment Rate (%)=%{y}<extra></extra>",
         "legendgroup": "26",
         "marker": {
          "color": "#19d3f3"
         },
         "name": "26",
         "notched": false,
         "offsetgroup": "26",
         "orientation": "v",
         "showlegend": true,
         "type": "box",
         "x": [
          26,
          26
         ],
         "x0": " ",
         "xaxis": "x",
         "y": [
          1.63,
          9.17
         ],
         "y0": " ",
         "yaxis": "y"
        },
        {
         "alignmentgroup": "True",
         "hovertemplate": "Region=%{x}<br> Date= 31-05-2019<br> Estimated Unemployment Rate (%)=%{y}<extra></extra>",
         "legendgroup": "27",
         "marker": {
          "color": "#FF6692"
         },
         "name": "27",
         "notched": false,
         "offsetgroup": "27",
         "orientation": "v",
         "showlegend": true,
         "type": "box",
         "x": [
          27,
          27
         ],
         "x0": " ",
         "xaxis": "x",
         "y": [
          6.02,
          7.25
         ],
         "y0": " ",
         "yaxis": "y"
        },
        {
         "alignmentgroup": "True",
         "hovertemplate": "Region=%{x}<br> Date= 31-05-2019<br> Estimated Unemployment Rate (%)=%{y}<extra></extra>",
         "legendgroup": "3",
         "marker": {
          "color": "#FF97FF"
         },
         "name": "3",
         "notched": false,
         "offsetgroup": "3",
         "orientation": "v",
         "showlegend": true,
         "type": "box",
         "x": [
          3
         ],
         "x0": " ",
         "xaxis": "x",
         "y": [
          18.35
         ],
         "y0": " ",
         "yaxis": "y"
        }
       ],
       "frames": [
        {
         "data": [
          {
           "alignmentgroup": "True",
           "hovertemplate": "Region=%{x}<br> Date= 31-05-2019<br> Estimated Unemployment Rate (%)=%{y}<extra></extra>",
           "legendgroup": "0",
           "marker": {
            "color": "#636efa"
           },
           "name": "0",
           "notched": false,
           "offsetgroup": "0",
           "orientation": "v",
           "showlegend": true,
           "type": "box",
           "x": [
            0,
            0
           ],
           "x0": " ",
           "xaxis": "x",
           "y": [
            3.65,
            6.09
           ],
           "y0": " ",
           "yaxis": "y"
          },
          {
           "alignmentgroup": "True",
           "hovertemplate": "Region=%{x}<br> Date= 31-05-2019<br> Estimated Unemployment Rate (%)=%{y}<extra></extra>",
           "legendgroup": "1",
           "marker": {
            "color": "#EF553B"
           },
           "name": "1",
           "notched": false,
           "offsetgroup": "1",
           "orientation": "v",
           "showlegend": true,
           "type": "box",
           "x": [
            1,
            1
           ],
           "x0": " ",
           "xaxis": "x",
           "y": [
            4.29,
            7.87
           ],
           "y0": " ",
           "yaxis": "y"
          },
          {
           "alignmentgroup": "True",
           "hovertemplate": "Region=%{x}<br> Date= 31-05-2019<br> Estimated Unemployment Rate (%)=%{y}<extra></extra>",
           "legendgroup": "2",
           "marker": {
            "color": "#00cc96"
           },
           "name": "2",
           "notched": false,
           "offsetgroup": "2",
           "orientation": "v",
           "showlegend": true,
           "type": "box",
           "x": [
            2,
            2
           ],
           "x0": " ",
           "xaxis": "x",
           "y": [
            9.27,
            19.9
           ],
           "y0": " ",
           "yaxis": "y"
          },
          {
           "alignmentgroup": "True",
           "hovertemplate": "Region=%{x}<br> Date= 31-05-2019<br> Estimated Unemployment Rate (%)=%{y}<extra></extra>",
           "legendgroup": "4",
           "marker": {
            "color": "#ab63fa"
           },
           "name": "4",
           "notched": false,
           "offsetgroup": "4",
           "orientation": "v",
           "showlegend": true,
           "type": "box",
           "x": [
            4,
            4
           ],
           "x0": " ",
           "xaxis": "x",
           "y": [
            9.82,
            9.77
           ],
           "y0": " ",
           "yaxis": "y"
          },
          {
           "alignmentgroup": "True",
           "hovertemplate": "Region=%{x}<br> Date= 31-05-2019<br> Estimated Unemployment Rate (%)=%{y}<extra></extra>",
           "legendgroup": "5",
           "marker": {
            "color": "#FFA15A"
           },
           "name": "5",
           "notched": false,
           "offsetgroup": "5",
           "orientation": "v",
           "showlegend": true,
           "type": "box",
           "x": [
            5,
            5
           ],
           "x0": " ",
           "xaxis": "x",
           "y": [
            12.56,
            12.31
           ],
           "y0": " ",
           "yaxis": "y"
          },
          {
           "alignmentgroup": "True",
           "hovertemplate": "Region=%{x}<br> Date= 31-05-2019<br> Estimated Unemployment Rate (%)=%{y}<extra></extra>",
           "legendgroup": "6",
           "marker": {
            "color": "#19d3f3"
           },
           "name": "6",
           "notched": false,
           "offsetgroup": "6",
           "orientation": "v",
           "showlegend": true,
           "type": "box",
           "x": [
            6,
            6
           ],
           "x0": " ",
           "xaxis": "x",
           "y": [
            2.91,
            2.75
           ],
           "y0": " ",
           "yaxis": "y"
          },
          {
           "alignmentgroup": "True",
           "hovertemplate": "Region=%{x}<br> Date= 31-05-2019<br> Estimated Unemployment Rate (%)=%{y}<extra></extra>",
           "legendgroup": "7",
           "marker": {
            "color": "#FF6692"
           },
           "name": "7",
           "notched": false,
           "offsetgroup": "7",
           "orientation": "v",
           "showlegend": true,
           "type": "box",
           "x": [
            7,
            7
           ],
           "x0": " ",
           "xaxis": "x",
           "y": [
            2.88,
            4.09
           ],
           "y0": " ",
           "yaxis": "y"
          },
          {
           "alignmentgroup": "True",
           "hovertemplate": "Region=%{x}<br> Date= 31-05-2019<br> Estimated Unemployment Rate (%)=%{y}<extra></extra>",
           "legendgroup": "8",
           "marker": {
            "color": "#B6E880"
           },
           "name": "8",
           "notched": false,
           "offsetgroup": "8",
           "orientation": "v",
           "showlegend": true,
           "type": "box",
           "x": [
            8,
            8
           ],
           "x0": " ",
           "xaxis": "x",
           "y": [
            14.54,
            24.67
           ],
           "y0": " ",
           "yaxis": "y"
          },
          {
           "alignmentgroup": "True",
           "hovertemplate": "Region=%{x}<br> Date= 31-05-2019<br> Estimated Unemployment Rate (%)=%{y}<extra></extra>",
           "legendgroup": "9",
           "marker": {
            "color": "#FF97FF"
           },
           "name": "9",
           "notched": false,
           "offsetgroup": "9",
           "orientation": "v",
           "showlegend": true,
           "type": "box",
           "x": [
            9,
            9
           ],
           "x0": " ",
           "xaxis": "x",
           "y": [
            13.68,
            10.88
           ],
           "y0": " ",
           "yaxis": "y"
          },
          {
           "alignmentgroup": "True",
           "hovertemplate": "Region=%{x}<br> Date= 31-05-2019<br> Estimated Unemployment Rate (%)=%{y}<extra></extra>",
           "legendgroup": "10",
           "marker": {
            "color": "#FECB52"
           },
           "name": "10",
           "notched": false,
           "offsetgroup": "10",
           "orientation": "v",
           "showlegend": true,
           "type": "box",
           "x": [
            10,
            10
           ],
           "x0": " ",
           "xaxis": "x",
           "y": [
            12.78,
            23.04
           ],
           "y0": " ",
           "yaxis": "y"
          },
          {
           "alignmentgroup": "True",
           "hovertemplate": "Region=%{x}<br> Date= 31-05-2019<br> Estimated Unemployment Rate (%)=%{y}<extra></extra>",
           "legendgroup": "11",
           "marker": {
            "color": "#636efa"
           },
           "name": "11",
           "notched": false,
           "offsetgroup": "11",
           "orientation": "v",
           "showlegend": true,
           "type": "box",
           "x": [
            11,
            11
           ],
           "x0": " ",
           "xaxis": "x",
           "y": [
            7.11,
            17.23
           ],
           "y0": " ",
           "yaxis": "y"
          },
          {
           "alignmentgroup": "True",
           "hovertemplate": "Region=%{x}<br> Date= 31-05-2019<br> Estimated Unemployment Rate (%)=%{y}<extra></extra>",
           "legendgroup": "12",
           "marker": {
            "color": "#EF553B"
           },
           "name": "12",
           "notched": false,
           "offsetgroup": "12",
           "orientation": "v",
           "showlegend": true,
           "type": "box",
           "x": [
            12,
            12
           ],
           "x0": " ",
           "xaxis": "x",
           "y": [
            5.46,
            6.56
           ],
           "y0": " ",
           "yaxis": "y"
          },
          {
           "alignmentgroup": "True",
           "hovertemplate": "Region=%{x}<br> Date= 31-05-2019<br> Estimated Unemployment Rate (%)=%{y}<extra></extra>",
           "legendgroup": "13",
           "marker": {
            "color": "#00cc96"
           },
           "name": "13",
           "notched": false,
           "offsetgroup": "13",
           "orientation": "v",
           "showlegend": true,
           "type": "box",
           "x": [
            13,
            13
           ],
           "x0": " ",
           "xaxis": "x",
           "y": [
            6.63,
            6.11
           ],
           "y0": " ",
           "yaxis": "y"
          },
          {
           "alignmentgroup": "True",
           "hovertemplate": "Region=%{x}<br> Date= 31-05-2019<br> Estimated Unemployment Rate (%)=%{y}<extra></extra>",
           "legendgroup": "14",
           "marker": {
            "color": "#ab63fa"
           },
           "name": "14",
           "notched": false,
           "offsetgroup": "14",
           "orientation": "v",
           "showlegend": true,
           "type": "box",
           "x": [
            14,
            14
           ],
           "x0": " ",
           "xaxis": "x",
           "y": [
            3.63,
            3.91
           ],
           "y0": " ",
           "yaxis": "y"
          },
          {
           "alignmentgroup": "True",
           "hovertemplate": "Region=%{x}<br> Date= 31-05-2019<br> Estimated Unemployment Rate (%)=%{y}<extra></extra>",
           "legendgroup": "15",
           "marker": {
            "color": "#FFA15A"
           },
           "name": "15",
           "notched": false,
           "offsetgroup": "15",
           "orientation": "v",
           "showlegend": true,
           "type": "box",
           "x": [
            15,
            15
           ],
           "x0": " ",
           "xaxis": "x",
           "y": [
            3.67,
            6.08
           ],
           "y0": " ",
           "yaxis": "y"
          },
          {
           "alignmentgroup": "True",
           "hovertemplate": "Region=%{x}<br> Date= 31-05-2019<br> Estimated Unemployment Rate (%)=%{y}<extra></extra>",
           "legendgroup": "16",
           "marker": {
            "color": "#19d3f3"
           },
           "name": "16",
           "notched": false,
           "offsetgroup": "16",
           "orientation": "v",
           "showlegend": true,
           "type": "box",
           "x": [
            16,
            16
           ],
           "x0": " ",
           "xaxis": "x",
           "y": [
            3.16,
            8.4
           ],
           "y0": " ",
           "yaxis": "y"
          },
          {
           "alignmentgroup": "True",
           "hovertemplate": "Region=%{x}<br> Date= 31-05-2019<br> Estimated Unemployment Rate (%)=%{y}<extra></extra>",
           "legendgroup": "17",
           "marker": {
            "color": "#FF6692"
           },
           "name": "17",
           "notched": false,
           "offsetgroup": "17",
           "orientation": "v",
           "showlegend": true,
           "type": "box",
           "x": [
            17,
            17
           ],
           "x0": " ",
           "xaxis": "x",
           "y": [
            4.17,
            2.95
           ],
           "y0": " ",
           "yaxis": "y"
          },
          {
           "alignmentgroup": "True",
           "hovertemplate": "Region=%{x}<br> Date= 31-05-2019<br> Estimated Unemployment Rate (%)=%{y}<extra></extra>",
           "legendgroup": "18",
           "marker": {
            "color": "#B6E880"
           },
           "name": "18",
           "notched": false,
           "offsetgroup": "18",
           "orientation": "v",
           "showlegend": true,
           "type": "box",
           "x": [
            18,
            18
           ],
           "x0": " ",
           "xaxis": "x",
           "y": [
            0,
            1.25
           ],
           "y0": " ",
           "yaxis": "y"
          },
          {
           "alignmentgroup": "True",
           "hovertemplate": "Region=%{x}<br> Date= 31-05-2019<br> Estimated Unemployment Rate (%)=%{y}<extra></extra>",
           "legendgroup": "19",
           "marker": {
            "color": "#FF97FF"
           },
           "name": "19",
           "notched": false,
           "offsetgroup": "19",
           "orientation": "v",
           "showlegend": true,
           "type": "box",
           "x": [
            19,
            19
           ],
           "x0": " ",
           "xaxis": "x",
           "y": [
            9.17,
            13.49
           ],
           "y0": " ",
           "yaxis": "y"
          },
          {
           "alignmentgroup": "True",
           "hovertemplate": "Region=%{x}<br> Date= 31-05-2019<br> Estimated Unemployment Rate (%)=%{y}<extra></extra>",
           "legendgroup": "20",
           "marker": {
            "color": "#FECB52"
           },
           "name": "20",
           "notched": false,
           "offsetgroup": "20",
           "orientation": "v",
           "showlegend": true,
           "type": "box",
           "x": [
            20,
            20
           ],
           "x0": " ",
           "xaxis": "x",
           "y": [
            4.03,
            13.62
           ],
           "y0": " ",
           "yaxis": "y"
          },
          {
           "alignmentgroup": "True",
           "hovertemplate": "Region=%{x}<br> Date= 31-05-2019<br> Estimated Unemployment Rate (%)=%{y}<extra></extra>",
           "legendgroup": "21",
           "marker": {
            "color": "#636efa"
           },
           "name": "21",
           "notched": false,
           "offsetgroup": "21",
           "orientation": "v",
           "showlegend": true,
           "type": "box",
           "x": [
            21
           ],
           "x0": " ",
           "xaxis": "x",
           "y": [
            8.2
           ],
           "y0": " ",
           "yaxis": "y"
          },
          {
           "alignmentgroup": "True",
           "hovertemplate": "Region=%{x}<br> Date= 31-05-2019<br> Estimated Unemployment Rate (%)=%{y}<extra></extra>",
           "legendgroup": "22",
           "marker": {
            "color": "#EF553B"
           },
           "name": "22",
           "notched": false,
           "offsetgroup": "22",
           "orientation": "v",
           "showlegend": true,
           "type": "box",
           "x": [
            22,
            22
           ],
           "x0": " ",
           "xaxis": "x",
           "y": [
            0.97,
            0.89
           ],
           "y0": " ",
           "yaxis": "y"
          },
          {
           "alignmentgroup": "True",
           "hovertemplate": "Region=%{x}<br> Date= 31-05-2019<br> Estimated Unemployment Rate (%)=%{y}<extra></extra>",
           "legendgroup": "23",
           "marker": {
            "color": "#00cc96"
           },
           "name": "23",
           "notched": false,
           "offsetgroup": "23",
           "orientation": "v",
           "showlegend": true,
           "type": "box",
           "x": [
            23,
            23
           ],
           "x0": " ",
           "xaxis": "x",
           "y": [
            2.23,
            1.52
           ],
           "y0": " ",
           "yaxis": "y"
          },
          {
           "alignmentgroup": "True",
           "hovertemplate": "Region=%{x}<br> Date= 31-05-2019<br> Estimated Unemployment Rate (%)=%{y}<extra></extra>",
           "legendgroup": "24",
           "marker": {
            "color": "#ab63fa"
           },
           "name": "24",
           "notched": false,
           "offsetgroup": "24",
           "orientation": "v",
           "showlegend": true,
           "type": "box",
           "x": [
            24,
            24
           ],
           "x0": " ",
           "xaxis": "x",
           "y": [
            29.25,
            34.69
           ],
           "y0": " ",
           "yaxis": "y"
          },
          {
           "alignmentgroup": "True",
           "hovertemplate": "Region=%{x}<br> Date= 31-05-2019<br> Estimated Unemployment Rate (%)=%{y}<extra></extra>",
           "legendgroup": "25",
           "marker": {
            "color": "#FFA15A"
           },
           "name": "25",
           "notched": false,
           "offsetgroup": "25",
           "orientation": "v",
           "showlegend": true,
           "type": "box",
           "x": [
            25,
            25
           ],
           "x0": " ",
           "xaxis": "x",
           "y": [
            10.26,
            14.4
           ],
           "y0": " ",
           "yaxis": "y"
          },
          {
           "alignmentgroup": "True",
           "hovertemplate": "Region=%{x}<br> Date= 31-05-2019<br> Estimated Unemployment Rate (%)=%{y}<extra></extra>",
           "legendgroup": "26",
           "marker": {
            "color": "#19d3f3"
           },
           "name": "26",
           "notched": false,
           "offsetgroup": "26",
           "orientation": "v",
           "showlegend": true,
           "type": "box",
           "x": [
            26,
            26
           ],
           "x0": " ",
           "xaxis": "x",
           "y": [
            1.63,
            9.17
           ],
           "y0": " ",
           "yaxis": "y"
          },
          {
           "alignmentgroup": "True",
           "hovertemplate": "Region=%{x}<br> Date= 31-05-2019<br> Estimated Unemployment Rate (%)=%{y}<extra></extra>",
           "legendgroup": "27",
           "marker": {
            "color": "#FF6692"
           },
           "name": "27",
           "notched": false,
           "offsetgroup": "27",
           "orientation": "v",
           "showlegend": true,
           "type": "box",
           "x": [
            27,
            27
           ],
           "x0": " ",
           "xaxis": "x",
           "y": [
            6.02,
            7.25
           ],
           "y0": " ",
           "yaxis": "y"
          },
          {
           "alignmentgroup": "True",
           "hovertemplate": "Region=%{x}<br> Date= 31-05-2019<br> Estimated Unemployment Rate (%)=%{y}<extra></extra>",
           "legendgroup": "3",
           "marker": {
            "color": "#FF97FF"
           },
           "name": "3",
           "notched": false,
           "offsetgroup": "3",
           "orientation": "v",
           "showlegend": true,
           "type": "box",
           "x": [
            3
           ],
           "x0": " ",
           "xaxis": "x",
           "y": [
            18.35
           ],
           "y0": " ",
           "yaxis": "y"
          }
         ],
         "name": " 31-05-2019"
        },
        {
         "data": [
          {
           "alignmentgroup": "True",
           "hovertemplate": "Region=%{x}<br> Date= 30-06-2019<br> Estimated Unemployment Rate (%)=%{y}<extra></extra>",
           "legendgroup": "0",
           "marker": {
            "color": "#636efa"
           },
           "name": "0",
           "notched": false,
           "offsetgroup": "0",
           "orientation": "v",
           "showlegend": true,
           "type": "box",
           "x": [
            0,
            0
           ],
           "x0": " ",
           "xaxis": "x",
           "y": [
            3.05,
            3.8
           ],
           "y0": " ",
           "yaxis": "y"
          },
          {
           "alignmentgroup": "True",
           "hovertemplate": "Region=%{x}<br> Date= 30-06-2019<br> Estimated Unemployment Rate (%)=%{y}<extra></extra>",
           "legendgroup": "1",
           "marker": {
            "color": "#EF553B"
           },
           "name": "1",
           "notched": false,
           "offsetgroup": "1",
           "orientation": "v",
           "showlegend": true,
           "type": "box",
           "x": [
            1,
            1
           ],
           "x0": " ",
           "xaxis": "x",
           "y": [
            5.08,
            9.89
           ],
           "y0": " ",
           "yaxis": "y"
          },
          {
           "alignmentgroup": "True",
           "hovertemplate": "Region=%{x}<br> Date= 30-06-2019<br> Estimated Unemployment Rate (%)=%{y}<extra></extra>",
           "legendgroup": "2",
           "marker": {
            "color": "#00cc96"
           },
           "name": "2",
           "notched": false,
           "offsetgroup": "2",
           "orientation": "v",
           "showlegend": true,
           "type": "box",
           "x": [
            2,
            2
           ],
           "x0": " ",
           "xaxis": "x",
           "y": [
            10.2,
            13.29
           ],
           "y0": " ",
           "yaxis": "y"
          },
          {
           "alignmentgroup": "True",
           "hovertemplate": "Region=%{x}<br> Date= 30-06-2019<br> Estimated Unemployment Rate (%)=%{y}<extra></extra>",
           "legendgroup": "4",
           "marker": {
            "color": "#ab63fa"
           },
           "name": "4",
           "notched": false,
           "offsetgroup": "4",
           "orientation": "v",
           "showlegend": true,
           "type": "box",
           "x": [
            4,
            4
           ],
           "x0": " ",
           "xaxis": "x",
           "y": [
            6.76,
            11.77
           ],
           "y0": " ",
           "yaxis": "y"
          },
          {
           "alignmentgroup": "True",
           "hovertemplate": "Region=%{x}<br> Date= 30-06-2019<br> Estimated Unemployment Rate (%)=%{y}<extra></extra>",
           "legendgroup": "5",
           "marker": {
            "color": "#FFA15A"
           },
           "name": "5",
           "notched": false,
           "offsetgroup": "5",
           "orientation": "v",
           "showlegend": true,
           "type": "box",
           "x": [
            5,
            5
           ],
           "x0": " ",
           "xaxis": "x",
           "y": [
            9.33,
            12.76
           ],
           "y0": " ",
           "yaxis": "y"
          },
          {
           "alignmentgroup": "True",
           "hovertemplate": "Region=%{x}<br> Date= 30-06-2019<br> Estimated Unemployment Rate (%)=%{y}<extra></extra>",
           "legendgroup": "6",
           "marker": {
            "color": "#19d3f3"
           },
           "name": "6",
           "notched": false,
           "offsetgroup": "6",
           "orientation": "v",
           "showlegend": true,
           "type": "box",
           "x": [
            6,
            6
           ],
           "x0": " ",
           "xaxis": "x",
           "y": [
            5.45,
            13.33
           ],
           "y0": " ",
           "yaxis": "y"
          },
          {
           "alignmentgroup": "True",
           "hovertemplate": "Region=%{x}<br> Date= 30-06-2019<br> Estimated Unemployment Rate (%)=%{y}<extra></extra>",
           "legendgroup": "7",
           "marker": {
            "color": "#FF6692"
           },
           "name": "7",
           "notched": false,
           "offsetgroup": "7",
           "orientation": "v",
           "showlegend": true,
           "type": "box",
           "x": [
            7,
            7
           ],
           "x0": " ",
           "xaxis": "x",
           "y": [
            4.77,
            6.31
           ],
           "y0": " ",
           "yaxis": "y"
          },
          {
           "alignmentgroup": "True",
           "hovertemplate": "Region=%{x}<br> Date= 30-06-2019<br> Estimated Unemployment Rate (%)=%{y}<extra></extra>",
           "legendgroup": "8",
           "marker": {
            "color": "#B6E880"
           },
           "name": "8",
           "notched": false,
           "offsetgroup": "8",
           "orientation": "v",
           "showlegend": true,
           "type": "box",
           "x": [
            8,
            8
           ],
           "x0": " ",
           "xaxis": "x",
           "y": [
            23.08,
            20.42
           ],
           "y0": " ",
           "yaxis": "y"
          },
          {
           "alignmentgroup": "True",
           "hovertemplate": "Region=%{x}<br> Date= 30-06-2019<br> Estimated Unemployment Rate (%)=%{y}<extra></extra>",
           "legendgroup": "9",
           "marker": {
            "color": "#FF97FF"
           },
           "name": "9",
           "notched": false,
           "offsetgroup": "9",
           "orientation": "v",
           "showlegend": true,
           "type": "box",
           "x": [
            9,
            9
           ],
           "x0": " ",
           "xaxis": "x",
           "y": [
            11.43,
            21.43
           ],
           "y0": " ",
           "yaxis": "y"
          },
          {
           "alignmentgroup": "True",
           "hovertemplate": "Region=%{x}<br> Date= 30-06-2019<br> Estimated Unemployment Rate (%)=%{y}<extra></extra>",
           "legendgroup": "10",
           "marker": {
            "color": "#FECB52"
           },
           "name": "10",
           "notched": false,
           "offsetgroup": "10",
           "orientation": "v",
           "showlegend": true,
           "type": "box",
           "x": [
            10,
            10
           ],
           "x0": " ",
           "xaxis": "x",
           "y": [
            12.09,
            19.88
           ],
           "y0": " ",
           "yaxis": "y"
          },
          {
           "alignmentgroup": "True",
           "hovertemplate": "Region=%{x}<br> Date= 30-06-2019<br> Estimated Unemployment Rate (%)=%{y}<extra></extra>",
           "legendgroup": "11",
           "marker": {
            "color": "#636efa"
           },
           "name": "11",
           "notched": false,
           "offsetgroup": "11",
           "orientation": "v",
           "showlegend": true,
           "type": "box",
           "x": [
            11,
            11
           ],
           "x0": " ",
           "xaxis": "x",
           "y": [
            8.46,
            20.51
           ],
           "y0": " ",
           "yaxis": "y"
          },
          {
           "alignmentgroup": "True",
           "hovertemplate": "Region=%{x}<br> Date= 30-06-2019<br> Estimated Unemployment Rate (%)=%{y}<extra></extra>",
           "legendgroup": "12",
           "marker": {
            "color": "#EF553B"
           },
           "name": "12",
           "notched": false,
           "offsetgroup": "12",
           "orientation": "v",
           "showlegend": true,
           "type": "box",
           "x": [
            12,
            12
           ],
           "x0": " ",
           "xaxis": "x",
           "y": [
            5.98,
            5
           ],
           "y0": " ",
           "yaxis": "y"
          },
          {
           "alignmentgroup": "True",
           "hovertemplate": "Region=%{x}<br> Date= 30-06-2019<br> Estimated Unemployment Rate (%)=%{y}<extra></extra>",
           "legendgroup": "13",
           "marker": {
            "color": "#00cc96"
           },
           "name": "13",
           "notched": false,
           "offsetgroup": "13",
           "orientation": "v",
           "showlegend": true,
           "type": "box",
           "x": [
            13,
            13
           ],
           "x0": " ",
           "xaxis": "x",
           "y": [
            9,
            6.67
           ],
           "y0": " ",
           "yaxis": "y"
          },
          {
           "alignmentgroup": "True",
           "hovertemplate": "Region=%{x}<br> Date= 30-06-2019<br> Estimated Unemployment Rate (%)=%{y}<extra></extra>",
           "legendgroup": "14",
           "marker": {
            "color": "#ab63fa"
           },
           "name": "14",
           "notched": false,
           "offsetgroup": "14",
           "orientation": "v",
           "showlegend": true,
           "type": "box",
           "x": [
            14,
            14
           ],
           "x0": " ",
           "xaxis": "x",
           "y": [
            4.25,
            6.38
           ],
           "y0": " ",
           "yaxis": "y"
          },
          {
           "alignmentgroup": "True",
           "hovertemplate": "Region=%{x}<br> Date= 30-06-2019<br> Estimated Unemployment Rate (%)=%{y}<extra></extra>",
           "legendgroup": "15",
           "marker": {
            "color": "#FFA15A"
           },
           "name": "15",
           "notched": false,
           "offsetgroup": "15",
           "orientation": "v",
           "showlegend": true,
           "type": "box",
           "x": [
            15,
            15
           ],
           "x0": " ",
           "xaxis": "x",
           "y": [
            4.34,
            6.46
           ],
           "y0": " ",
           "yaxis": "y"
          },
          {
           "alignmentgroup": "True",
           "hovertemplate": "Region=%{x}<br> Date= 30-06-2019<br> Estimated Unemployment Rate (%)=%{y}<extra></extra>",
           "legendgroup": "16",
           "marker": {
            "color": "#19d3f3"
           },
           "name": "16",
           "notched": false,
           "offsetgroup": "16",
           "orientation": "v",
           "showlegend": true,
           "type": "box",
           "x": [
            16,
            16
           ],
           "x0": " ",
           "xaxis": "x",
           "y": [
            4.23,
            8.66
           ],
           "y0": " ",
           "yaxis": "y"
          },
          {
           "alignmentgroup": "True",
           "hovertemplate": "Region=%{x}<br> Date= 30-06-2019<br> Estimated Unemployment Rate (%)=%{y}<extra></extra>",
           "legendgroup": "17",
           "marker": {
            "color": "#FF6692"
           },
           "name": "17",
           "notched": false,
           "offsetgroup": "17",
           "orientation": "v",
           "showlegend": true,
           "type": "box",
           "x": [
            17,
            17
           ],
           "x0": " ",
           "xaxis": "x",
           "y": [
            4.71,
            2.63
           ],
           "y0": " ",
           "yaxis": "y"
          },
          {
           "alignmentgroup": "True",
           "hovertemplate": "Region=%{x}<br> Date= 30-06-2019<br> Estimated Unemployment Rate (%)=%{y}<extra></extra>",
           "legendgroup": "18",
           "marker": {
            "color": "#B6E880"
           },
           "name": "18",
           "notched": false,
           "offsetgroup": "18",
           "orientation": "v",
           "showlegend": true,
           "type": "box",
           "x": [
            18,
            18
           ],
           "x0": " ",
           "xaxis": "x",
           "y": [
            0,
            0
           ],
           "y0": " ",
           "yaxis": "y"
          },
          {
           "alignmentgroup": "True",
           "hovertemplate": "Region=%{x}<br> Date= 30-06-2019<br> Estimated Unemployment Rate (%)=%{y}<extra></extra>",
           "legendgroup": "19",
           "marker": {
            "color": "#FF97FF"
           },
           "name": "19",
           "notched": false,
           "offsetgroup": "19",
           "orientation": "v",
           "showlegend": true,
           "type": "box",
           "x": [
            19,
            19
           ],
           "x0": " ",
           "xaxis": "x",
           "y": [
            12.21,
            13.17
           ],
           "y0": " ",
           "yaxis": "y"
          },
          {
           "alignmentgroup": "True",
           "hovertemplate": "Region=%{x}<br> Date= 30-06-2019<br> Estimated Unemployment Rate (%)=%{y}<extra></extra>",
           "legendgroup": "20",
           "marker": {
            "color": "#FECB52"
           },
           "name": "20",
           "notched": false,
           "offsetgroup": "20",
           "orientation": "v",
           "showlegend": true,
           "type": "box",
           "x": [
            20,
            20
           ],
           "x0": " ",
           "xaxis": "x",
           "y": [
            13.7,
            14.36
           ],
           "y0": " ",
           "yaxis": "y"
          },
          {
           "alignmentgroup": "True",
           "hovertemplate": "Region=%{x}<br> Date= 30-06-2019<br> Estimated Unemployment Rate (%)=%{y}<extra></extra>",
           "legendgroup": "21",
           "marker": {
            "color": "#636efa"
           },
           "name": "21",
           "notched": false,
           "offsetgroup": "21",
           "orientation": "v",
           "showlegend": true,
           "type": "box",
           "x": [
            21
           ],
           "x0": " ",
           "xaxis": "x",
           "y": [
            7.76
           ],
           "y0": " ",
           "yaxis": "y"
          },
          {
           "alignmentgroup": "True",
           "hovertemplate": "Region=%{x}<br> Date= 30-06-2019<br> Estimated Unemployment Rate (%)=%{y}<extra></extra>",
           "legendgroup": "22",
           "marker": {
            "color": "#EF553B"
           },
           "name": "22",
           "notched": false,
           "offsetgroup": "22",
           "orientation": "v",
           "showlegend": true,
           "type": "box",
           "x": [
            22,
            22
           ],
           "x0": " ",
           "xaxis": "x",
           "y": [
            0.92,
            1.56
           ],
           "y0": " ",
           "yaxis": "y"
          },
          {
           "alignmentgroup": "True",
           "hovertemplate": "Region=%{x}<br> Date= 30-06-2019<br> Estimated Unemployment Rate (%)=%{y}<extra></extra>",
           "legendgroup": "23",
           "marker": {
            "color": "#00cc96"
           },
           "name": "23",
           "notched": false,
           "offsetgroup": "23",
           "orientation": "v",
           "showlegend": true,
           "type": "box",
           "x": [
            23,
            23
           ],
           "x0": " ",
           "xaxis": "x",
           "y": [
            5.92,
            1.43
           ],
           "y0": " ",
           "yaxis": "y"
          },
          {
           "alignmentgroup": "True",
           "hovertemplate": "Region=%{x}<br> Date= 30-06-2019<br> Estimated Unemployment Rate (%)=%{y}<extra></extra>",
           "legendgroup": "24",
           "marker": {
            "color": "#ab63fa"
           },
           "name": "24",
           "notched": false,
           "offsetgroup": "24",
           "orientation": "v",
           "showlegend": true,
           "type": "box",
           "x": [
            24,
            24
           ],
           "x0": " ",
           "xaxis": "x",
           "y": [
            26.64,
            25.59
           ],
           "y0": " ",
           "yaxis": "y"
          },
          {
           "alignmentgroup": "True",
           "hovertemplate": "Region=%{x}<br> Date= 30-06-2019<br> Estimated Unemployment Rate (%)=%{y}<extra></extra>",
           "legendgroup": "25",
           "marker": {
            "color": "#FFA15A"
           },
           "name": "25",
           "notched": false,
           "offsetgroup": "25",
           "orientation": "v",
           "showlegend": true,
           "type": "box",
           "x": [
            25,
            25
           ],
           "x0": " ",
           "xaxis": "x",
           "y": [
            11.13,
            11.62
           ],
           "y0": " ",
           "yaxis": "y"
          },
          {
           "alignmentgroup": "True",
           "hovertemplate": "Region=%{x}<br> Date= 30-06-2019<br> Estimated Unemployment Rate (%)=%{y}<extra></extra>",
           "legendgroup": "26",
           "marker": {
            "color": "#19d3f3"
           },
           "name": "26",
           "notched": false,
           "offsetgroup": "26",
           "orientation": "v",
           "showlegend": true,
           "type": "box",
           "x": [
            26,
            26
           ],
           "x0": " ",
           "xaxis": "x",
           "y": [
            4.65,
            4.69
           ],
           "y0": " ",
           "yaxis": "y"
          },
          {
           "alignmentgroup": "True",
           "hovertemplate": "Region=%{x}<br> Date= 30-06-2019<br> Estimated Unemployment Rate (%)=%{y}<extra></extra>",
           "legendgroup": "27",
           "marker": {
            "color": "#FF6692"
           },
           "name": "27",
           "notched": false,
           "offsetgroup": "27",
           "orientation": "v",
           "showlegend": true,
           "type": "box",
           "x": [
            27,
            27
           ],
           "x0": " ",
           "xaxis": "x",
           "y": [
            5.85,
            7.38
           ],
           "y0": " ",
           "yaxis": "y"
          },
          {
           "alignmentgroup": "True",
           "hovertemplate": "Region=%{x}<br> Date= 30-06-2019<br> Estimated Unemployment Rate (%)=%{y}<extra></extra>",
           "legendgroup": "3",
           "marker": {
            "color": "#FF97FF"
           },
           "name": "3",
           "notched": false,
           "offsetgroup": "3",
           "orientation": "v",
           "showlegend": true,
           "type": "box",
           "x": [
            3
           ],
           "x0": " ",
           "xaxis": "x",
           "y": [
            12.4
           ],
           "y0": " ",
           "yaxis": "y"
          }
         ],
         "name": " 30-06-2019"
        },
        {
         "data": [
          {
           "alignmentgroup": "True",
           "hovertemplate": "Region=%{x}<br> Date= 31-07-2019<br> Estimated Unemployment Rate (%)=%{y}<extra></extra>",
           "legendgroup": "0",
           "marker": {
            "color": "#636efa"
           },
           "name": "0",
           "notched": false,
           "offsetgroup": "0",
           "orientation": "v",
           "showlegend": true,
           "type": "box",
           "x": [
            0,
            0
           ],
           "x0": " ",
           "xaxis": "x",
           "y": [
            3.75,
            5.64
           ],
           "y0": " ",
           "yaxis": "y"
          },
          {
           "alignmentgroup": "True",
           "hovertemplate": "Region=%{x}<br> Date= 31-07-2019<br> Estimated Unemployment Rate (%)=%{y}<extra></extra>",
           "legendgroup": "1",
           "marker": {
            "color": "#EF553B"
           },
           "name": "1",
           "notched": false,
           "offsetgroup": "1",
           "orientation": "v",
           "showlegend": true,
           "type": "box",
           "x": [
            1,
            1
           ],
           "x0": " ",
           "xaxis": "x",
           "y": [
            4.26,
            3.21
           ],
           "y0": " ",
           "yaxis": "y"
          },
          {
           "alignmentgroup": "True",
           "hovertemplate": "Region=%{x}<br> Date= 31-07-2019<br> Estimated Unemployment Rate (%)=%{y}<extra></extra>",
           "legendgroup": "2",
           "marker": {
            "color": "#00cc96"
           },
           "name": "2",
           "notched": false,
           "offsetgroup": "2",
           "orientation": "v",
           "showlegend": true,
           "type": "box",
           "x": [
            2,
            2
           ],
           "x0": " ",
           "xaxis": "x",
           "y": [
            13.44,
            16.41
           ],
           "y0": " ",
           "yaxis": "y"
          },
          {
           "alignmentgroup": "True",
           "hovertemplate": "Region=%{x}<br> Date= 31-07-2019<br> Estimated Unemployment Rate (%)=%{y}<extra></extra>",
           "legendgroup": "4",
           "marker": {
            "color": "#ab63fa"
           },
           "name": "4",
           "notched": false,
           "offsetgroup": "4",
           "orientation": "v",
           "showlegend": true,
           "type": "box",
           "x": [
            4,
            4
           ],
           "x0": " ",
           "xaxis": "x",
           "y": [
            4.54,
            8.17
           ],
           "y0": " ",
           "yaxis": "y"
          },
          {
           "alignmentgroup": "True",
           "hovertemplate": "Region=%{x}<br> Date= 31-07-2019<br> Estimated Unemployment Rate (%)=%{y}<extra></extra>",
           "legendgroup": "5",
           "marker": {
            "color": "#FFA15A"
           },
           "name": "5",
           "notched": false,
           "offsetgroup": "5",
           "orientation": "v",
           "showlegend": true,
           "type": "box",
           "x": [
            5,
            5
           ],
           "x0": " ",
           "xaxis": "x",
           "y": [
            11.07,
            14.68
           ],
           "y0": " ",
           "yaxis": "y"
          },
          {
           "alignmentgroup": "True",
           "hovertemplate": "Region=%{x}<br> Date= 31-07-2019<br> Estimated Unemployment Rate (%)=%{y}<extra></extra>",
           "legendgroup": "6",
           "marker": {
            "color": "#19d3f3"
           },
           "name": "6",
           "notched": false,
           "offsetgroup": "6",
           "orientation": "v",
           "showlegend": true,
           "type": "box",
           "x": [
            6,
            6
           ],
           "x0": " ",
           "xaxis": "x",
           "y": [
            10.98,
            12.28
           ],
           "y0": " ",
           "yaxis": "y"
          },
          {
           "alignmentgroup": "True",
           "hovertemplate": "Region=%{x}<br> Date= 31-07-2019<br> Estimated Unemployment Rate (%)=%{y}<extra></extra>",
           "legendgroup": "7",
           "marker": {
            "color": "#FF6692"
           },
           "name": "7",
           "notched": false,
           "offsetgroup": "7",
           "orientation": "v",
           "showlegend": true,
           "type": "box",
           "x": [
            7,
            7
           ],
           "x0": " ",
           "xaxis": "x",
           "y": [
            4.58,
            5.15
           ],
           "y0": " ",
           "yaxis": "y"
          },
          {
           "alignmentgroup": "True",
           "hovertemplate": "Region=%{x}<br> Date= 31-07-2019<br> Estimated Unemployment Rate (%)=%{y}<extra></extra>",
           "legendgroup": "8",
           "marker": {
            "color": "#B6E880"
           },
           "name": "8",
           "notched": false,
           "offsetgroup": "8",
           "orientation": "v",
           "showlegend": true,
           "type": "box",
           "x": [
            8,
            8
           ],
           "x0": " ",
           "xaxis": "x",
           "y": [
            16.22,
            25.45
           ],
           "y0": " ",
           "yaxis": "y"
          },
          {
           "alignmentgroup": "True",
           "hovertemplate": "Region=%{x}<br> Date= 31-07-2019<br> Estimated Unemployment Rate (%)=%{y}<extra></extra>",
           "legendgroup": "9",
           "marker": {
            "color": "#FF97FF"
           },
           "name": "9",
           "notched": false,
           "offsetgroup": "9",
           "orientation": "v",
           "showlegend": true,
           "type": "box",
           "x": [
            9,
            9
           ],
           "x0": " ",
           "xaxis": "x",
           "y": [
            20.59,
            21.51
           ],
           "y0": " ",
           "yaxis": "y"
          },
          {
           "alignmentgroup": "True",
           "hovertemplate": "Region=%{x}<br> Date= 31-07-2019<br> Estimated Unemployment Rate (%)=%{y}<extra></extra>",
           "legendgroup": "10",
           "marker": {
            "color": "#FECB52"
           },
           "name": "10",
           "notched": false,
           "offsetgroup": "10",
           "orientation": "v",
           "showlegend": true,
           "type": "box",
           "x": [
            10,
            10
           ],
           "x0": " ",
           "xaxis": "x",
           "y": [
            13.67,
            21.55
           ],
           "y0": " ",
           "yaxis": "y"
          },
          {
           "alignmentgroup": "True",
           "hovertemplate": "Region=%{x}<br> Date= 31-07-2019<br> Estimated Unemployment Rate (%)=%{y}<extra></extra>",
           "legendgroup": "11",
           "marker": {
            "color": "#636efa"
           },
           "name": "11",
           "notched": false,
           "offsetgroup": "11",
           "orientation": "v",
           "showlegend": true,
           "type": "box",
           "x": [
            11,
            11
           ],
           "x0": " ",
           "xaxis": "x",
           "y": [
            9.98,
            15.67
           ],
           "y0": " ",
           "yaxis": "y"
          },
          {
           "alignmentgroup": "True",
           "hovertemplate": "Region=%{x}<br> Date= 31-07-2019<br> Estimated Unemployment Rate (%)=%{y}<extra></extra>",
           "legendgroup": "12",
           "marker": {
            "color": "#EF553B"
           },
           "name": "12",
           "notched": false,
           "offsetgroup": "12",
           "orientation": "v",
           "showlegend": true,
           "type": "box",
           "x": [
            12,
            12
           ],
           "x0": " ",
           "xaxis": "x",
           "y": [
            0.52,
            2.29
           ],
           "y0": " ",
           "yaxis": "y"
          },
          {
           "alignmentgroup": "True",
           "hovertemplate": "Region=%{x}<br> Date= 31-07-2019<br> Estimated Unemployment Rate (%)=%{y}<extra></extra>",
           "legendgroup": "13",
           "marker": {
            "color": "#00cc96"
           },
           "name": "13",
           "notched": false,
           "offsetgroup": "13",
           "orientation": "v",
           "showlegend": true,
           "type": "box",
           "x": [
            13,
            13
           ],
           "x0": " ",
           "xaxis": "x",
           "y": [
            4.95,
            7.58
           ],
           "y0": " ",
           "yaxis": "y"
          },
          {
           "alignmentgroup": "True",
           "hovertemplate": "Region=%{x}<br> Date= 31-07-2019<br> Estimated Unemployment Rate (%)=%{y}<extra></extra>",
           "legendgroup": "14",
           "marker": {
            "color": "#ab63fa"
           },
           "name": "14",
           "notched": false,
           "offsetgroup": "14",
           "orientation": "v",
           "showlegend": true,
           "type": "box",
           "x": [
            14,
            14
           ],
           "x0": " ",
           "xaxis": "x",
           "y": [
            3.92,
            7.38
           ],
           "y0": " ",
           "yaxis": "y"
          },
          {
           "alignmentgroup": "True",
           "hovertemplate": "Region=%{x}<br> Date= 31-07-2019<br> Estimated Unemployment Rate (%)=%{y}<extra></extra>",
           "legendgroup": "15",
           "marker": {
            "color": "#FFA15A"
           },
           "name": "15",
           "notched": false,
           "offsetgroup": "15",
           "orientation": "v",
           "showlegend": true,
           "type": "box",
           "x": [
            15,
            15
           ],
           "x0": " ",
           "xaxis": "x",
           "y": [
            3.66,
            6.35
           ],
           "y0": " ",
           "yaxis": "y"
          },
          {
           "alignmentgroup": "True",
           "hovertemplate": "Region=%{x}<br> Date= 31-07-2019<br> Estimated Unemployment Rate (%)=%{y}<extra></extra>",
           "legendgroup": "16",
           "marker": {
            "color": "#19d3f3"
           },
           "name": "16",
           "notched": false,
           "offsetgroup": "16",
           "orientation": "v",
           "showlegend": true,
           "type": "box",
           "x": [
            16,
            16
           ],
           "x0": " ",
           "xaxis": "x",
           "y": [
            1.03,
            4.43
           ],
           "y0": " ",
           "yaxis": "y"
          },
          {
           "alignmentgroup": "True",
           "hovertemplate": "Region=%{x}<br> Date= 31-07-2019<br> Estimated Unemployment Rate (%)=%{y}<extra></extra>",
           "legendgroup": "17",
           "marker": {
            "color": "#FF6692"
           },
           "name": "17",
           "notched": false,
           "offsetgroup": "17",
           "orientation": "v",
           "showlegend": true,
           "type": "box",
           "x": [
            17,
            17
           ],
           "x0": " ",
           "xaxis": "x",
           "y": [
            3.31,
            1.78
           ],
           "y0": " ",
           "yaxis": "y"
          },
          {
           "alignmentgroup": "True",
           "hovertemplate": "Region=%{x}<br> Date= 31-07-2019<br> Estimated Unemployment Rate (%)=%{y}<extra></extra>",
           "legendgroup": "18",
           "marker": {
            "color": "#B6E880"
           },
           "name": "18",
           "notched": false,
           "offsetgroup": "18",
           "orientation": "v",
           "showlegend": true,
           "type": "box",
           "x": [
            18,
            18
           ],
           "x0": " ",
           "xaxis": "x",
           "y": [
            0,
            0
           ],
           "y0": " ",
           "yaxis": "y"
          },
          {
           "alignmentgroup": "True",
           "hovertemplate": "Region=%{x}<br> Date= 31-07-2019<br> Estimated Unemployment Rate (%)=%{y}<extra></extra>",
           "legendgroup": "19",
           "marker": {
            "color": "#FF97FF"
           },
           "name": "19",
           "notched": false,
           "offsetgroup": "19",
           "orientation": "v",
           "showlegend": true,
           "type": "box",
           "x": [
            19,
            19
           ],
           "x0": " ",
           "xaxis": "x",
           "y": [
            9.64,
            11.61
           ],
           "y0": " ",
           "yaxis": "y"
          },
          {
           "alignmentgroup": "True",
           "hovertemplate": "Region=%{x}<br> Date= 31-07-2019<br> Estimated Unemployment Rate (%)=%{y}<extra></extra>",
           "legendgroup": "20",
           "marker": {
            "color": "#FECB52"
           },
           "name": "20",
           "notched": false,
           "offsetgroup": "20",
           "orientation": "v",
           "showlegend": true,
           "type": "box",
           "x": [
            20,
            20
           ],
           "x0": " ",
           "xaxis": "x",
           "y": [
            9.7,
            11.67
           ],
           "y0": " ",
           "yaxis": "y"
          },
          {
           "alignmentgroup": "True",
           "hovertemplate": "Region=%{x}<br> Date= 31-07-2019<br> Estimated Unemployment Rate (%)=%{y}<extra></extra>",
           "legendgroup": "21",
           "marker": {
            "color": "#636efa"
           },
           "name": "21",
           "notched": false,
           "offsetgroup": "21",
           "orientation": "v",
           "showlegend": true,
           "type": "box",
           "x": [
            21
           ],
           "x0": " ",
           "xaxis": "x",
           "y": [
            2.56
           ],
           "y0": " ",
           "yaxis": "y"
          },
          {
           "alignmentgroup": "True",
           "hovertemplate": "Region=%{x}<br> Date= 31-07-2019<br> Estimated Unemployment Rate (%)=%{y}<extra></extra>",
           "legendgroup": "22",
           "marker": {
            "color": "#EF553B"
           },
           "name": "22",
           "notched": false,
           "offsetgroup": "22",
           "orientation": "v",
           "showlegend": true,
           "type": "box",
           "x": [
            22,
            22
           ],
           "x0": " ",
           "xaxis": "x",
           "y": [
            6.01,
            3.18
           ],
           "y0": " ",
           "yaxis": "y"
          },
          {
           "alignmentgroup": "True",
           "hovertemplate": "Region=%{x}<br> Date= 31-07-2019<br> Estimated Unemployment Rate (%)=%{y}<extra></extra>",
           "legendgroup": "23",
           "marker": {
            "color": "#00cc96"
           },
           "name": "23",
           "notched": false,
           "offsetgroup": "23",
           "orientation": "v",
           "showlegend": true,
           "type": "box",
           "x": [
            23,
            23
           ],
           "x0": " ",
           "xaxis": "x",
           "y": [
            2.45,
            3.73
           ],
           "y0": " ",
           "yaxis": "y"
          },
          {
           "alignmentgroup": "True",
           "hovertemplate": "Region=%{x}<br> Date= 31-07-2019<br> Estimated Unemployment Rate (%)=%{y}<extra></extra>",
           "legendgroup": "24",
           "marker": {
            "color": "#ab63fa"
           },
           "name": "24",
           "notched": false,
           "offsetgroup": "24",
           "orientation": "v",
           "showlegend": true,
           "type": "box",
           "x": [
            24,
            24
           ],
           "x0": " ",
           "xaxis": "x",
           "y": [
            22.47,
            25.81
           ],
           "y0": " ",
           "yaxis": "y"
          },
          {
           "alignmentgroup": "True",
           "hovertemplate": "Region=%{x}<br> Date= 31-07-2019<br> Estimated Unemployment Rate (%)=%{y}<extra></extra>",
           "legendgroup": "25",
           "marker": {
            "color": "#FFA15A"
           },
           "name": "25",
           "notched": false,
           "offsetgroup": "25",
           "orientation": "v",
           "showlegend": true,
           "type": "box",
           "x": [
            25,
            25
           ],
           "x0": " ",
           "xaxis": "x",
           "y": [
            9.19,
            11.8
           ],
           "y0": " ",
           "yaxis": "y"
          },
          {
           "alignmentgroup": "True",
           "hovertemplate": "Region=%{x}<br> Date= 31-07-2019<br> Estimated Unemployment Rate (%)=%{y}<extra></extra>",
           "legendgroup": "26",
           "marker": {
            "color": "#19d3f3"
           },
           "name": "26",
           "notched": false,
           "offsetgroup": "26",
           "orientation": "v",
           "showlegend": true,
           "type": "box",
           "x": [
            26,
            26
           ],
           "x0": " ",
           "xaxis": "x",
           "y": [
            5.74,
            6.94
           ],
           "y0": " ",
           "yaxis": "y"
          },
          {
           "alignmentgroup": "True",
           "hovertemplate": "Region=%{x}<br> Date= 31-07-2019<br> Estimated Unemployment Rate (%)=%{y}<extra></extra>",
           "legendgroup": "27",
           "marker": {
            "color": "#FF6692"
           },
           "name": "27",
           "notched": false,
           "offsetgroup": "27",
           "orientation": "v",
           "showlegend": true,
           "type": "box",
           "x": [
            27,
            27
           ],
           "x0": " ",
           "xaxis": "x",
           "y": [
            5.62,
            7.91
           ],
           "y0": " ",
           "yaxis": "y"
          },
          {
           "alignmentgroup": "True",
           "hovertemplate": "Region=%{x}<br> Date= 31-07-2019<br> Estimated Unemployment Rate (%)=%{y}<extra></extra>",
           "legendgroup": "3",
           "marker": {
            "color": "#FF97FF"
           },
           "name": "3",
           "notched": false,
           "offsetgroup": "3",
           "orientation": "v",
           "showlegend": true,
           "type": "box",
           "x": [
            3
           ],
           "x0": " ",
           "xaxis": "x",
           "y": [
            21.8
           ],
           "y0": " ",
           "yaxis": "y"
          }
         ],
         "name": " 31-07-2019"
        },
        {
         "data": [
          {
           "alignmentgroup": "True",
           "hovertemplate": "Region=%{x}<br> Date= 31-08-2019<br> Estimated Unemployment Rate (%)=%{y}<extra></extra>",
           "legendgroup": "0",
           "marker": {
            "color": "#636efa"
           },
           "name": "0",
           "notched": false,
           "offsetgroup": "0",
           "orientation": "v",
           "showlegend": true,
           "type": "box",
           "x": [
            0,
            0
           ],
           "x0": " ",
           "xaxis": "x",
           "y": [
            3.32,
            4.61
           ],
           "y0": " ",
           "yaxis": "y"
          },
          {
           "alignmentgroup": "True",
           "hovertemplate": "Region=%{x}<br> Date= 31-08-2019<br> Estimated Unemployment Rate (%)=%{y}<extra></extra>",
           "legendgroup": "1",
           "marker": {
            "color": "#EF553B"
           },
           "name": "1",
           "notched": false,
           "offsetgroup": "1",
           "orientation": "v",
           "showlegend": true,
           "type": "box",
           "x": [
            1,
            1
           ],
           "x0": " ",
           "xaxis": "x",
           "y": [
            5.79,
            10.39
           ],
           "y0": " ",
           "yaxis": "y"
          },
          {
           "alignmentgroup": "True",
           "hovertemplate": "Region=%{x}<br> Date= 31-08-2019<br> Estimated Unemployment Rate (%)=%{y}<extra></extra>",
           "legendgroup": "2",
           "marker": {
            "color": "#00cc96"
           },
           "name": "2",
           "notched": false,
           "offsetgroup": "2",
           "orientation": "v",
           "showlegend": true,
           "type": "box",
           "x": [
            2,
            2
           ],
           "x0": " ",
           "xaxis": "x",
           "y": [
            11,
            17.66
           ],
           "y0": " ",
           "yaxis": "y"
          },
          {
           "alignmentgroup": "True",
           "hovertemplate": "Region=%{x}<br> Date= 31-08-2019<br> Estimated Unemployment Rate (%)=%{y}<extra></extra>",
           "legendgroup": "4",
           "marker": {
            "color": "#ab63fa"
           },
           "name": "4",
           "notched": false,
           "offsetgroup": "4",
           "orientation": "v",
           "showlegend": true,
           "type": "box",
           "x": [
            4,
            4
           ],
           "x0": " ",
           "xaxis": "x",
           "y": [
            4.64,
            6.29
           ],
           "y0": " ",
           "yaxis": "y"
          },
          {
           "alignmentgroup": "True",
           "hovertemplate": "Region=%{x}<br> Date= 31-08-2019<br> Estimated Unemployment Rate (%)=%{y}<extra></extra>",
           "legendgroup": "5",
           "marker": {
            "color": "#FFA15A"
           },
           "name": "5",
           "notched": false,
           "offsetgroup": "5",
           "orientation": "v",
           "showlegend": true,
           "type": "box",
           "x": [
            5,
            5
           ],
           "x0": " ",
           "xaxis": "x",
           "y": [
            17.18,
            13.52
           ],
           "y0": " ",
           "yaxis": "y"
          },
          {
           "alignmentgroup": "True",
           "hovertemplate": "Region=%{x}<br> Date= 31-08-2019<br> Estimated Unemployment Rate (%)=%{y}<extra></extra>",
           "legendgroup": "6",
           "marker": {
            "color": "#19d3f3"
           },
           "name": "6",
           "notched": false,
           "offsetgroup": "6",
           "orientation": "v",
           "showlegend": true,
           "type": "box",
           "x": [
            6,
            6
           ],
           "x0": " ",
           "xaxis": "x",
           "y": [
            1.98,
            4.9
           ],
           "y0": " ",
           "yaxis": "y"
          },
          {
           "alignmentgroup": "True",
           "hovertemplate": "Region=%{x}<br> Date= 31-08-2019<br> Estimated Unemployment Rate (%)=%{y}<extra></extra>",
           "legendgroup": "7",
           "marker": {
            "color": "#FF6692"
           },
           "name": "7",
           "notched": false,
           "offsetgroup": "7",
           "orientation": "v",
           "showlegend": true,
           "type": "box",
           "x": [
            7,
            7
           ],
           "x0": " ",
           "xaxis": "x",
           "y": [
            3.7,
            4.2
           ],
           "y0": " ",
           "yaxis": "y"
          },
          {
           "alignmentgroup": "True",
           "hovertemplate": "Region=%{x}<br> Date= 31-08-2019<br> Estimated Unemployment Rate (%)=%{y}<extra></extra>",
           "legendgroup": "8",
           "marker": {
            "color": "#B6E880"
           },
           "name": "8",
           "notched": false,
           "offsetgroup": "8",
           "orientation": "v",
           "showlegend": true,
           "type": "box",
           "x": [
            8,
            8
           ],
           "x0": " ",
           "xaxis": "x",
           "y": [
            30.94,
            24.19
           ],
           "y0": " ",
           "yaxis": "y"
          },
          {
           "alignmentgroup": "True",
           "hovertemplate": "Region=%{x}<br> Date= 31-08-2019<br> Estimated Unemployment Rate (%)=%{y}<extra></extra>",
           "legendgroup": "9",
           "marker": {
            "color": "#FF97FF"
           },
           "name": "9",
           "notched": false,
           "offsetgroup": "9",
           "orientation": "v",
           "showlegend": true,
           "type": "box",
           "x": [
            9,
            9
           ],
           "x0": " ",
           "xaxis": "x",
           "y": [
            18.56,
            24.48
           ],
           "y0": " ",
           "yaxis": "y"
          },
          {
           "alignmentgroup": "True",
           "hovertemplate": "Region=%{x}<br> Date= 31-08-2019<br> Estimated Unemployment Rate (%)=%{y}<extra></extra>",
           "legendgroup": "10",
           "marker": {
            "color": "#FECB52"
           },
           "name": "10",
           "notched": false,
           "offsetgroup": "10",
           "orientation": "v",
           "showlegend": true,
           "type": "box",
           "x": [
            10
           ],
           "x0": " ",
           "xaxis": "x",
           "y": [
            11.32
           ],
           "y0": " ",
           "yaxis": "y"
          },
          {
           "alignmentgroup": "True",
           "hovertemplate": "Region=%{x}<br> Date= 31-08-2019<br> Estimated Unemployment Rate (%)=%{y}<extra></extra>",
           "legendgroup": "11",
           "marker": {
            "color": "#636efa"
           },
           "name": "11",
           "notched": false,
           "offsetgroup": "11",
           "orientation": "v",
           "showlegend": true,
           "type": "box",
           "x": [
            11,
            11
           ],
           "x0": " ",
           "xaxis": "x",
           "y": [
            12.06,
            20.25
           ],
           "y0": " ",
           "yaxis": "y"
          },
          {
           "alignmentgroup": "True",
           "hovertemplate": "Region=%{x}<br> Date= 31-08-2019<br> Estimated Unemployment Rate (%)=%{y}<extra></extra>",
           "legendgroup": "12",
           "marker": {
            "color": "#EF553B"
           },
           "name": "12",
           "notched": false,
           "offsetgroup": "12",
           "orientation": "v",
           "showlegend": true,
           "type": "box",
           "x": [
            12,
            12
           ],
           "x0": " ",
           "xaxis": "x",
           "y": [
            0.37,
            1.27
           ],
           "y0": " ",
           "yaxis": "y"
          },
          {
           "alignmentgroup": "True",
           "hovertemplate": "Region=%{x}<br> Date= 31-08-2019<br> Estimated Unemployment Rate (%)=%{y}<extra></extra>",
           "legendgroup": "13",
           "marker": {
            "color": "#00cc96"
           },
           "name": "13",
           "notched": false,
           "offsetgroup": "13",
           "orientation": "v",
           "showlegend": true,
           "type": "box",
           "x": [
            13,
            13
           ],
           "x0": " ",
           "xaxis": "x",
           "y": [
            10.32,
            7.69
           ],
           "y0": " ",
           "yaxis": "y"
          },
          {
           "alignmentgroup": "True",
           "hovertemplate": "Region=%{x}<br> Date= 31-08-2019<br> Estimated Unemployment Rate (%)=%{y}<extra></extra>",
           "legendgroup": "14",
           "marker": {
            "color": "#ab63fa"
           },
           "name": "14",
           "notched": false,
           "offsetgroup": "14",
           "orientation": "v",
           "showlegend": true,
           "type": "box",
           "x": [
            14,
            14
           ],
           "x0": " ",
           "xaxis": "x",
           "y": [
            4.94,
            6.82
           ],
           "y0": " ",
           "yaxis": "y"
          },
          {
           "alignmentgroup": "True",
           "hovertemplate": "Region=%{x}<br> Date= 31-08-2019<br> Estimated Unemployment Rate (%)=%{y}<extra></extra>",
           "legendgroup": "15",
           "marker": {
            "color": "#FFA15A"
           },
           "name": "15",
           "notched": false,
           "offsetgroup": "15",
           "orientation": "v",
           "showlegend": true,
           "type": "box",
           "x": [
            15,
            15
           ],
           "x0": " ",
           "xaxis": "x",
           "y": [
            3.76,
            7.57
           ],
           "y0": " ",
           "yaxis": "y"
          },
          {
           "alignmentgroup": "True",
           "hovertemplate": "Region=%{x}<br> Date= 31-08-2019<br> Estimated Unemployment Rate (%)=%{y}<extra></extra>",
           "legendgroup": "16",
           "marker": {
            "color": "#19d3f3"
           },
           "name": "16",
           "notched": false,
           "offsetgroup": "16",
           "orientation": "v",
           "showlegend": true,
           "type": "box",
           "x": [
            16,
            16
           ],
           "x0": " ",
           "xaxis": "x",
           "y": [
            0.52,
            5.8
           ],
           "y0": " ",
           "yaxis": "y"
          },
          {
           "alignmentgroup": "True",
           "hovertemplate": "Region=%{x}<br> Date= 31-08-2019<br> Estimated Unemployment Rate (%)=%{y}<extra></extra>",
           "legendgroup": "17",
           "marker": {
            "color": "#FF6692"
           },
           "name": "17",
           "notched": false,
           "offsetgroup": "17",
           "orientation": "v",
           "showlegend": true,
           "type": "box",
           "x": [
            17,
            17
           ],
           "x0": " ",
           "xaxis": "x",
           "y": [
            3.68,
            3.5
           ],
           "y0": " ",
           "yaxis": "y"
          },
          {
           "alignmentgroup": "True",
           "hovertemplate": "Region=%{x}<br> Date= 31-08-2019<br> Estimated Unemployment Rate (%)=%{y}<extra></extra>",
           "legendgroup": "18",
           "marker": {
            "color": "#B6E880"
           },
           "name": "18",
           "notched": false,
           "offsetgroup": "18",
           "orientation": "v",
           "showlegend": true,
           "type": "box",
           "x": [
            18,
            18
           ],
           "x0": " ",
           "xaxis": "x",
           "y": [
            4.85,
            8.95
           ],
           "y0": " ",
           "yaxis": "y"
          },
          {
           "alignmentgroup": "True",
           "hovertemplate": "Region=%{x}<br> Date= 31-08-2019<br> Estimated Unemployment Rate (%)=%{y}<extra></extra>",
           "legendgroup": "19",
           "marker": {
            "color": "#FF97FF"
           },
           "name": "19",
           "notched": false,
           "offsetgroup": "19",
           "orientation": "v",
           "showlegend": true,
           "type": "box",
           "x": [
            19,
            19
           ],
           "x0": " ",
           "xaxis": "x",
           "y": [
            6.69,
            11.99
           ],
           "y0": " ",
           "yaxis": "y"
          },
          {
           "alignmentgroup": "True",
           "hovertemplate": "Region=%{x}<br> Date= 31-08-2019<br> Estimated Unemployment Rate (%)=%{y}<extra></extra>",
           "legendgroup": "20",
           "marker": {
            "color": "#FECB52"
           },
           "name": "20",
           "notched": false,
           "offsetgroup": "20",
           "orientation": "v",
           "showlegend": true,
           "type": "box",
           "x": [
            20,
            20
           ],
           "x0": " ",
           "xaxis": "x",
           "y": [
            12.5,
            14.71
           ],
           "y0": " ",
           "yaxis": "y"
          },
          {
           "alignmentgroup": "True",
           "hovertemplate": "Region=%{x}<br> Date= 31-08-2019<br> Estimated Unemployment Rate (%)=%{y}<extra></extra>",
           "legendgroup": "21",
           "marker": {
            "color": "#636efa"
           },
           "name": "21",
           "notched": false,
           "offsetgroup": "21",
           "orientation": "v",
           "showlegend": true,
           "type": "box",
           "x": [
            21
           ],
           "x0": " ",
           "xaxis": "x",
           "y": [
            4.82
           ],
           "y0": " ",
           "yaxis": "y"
          },
          {
           "alignmentgroup": "True",
           "hovertemplate": "Region=%{x}<br> Date= 31-08-2019<br> Estimated Unemployment Rate (%)=%{y}<extra></extra>",
           "legendgroup": "22",
           "marker": {
            "color": "#EF553B"
           },
           "name": "22",
           "notched": false,
           "offsetgroup": "22",
           "orientation": "v",
           "showlegend": true,
           "type": "box",
           "x": [
            22,
            22
           ],
           "x0": " ",
           "xaxis": "x",
           "y": [
            2.91,
            9.53
           ],
           "y0": " ",
           "yaxis": "y"
          },
          {
           "alignmentgroup": "True",
           "hovertemplate": "Region=%{x}<br> Date= 31-08-2019<br> Estimated Unemployment Rate (%)=%{y}<extra></extra>",
           "legendgroup": "23",
           "marker": {
            "color": "#00cc96"
           },
           "name": "23",
           "notched": false,
           "offsetgroup": "23",
           "orientation": "v",
           "showlegend": true,
           "type": "box",
           "x": [
            23,
            23
           ],
           "x0": " ",
           "xaxis": "x",
           "y": [
            1.4,
            4.19
           ],
           "y0": " ",
           "yaxis": "y"
          },
          {
           "alignmentgroup": "True",
           "hovertemplate": "Region=%{x}<br> Date= 31-08-2019<br> Estimated Unemployment Rate (%)=%{y}<extra></extra>",
           "legendgroup": "24",
           "marker": {
            "color": "#ab63fa"
           },
           "name": "24",
           "notched": false,
           "offsetgroup": "24",
           "orientation": "v",
           "showlegend": true,
           "type": "box",
           "x": [
            24,
            24
           ],
           "x0": " ",
           "xaxis": "x",
           "y": [
            25.49,
            33.45
           ],
           "y0": " ",
           "yaxis": "y"
          },
          {
           "alignmentgroup": "True",
           "hovertemplate": "Region=%{x}<br> Date= 31-08-2019<br> Estimated Unemployment Rate (%)=%{y}<extra></extra>",
           "legendgroup": "25",
           "marker": {
            "color": "#FFA15A"
           },
           "name": "25",
           "notched": false,
           "offsetgroup": "25",
           "orientation": "v",
           "showlegend": true,
           "type": "box",
           "x": [
            25,
            25
           ],
           "x0": " ",
           "xaxis": "x",
           "y": [
            11.47,
            14.73
           ],
           "y0": " ",
           "yaxis": "y"
          },
          {
           "alignmentgroup": "True",
           "hovertemplate": "Region=%{x}<br> Date= 31-08-2019<br> Estimated Unemployment Rate (%)=%{y}<extra></extra>",
           "legendgroup": "26",
           "marker": {
            "color": "#19d3f3"
           },
           "name": "26",
           "notched": false,
           "offsetgroup": "26",
           "orientation": "v",
           "showlegend": true,
           "type": "box",
           "x": [
            26,
            26
           ],
           "x0": " ",
           "xaxis": "x",
           "y": [
            6.11,
            7.43
           ],
           "y0": " ",
           "yaxis": "y"
          },
          {
           "alignmentgroup": "True",
           "hovertemplate": "Region=%{x}<br> Date= 31-08-2019<br> Estimated Unemployment Rate (%)=%{y}<extra></extra>",
           "legendgroup": "27",
           "marker": {
            "color": "#FF6692"
           },
           "name": "27",
           "notched": false,
           "offsetgroup": "27",
           "orientation": "v",
           "showlegend": true,
           "type": "box",
           "x": [
            27,
            27
           ],
           "x0": " ",
           "xaxis": "x",
           "y": [
            5.58,
            7.27
           ],
           "y0": " ",
           "yaxis": "y"
          },
          {
           "alignmentgroup": "True",
           "hovertemplate": "Region=%{x}<br> Date= 31-08-2019<br> Estimated Unemployment Rate (%)=%{y}<extra></extra>",
           "legendgroup": "3",
           "marker": {
            "color": "#FF97FF"
           },
           "name": "3",
           "notched": false,
           "offsetgroup": "3",
           "orientation": "v",
           "showlegend": true,
           "type": "box",
           "x": [
            3
           ],
           "x0": " ",
           "xaxis": "x",
           "y": [
            9.52
           ],
           "y0": " ",
           "yaxis": "y"
          }
         ],
         "name": " 31-08-2019"
        },
        {
         "data": [
          {
           "alignmentgroup": "True",
           "hovertemplate": "Region=%{x}<br> Date= 30-09-2019<br> Estimated Unemployment Rate (%)=%{y}<extra></extra>",
           "legendgroup": "0",
           "marker": {
            "color": "#636efa"
           },
           "name": "0",
           "notched": false,
           "offsetgroup": "0",
           "orientation": "v",
           "showlegend": true,
           "type": "box",
           "x": [
            0,
            0
           ],
           "x0": " ",
           "xaxis": "x",
           "y": [
            5.17,
            6.01
           ],
           "y0": " ",
           "yaxis": "y"
          },
          {
           "alignmentgroup": "True",
           "hovertemplate": "Region=%{x}<br> Date= 30-09-2019<br> Estimated Unemployment Rate (%)=%{y}<extra></extra>",
           "legendgroup": "1",
           "marker": {
            "color": "#EF553B"
           },
           "name": "1",
           "notched": false,
           "offsetgroup": "1",
           "orientation": "v",
           "showlegend": true,
           "type": "box",
           "x": [
            1,
            1
           ],
           "x0": " ",
           "xaxis": "x",
           "y": [
            4.46,
            9.26
           ],
           "y0": " ",
           "yaxis": "y"
          },
          {
           "alignmentgroup": "True",
           "hovertemplate": "Region=%{x}<br> Date= 30-09-2019<br> Estimated Unemployment Rate (%)=%{y}<extra></extra>",
           "legendgroup": "2",
           "marker": {
            "color": "#00cc96"
           },
           "name": "2",
           "notched": false,
           "offsetgroup": "2",
           "orientation": "v",
           "showlegend": true,
           "type": "box",
           "x": [
            2,
            2
           ],
           "x0": " ",
           "xaxis": "x",
           "y": [
            8.87,
            20.46
           ],
           "y0": " ",
           "yaxis": "y"
          },
          {
           "alignmentgroup": "True",
           "hovertemplate": "Region=%{x}<br> Date= 30-09-2019<br> Estimated Unemployment Rate (%)=%{y}<extra></extra>",
           "legendgroup": "4",
           "marker": {
            "color": "#ab63fa"
           },
           "name": "4",
           "notched": false,
           "offsetgroup": "4",
           "orientation": "v",
           "showlegend": true,
           "type": "box",
           "x": [
            4,
            4
           ],
           "x0": " ",
           "xaxis": "x",
           "y": [
            8.33,
            9.46
           ],
           "y0": " ",
           "yaxis": "y"
          },
          {
           "alignmentgroup": "True",
           "hovertemplate": "Region=%{x}<br> Date= 30-09-2019<br> Estimated Unemployment Rate (%)=%{y}<extra></extra>",
           "legendgroup": "5",
           "marker": {
            "color": "#FFA15A"
           },
           "name": "5",
           "notched": false,
           "offsetgroup": "5",
           "orientation": "v",
           "showlegend": true,
           "type": "box",
           "x": [
            5,
            5
           ],
           "x0": " ",
           "xaxis": "x",
           "y": [
            12.5,
            20.59
           ],
           "y0": " ",
           "yaxis": "y"
          },
          {
           "alignmentgroup": "True",
           "hovertemplate": "Region=%{x}<br> Date= 30-09-2019<br> Estimated Unemployment Rate (%)=%{y}<extra></extra>",
           "legendgroup": "6",
           "marker": {
            "color": "#19d3f3"
           },
           "name": "6",
           "notched": false,
           "offsetgroup": "6",
           "orientation": "v",
           "showlegend": true,
           "type": "box",
           "x": [
            6,
            6
           ],
           "x0": " ",
           "xaxis": "x",
           "y": [
            3.61,
            3.16
           ],
           "y0": " ",
           "yaxis": "y"
          },
          {
           "alignmentgroup": "True",
           "hovertemplate": "Region=%{x}<br> Date= 30-09-2019<br> Estimated Unemployment Rate (%)=%{y}<extra></extra>",
           "legendgroup": "7",
           "marker": {
            "color": "#FF6692"
           },
           "name": "7",
           "notched": false,
           "offsetgroup": "7",
           "orientation": "v",
           "showlegend": true,
           "type": "box",
           "x": [
            7,
            7
           ],
           "x0": " ",
           "xaxis": "x",
           "y": [
            6.29,
            5.96
           ],
           "y0": " ",
           "yaxis": "y"
          },
          {
           "alignmentgroup": "True",
           "hovertemplate": "Region=%{x}<br> Date= 30-09-2019<br> Estimated Unemployment Rate (%)=%{y}<extra></extra>",
           "legendgroup": "8",
           "marker": {
            "color": "#B6E880"
           },
           "name": "8",
           "notched": false,
           "offsetgroup": "8",
           "orientation": "v",
           "showlegend": true,
           "type": "box",
           "x": [
            8,
            8
           ],
           "x0": " ",
           "xaxis": "x",
           "y": [
            16.36,
            26.84
           ],
           "y0": " ",
           "yaxis": "y"
          },
          {
           "alignmentgroup": "True",
           "hovertemplate": "Region=%{x}<br> Date= 30-09-2019<br> Estimated Unemployment Rate (%)=%{y}<extra></extra>",
           "legendgroup": "9",
           "marker": {
            "color": "#FF97FF"
           },
           "name": "9",
           "notched": false,
           "offsetgroup": "9",
           "orientation": "v",
           "showlegend": true,
           "type": "box",
           "x": [
            9,
            9
           ],
           "x0": " ",
           "xaxis": "x",
           "y": [
            15.98,
            12
           ],
           "y0": " ",
           "yaxis": "y"
          },
          {
           "alignmentgroup": "True",
           "hovertemplate": "Region=%{x}<br> Date= 30-09-2019<br> Estimated Unemployment Rate (%)=%{y}<extra></extra>",
           "legendgroup": "11",
           "marker": {
            "color": "#636efa"
           },
           "name": "11",
           "notched": false,
           "offsetgroup": "11",
           "orientation": "v",
           "showlegend": true,
           "type": "box",
           "x": [
            11,
            11
           ],
           "x0": " ",
           "xaxis": "x",
           "y": [
            7.12,
            21.16
           ],
           "y0": " ",
           "yaxis": "y"
          },
          {
           "alignmentgroup": "True",
           "hovertemplate": "Region=%{x}<br> Date= 30-09-2019<br> Estimated Unemployment Rate (%)=%{y}<extra></extra>",
           "legendgroup": "12",
           "marker": {
            "color": "#EF553B"
           },
           "name": "12",
           "notched": false,
           "offsetgroup": "12",
           "orientation": "v",
           "showlegend": true,
           "type": "box",
           "x": [
            12,
            12
           ],
           "x0": " ",
           "xaxis": "x",
           "y": [
            3.2,
            3.57
           ],
           "y0": " ",
           "yaxis": "y"
          },
          {
           "alignmentgroup": "True",
           "hovertemplate": "Region=%{x}<br> Date= 30-09-2019<br> Estimated Unemployment Rate (%)=%{y}<extra></extra>",
           "legendgroup": "13",
           "marker": {
            "color": "#00cc96"
           },
           "name": "13",
           "notched": false,
           "offsetgroup": "13",
           "orientation": "v",
           "showlegend": true,
           "type": "box",
           "x": [
            13,
            13
           ],
           "x0": " ",
           "xaxis": "x",
           "y": [
            5.35,
            5.52
           ],
           "y0": " ",
           "yaxis": "y"
          },
          {
           "alignmentgroup": "True",
           "hovertemplate": "Region=%{x}<br> Date= 30-09-2019<br> Estimated Unemployment Rate (%)=%{y}<extra></extra>",
           "legendgroup": "14",
           "marker": {
            "color": "#ab63fa"
           },
           "name": "14",
           "notched": false,
           "offsetgroup": "14",
           "orientation": "v",
           "showlegend": true,
           "type": "box",
           "x": [
            14,
            14
           ],
           "x0": " ",
           "xaxis": "x",
           "y": [
            3.08,
            7
           ],
           "y0": " ",
           "yaxis": "y"
          },
          {
           "alignmentgroup": "True",
           "hovertemplate": "Region=%{x}<br> Date= 30-09-2019<br> Estimated Unemployment Rate (%)=%{y}<extra></extra>",
           "legendgroup": "15",
           "marker": {
            "color": "#FFA15A"
           },
           "name": "15",
           "notched": false,
           "offsetgroup": "15",
           "orientation": "v",
           "showlegend": true,
           "type": "box",
           "x": [
            15,
            15
           ],
           "x0": " ",
           "xaxis": "x",
           "y": [
            4.4,
            7.6
           ],
           "y0": " ",
           "yaxis": "y"
          },
          {
           "alignmentgroup": "True",
           "hovertemplate": "Region=%{x}<br> Date= 30-09-2019<br> Estimated Unemployment Rate (%)=%{y}<extra></extra>",
           "legendgroup": "16",
           "marker": {
            "color": "#19d3f3"
           },
           "name": "16",
           "notched": false,
           "offsetgroup": "16",
           "orientation": "v",
           "showlegend": true,
           "type": "box",
           "x": [
            16,
            16
           ],
           "x0": " ",
           "xaxis": "x",
           "y": [
            0.24,
            5.3
           ],
           "y0": " ",
           "yaxis": "y"
          },
          {
           "alignmentgroup": "True",
           "hovertemplate": "Region=%{x}<br> Date= 30-09-2019<br> Estimated Unemployment Rate (%)=%{y}<extra></extra>",
           "legendgroup": "17",
           "marker": {
            "color": "#FF6692"
           },
           "name": "17",
           "notched": false,
           "offsetgroup": "17",
           "orientation": "v",
           "showlegend": true,
           "type": "box",
           "x": [
            17,
            17
           ],
           "x0": " ",
           "xaxis": "x",
           "y": [
            4.31,
            3.78
           ],
           "y0": " ",
           "yaxis": "y"
          },
          {
           "alignmentgroup": "True",
           "hovertemplate": "Region=%{x}<br> Date= 30-09-2019<br> Estimated Unemployment Rate (%)=%{y}<extra></extra>",
           "legendgroup": "18",
           "marker": {
            "color": "#B6E880"
           },
           "name": "18",
           "notched": false,
           "offsetgroup": "18",
           "orientation": "v",
           "showlegend": true,
           "type": "box",
           "x": [
            18,
            18
           ],
           "x0": " ",
           "xaxis": "x",
           "y": [
            0,
            1.22
           ],
           "y0": " ",
           "yaxis": "y"
          },
          {
           "alignmentgroup": "True",
           "hovertemplate": "Region=%{x}<br> Date= 30-09-2019<br> Estimated Unemployment Rate (%)=%{y}<extra></extra>",
           "legendgroup": "19",
           "marker": {
            "color": "#FF97FF"
           },
           "name": "19",
           "notched": false,
           "offsetgroup": "19",
           "orientation": "v",
           "showlegend": true,
           "type": "box",
           "x": [
            19,
            19
           ],
           "x0": " ",
           "xaxis": "x",
           "y": [
            8.59,
            15.69
           ],
           "y0": " ",
           "yaxis": "y"
          },
          {
           "alignmentgroup": "True",
           "hovertemplate": "Region=%{x}<br> Date= 30-09-2019<br> Estimated Unemployment Rate (%)=%{y}<extra></extra>",
           "legendgroup": "20",
           "marker": {
            "color": "#FECB52"
           },
           "name": "20",
           "notched": false,
           "offsetgroup": "20",
           "orientation": "v",
           "showlegend": true,
           "type": "box",
           "x": [
            20,
            20
           ],
           "x0": " ",
           "xaxis": "x",
           "y": [
            5.45,
            12.63
           ],
           "y0": " ",
           "yaxis": "y"
          },
          {
           "alignmentgroup": "True",
           "hovertemplate": "Region=%{x}<br> Date= 30-09-2019<br> Estimated Unemployment Rate (%)=%{y}<extra></extra>",
           "legendgroup": "21",
           "marker": {
            "color": "#636efa"
           },
           "name": "21",
           "notched": false,
           "offsetgroup": "21",
           "orientation": "v",
           "showlegend": true,
           "type": "box",
           "x": [
            21
           ],
           "x0": " ",
           "xaxis": "x",
           "y": [
            4.81
           ],
           "y0": " ",
           "yaxis": "y"
          },
          {
           "alignmentgroup": "True",
           "hovertemplate": "Region=%{x}<br> Date= 30-09-2019<br> Estimated Unemployment Rate (%)=%{y}<extra></extra>",
           "legendgroup": "22",
           "marker": {
            "color": "#EF553B"
           },
           "name": "22",
           "notched": false,
           "offsetgroup": "22",
           "orientation": "v",
           "showlegend": true,
           "type": "box",
           "x": [
            22,
            22
           ],
           "x0": " ",
           "xaxis": "x",
           "y": [
            1.71,
            1.86
           ],
           "y0": " ",
           "yaxis": "y"
          },
          {
           "alignmentgroup": "True",
           "hovertemplate": "Region=%{x}<br> Date= 30-09-2019<br> Estimated Unemployment Rate (%)=%{y}<extra></extra>",
           "legendgroup": "23",
           "marker": {
            "color": "#00cc96"
           },
           "name": "23",
           "notched": false,
           "offsetgroup": "23",
           "orientation": "v",
           "showlegend": true,
           "type": "box",
           "x": [
            23,
            23
           ],
           "x0": " ",
           "xaxis": "x",
           "y": [
            5.49,
            6.19
           ],
           "y0": " ",
           "yaxis": "y"
          },
          {
           "alignmentgroup": "True",
           "hovertemplate": "Region=%{x}<br> Date= 30-09-2019<br> Estimated Unemployment Rate (%)=%{y}<extra></extra>",
           "legendgroup": "24",
           "marker": {
            "color": "#ab63fa"
           },
           "name": "24",
           "notched": false,
           "offsetgroup": "24",
           "orientation": "v",
           "showlegend": true,
           "type": "box",
           "x": [
            24,
            24
           ],
           "x0": " ",
           "xaxis": "x",
           "y": [
            30.23,
            33.57
           ],
           "y0": " ",
           "yaxis": "y"
          },
          {
           "alignmentgroup": "True",
           "hovertemplate": "Region=%{x}<br> Date= 30-09-2019<br> Estimated Unemployment Rate (%)=%{y}<extra></extra>",
           "legendgroup": "25",
           "marker": {
            "color": "#FFA15A"
           },
           "name": "25",
           "notched": false,
           "offsetgroup": "25",
           "orientation": "v",
           "showlegend": true,
           "type": "box",
           "x": [
            25,
            25
           ],
           "x0": " ",
           "xaxis": "x",
           "y": [
            6.45,
            13.58
           ],
           "y0": " ",
           "yaxis": "y"
          },
          {
           "alignmentgroup": "True",
           "hovertemplate": "Region=%{x}<br> Date= 30-09-2019<br> Estimated Unemployment Rate (%)=%{y}<extra></extra>",
           "legendgroup": "26",
           "marker": {
            "color": "#19d3f3"
           },
           "name": "26",
           "notched": false,
           "offsetgroup": "26",
           "orientation": "v",
           "showlegend": true,
           "type": "box",
           "x": [
            26,
            26
           ],
           "x0": " ",
           "xaxis": "x",
           "y": [
            3.47,
            9.62
           ],
           "y0": " ",
           "yaxis": "y"
          },
          {
           "alignmentgroup": "True",
           "hovertemplate": "Region=%{x}<br> Date= 30-09-2019<br> Estimated Unemployment Rate (%)=%{y}<extra></extra>",
           "legendgroup": "27",
           "marker": {
            "color": "#FF6692"
           },
           "name": "27",
           "notched": false,
           "offsetgroup": "27",
           "orientation": "v",
           "showlegend": true,
           "type": "box",
           "x": [
            27,
            27
           ],
           "x0": " ",
           "xaxis": "x",
           "y": [
            5.26,
            7.79
           ],
           "y0": " ",
           "yaxis": "y"
          },
          {
           "alignmentgroup": "True",
           "hovertemplate": "Region=%{x}<br> Date= 30-09-2019<br> Estimated Unemployment Rate (%)=%{y}<extra></extra>",
           "legendgroup": "3",
           "marker": {
            "color": "#FF97FF"
           },
           "name": "3",
           "notched": false,
           "offsetgroup": "3",
           "orientation": "v",
           "showlegend": true,
           "type": "box",
           "x": [
            3
           ],
           "x0": " ",
           "xaxis": "x",
           "y": [
            20.14
           ],
           "y0": " ",
           "yaxis": "y"
          }
         ],
         "name": " 30-09-2019"
        },
        {
         "data": [
          {
           "alignmentgroup": "True",
           "hovertemplate": "Region=%{x}<br> Date= 31-10-2019<br> Estimated Unemployment Rate (%)=%{y}<extra></extra>",
           "legendgroup": "0",
           "marker": {
            "color": "#636efa"
           },
           "name": "0",
           "notched": false,
           "offsetgroup": "0",
           "orientation": "v",
           "showlegend": true,
           "type": "box",
           "x": [
            0,
            0
           ],
           "x0": " ",
           "xaxis": "x",
           "y": [
            3.52,
            4.7
           ],
           "y0": " ",
           "yaxis": "y"
          },
          {
           "alignmentgroup": "True",
           "hovertemplate": "Region=%{x}<br> Date= 31-10-2019<br> Estimated Unemployment Rate (%)=%{y}<extra></extra>",
           "legendgroup": "1",
           "marker": {
            "color": "#EF553B"
           },
           "name": "1",
           "notched": false,
           "offsetgroup": "1",
           "orientation": "v",
           "showlegend": true,
           "type": "box",
           "x": [
            1,
            1
           ],
           "x0": " ",
           "xaxis": "x",
           "y": [
            4.65,
            11.17
           ],
           "y0": " ",
           "yaxis": "y"
          },
          {
           "alignmentgroup": "True",
           "hovertemplate": "Region=%{x}<br> Date= 31-10-2019<br> Estimated Unemployment Rate (%)=%{y}<extra></extra>",
           "legendgroup": "2",
           "marker": {
            "color": "#00cc96"
           },
           "name": "2",
           "notched": false,
           "offsetgroup": "2",
           "orientation": "v",
           "showlegend": true,
           "type": "box",
           "x": [
            2,
            2
           ],
           "x0": " ",
           "xaxis": "x",
           "y": [
            12.47,
            14.06
           ],
           "y0": " ",
           "yaxis": "y"
          },
          {
           "alignmentgroup": "True",
           "hovertemplate": "Region=%{x}<br> Date= 31-10-2019<br> Estimated Unemployment Rate (%)=%{y}<extra></extra>",
           "legendgroup": "4",
           "marker": {
            "color": "#ab63fa"
           },
           "name": "4",
           "notched": false,
           "offsetgroup": "4",
           "orientation": "v",
           "showlegend": true,
           "type": "box",
           "x": [
            4,
            4
           ],
           "x0": " ",
           "xaxis": "x",
           "y": [
            6.96,
            10.27
           ],
           "y0": " ",
           "yaxis": "y"
          },
          {
           "alignmentgroup": "True",
           "hovertemplate": "Region=%{x}<br> Date= 31-10-2019<br> Estimated Unemployment Rate (%)=%{y}<extra></extra>",
           "legendgroup": "5",
           "marker": {
            "color": "#FFA15A"
           },
           "name": "5",
           "notched": false,
           "offsetgroup": "5",
           "orientation": "v",
           "showlegend": true,
           "type": "box",
           "x": [
            5,
            5
           ],
           "x0": " ",
           "xaxis": "x",
           "y": [
            15.84,
            12.41
           ],
           "y0": " ",
           "yaxis": "y"
          },
          {
           "alignmentgroup": "True",
           "hovertemplate": "Region=%{x}<br> Date= 31-10-2019<br> Estimated Unemployment Rate (%)=%{y}<extra></extra>",
           "legendgroup": "6",
           "marker": {
            "color": "#19d3f3"
           },
           "name": "6",
           "notched": false,
           "offsetgroup": "6",
           "orientation": "v",
           "showlegend": true,
           "type": "box",
           "x": [
            6,
            6
           ],
           "x0": " ",
           "xaxis": "x",
           "y": [
            7.21,
            12.31
           ],
           "y0": " ",
           "yaxis": "y"
          },
          {
           "alignmentgroup": "True",
           "hovertemplate": "Region=%{x}<br> Date= 31-10-2019<br> Estimated Unemployment Rate (%)=%{y}<extra></extra>",
           "legendgroup": "7",
           "marker": {
            "color": "#FF6692"
           },
           "name": "7",
           "notched": false,
           "offsetgroup": "7",
           "orientation": "v",
           "showlegend": true,
           "type": "box",
           "x": [
            7,
            7
           ],
           "x0": " ",
           "xaxis": "x",
           "y": [
            4.91,
            5.45
           ],
           "y0": " ",
           "yaxis": "y"
          },
          {
           "alignmentgroup": "True",
           "hovertemplate": "Region=%{x}<br> Date= 31-10-2019<br> Estimated Unemployment Rate (%)=%{y}<extra></extra>",
           "legendgroup": "8",
           "marker": {
            "color": "#B6E880"
           },
           "name": "8",
           "notched": false,
           "offsetgroup": "8",
           "orientation": "v",
           "showlegend": true,
           "type": "box",
           "x": [
            8,
            8
           ],
           "x0": " ",
           "xaxis": "x",
           "y": [
            24.17,
            21.04
           ],
           "y0": " ",
           "yaxis": "y"
          },
          {
           "alignmentgroup": "True",
           "hovertemplate": "Region=%{x}<br> Date= 31-10-2019<br> Estimated Unemployment Rate (%)=%{y}<extra></extra>",
           "legendgroup": "9",
           "marker": {
            "color": "#FF97FF"
           },
           "name": "9",
           "notched": false,
           "offsetgroup": "9",
           "orientation": "v",
           "showlegend": true,
           "type": "box",
           "x": [
            9,
            9
           ],
           "x0": " ",
           "xaxis": "x",
           "y": [
            15.81,
            23.77
           ],
           "y0": " ",
           "yaxis": "y"
          },
          {
           "alignmentgroup": "True",
           "hovertemplate": "Region=%{x}<br> Date= 31-10-2019<br> Estimated Unemployment Rate (%)=%{y}<extra></extra>",
           "legendgroup": "10",
           "marker": {
            "color": "#FECB52"
           },
           "name": "10",
           "notched": false,
           "offsetgroup": "10",
           "orientation": "v",
           "showlegend": true,
           "type": "box",
           "x": [
            10,
            10
           ],
           "x0": " ",
           "xaxis": "x",
           "y": [
            19.27,
            24.06
           ],
           "y0": " ",
           "yaxis": "y"
          },
          {
           "alignmentgroup": "True",
           "hovertemplate": "Region=%{x}<br> Date= 31-10-2019<br> Estimated Unemployment Rate (%)=%{y}<extra></extra>",
           "legendgroup": "11",
           "marker": {
            "color": "#636efa"
           },
           "name": "11",
           "notched": false,
           "offsetgroup": "11",
           "orientation": "v",
           "showlegend": true,
           "type": "box",
           "x": [
            11,
            11
           ],
           "x0": " ",
           "xaxis": "x",
           "y": [
            6.57,
            19.05
           ],
           "y0": " ",
           "yaxis": "y"
          },
          {
           "alignmentgroup": "True",
           "hovertemplate": "Region=%{x}<br> Date= 31-10-2019<br> Estimated Unemployment Rate (%)=%{y}<extra></extra>",
           "legendgroup": "12",
           "marker": {
            "color": "#EF553B"
           },
           "name": "12",
           "notched": false,
           "offsetgroup": "12",
           "orientation": "v",
           "showlegend": true,
           "type": "box",
           "x": [
            12,
            12
           ],
           "x0": " ",
           "xaxis": "x",
           "y": [
            7.13,
            3.87
           ],
           "y0": " ",
           "yaxis": "y"
          },
          {
           "alignmentgroup": "True",
           "hovertemplate": "Region=%{x}<br> Date= 31-10-2019<br> Estimated Unemployment Rate (%)=%{y}<extra></extra>",
           "legendgroup": "13",
           "marker": {
            "color": "#00cc96"
           },
           "name": "13",
           "notched": false,
           "offsetgroup": "13",
           "orientation": "v",
           "showlegend": true,
           "type": "box",
           "x": [
            13,
            13
           ],
           "x0": " ",
           "xaxis": "x",
           "y": [
            9.14,
            5.35
           ],
           "y0": " ",
           "yaxis": "y"
          },
          {
           "alignmentgroup": "True",
           "hovertemplate": "Region=%{x}<br> Date= 31-10-2019<br> Estimated Unemployment Rate (%)=%{y}<extra></extra>",
           "legendgroup": "14",
           "marker": {
            "color": "#ab63fa"
           },
           "name": "14",
           "notched": false,
           "offsetgroup": "14",
           "orientation": "v",
           "showlegend": true,
           "type": "box",
           "x": [
            14,
            14
           ],
           "x0": " ",
           "xaxis": "x",
           "y": [
            2.98,
            4.4
           ],
           "y0": " ",
           "yaxis": "y"
          },
          {
           "alignmentgroup": "True",
           "hovertemplate": "Region=%{x}<br> Date= 31-10-2019<br> Estimated Unemployment Rate (%)=%{y}<extra></extra>",
           "legendgroup": "15",
           "marker": {
            "color": "#FFA15A"
           },
           "name": "15",
           "notched": false,
           "offsetgroup": "15",
           "orientation": "v",
           "showlegend": true,
           "type": "box",
           "x": [
            15,
            15
           ],
           "x0": " ",
           "xaxis": "x",
           "y": [
            3.81,
            7.51
           ],
           "y0": " ",
           "yaxis": "y"
          },
          {
           "alignmentgroup": "True",
           "hovertemplate": "Region=%{x}<br> Date= 31-10-2019<br> Estimated Unemployment Rate (%)=%{y}<extra></extra>",
           "legendgroup": "16",
           "marker": {
            "color": "#19d3f3"
           },
           "name": "16",
           "notched": false,
           "offsetgroup": "16",
           "orientation": "v",
           "showlegend": true,
           "type": "box",
           "x": [
            16,
            16
           ],
           "x0": " ",
           "xaxis": "x",
           "y": [
            3.7,
            7.2
           ],
           "y0": " ",
           "yaxis": "y"
          },
          {
           "alignmentgroup": "True",
           "hovertemplate": "Region=%{x}<br> Date= 31-10-2019<br> Estimated Unemployment Rate (%)=%{y}<extra></extra>",
           "legendgroup": "17",
           "marker": {
            "color": "#FF6692"
           },
           "name": "17",
           "notched": false,
           "offsetgroup": "17",
           "orientation": "v",
           "showlegend": true,
           "type": "box",
           "x": [
            17,
            17
           ],
           "x0": " ",
           "xaxis": "x",
           "y": [
            4.28,
            4.5
           ],
           "y0": " ",
           "yaxis": "y"
          },
          {
           "alignmentgroup": "True",
           "hovertemplate": "Region=%{x}<br> Date= 31-10-2019<br> Estimated Unemployment Rate (%)=%{y}<extra></extra>",
           "legendgroup": "18",
           "marker": {
            "color": "#B6E880"
           },
           "name": "18",
           "notched": false,
           "offsetgroup": "18",
           "orientation": "v",
           "showlegend": true,
           "type": "box",
           "x": [
            18,
            18
           ],
           "x0": " ",
           "xaxis": "x",
           "y": [
            1.18,
            1.17
           ],
           "y0": " ",
           "yaxis": "y"
          },
          {
           "alignmentgroup": "True",
           "hovertemplate": "Region=%{x}<br> Date= 31-10-2019<br> Estimated Unemployment Rate (%)=%{y}<extra></extra>",
           "legendgroup": "19",
           "marker": {
            "color": "#FF97FF"
           },
           "name": "19",
           "notched": false,
           "offsetgroup": "19",
           "orientation": "v",
           "showlegend": true,
           "type": "box",
           "x": [
            19,
            19
           ],
           "x0": " ",
           "xaxis": "x",
           "y": [
            12.56,
            13.75
           ],
           "y0": " ",
           "yaxis": "y"
          },
          {
           "alignmentgroup": "True",
           "hovertemplate": "Region=%{x}<br> Date= 31-10-2019<br> Estimated Unemployment Rate (%)=%{y}<extra></extra>",
           "legendgroup": "20",
           "marker": {
            "color": "#FECB52"
           },
           "name": "20",
           "notched": false,
           "offsetgroup": "20",
           "orientation": "v",
           "showlegend": true,
           "type": "box",
           "x": [
            20,
            20
           ],
           "x0": " ",
           "xaxis": "x",
           "y": [
            14.66,
            13.02
           ],
           "y0": " ",
           "yaxis": "y"
          },
          {
           "alignmentgroup": "True",
           "hovertemplate": "Region=%{x}<br> Date= 31-10-2019<br> Estimated Unemployment Rate (%)=%{y}<extra></extra>",
           "legendgroup": "21",
           "marker": {
            "color": "#636efa"
           },
           "name": "21",
           "notched": false,
           "offsetgroup": "21",
           "orientation": "v",
           "showlegend": true,
           "type": "box",
           "x": [
            21,
            21
           ],
           "x0": " ",
           "xaxis": "x",
           "y": [
            5.48,
            9.68
           ],
           "y0": " ",
           "yaxis": "y"
          },
          {
           "alignmentgroup": "True",
           "hovertemplate": "Region=%{x}<br> Date= 31-10-2019<br> Estimated Unemployment Rate (%)=%{y}<extra></extra>",
           "legendgroup": "22",
           "marker": {
            "color": "#EF553B"
           },
           "name": "22",
           "notched": false,
           "offsetgroup": "22",
           "orientation": "v",
           "showlegend": true,
           "type": "box",
           "x": [
            22,
            22
           ],
           "x0": " ",
           "xaxis": "x",
           "y": [
            1.46,
            1.13
           ],
           "y0": " ",
           "yaxis": "y"
          },
          {
           "alignmentgroup": "True",
           "hovertemplate": "Region=%{x}<br> Date= 31-10-2019<br> Estimated Unemployment Rate (%)=%{y}<extra></extra>",
           "legendgroup": "23",
           "marker": {
            "color": "#00cc96"
           },
           "name": "23",
           "notched": false,
           "offsetgroup": "23",
           "orientation": "v",
           "showlegend": true,
           "type": "box",
           "x": [
            23,
            23
           ],
           "x0": " ",
           "xaxis": "x",
           "y": [
            7.29,
            6.74
           ],
           "y0": " ",
           "yaxis": "y"
          },
          {
           "alignmentgroup": "True",
           "hovertemplate": "Region=%{x}<br> Date= 31-10-2019<br> Estimated Unemployment Rate (%)=%{y}<extra></extra>",
           "legendgroup": "24",
           "marker": {
            "color": "#ab63fa"
           },
           "name": "24",
           "notched": false,
           "offsetgroup": "24",
           "orientation": "v",
           "showlegend": true,
           "type": "box",
           "x": [
            24,
            24
           ],
           "x0": " ",
           "xaxis": "x",
           "y": [
            27.54,
            26.67
           ],
           "y0": " ",
           "yaxis": "y"
          },
          {
           "alignmentgroup": "True",
           "hovertemplate": "Region=%{x}<br> Date= 31-10-2019<br> Estimated Unemployment Rate (%)=%{y}<extra></extra>",
           "legendgroup": "25",
           "marker": {
            "color": "#FFA15A"
           },
           "name": "25",
           "notched": false,
           "offsetgroup": "25",
           "orientation": "v",
           "showlegend": true,
           "type": "box",
           "x": [
            25,
            25
           ],
           "x0": " ",
           "xaxis": "x",
           "y": [
            10.18,
            10.35
           ],
           "y0": " ",
           "yaxis": "y"
          },
          {
           "alignmentgroup": "True",
           "hovertemplate": "Region=%{x}<br> Date= 31-10-2019<br> Estimated Unemployment Rate (%)=%{y}<extra></extra>",
           "legendgroup": "26",
           "marker": {
            "color": "#19d3f3"
           },
           "name": "26",
           "notched": false,
           "offsetgroup": "26",
           "orientation": "v",
           "showlegend": true,
           "type": "box",
           "x": [
            26,
            26
           ],
           "x0": " ",
           "xaxis": "x",
           "y": [
            4.83,
            4.72
           ],
           "y0": " ",
           "yaxis": "y"
          },
          {
           "alignmentgroup": "True",
           "hovertemplate": "Region=%{x}<br> Date= 31-10-2019<br> Estimated Unemployment Rate (%)=%{y}<extra></extra>",
           "legendgroup": "27",
           "marker": {
            "color": "#FF6692"
           },
           "name": "27",
           "notched": false,
           "offsetgroup": "27",
           "orientation": "v",
           "showlegend": true,
           "type": "box",
           "x": [
            27,
            27
           ],
           "x0": " ",
           "xaxis": "x",
           "y": [
            6.78,
            7.83
           ],
           "y0": " ",
           "yaxis": "y"
          },
          {
           "alignmentgroup": "True",
           "hovertemplate": "Region=%{x}<br> Date= 31-10-2019<br> Estimated Unemployment Rate (%)=%{y}<extra></extra>",
           "legendgroup": "3",
           "marker": {
            "color": "#FF97FF"
           },
           "name": "3",
           "notched": false,
           "offsetgroup": "3",
           "orientation": "v",
           "showlegend": true,
           "type": "box",
           "x": [
            3
           ],
           "x0": " ",
           "xaxis": "x",
           "y": [
            13.99
           ],
           "y0": " ",
           "yaxis": "y"
          }
         ],
         "name": " 31-10-2019"
        },
        {
         "data": [
          {
           "alignmentgroup": "True",
           "hovertemplate": "Region=%{x}<br> Date= 30-11-2019<br> Estimated Unemployment Rate (%)=%{y}<extra></extra>",
           "legendgroup": "0",
           "marker": {
            "color": "#636efa"
           },
           "name": "0",
           "notched": false,
           "offsetgroup": "0",
           "orientation": "v",
           "showlegend": true,
           "type": "box",
           "x": [
            0,
            0
           ],
           "x0": " ",
           "xaxis": "x",
           "y": [
            4.12,
            7.54
           ],
           "y0": " ",
           "yaxis": "y"
          },
          {
           "alignmentgroup": "True",
           "hovertemplate": "Region=%{x}<br> Date= 30-11-2019<br> Estimated Unemployment Rate (%)=%{y}<extra></extra>",
           "legendgroup": "1",
           "marker": {
            "color": "#EF553B"
           },
           "name": "1",
           "notched": false,
           "offsetgroup": "1",
           "orientation": "v",
           "showlegend": true,
           "type": "box",
           "x": [
            1,
            1
           ],
           "x0": " ",
           "xaxis": "x",
           "y": [
            4.66,
            6.31
           ],
           "y0": " ",
           "yaxis": "y"
          },
          {
           "alignmentgroup": "True",
           "hovertemplate": "Region=%{x}<br> Date= 30-11-2019<br> Estimated Unemployment Rate (%)=%{y}<extra></extra>",
           "legendgroup": "2",
           "marker": {
            "color": "#00cc96"
           },
           "name": "2",
           "notched": false,
           "offsetgroup": "2",
           "orientation": "v",
           "showlegend": true,
           "type": "box",
           "x": [
            2,
            2
           ],
           "x0": " ",
           "xaxis": "x",
           "y": [
            12.4,
            17.62
           ],
           "y0": " ",
           "yaxis": "y"
          },
          {
           "alignmentgroup": "True",
           "hovertemplate": "Region=%{x}<br> Date= 30-11-2019<br> Estimated Unemployment Rate (%)=%{y}<extra></extra>",
           "legendgroup": "4",
           "marker": {
            "color": "#ab63fa"
           },
           "name": "4",
           "notched": false,
           "offsetgroup": "4",
           "orientation": "v",
           "showlegend": true,
           "type": "box",
           "x": [
            4,
            4
           ],
           "x0": " ",
           "xaxis": "x",
           "y": [
            2.77,
            8.32
           ],
           "y0": " ",
           "yaxis": "y"
          },
          {
           "alignmentgroup": "True",
           "hovertemplate": "Region=%{x}<br> Date= 30-11-2019<br> Estimated Unemployment Rate (%)=%{y}<extra></extra>",
           "legendgroup": "5",
           "marker": {
            "color": "#FFA15A"
           },
           "name": "5",
           "notched": false,
           "offsetgroup": "5",
           "orientation": "v",
           "showlegend": true,
           "type": "box",
           "x": [
            5,
            5
           ],
           "x0": " ",
           "xaxis": "x",
           "y": [
            11.11,
            16.11
           ],
           "y0": " ",
           "yaxis": "y"
          },
          {
           "alignmentgroup": "True",
           "hovertemplate": "Region=%{x}<br> Date= 30-11-2019<br> Estimated Unemployment Rate (%)=%{y}<extra></extra>",
           "legendgroup": "6",
           "marker": {
            "color": "#19d3f3"
           },
           "name": "6",
           "notched": false,
           "offsetgroup": "6",
           "orientation": "v",
           "showlegend": true,
           "type": "box",
           "x": [
            6,
            6
           ],
           "x0": " ",
           "xaxis": "x",
           "y": [
            23.71,
            25.2
           ],
           "y0": " ",
           "yaxis": "y"
          },
          {
           "alignmentgroup": "True",
           "hovertemplate": "Region=%{x}<br> Date= 30-11-2019<br> Estimated Unemployment Rate (%)=%{y}<extra></extra>",
           "legendgroup": "7",
           "marker": {
            "color": "#FF6692"
           },
           "name": "7",
           "notched": false,
           "offsetgroup": "7",
           "orientation": "v",
           "showlegend": true,
           "type": "box",
           "x": [
            7,
            7
           ],
           "x0": " ",
           "xaxis": "x",
           "y": [
            4.68,
            7.53
           ],
           "y0": " ",
           "yaxis": "y"
          },
          {
           "alignmentgroup": "True",
           "hovertemplate": "Region=%{x}<br> Date= 30-11-2019<br> Estimated Unemployment Rate (%)=%{y}<extra></extra>",
           "legendgroup": "8",
           "marker": {
            "color": "#B6E880"
           },
           "name": "8",
           "notched": false,
           "offsetgroup": "8",
           "orientation": "v",
           "showlegend": true,
           "type": "box",
           "x": [
            8,
            8
           ],
           "x0": " ",
           "xaxis": "x",
           "y": [
            16.59,
            27.06
           ],
           "y0": " ",
           "yaxis": "y"
          },
          {
           "alignmentgroup": "True",
           "hovertemplate": "Region=%{x}<br> Date= 30-11-2019<br> Estimated Unemployment Rate (%)=%{y}<extra></extra>",
           "legendgroup": "9",
           "marker": {
            "color": "#FF97FF"
           },
           "name": "9",
           "notched": false,
           "offsetgroup": "9",
           "orientation": "v",
           "showlegend": true,
           "type": "box",
           "x": [
            9,
            9
           ],
           "x0": " ",
           "xaxis": "x",
           "y": [
            22.86,
            27.27
           ],
           "y0": " ",
           "yaxis": "y"
          },
          {
           "alignmentgroup": "True",
           "hovertemplate": "Region=%{x}<br> Date= 30-11-2019<br> Estimated Unemployment Rate (%)=%{y}<extra></extra>",
           "legendgroup": "10",
           "marker": {
            "color": "#FECB52"
           },
           "name": "10",
           "notched": false,
           "offsetgroup": "10",
           "orientation": "v",
           "showlegend": true,
           "type": "box",
           "x": [
            10,
            10
           ],
           "x0": " ",
           "xaxis": "x",
           "y": [
            14.73,
            14.29
           ],
           "y0": " ",
           "yaxis": "y"
          },
          {
           "alignmentgroup": "True",
           "hovertemplate": "Region=%{x}<br> Date= 30-11-2019<br> Estimated Unemployment Rate (%)=%{y}<extra></extra>",
           "legendgroup": "11",
           "marker": {
            "color": "#636efa"
           },
           "name": "11",
           "notched": false,
           "offsetgroup": "11",
           "orientation": "v",
           "showlegend": true,
           "type": "box",
           "x": [
            11,
            11
           ],
           "x0": " ",
           "xaxis": "x",
           "y": [
            8.07,
            17.34
           ],
           "y0": " ",
           "yaxis": "y"
          },
          {
           "alignmentgroup": "True",
           "hovertemplate": "Region=%{x}<br> Date= 30-11-2019<br> Estimated Unemployment Rate (%)=%{y}<extra></extra>",
           "legendgroup": "12",
           "marker": {
            "color": "#EF553B"
           },
           "name": "12",
           "notched": false,
           "offsetgroup": "12",
           "orientation": "v",
           "showlegend": true,
           "type": "box",
           "x": [
            12,
            12
           ],
           "x0": " ",
           "xaxis": "x",
           "y": [
            1.19,
            3.44
           ],
           "y0": " ",
           "yaxis": "y"
          },
          {
           "alignmentgroup": "True",
           "hovertemplate": "Region=%{x}<br> Date= 30-11-2019<br> Estimated Unemployment Rate (%)=%{y}<extra></extra>",
           "legendgroup": "13",
           "marker": {
            "color": "#00cc96"
           },
           "name": "13",
           "notched": false,
           "offsetgroup": "13",
           "orientation": "v",
           "showlegend": true,
           "type": "box",
           "x": [
            13,
            13
           ],
           "x0": " ",
           "xaxis": "x",
           "y": [
            5,
            6.71
           ],
           "y0": " ",
           "yaxis": "y"
          },
          {
           "alignmentgroup": "True",
           "hovertemplate": "Region=%{x}<br> Date= 30-11-2019<br> Estimated Unemployment Rate (%)=%{y}<extra></extra>",
           "legendgroup": "14",
           "marker": {
            "color": "#ab63fa"
           },
           "name": "14",
           "notched": false,
           "offsetgroup": "14",
           "orientation": "v",
           "showlegend": true,
           "type": "box",
           "x": [
            14,
            14
           ],
           "x0": " ",
           "xaxis": "x",
           "y": [
            2.72,
            6.06
           ],
           "y0": " ",
           "yaxis": "y"
          },
          {
           "alignmentgroup": "True",
           "hovertemplate": "Region=%{x}<br> Date= 30-11-2019<br> Estimated Unemployment Rate (%)=%{y}<extra></extra>",
           "legendgroup": "15",
           "marker": {
            "color": "#FFA15A"
           },
           "name": "15",
           "notched": false,
           "offsetgroup": "15",
           "orientation": "v",
           "showlegend": true,
           "type": "box",
           "x": [
            15,
            15
           ],
           "x0": " ",
           "xaxis": "x",
           "y": [
            3.68,
            7.6
           ],
           "y0": " ",
           "yaxis": "y"
          },
          {
           "alignmentgroup": "True",
           "hovertemplate": "Region=%{x}<br> Date= 30-11-2019<br> Estimated Unemployment Rate (%)=%{y}<extra></extra>",
           "legendgroup": "16",
           "marker": {
            "color": "#19d3f3"
           },
           "name": "16",
           "notched": false,
           "offsetgroup": "16",
           "orientation": "v",
           "showlegend": true,
           "type": "box",
           "x": [
            16,
            16
           ],
           "x0": " ",
           "xaxis": "x",
           "y": [
            1.5,
            3.02
           ],
           "y0": " ",
           "yaxis": "y"
          },
          {
           "alignmentgroup": "True",
           "hovertemplate": "Region=%{x}<br> Date= 30-11-2019<br> Estimated Unemployment Rate (%)=%{y}<extra></extra>",
           "legendgroup": "17",
           "marker": {
            "color": "#FF6692"
           },
           "name": "17",
           "notched": false,
           "offsetgroup": "17",
           "orientation": "v",
           "showlegend": true,
           "type": "box",
           "x": [
            17,
            17
           ],
           "x0": " ",
           "xaxis": "x",
           "y": [
            4.72,
            2.23
           ],
           "y0": " ",
           "yaxis": "y"
          },
          {
           "alignmentgroup": "True",
           "hovertemplate": "Region=%{x}<br> Date= 30-11-2019<br> Estimated Unemployment Rate (%)=%{y}<extra></extra>",
           "legendgroup": "18",
           "marker": {
            "color": "#B6E880"
           },
           "name": "18",
           "notched": false,
           "offsetgroup": "18",
           "orientation": "v",
           "showlegend": true,
           "type": "box",
           "x": [
            18,
            18
           ],
           "x0": " ",
           "xaxis": "x",
           "y": [
            0,
            1.37
           ],
           "y0": " ",
           "yaxis": "y"
          },
          {
           "alignmentgroup": "True",
           "hovertemplate": "Region=%{x}<br> Date= 30-11-2019<br> Estimated Unemployment Rate (%)=%{y}<extra></extra>",
           "legendgroup": "19",
           "marker": {
            "color": "#FF97FF"
           },
           "name": "19",
           "notched": false,
           "offsetgroup": "19",
           "orientation": "v",
           "showlegend": true,
           "type": "box",
           "x": [
            19,
            19
           ],
           "x0": " ",
           "xaxis": "x",
           "y": [
            7.07,
            10.39
           ],
           "y0": " ",
           "yaxis": "y"
          },
          {
           "alignmentgroup": "True",
           "hovertemplate": "Region=%{x}<br> Date= 30-11-2019<br> Estimated Unemployment Rate (%)=%{y}<extra></extra>",
           "legendgroup": "20",
           "marker": {
            "color": "#FECB52"
           },
           "name": "20",
           "notched": false,
           "offsetgroup": "20",
           "orientation": "v",
           "showlegend": true,
           "type": "box",
           "x": [
            20,
            20
           ],
           "x0": " ",
           "xaxis": "x",
           "y": [
            10.47,
            14.3
           ],
           "y0": " ",
           "yaxis": "y"
          },
          {
           "alignmentgroup": "True",
           "hovertemplate": "Region=%{x}<br> Date= 30-11-2019<br> Estimated Unemployment Rate (%)=%{y}<extra></extra>",
           "legendgroup": "21",
           "marker": {
            "color": "#636efa"
           },
           "name": "21",
           "notched": false,
           "offsetgroup": "21",
           "orientation": "v",
           "showlegend": true,
           "type": "box",
           "x": [
            21,
            21
           ],
           "x0": " ",
           "xaxis": "x",
           "y": [
            13.11,
            4.04
           ],
           "y0": " ",
           "yaxis": "y"
          },
          {
           "alignmentgroup": "True",
           "hovertemplate": "Region=%{x}<br> Date= 30-11-2019<br> Estimated Unemployment Rate (%)=%{y}<extra></extra>",
           "legendgroup": "22",
           "marker": {
            "color": "#EF553B"
           },
           "name": "22",
           "notched": false,
           "offsetgroup": "22",
           "orientation": "v",
           "showlegend": true,
           "type": "box",
           "x": [
            22,
            22
           ],
           "x0": " ",
           "xaxis": "x",
           "y": [
            2.46,
            2.65
           ],
           "y0": " ",
           "yaxis": "y"
          },
          {
           "alignmentgroup": "True",
           "hovertemplate": "Region=%{x}<br> Date= 30-11-2019<br> Estimated Unemployment Rate (%)=%{y}<extra></extra>",
           "legendgroup": "23",
           "marker": {
            "color": "#00cc96"
           },
           "name": "23",
           "notched": false,
           "offsetgroup": "23",
           "orientation": "v",
           "showlegend": true,
           "type": "box",
           "x": [
            23,
            23
           ],
           "x0": " ",
           "xaxis": "x",
           "y": [
            6.47,
            5.23
           ],
           "y0": " ",
           "yaxis": "y"
          },
          {
           "alignmentgroup": "True",
           "hovertemplate": "Region=%{x}<br> Date= 30-11-2019<br> Estimated Unemployment Rate (%)=%{y}<extra></extra>",
           "legendgroup": "24",
           "marker": {
            "color": "#ab63fa"
           },
           "name": "24",
           "notched": false,
           "offsetgroup": "24",
           "orientation": "v",
           "showlegend": true,
           "type": "box",
           "x": [
            24,
            24
           ],
           "x0": " ",
           "xaxis": "x",
           "y": [
            25.25,
            27.15
           ],
           "y0": " ",
           "yaxis": "y"
          },
          {
           "alignmentgroup": "True",
           "hovertemplate": "Region=%{x}<br> Date= 30-11-2019<br> Estimated Unemployment Rate (%)=%{y}<extra></extra>",
           "legendgroup": "25",
           "marker": {
            "color": "#FFA15A"
           },
           "name": "25",
           "notched": false,
           "offsetgroup": "25",
           "orientation": "v",
           "showlegend": true,
           "type": "box",
           "x": [
            25,
            25
           ],
           "x0": " ",
           "xaxis": "x",
           "y": [
            6.94,
            11.31
           ],
           "y0": " ",
           "yaxis": "y"
          },
          {
           "alignmentgroup": "True",
           "hovertemplate": "Region=%{x}<br> Date= 30-11-2019<br> Estimated Unemployment Rate (%)=%{y}<extra></extra>",
           "legendgroup": "26",
           "marker": {
            "color": "#19d3f3"
           },
           "name": "26",
           "notched": false,
           "offsetgroup": "26",
           "orientation": "v",
           "showlegend": true,
           "type": "box",
           "x": [
            26,
            26
           ],
           "x0": " ",
           "xaxis": "x",
           "y": [
            5.56,
            6.34
           ],
           "y0": " ",
           "yaxis": "y"
          },
          {
           "alignmentgroup": "True",
           "hovertemplate": "Region=%{x}<br> Date= 30-11-2019<br> Estimated Unemployment Rate (%)=%{y}<extra></extra>",
           "legendgroup": "27",
           "marker": {
            "color": "#FF6692"
           },
           "name": "27",
           "notched": false,
           "offsetgroup": "27",
           "orientation": "v",
           "showlegend": true,
           "type": "box",
           "x": [
            27,
            27
           ],
           "x0": " ",
           "xaxis": "x",
           "y": [
            5.83,
            6.61
           ],
           "y0": " ",
           "yaxis": "y"
          },
          {
           "alignmentgroup": "True",
           "hovertemplate": "Region=%{x}<br> Date= 30-11-2019<br> Estimated Unemployment Rate (%)=%{y}<extra></extra>",
           "legendgroup": "3",
           "marker": {
            "color": "#FF97FF"
           },
           "name": "3",
           "notched": false,
           "offsetgroup": "3",
           "orientation": "v",
           "showlegend": true,
           "type": "box",
           "x": [
            3
           ],
           "x0": " ",
           "xaxis": "x",
           "y": [
            22.05
           ],
           "y0": " ",
           "yaxis": "y"
          }
         ],
         "name": " 30-11-2019"
        },
        {
         "data": [
          {
           "alignmentgroup": "True",
           "hovertemplate": "Region=%{x}<br> Date= 31-12-2019<br> Estimated Unemployment Rate (%)=%{y}<extra></extra>",
           "legendgroup": "0",
           "marker": {
            "color": "#636efa"
           },
           "name": "0",
           "notched": false,
           "offsetgroup": "0",
           "orientation": "v",
           "showlegend": true,
           "type": "box",
           "x": [
            0,
            0
           ],
           "x0": " ",
           "xaxis": "x",
           "y": [
            4.38,
            7.88
           ],
           "y0": " ",
           "yaxis": "y"
          },
          {
           "alignmentgroup": "True",
           "hovertemplate": "Region=%{x}<br> Date= 31-12-2019<br> Estimated Unemployment Rate (%)=%{y}<extra></extra>",
           "legendgroup": "1",
           "marker": {
            "color": "#EF553B"
           },
           "name": "1",
           "notched": false,
           "offsetgroup": "1",
           "orientation": "v",
           "showlegend": true,
           "type": "box",
           "x": [
            1
           ],
           "x0": " ",
           "xaxis": "x",
           "y": [
            5.02
           ],
           "y0": " ",
           "yaxis": "y"
          },
          {
           "alignmentgroup": "True",
           "hovertemplate": "Region=%{x}<br> Date= 31-12-2019<br> Estimated Unemployment Rate (%)=%{y}<extra></extra>",
           "legendgroup": "2",
           "marker": {
            "color": "#00cc96"
           },
           "name": "2",
           "notched": false,
           "offsetgroup": "2",
           "orientation": "v",
           "showlegend": true,
           "type": "box",
           "x": [
            2,
            2
           ],
           "x0": " ",
           "xaxis": "x",
           "y": [
            10.16,
            14.91
           ],
           "y0": " ",
           "yaxis": "y"
          },
          {
           "alignmentgroup": "True",
           "hovertemplate": "Region=%{x}<br> Date= 31-12-2019<br> Estimated Unemployment Rate (%)=%{y}<extra></extra>",
           "legendgroup": "4",
           "marker": {
            "color": "#ab63fa"
           },
           "name": "4",
           "notched": false,
           "offsetgroup": "4",
           "orientation": "v",
           "showlegend": true,
           "type": "box",
           "x": [
            4,
            4
           ],
           "x0": " ",
           "xaxis": "x",
           "y": [
            6.11,
            3.57
           ],
           "y0": " ",
           "yaxis": "y"
          },
          {
           "alignmentgroup": "True",
           "hovertemplate": "Region=%{x}<br> Date= 31-12-2019<br> Estimated Unemployment Rate (%)=%{y}<extra></extra>",
           "legendgroup": "5",
           "marker": {
            "color": "#FFA15A"
           },
           "name": "5",
           "notched": false,
           "offsetgroup": "5",
           "orientation": "v",
           "showlegend": true,
           "type": "box",
           "x": [
            5,
            5
           ],
           "x0": " ",
           "xaxis": "x",
           "y": [
            16.97,
            11.07
           ],
           "y0": " ",
           "yaxis": "y"
          },
          {
           "alignmentgroup": "True",
           "hovertemplate": "Region=%{x}<br> Date= 31-12-2019<br> Estimated Unemployment Rate (%)=%{y}<extra></extra>",
           "legendgroup": "6",
           "marker": {
            "color": "#19d3f3"
           },
           "name": "6",
           "notched": false,
           "offsetgroup": "6",
           "orientation": "v",
           "showlegend": true,
           "type": "box",
           "x": [
            6,
            6
           ],
           "x0": " ",
           "xaxis": "x",
           "y": [
            3.54,
            16.22
           ],
           "y0": " ",
           "yaxis": "y"
          },
          {
           "alignmentgroup": "True",
           "hovertemplate": "Region=%{x}<br> Date= 31-12-2019<br> Estimated Unemployment Rate (%)=%{y}<extra></extra>",
           "legendgroup": "7",
           "marker": {
            "color": "#FF6692"
           },
           "name": "7",
           "notched": false,
           "offsetgroup": "7",
           "orientation": "v",
           "showlegend": true,
           "type": "box",
           "x": [
            7,
            7
           ],
           "x0": " ",
           "xaxis": "x",
           "y": [
            3.46,
            5.71
           ],
           "y0": " ",
           "yaxis": "y"
          },
          {
           "alignmentgroup": "True",
           "hovertemplate": "Region=%{x}<br> Date= 31-12-2019<br> Estimated Unemployment Rate (%)=%{y}<extra></extra>",
           "legendgroup": "8",
           "marker": {
            "color": "#B6E880"
           },
           "name": "8",
           "notched": false,
           "offsetgroup": "8",
           "orientation": "v",
           "showlegend": true,
           "type": "box",
           "x": [
            8,
            8
           ],
           "x0": " ",
           "xaxis": "x",
           "y": [
            29.56,
            23.65
           ],
           "y0": " ",
           "yaxis": "y"
          },
          {
           "alignmentgroup": "True",
           "hovertemplate": "Region=%{x}<br> Date= 31-12-2019<br> Estimated Unemployment Rate (%)=%{y}<extra></extra>",
           "legendgroup": "9",
           "marker": {
            "color": "#FF97FF"
           },
           "name": "9",
           "notched": false,
           "offsetgroup": "9",
           "orientation": "v",
           "showlegend": true,
           "type": "box",
           "x": [
            9,
            9
           ],
           "x0": " ",
           "xaxis": "x",
           "y": [
            19.46,
            25.32
           ],
           "y0": " ",
           "yaxis": "y"
          },
          {
           "alignmentgroup": "True",
           "hovertemplate": "Region=%{x}<br> Date= 31-12-2019<br> Estimated Unemployment Rate (%)=%{y}<extra></extra>",
           "legendgroup": "10",
           "marker": {
            "color": "#FECB52"
           },
           "name": "10",
           "notched": false,
           "offsetgroup": "10",
           "orientation": "v",
           "showlegend": true,
           "type": "box",
           "x": [
            10
           ],
           "x0": " ",
           "xaxis": "x",
           "y": [
            7.02
           ],
           "y0": " ",
           "yaxis": "y"
          },
          {
           "alignmentgroup": "True",
           "hovertemplate": "Region=%{x}<br> Date= 31-12-2019<br> Estimated Unemployment Rate (%)=%{y}<extra></extra>",
           "legendgroup": "11",
           "marker": {
            "color": "#636efa"
           },
           "name": "11",
           "notched": false,
           "offsetgroup": "11",
           "orientation": "v",
           "showlegend": true,
           "type": "box",
           "x": [
            11,
            11
           ],
           "x0": " ",
           "xaxis": "x",
           "y": [
            15.15,
            22.01
           ],
           "y0": " ",
           "yaxis": "y"
          },
          {
           "alignmentgroup": "True",
           "hovertemplate": "Region=%{x}<br> Date= 31-12-2019<br> Estimated Unemployment Rate (%)=%{y}<extra></extra>",
           "legendgroup": "12",
           "marker": {
            "color": "#EF553B"
           },
           "name": "12",
           "notched": false,
           "offsetgroup": "12",
           "orientation": "v",
           "showlegend": true,
           "type": "box",
           "x": [
            12,
            12
           ],
           "x0": " ",
           "xaxis": "x",
           "y": [
            0.41,
            1.56
           ],
           "y0": " ",
           "yaxis": "y"
          },
          {
           "alignmentgroup": "True",
           "hovertemplate": "Region=%{x}<br> Date= 31-12-2019<br> Estimated Unemployment Rate (%)=%{y}<extra></extra>",
           "legendgroup": "13",
           "marker": {
            "color": "#00cc96"
           },
           "name": "13",
           "notched": false,
           "offsetgroup": "13",
           "orientation": "v",
           "showlegend": true,
           "type": "box",
           "x": [
            13,
            13
           ],
           "x0": " ",
           "xaxis": "x",
           "y": [
            10.77,
            7.31
           ],
           "y0": " ",
           "yaxis": "y"
          },
          {
           "alignmentgroup": "True",
           "hovertemplate": "Region=%{x}<br> Date= 31-12-2019<br> Estimated Unemployment Rate (%)=%{y}<extra></extra>",
           "legendgroup": "14",
           "marker": {
            "color": "#ab63fa"
           },
           "name": "14",
           "notched": false,
           "offsetgroup": "14",
           "orientation": "v",
           "showlegend": true,
           "type": "box",
           "x": [
            14,
            14
           ],
           "x0": " ",
           "xaxis": "x",
           "y": [
            2.94,
            6.2
           ],
           "y0": " ",
           "yaxis": "y"
          },
          {
           "alignmentgroup": "True",
           "hovertemplate": "Region=%{x}<br> Date= 31-12-2019<br> Estimated Unemployment Rate (%)=%{y}<extra></extra>",
           "legendgroup": "15",
           "marker": {
            "color": "#FFA15A"
           },
           "name": "15",
           "notched": false,
           "offsetgroup": "15",
           "orientation": "v",
           "showlegend": true,
           "type": "box",
           "x": [
            15,
            15
           ],
           "x0": " ",
           "xaxis": "x",
           "y": [
            3.03,
            7.83
           ],
           "y0": " ",
           "yaxis": "y"
          },
          {
           "alignmentgroup": "True",
           "hovertemplate": "Region=%{x}<br> Date= 31-12-2019<br> Estimated Unemployment Rate (%)=%{y}<extra></extra>",
           "legendgroup": "16",
           "marker": {
            "color": "#19d3f3"
           },
           "name": "16",
           "notched": false,
           "offsetgroup": "16",
           "orientation": "v",
           "showlegend": true,
           "type": "box",
           "x": [
            16,
            16
           ],
           "x0": " ",
           "xaxis": "x",
           "y": [
            1.8,
            5.21
           ],
           "y0": " ",
           "yaxis": "y"
          },
          {
           "alignmentgroup": "True",
           "hovertemplate": "Region=%{x}<br> Date= 31-12-2019<br> Estimated Unemployment Rate (%)=%{y}<extra></extra>",
           "legendgroup": "17",
           "marker": {
            "color": "#FF6692"
           },
           "name": "17",
           "notched": false,
           "offsetgroup": "17",
           "orientation": "v",
           "showlegend": true,
           "type": "box",
           "x": [
            17,
            17
           ],
           "x0": " ",
           "xaxis": "x",
           "y": [
            4.67,
            3.36
           ],
           "y0": " ",
           "yaxis": "y"
          },
          {
           "alignmentgroup": "True",
           "hovertemplate": "Region=%{x}<br> Date= 31-12-2019<br> Estimated Unemployment Rate (%)=%{y}<extra></extra>",
           "legendgroup": "18",
           "marker": {
            "color": "#B6E880"
           },
           "name": "18",
           "notched": false,
           "offsetgroup": "18",
           "orientation": "v",
           "showlegend": true,
           "type": "box",
           "x": [
            18,
            18
           ],
           "x0": " ",
           "xaxis": "x",
           "y": [
            1.99,
            5.21
           ],
           "y0": " ",
           "yaxis": "y"
          },
          {
           "alignmentgroup": "True",
           "hovertemplate": "Region=%{x}<br> Date= 31-12-2019<br> Estimated Unemployment Rate (%)=%{y}<extra></extra>",
           "legendgroup": "19",
           "marker": {
            "color": "#FF97FF"
           },
           "name": "19",
           "notched": false,
           "offsetgroup": "19",
           "orientation": "v",
           "showlegend": true,
           "type": "box",
           "x": [
            19,
            19
           ],
           "x0": " ",
           "xaxis": "x",
           "y": [
            6.13,
            11.97
           ],
           "y0": " ",
           "yaxis": "y"
          },
          {
           "alignmentgroup": "True",
           "hovertemplate": "Region=%{x}<br> Date= 31-12-2019<br> Estimated Unemployment Rate (%)=%{y}<extra></extra>",
           "legendgroup": "20",
           "marker": {
            "color": "#FECB52"
           },
           "name": "20",
           "notched": false,
           "offsetgroup": "20",
           "orientation": "v",
           "showlegend": true,
           "type": "box",
           "x": [
            20,
            20
           ],
           "x0": " ",
           "xaxis": "x",
           "y": [
            13.96,
            18.04
           ],
           "y0": " ",
           "yaxis": "y"
          },
          {
           "alignmentgroup": "True",
           "hovertemplate": "Region=%{x}<br> Date= 31-12-2019<br> Estimated Unemployment Rate (%)=%{y}<extra></extra>",
           "legendgroup": "21",
           "marker": {
            "color": "#636efa"
           },
           "name": "21",
           "notched": false,
           "offsetgroup": "21",
           "orientation": "v",
           "showlegend": true,
           "type": "box",
           "x": [
            21,
            21
           ],
           "x0": " ",
           "xaxis": "x",
           "y": [
            1,
            7.37
           ],
           "y0": " ",
           "yaxis": "y"
          },
          {
           "alignmentgroup": "True",
           "hovertemplate": "Region=%{x}<br> Date= 31-12-2019<br> Estimated Unemployment Rate (%)=%{y}<extra></extra>",
           "legendgroup": "22",
           "marker": {
            "color": "#EF553B"
           },
           "name": "22",
           "notched": false,
           "offsetgroup": "22",
           "orientation": "v",
           "showlegend": true,
           "type": "box",
           "x": [
            22,
            22
           ],
           "x0": " ",
           "xaxis": "x",
           "y": [
            3.73,
            8.05
           ],
           "y0": " ",
           "yaxis": "y"
          },
          {
           "alignmentgroup": "True",
           "hovertemplate": "Region=%{x}<br> Date= 31-12-2019<br> Estimated Unemployment Rate (%)=%{y}<extra></extra>",
           "legendgroup": "23",
           "marker": {
            "color": "#00cc96"
           },
           "name": "23",
           "notched": false,
           "offsetgroup": "23",
           "orientation": "v",
           "showlegend": true,
           "type": "box",
           "x": [
            23,
            23
           ],
           "x0": " ",
           "xaxis": "x",
           "y": [
            1.35,
            4.22
           ],
           "y0": " ",
           "yaxis": "y"
          },
          {
           "alignmentgroup": "True",
           "hovertemplate": "Region=%{x}<br> Date= 31-12-2019<br> Estimated Unemployment Rate (%)=%{y}<extra></extra>",
           "legendgroup": "24",
           "marker": {
            "color": "#ab63fa"
           },
           "name": "24",
           "notched": false,
           "offsetgroup": "24",
           "orientation": "v",
           "showlegend": true,
           "type": "box",
           "x": [
            24,
            24
           ],
           "x0": " ",
           "xaxis": "x",
           "y": [
            26.53,
            33.48
           ],
           "y0": " ",
           "yaxis": "y"
          },
          {
           "alignmentgroup": "True",
           "hovertemplate": "Region=%{x}<br> Date= 31-12-2019<br> Estimated Unemployment Rate (%)=%{y}<extra></extra>",
           "legendgroup": "25",
           "marker": {
            "color": "#FFA15A"
           },
           "name": "25",
           "notched": false,
           "offsetgroup": "25",
           "orientation": "v",
           "showlegend": true,
           "type": "box",
           "x": [
            25,
            25
           ],
           "x0": " ",
           "xaxis": "x",
           "y": [
            8.43,
            12.37
           ],
           "y0": " ",
           "yaxis": "y"
          },
          {
           "alignmentgroup": "True",
           "hovertemplate": "Region=%{x}<br> Date= 31-12-2019<br> Estimated Unemployment Rate (%)=%{y}<extra></extra>",
           "legendgroup": "26",
           "marker": {
            "color": "#19d3f3"
           },
           "name": "26",
           "notched": false,
           "offsetgroup": "26",
           "orientation": "v",
           "showlegend": true,
           "type": "box",
           "x": [
            26,
            26
           ],
           "x0": " ",
           "xaxis": "x",
           "y": [
            4.52,
            7.39
           ],
           "y0": " ",
           "yaxis": "y"
          },
          {
           "alignmentgroup": "True",
           "hovertemplate": "Region=%{x}<br> Date= 31-12-2019<br> Estimated Unemployment Rate (%)=%{y}<extra></extra>",
           "legendgroup": "27",
           "marker": {
            "color": "#FF6692"
           },
           "name": "27",
           "notched": false,
           "offsetgroup": "27",
           "orientation": "v",
           "showlegend": true,
           "type": "box",
           "x": [
            27,
            27
           ],
           "x0": " ",
           "xaxis": "x",
           "y": [
            5.79,
            7.24
           ],
           "y0": " ",
           "yaxis": "y"
          },
          {
           "alignmentgroup": "True",
           "hovertemplate": "Region=%{x}<br> Date= 31-12-2019<br> Estimated Unemployment Rate (%)=%{y}<extra></extra>",
           "legendgroup": "3",
           "marker": {
            "color": "#FF97FF"
           },
           "name": "3",
           "notched": false,
           "offsetgroup": "3",
           "orientation": "v",
           "showlegend": true,
           "type": "box",
           "x": [
            3
           ],
           "x0": " ",
           "xaxis": "x",
           "y": [
            8.33
           ],
           "y0": " ",
           "yaxis": "y"
          }
         ],
         "name": " 31-12-2019"
        },
        {
         "data": [
          {
           "alignmentgroup": "True",
           "hovertemplate": "Region=%{x}<br> Date= 31-01-2020<br> Estimated Unemployment Rate (%)=%{y}<extra></extra>",
           "legendgroup": "0",
           "marker": {
            "color": "#636efa"
           },
           "name": "0",
           "notched": false,
           "offsetgroup": "0",
           "orientation": "v",
           "showlegend": true,
           "type": "box",
           "x": [
            0,
            0
           ],
           "x0": " ",
           "xaxis": "x",
           "y": [
            4.84,
            7.11
           ],
           "y0": " ",
           "yaxis": "y"
          },
          {
           "alignmentgroup": "True",
           "hovertemplate": "Region=%{x}<br> Date= 31-01-2020<br> Estimated Unemployment Rate (%)=%{y}<extra></extra>",
           "legendgroup": "1",
           "marker": {
            "color": "#EF553B"
           },
           "name": "1",
           "notched": false,
           "offsetgroup": "1",
           "orientation": "v",
           "showlegend": true,
           "type": "box",
           "x": [
            1,
            1
           ],
           "x0": " ",
           "xaxis": "x",
           "y": [
            4.29,
            7.24
           ],
           "y0": " ",
           "yaxis": "y"
          },
          {
           "alignmentgroup": "True",
           "hovertemplate": "Region=%{x}<br> Date= 31-01-2020<br> Estimated Unemployment Rate (%)=%{y}<extra></extra>",
           "legendgroup": "2",
           "marker": {
            "color": "#00cc96"
           },
           "name": "2",
           "notched": false,
           "offsetgroup": "2",
           "orientation": "v",
           "showlegend": true,
           "type": "box",
           "x": [
            2,
            2
           ],
           "x0": " ",
           "xaxis": "x",
           "y": [
            9.13,
            20.69
           ],
           "y0": " ",
           "yaxis": "y"
          },
          {
           "alignmentgroup": "True",
           "hovertemplate": "Region=%{x}<br> Date= 31-01-2020<br> Estimated Unemployment Rate (%)=%{y}<extra></extra>",
           "legendgroup": "4",
           "marker": {
            "color": "#ab63fa"
           },
           "name": "4",
           "notched": false,
           "offsetgroup": "4",
           "orientation": "v",
           "showlegend": true,
           "type": "box",
           "x": [
            4,
            4
           ],
           "x0": " ",
           "xaxis": "x",
           "y": [
            9.89,
            9.01
           ],
           "y0": " ",
           "yaxis": "y"
          },
          {
           "alignmentgroup": "True",
           "hovertemplate": "Region=%{x}<br> Date= 31-01-2020<br> Estimated Unemployment Rate (%)=%{y}<extra></extra>",
           "legendgroup": "5",
           "marker": {
            "color": "#FFA15A"
           },
           "name": "5",
           "notched": false,
           "offsetgroup": "5",
           "orientation": "v",
           "showlegend": true,
           "type": "box",
           "x": [
            5,
            5
           ],
           "x0": " ",
           "xaxis": "x",
           "y": [
            13.48,
            22.45
           ],
           "y0": " ",
           "yaxis": "y"
          },
          {
           "alignmentgroup": "True",
           "hovertemplate": "Region=%{x}<br> Date= 31-01-2020<br> Estimated Unemployment Rate (%)=%{y}<extra></extra>",
           "legendgroup": "6",
           "marker": {
            "color": "#19d3f3"
           },
           "name": "6",
           "notched": false,
           "offsetgroup": "6",
           "orientation": "v",
           "showlegend": true,
           "type": "box",
           "x": [
            6,
            6
           ],
           "x0": " ",
           "xaxis": "x",
           "y": [
            5.38,
            10.92
           ],
           "y0": " ",
           "yaxis": "y"
          },
          {
           "alignmentgroup": "True",
           "hovertemplate": "Region=%{x}<br> Date= 31-01-2020<br> Estimated Unemployment Rate (%)=%{y}<extra></extra>",
           "legendgroup": "7",
           "marker": {
            "color": "#FF6692"
           },
           "name": "7",
           "notched": false,
           "offsetgroup": "7",
           "orientation": "v",
           "showlegend": true,
           "type": "box",
           "x": [
            7,
            7
           ],
           "x0": " ",
           "xaxis": "x",
           "y": [
            5.35,
            5.82
           ],
           "y0": " ",
           "yaxis": "y"
          },
          {
           "alignmentgroup": "True",
           "hovertemplate": "Region=%{x}<br> Date= 31-01-2020<br> Estimated Unemployment Rate (%)=%{y}<extra></extra>",
           "legendgroup": "8",
           "marker": {
            "color": "#B6E880"
           },
           "name": "8",
           "notched": false,
           "offsetgroup": "8",
           "orientation": "v",
           "showlegend": true,
           "type": "box",
           "x": [
            8,
            8
           ],
           "x0": " ",
           "xaxis": "x",
           "y": [
            16.21,
            27.24
           ],
           "y0": " ",
           "yaxis": "y"
          },
          {
           "alignmentgroup": "True",
           "hovertemplate": "Region=%{x}<br> Date= 31-01-2020<br> Estimated Unemployment Rate (%)=%{y}<extra></extra>",
           "legendgroup": "9",
           "marker": {
            "color": "#FF97FF"
           },
           "name": "9",
           "notched": false,
           "offsetgroup": "9",
           "orientation": "v",
           "showlegend": true,
           "type": "box",
           "x": [
            9,
            9
           ],
           "x0": " ",
           "xaxis": "x",
           "y": [
            16.67,
            18.15
           ],
           "y0": " ",
           "yaxis": "y"
          },
          {
           "alignmentgroup": "True",
           "hovertemplate": "Region=%{x}<br> Date= 31-01-2020<br> Estimated Unemployment Rate (%)=%{y}<extra></extra>",
           "legendgroup": "10",
           "marker": {
            "color": "#FECB52"
           },
           "name": "10",
           "notched": false,
           "offsetgroup": "10",
           "orientation": "v",
           "showlegend": true,
           "type": "box",
           "x": [
            10,
            10
           ],
           "x0": " ",
           "xaxis": "x",
           "y": [
            22.19,
            18.54
           ],
           "y0": " ",
           "yaxis": "y"
          },
          {
           "alignmentgroup": "True",
           "hovertemplate": "Region=%{x}<br> Date= 31-01-2020<br> Estimated Unemployment Rate (%)=%{y}<extra></extra>",
           "legendgroup": "11",
           "marker": {
            "color": "#636efa"
           },
           "name": "11",
           "notched": false,
           "offsetgroup": "11",
           "orientation": "v",
           "showlegend": true,
           "type": "box",
           "x": [
            11,
            11
           ],
           "x0": " ",
           "xaxis": "x",
           "y": [
            6.16,
            22.96
           ],
           "y0": " ",
           "yaxis": "y"
          },
          {
           "alignmentgroup": "True",
           "hovertemplate": "Region=%{x}<br> Date= 31-01-2020<br> Estimated Unemployment Rate (%)=%{y}<extra></extra>",
           "legendgroup": "12",
           "marker": {
            "color": "#EF553B"
           },
           "name": "12",
           "notched": false,
           "offsetgroup": "12",
           "orientation": "v",
           "showlegend": true,
           "type": "box",
           "x": [
            12,
            12
           ],
           "x0": " ",
           "xaxis": "x",
           "y": [
            2.57,
            3.31
           ],
           "y0": " ",
           "yaxis": "y"
          },
          {
           "alignmentgroup": "True",
           "hovertemplate": "Region=%{x}<br> Date= 31-01-2020<br> Estimated Unemployment Rate (%)=%{y}<extra></extra>",
           "legendgroup": "13",
           "marker": {
            "color": "#00cc96"
           },
           "name": "13",
           "notched": false,
           "offsetgroup": "13",
           "orientation": "v",
           "showlegend": true,
           "type": "box",
           "x": [
            13,
            13
           ],
           "x0": " ",
           "xaxis": "x",
           "y": [
            4.11,
            6.65
           ],
           "y0": " ",
           "yaxis": "y"
          },
          {
           "alignmentgroup": "True",
           "hovertemplate": "Region=%{x}<br> Date= 31-01-2020<br> Estimated Unemployment Rate (%)=%{y}<extra></extra>",
           "legendgroup": "14",
           "marker": {
            "color": "#ab63fa"
           },
           "name": "14",
           "notched": false,
           "offsetgroup": "14",
           "orientation": "v",
           "showlegend": true,
           "type": "box",
           "x": [
            14,
            14
           ],
           "x0": " ",
           "xaxis": "x",
           "y": [
            3.66,
            5.17
           ],
           "y0": " ",
           "yaxis": "y"
          },
          {
           "alignmentgroup": "True",
           "hovertemplate": "Region=%{x}<br> Date= 31-01-2020<br> Estimated Unemployment Rate (%)=%{y}<extra></extra>",
           "legendgroup": "15",
           "marker": {
            "color": "#FFA15A"
           },
           "name": "15",
           "notched": false,
           "offsetgroup": "15",
           "orientation": "v",
           "showlegend": true,
           "type": "box",
           "x": [
            15,
            15
           ],
           "x0": " ",
           "xaxis": "x",
           "y": [
            3.8,
            6.67
           ],
           "y0": " ",
           "yaxis": "y"
          },
          {
           "alignmentgroup": "True",
           "hovertemplate": "Region=%{x}<br> Date= 31-01-2020<br> Estimated Unemployment Rate (%)=%{y}<extra></extra>",
           "legendgroup": "16",
           "marker": {
            "color": "#19d3f3"
           },
           "name": "16",
           "notched": false,
           "offsetgroup": "16",
           "orientation": "v",
           "showlegend": true,
           "type": "box",
           "x": [
            16,
            16
           ],
           "x0": " ",
           "xaxis": "x",
           "y": [
            0.97,
            4.76
           ],
           "y0": " ",
           "yaxis": "y"
          },
          {
           "alignmentgroup": "True",
           "hovertemplate": "Region=%{x}<br> Date= 31-01-2020<br> Estimated Unemployment Rate (%)=%{y}<extra></extra>",
           "legendgroup": "17",
           "marker": {
            "color": "#FF6692"
           },
           "name": "17",
           "notched": false,
           "offsetgroup": "17",
           "orientation": "v",
           "showlegend": true,
           "type": "box",
           "x": [
            17,
            17
           ],
           "x0": " ",
           "xaxis": "x",
           "y": [
            1.81,
            2.28
           ],
           "y0": " ",
           "yaxis": "y"
          },
          {
           "alignmentgroup": "True",
           "hovertemplate": "Region=%{x}<br> Date= 31-01-2020<br> Estimated Unemployment Rate (%)=%{y}<extra></extra>",
           "legendgroup": "18",
           "marker": {
            "color": "#B6E880"
           },
           "name": "18",
           "notched": false,
           "offsetgroup": "18",
           "orientation": "v",
           "showlegend": true,
           "type": "box",
           "x": [
            18,
            18
           ],
           "x0": " ",
           "xaxis": "x",
           "y": [
            0.58,
            0.57
           ],
           "y0": " ",
           "yaxis": "y"
          },
          {
           "alignmentgroup": "True",
           "hovertemplate": "Region=%{x}<br> Date= 31-01-2020<br> Estimated Unemployment Rate (%)=%{y}<extra></extra>",
           "legendgroup": "19",
           "marker": {
            "color": "#FF97FF"
           },
           "name": "19",
           "notched": false,
           "offsetgroup": "19",
           "orientation": "v",
           "showlegend": true,
           "type": "box",
           "x": [
            19,
            19
           ],
           "x0": " ",
           "xaxis": "x",
           "y": [
            9.69,
            13.68
           ],
           "y0": " ",
           "yaxis": "y"
          },
          {
           "alignmentgroup": "True",
           "hovertemplate": "Region=%{x}<br> Date= 31-01-2020<br> Estimated Unemployment Rate (%)=%{y}<extra></extra>",
           "legendgroup": "20",
           "marker": {
            "color": "#FECB52"
           },
           "name": "20",
           "notched": false,
           "offsetgroup": "20",
           "orientation": "v",
           "showlegend": true,
           "type": "box",
           "x": [
            20,
            20
           ],
           "x0": " ",
           "xaxis": "x",
           "y": [
            8,
            18.82
           ],
           "y0": " ",
           "yaxis": "y"
          },
          {
           "alignmentgroup": "True",
           "hovertemplate": "Region=%{x}<br> Date= 31-01-2020<br> Estimated Unemployment Rate (%)=%{y}<extra></extra>",
           "legendgroup": "22",
           "marker": {
            "color": "#EF553B"
           },
           "name": "22",
           "notched": false,
           "offsetgroup": "22",
           "orientation": "v",
           "showlegend": true,
           "type": "box",
           "x": [
            22,
            22
           ],
           "x0": " ",
           "xaxis": "x",
           "y": [
            1.18,
            2.05
           ],
           "y0": " ",
           "yaxis": "y"
          },
          {
           "alignmentgroup": "True",
           "hovertemplate": "Region=%{x}<br> Date= 31-01-2020<br> Estimated Unemployment Rate (%)=%{y}<extra></extra>",
           "legendgroup": "23",
           "marker": {
            "color": "#00cc96"
           },
           "name": "23",
           "notched": false,
           "offsetgroup": "23",
           "orientation": "v",
           "showlegend": true,
           "type": "box",
           "x": [
            23,
            23
           ],
           "x0": " ",
           "xaxis": "x",
           "y": [
            5.02,
            6.49
           ],
           "y0": " ",
           "yaxis": "y"
          },
          {
           "alignmentgroup": "True",
           "hovertemplate": "Region=%{x}<br> Date= 31-01-2020<br> Estimated Unemployment Rate (%)=%{y}<extra></extra>",
           "legendgroup": "24",
           "marker": {
            "color": "#ab63fa"
           },
           "name": "24",
           "notched": false,
           "offsetgroup": "24",
           "orientation": "v",
           "showlegend": true,
           "type": "box",
           "x": [
            24,
            24
           ],
           "x0": " ",
           "xaxis": "x",
           "y": [
            31.91,
            34.37
           ],
           "y0": " ",
           "yaxis": "y"
          },
          {
           "alignmentgroup": "True",
           "hovertemplate": "Region=%{x}<br> Date= 31-01-2020<br> Estimated Unemployment Rate (%)=%{y}<extra></extra>",
           "legendgroup": "25",
           "marker": {
            "color": "#FFA15A"
           },
           "name": "25",
           "notched": false,
           "offsetgroup": "25",
           "orientation": "v",
           "showlegend": true,
           "type": "box",
           "x": [
            25,
            25
           ],
           "x0": " ",
           "xaxis": "x",
           "y": [
            6.06,
            12.34
           ],
           "y0": " ",
           "yaxis": "y"
          },
          {
           "alignmentgroup": "True",
           "hovertemplate": "Region=%{x}<br> Date= 31-01-2020<br> Estimated Unemployment Rate (%)=%{y}<extra></extra>",
           "legendgroup": "26",
           "marker": {
            "color": "#19d3f3"
           },
           "name": "26",
           "notched": false,
           "offsetgroup": "26",
           "orientation": "v",
           "showlegend": true,
           "type": "box",
           "x": [
            26,
            26
           ],
           "x0": " ",
           "xaxis": "x",
           "y": [
            4.17,
            8.92
           ],
           "y0": " ",
           "yaxis": "y"
          },
          {
           "alignmentgroup": "True",
           "hovertemplate": "Region=%{x}<br> Date= 31-01-2020<br> Estimated Unemployment Rate (%)=%{y}<extra></extra>",
           "legendgroup": "27",
           "marker": {
            "color": "#FF6692"
           },
           "name": "27",
           "notched": false,
           "offsetgroup": "27",
           "orientation": "v",
           "showlegend": true,
           "type": "box",
           "x": [
            27,
            27
           ],
           "x0": " ",
           "xaxis": "x",
           "y": [
            6.79,
            7.27
           ],
           "y0": " ",
           "yaxis": "y"
          },
          {
           "alignmentgroup": "True",
           "hovertemplate": "Region=%{x}<br> Date= 31-01-2020<br> Estimated Unemployment Rate (%)=%{y}<extra></extra>",
           "legendgroup": "3",
           "marker": {
            "color": "#FF97FF"
           },
           "name": "3",
           "notched": false,
           "offsetgroup": "3",
           "orientation": "v",
           "showlegend": true,
           "type": "box",
           "x": [
            3
           ],
           "x0": " ",
           "xaxis": "x",
           "y": [
            20
           ],
           "y0": " ",
           "yaxis": "y"
          }
         ],
         "name": " 31-01-2020"
        },
        {
         "data": [
          {
           "alignmentgroup": "True",
           "hovertemplate": "Region=%{x}<br> Date= 29-02-2020<br> Estimated Unemployment Rate (%)=%{y}<extra></extra>",
           "legendgroup": "0",
           "marker": {
            "color": "#636efa"
           },
           "name": "0",
           "notched": false,
           "offsetgroup": "0",
           "orientation": "v",
           "showlegend": true,
           "type": "box",
           "x": [
            0,
            0
           ],
           "x0": " ",
           "xaxis": "x",
           "y": [
            5.91,
            5.66
           ],
           "y0": " ",
           "yaxis": "y"
          },
          {
           "alignmentgroup": "True",
           "hovertemplate": "Region=%{x}<br> Date= 29-02-2020<br> Estimated Unemployment Rate (%)=%{y}<extra></extra>",
           "legendgroup": "1",
           "marker": {
            "color": "#EF553B"
           },
           "name": "1",
           "notched": false,
           "offsetgroup": "1",
           "orientation": "v",
           "showlegend": true,
           "type": "box",
           "x": [
            1,
            1
           ],
           "x0": " ",
           "xaxis": "x",
           "y": [
            3.26,
            9.98
           ],
           "y0": " ",
           "yaxis": "y"
          },
          {
           "alignmentgroup": "True",
           "hovertemplate": "Region=%{x}<br> Date= 29-02-2020<br> Estimated Unemployment Rate (%)=%{y}<extra></extra>",
           "legendgroup": "2",
           "marker": {
            "color": "#00cc96"
           },
           "name": "2",
           "notched": false,
           "offsetgroup": "2",
           "orientation": "v",
           "showlegend": true,
           "type": "box",
           "x": [
            2,
            2
           ],
           "x0": " ",
           "xaxis": "x",
           "y": [
            9.61,
            15.11
           ],
           "y0": " ",
           "yaxis": "y"
          },
          {
           "alignmentgroup": "True",
           "hovertemplate": "Region=%{x}<br> Date= 29-02-2020<br> Estimated Unemployment Rate (%)=%{y}<extra></extra>",
           "legendgroup": "4",
           "marker": {
            "color": "#ab63fa"
           },
           "name": "4",
           "notched": false,
           "offsetgroup": "4",
           "orientation": "v",
           "showlegend": true,
           "type": "box",
           "x": [
            4,
            4
           ],
           "x0": " ",
           "xaxis": "x",
           "y": [
            7.89,
            9.79
           ],
           "y0": " ",
           "yaxis": "y"
          },
          {
           "alignmentgroup": "True",
           "hovertemplate": "Region=%{x}<br> Date= 29-02-2020<br> Estimated Unemployment Rate (%)=%{y}<extra></extra>",
           "legendgroup": "5",
           "marker": {
            "color": "#FFA15A"
           },
           "name": "5",
           "notched": false,
           "offsetgroup": "5",
           "orientation": "v",
           "showlegend": true,
           "type": "box",
           "x": [
            5,
            5
           ],
           "x0": " ",
           "xaxis": "x",
           "y": [
            13.81,
            14.86
           ],
           "y0": " ",
           "yaxis": "y"
          },
          {
           "alignmentgroup": "True",
           "hovertemplate": "Region=%{x}<br> Date= 29-02-2020<br> Estimated Unemployment Rate (%)=%{y}<extra></extra>",
           "legendgroup": "6",
           "marker": {
            "color": "#19d3f3"
           },
           "name": "6",
           "notched": false,
           "offsetgroup": "6",
           "orientation": "v",
           "showlegend": true,
           "type": "box",
           "x": [
            6,
            6
           ],
           "x0": " ",
           "xaxis": "x",
           "y": [
            0,
            4.31
           ],
           "y0": " ",
           "yaxis": "y"
          },
          {
           "alignmentgroup": "True",
           "hovertemplate": "Region=%{x}<br> Date= 29-02-2020<br> Estimated Unemployment Rate (%)=%{y}<extra></extra>",
           "legendgroup": "7",
           "marker": {
            "color": "#FF6692"
           },
           "name": "7",
           "notched": false,
           "offsetgroup": "7",
           "orientation": "v",
           "showlegend": true,
           "type": "box",
           "x": [
            7,
            7
           ],
           "x0": " ",
           "xaxis": "x",
           "y": [
            6.64,
            6.04
           ],
           "y0": " ",
           "yaxis": "y"
          },
          {
           "alignmentgroup": "True",
           "hovertemplate": "Region=%{x}<br> Date= 29-02-2020<br> Estimated Unemployment Rate (%)=%{y}<extra></extra>",
           "legendgroup": "8",
           "marker": {
            "color": "#B6E880"
           },
           "name": "8",
           "notched": false,
           "offsetgroup": "8",
           "orientation": "v",
           "showlegend": true,
           "type": "box",
           "x": [
            8,
            8
           ],
           "x0": " ",
           "xaxis": "x",
           "y": [
            27.19,
            23.29
           ],
           "y0": " ",
           "yaxis": "y"
          },
          {
           "alignmentgroup": "True",
           "hovertemplate": "Region=%{x}<br> Date= 29-02-2020<br> Estimated Unemployment Rate (%)=%{y}<extra></extra>",
           "legendgroup": "9",
           "marker": {
            "color": "#FF97FF"
           },
           "name": "9",
           "notched": false,
           "offsetgroup": "9",
           "orientation": "v",
           "showlegend": true,
           "type": "box",
           "x": [
            9,
            9
           ],
           "x0": " ",
           "xaxis": "x",
           "y": [
            15.42,
            27.31
           ],
           "y0": " ",
           "yaxis": "y"
          },
          {
           "alignmentgroup": "True",
           "hovertemplate": "Region=%{x}<br> Date= 29-02-2020<br> Estimated Unemployment Rate (%)=%{y}<extra></extra>",
           "legendgroup": "10",
           "marker": {
            "color": "#FECB52"
           },
           "name": "10",
           "notched": false,
           "offsetgroup": "10",
           "orientation": "v",
           "showlegend": true,
           "type": "box",
           "x": [
            10,
            10
           ],
           "x0": " ",
           "xaxis": "x",
           "y": [
            21.23,
            19.86
           ],
           "y0": " ",
           "yaxis": "y"
          },
          {
           "alignmentgroup": "True",
           "hovertemplate": "Region=%{x}<br> Date= 29-02-2020<br> Estimated Unemployment Rate (%)=%{y}<extra></extra>",
           "legendgroup": "11",
           "marker": {
            "color": "#636efa"
           },
           "name": "11",
           "notched": false,
           "offsetgroup": "11",
           "orientation": "v",
           "showlegend": true,
           "type": "box",
           "x": [
            11,
            11
           ],
           "x0": " ",
           "xaxis": "x",
           "y": [
            9.06,
            19.67
           ],
           "y0": " ",
           "yaxis": "y"
          },
          {
           "alignmentgroup": "True",
           "hovertemplate": "Region=%{x}<br> Date= 29-02-2020<br> Estimated Unemployment Rate (%)=%{y}<extra></extra>",
           "legendgroup": "12",
           "marker": {
            "color": "#EF553B"
           },
           "name": "12",
           "notched": false,
           "offsetgroup": "12",
           "orientation": "v",
           "showlegend": true,
           "type": "box",
           "x": [
            12,
            12
           ],
           "x0": " ",
           "xaxis": "x",
           "y": [
            4.11,
            2.88
           ],
           "y0": " ",
           "yaxis": "y"
          },
          {
           "alignmentgroup": "True",
           "hovertemplate": "Region=%{x}<br> Date= 29-02-2020<br> Estimated Unemployment Rate (%)=%{y}<extra></extra>",
           "legendgroup": "13",
           "marker": {
            "color": "#00cc96"
           },
           "name": "13",
           "notched": false,
           "offsetgroup": "13",
           "orientation": "v",
           "showlegend": true,
           "type": "box",
           "x": [
            13,
            13
           ],
           "x0": " ",
           "xaxis": "x",
           "y": [
            8.91,
            6.08
           ],
           "y0": " ",
           "yaxis": "y"
          },
          {
           "alignmentgroup": "True",
           "hovertemplate": "Region=%{x}<br> Date= 29-02-2020<br> Estimated Unemployment Rate (%)=%{y}<extra></extra>",
           "legendgroup": "14",
           "marker": {
            "color": "#ab63fa"
           },
           "name": "14",
           "notched": false,
           "offsetgroup": "14",
           "orientation": "v",
           "showlegend": true,
           "type": "box",
           "x": [
            14,
            14
           ],
           "x0": " ",
           "xaxis": "x",
           "y": [
            4.42,
            4.96
           ],
           "y0": " ",
           "yaxis": "y"
          },
          {
           "alignmentgroup": "True",
           "hovertemplate": "Region=%{x}<br> Date= 29-02-2020<br> Estimated Unemployment Rate (%)=%{y}<extra></extra>",
           "legendgroup": "15",
           "marker": {
            "color": "#FFA15A"
           },
           "name": "15",
           "notched": false,
           "offsetgroup": "15",
           "orientation": "v",
           "showlegend": true,
           "type": "box",
           "x": [
            15,
            15
           ],
           "x0": " ",
           "xaxis": "x",
           "y": [
            4.24,
            5.34
           ],
           "y0": " ",
           "yaxis": "y"
          },
          {
           "alignmentgroup": "True",
           "hovertemplate": "Region=%{x}<br> Date= 29-02-2020<br> Estimated Unemployment Rate (%)=%{y}<extra></extra>",
           "legendgroup": "16",
           "marker": {
            "color": "#19d3f3"
           },
           "name": "16",
           "notched": false,
           "offsetgroup": "16",
           "orientation": "v",
           "showlegend": true,
           "type": "box",
           "x": [
            16,
            16
           ],
           "x0": " ",
           "xaxis": "x",
           "y": [
            2.76,
            7.37
           ],
           "y0": " ",
           "yaxis": "y"
          },
          {
           "alignmentgroup": "True",
           "hovertemplate": "Region=%{x}<br> Date= 29-02-2020<br> Estimated Unemployment Rate (%)=%{y}<extra></extra>",
           "legendgroup": "17",
           "marker": {
            "color": "#FF6692"
           },
           "name": "17",
           "notched": false,
           "offsetgroup": "17",
           "orientation": "v",
           "showlegend": true,
           "type": "box",
           "x": [
            17,
            17
           ],
           "x0": " ",
           "xaxis": "x",
           "y": [
            3.31,
            2.19
           ],
           "y0": " ",
           "yaxis": "y"
          },
          {
           "alignmentgroup": "True",
           "hovertemplate": "Region=%{x}<br> Date= 29-02-2020<br> Estimated Unemployment Rate (%)=%{y}<extra></extra>",
           "legendgroup": "18",
           "marker": {
            "color": "#B6E880"
           },
           "name": "18",
           "notched": false,
           "offsetgroup": "18",
           "orientation": "v",
           "showlegend": true,
           "type": "box",
           "x": [
            18,
            18
           ],
           "x0": " ",
           "xaxis": "x",
           "y": [
            1.74,
            1.78
           ],
           "y0": " ",
           "yaxis": "y"
          },
          {
           "alignmentgroup": "True",
           "hovertemplate": "Region=%{x}<br> Date= 29-02-2020<br> Estimated Unemployment Rate (%)=%{y}<extra></extra>",
           "legendgroup": "19",
           "marker": {
            "color": "#FF97FF"
           },
           "name": "19",
           "notched": false,
           "offsetgroup": "19",
           "orientation": "v",
           "showlegend": true,
           "type": "box",
           "x": [
            19,
            19
           ],
           "x0": " ",
           "xaxis": "x",
           "y": [
            10.41,
            11.99
           ],
           "y0": " ",
           "yaxis": "y"
          },
          {
           "alignmentgroup": "True",
           "hovertemplate": "Region=%{x}<br> Date= 29-02-2020<br> Estimated Unemployment Rate (%)=%{y}<extra></extra>",
           "legendgroup": "20",
           "marker": {
            "color": "#FECB52"
           },
           "name": "20",
           "notched": false,
           "offsetgroup": "20",
           "orientation": "v",
           "showlegend": true,
           "type": "box",
           "x": [
            20,
            20
           ],
           "x0": " ",
           "xaxis": "x",
           "y": [
            14.48,
            17.02
           ],
           "y0": " ",
           "yaxis": "y"
          },
          {
           "alignmentgroup": "True",
           "hovertemplate": "Region=%{x}<br> Date= 29-02-2020<br> Estimated Unemployment Rate (%)=%{y}<extra></extra>",
           "legendgroup": "22",
           "marker": {
            "color": "#EF553B"
           },
           "name": "22",
           "notched": false,
           "offsetgroup": "22",
           "orientation": "v",
           "showlegend": true,
           "type": "box",
           "x": [
            22,
            22
           ],
           "x0": " ",
           "xaxis": "x",
           "y": [
            1.17,
            3.31
           ],
           "y0": " ",
           "yaxis": "y"
          },
          {
           "alignmentgroup": "True",
           "hovertemplate": "Region=%{x}<br> Date= 29-02-2020<br> Estimated Unemployment Rate (%)=%{y}<extra></extra>",
           "legendgroup": "23",
           "marker": {
            "color": "#00cc96"
           },
           "name": "23",
           "notched": false,
           "offsetgroup": "23",
           "orientation": "v",
           "showlegend": true,
           "type": "box",
           "x": [
            23,
            23
           ],
           "x0": " ",
           "xaxis": "x",
           "y": [
            9.02,
            6.74
           ],
           "y0": " ",
           "yaxis": "y"
          },
          {
           "alignmentgroup": "True",
           "hovertemplate": "Region=%{x}<br> Date= 29-02-2020<br> Estimated Unemployment Rate (%)=%{y}<extra></extra>",
           "legendgroup": "24",
           "marker": {
            "color": "#ab63fa"
           },
           "name": "24",
           "notched": false,
           "offsetgroup": "24",
           "orientation": "v",
           "showlegend": true,
           "type": "box",
           "x": [
            24,
            24
           ],
           "x0": " ",
           "xaxis": "x",
           "y": [
            26.22,
            33.88
           ],
           "y0": " ",
           "yaxis": "y"
          },
          {
           "alignmentgroup": "True",
           "hovertemplate": "Region=%{x}<br> Date= 29-02-2020<br> Estimated Unemployment Rate (%)=%{y}<extra></extra>",
           "legendgroup": "25",
           "marker": {
            "color": "#FFA15A"
           },
           "name": "25",
           "notched": false,
           "offsetgroup": "25",
           "orientation": "v",
           "showlegend": true,
           "type": "box",
           "x": [
            25,
            25
           ],
           "x0": " ",
           "xaxis": "x",
           "y": [
            8.12,
            11.65
           ],
           "y0": " ",
           "yaxis": "y"
          },
          {
           "alignmentgroup": "True",
           "hovertemplate": "Region=%{x}<br> Date= 29-02-2020<br> Estimated Unemployment Rate (%)=%{y}<extra></extra>",
           "legendgroup": "26",
           "marker": {
            "color": "#19d3f3"
           },
           "name": "26",
           "notched": false,
           "offsetgroup": "26",
           "orientation": "v",
           "showlegend": true,
           "type": "box",
           "x": [
            26,
            26
           ],
           "x0": " ",
           "xaxis": "x",
           "y": [
            4.85,
            5.28
           ],
           "y0": " ",
           "yaxis": "y"
          },
          {
           "alignmentgroup": "True",
           "hovertemplate": "Region=%{x}<br> Date= 29-02-2020<br> Estimated Unemployment Rate (%)=%{y}<extra></extra>",
           "legendgroup": "27",
           "marker": {
            "color": "#FF6692"
           },
           "name": "27",
           "notched": false,
           "offsetgroup": "27",
           "orientation": "v",
           "showlegend": true,
           "type": "box",
           "x": [
            27,
            27
           ],
           "x0": " ",
           "xaxis": "x",
           "y": [
            3.78,
            7.55
           ],
           "y0": " ",
           "yaxis": "y"
          },
          {
           "alignmentgroup": "True",
           "hovertemplate": "Region=%{x}<br> Date= 29-02-2020<br> Estimated Unemployment Rate (%)=%{y}<extra></extra>",
           "legendgroup": "3",
           "marker": {
            "color": "#FF97FF"
           },
           "name": "3",
           "notched": false,
           "offsetgroup": "3",
           "orientation": "v",
           "showlegend": true,
           "type": "box",
           "x": [
            3
           ],
           "x0": " ",
           "xaxis": "x",
           "y": [
            16.67
           ],
           "y0": " ",
           "yaxis": "y"
          }
         ],
         "name": " 29-02-2020"
        },
        {
         "data": [
          {
           "alignmentgroup": "True",
           "hovertemplate": "Region=%{x}<br> Date= 31-03-2020<br> Estimated Unemployment Rate (%)=%{y}<extra></extra>",
           "legendgroup": "0",
           "marker": {
            "color": "#636efa"
           },
           "name": "0",
           "notched": false,
           "offsetgroup": "0",
           "orientation": "v",
           "showlegend": true,
           "type": "box",
           "x": [
            0,
            0
           ],
           "x0": " ",
           "xaxis": "x",
           "y": [
            4.06,
            9.88
           ],
           "y0": " ",
           "yaxis": "y"
          },
          {
           "alignmentgroup": "True",
           "hovertemplate": "Region=%{x}<br> Date= 31-03-2020<br> Estimated Unemployment Rate (%)=%{y}<extra></extra>",
           "legendgroup": "1",
           "marker": {
            "color": "#EF553B"
           },
           "name": "1",
           "notched": false,
           "offsetgroup": "1",
           "orientation": "v",
           "showlegend": true,
           "type": "box",
           "x": [
            1,
            1
           ],
           "x0": " ",
           "xaxis": "x",
           "y": [
            3.77,
            10.34
           ],
           "y0": " ",
           "yaxis": "y"
          },
          {
           "alignmentgroup": "True",
           "hovertemplate": "Region=%{x}<br> Date= 31-03-2020<br> Estimated Unemployment Rate (%)=%{y}<extra></extra>",
           "legendgroup": "2",
           "marker": {
            "color": "#00cc96"
           },
           "name": "2",
           "notched": false,
           "offsetgroup": "2",
           "orientation": "v",
           "showlegend": true,
           "type": "box",
           "x": [
            2,
            2
           ],
           "x0": " ",
           "xaxis": "x",
           "y": [
            15.39,
            15.73
           ],
           "y0": " ",
           "yaxis": "y"
          },
          {
           "alignmentgroup": "True",
           "hovertemplate": "Region=%{x}<br> Date= 31-03-2020<br> Estimated Unemployment Rate (%)=%{y}<extra></extra>",
           "legendgroup": "4",
           "marker": {
            "color": "#ab63fa"
           },
           "name": "4",
           "notched": false,
           "offsetgroup": "4",
           "orientation": "v",
           "showlegend": true,
           "type": "box",
           "x": [
            4,
            4
           ],
           "x0": " ",
           "xaxis": "x",
           "y": [
            7.31,
            8.21
           ],
           "y0": " ",
           "yaxis": "y"
          },
          {
           "alignmentgroup": "True",
           "hovertemplate": "Region=%{x}<br> Date= 31-03-2020<br> Estimated Unemployment Rate (%)=%{y}<extra></extra>",
           "legendgroup": "5",
           "marker": {
            "color": "#FFA15A"
           },
           "name": "5",
           "notched": false,
           "offsetgroup": "5",
           "orientation": "v",
           "showlegend": true,
           "type": "box",
           "x": [
            5,
            5
           ],
           "x0": " ",
           "xaxis": "x",
           "y": [
            15.18,
            17.09
           ],
           "y0": " ",
           "yaxis": "y"
          },
          {
           "alignmentgroup": "True",
           "hovertemplate": "Region=%{x}<br> Date= 31-03-2020<br> Estimated Unemployment Rate (%)=%{y}<extra></extra>",
           "legendgroup": "6",
           "marker": {
            "color": "#19d3f3"
           },
           "name": "6",
           "notched": false,
           "offsetgroup": "6",
           "orientation": "v",
           "showlegend": true,
           "type": "box",
           "x": [
            6
           ],
           "x0": " ",
           "xaxis": "x",
           "y": [
            4.76
           ],
           "y0": " ",
           "yaxis": "y"
          },
          {
           "alignmentgroup": "True",
           "hovertemplate": "Region=%{x}<br> Date= 31-03-2020<br> Estimated Unemployment Rate (%)=%{y}<extra></extra>",
           "legendgroup": "7",
           "marker": {
            "color": "#FF6692"
           },
           "name": "7",
           "notched": false,
           "offsetgroup": "7",
           "orientation": "v",
           "showlegend": true,
           "type": "box",
           "x": [
            7,
            7
           ],
           "x0": " ",
           "xaxis": "x",
           "y": [
            7.59,
            5.39
           ],
           "y0": " ",
           "yaxis": "y"
          },
          {
           "alignmentgroup": "True",
           "hovertemplate": "Region=%{x}<br> Date= 31-03-2020<br> Estimated Unemployment Rate (%)=%{y}<extra></extra>",
           "legendgroup": "8",
           "marker": {
            "color": "#B6E880"
           },
           "name": "8",
           "notched": false,
           "offsetgroup": "8",
           "orientation": "v",
           "showlegend": true,
           "type": "box",
           "x": [
            8,
            8
           ],
           "x0": " ",
           "xaxis": "x",
           "y": [
            23.92,
            27.14
           ],
           "y0": " ",
           "yaxis": "y"
          },
          {
           "alignmentgroup": "True",
           "hovertemplate": "Region=%{x}<br> Date= 31-03-2020<br> Estimated Unemployment Rate (%)=%{y}<extra></extra>",
           "legendgroup": "9",
           "marker": {
            "color": "#FF97FF"
           },
           "name": "9",
           "notched": false,
           "offsetgroup": "9",
           "orientation": "v",
           "showlegend": true,
           "type": "box",
           "x": [
            9,
            9
           ],
           "x0": " ",
           "xaxis": "x",
           "y": [
            17.71,
            26.44
           ],
           "y0": " ",
           "yaxis": "y"
          },
          {
           "alignmentgroup": "True",
           "hovertemplate": "Region=%{x}<br> Date= 31-03-2020<br> Estimated Unemployment Rate (%)=%{y}<extra></extra>",
           "legendgroup": "10",
           "marker": {
            "color": "#FECB52"
           },
           "name": "10",
           "notched": false,
           "offsetgroup": "10",
           "orientation": "v",
           "showlegend": true,
           "type": "box",
           "x": [
            10,
            10
           ],
           "x0": " ",
           "xaxis": "x",
           "y": [
            16,
            14.29
           ],
           "y0": " ",
           "yaxis": "y"
          },
          {
           "alignmentgroup": "True",
           "hovertemplate": "Region=%{x}<br> Date= 31-03-2020<br> Estimated Unemployment Rate (%)=%{y}<extra></extra>",
           "legendgroup": "11",
           "marker": {
            "color": "#636efa"
           },
           "name": "11",
           "notched": false,
           "offsetgroup": "11",
           "orientation": "v",
           "showlegend": true,
           "type": "box",
           "x": [
            11,
            11
           ],
           "x0": " ",
           "xaxis": "x",
           "y": [
            5.01,
            16.4
           ],
           "y0": " ",
           "yaxis": "y"
          },
          {
           "alignmentgroup": "True",
           "hovertemplate": "Region=%{x}<br> Date= 31-03-2020<br> Estimated Unemployment Rate (%)=%{y}<extra></extra>",
           "legendgroup": "12",
           "marker": {
            "color": "#EF553B"
           },
           "name": "12",
           "notched": false,
           "offsetgroup": "12",
           "orientation": "v",
           "showlegend": true,
           "type": "box",
           "x": [
            12,
            12
           ],
           "x0": " ",
           "xaxis": "x",
           "y": [
            2.39,
            4.92
           ],
           "y0": " ",
           "yaxis": "y"
          },
          {
           "alignmentgroup": "True",
           "hovertemplate": "Region=%{x}<br> Date= 31-03-2020<br> Estimated Unemployment Rate (%)=%{y}<extra></extra>",
           "legendgroup": "13",
           "marker": {
            "color": "#00cc96"
           },
           "name": "13",
           "notched": false,
           "offsetgroup": "13",
           "orientation": "v",
           "showlegend": true,
           "type": "box",
           "x": [
            13,
            13
           ],
           "x0": " ",
           "xaxis": "x",
           "y": [
            8.85,
            9.14
           ],
           "y0": " ",
           "yaxis": "y"
          },
          {
           "alignmentgroup": "True",
           "hovertemplate": "Region=%{x}<br> Date= 31-03-2020<br> Estimated Unemployment Rate (%)=%{y}<extra></extra>",
           "legendgroup": "14",
           "marker": {
            "color": "#ab63fa"
           },
           "name": "14",
           "notched": false,
           "offsetgroup": "14",
           "orientation": "v",
           "showlegend": true,
           "type": "box",
           "x": [
            14,
            14
           ],
           "x0": " ",
           "xaxis": "x",
           "y": [
            1.19,
            4.8
           ],
           "y0": " ",
           "yaxis": "y"
          },
          {
           "alignmentgroup": "True",
           "hovertemplate": "Region=%{x}<br> Date= 31-03-2020<br> Estimated Unemployment Rate (%)=%{y}<extra></extra>",
           "legendgroup": "15",
           "marker": {
            "color": "#FFA15A"
           },
           "name": "15",
           "notched": false,
           "offsetgroup": "15",
           "orientation": "v",
           "showlegend": true,
           "type": "box",
           "x": [
            15,
            15
           ],
           "x0": " ",
           "xaxis": "x",
           "y": [
            5.38,
            6.34
           ],
           "y0": " ",
           "yaxis": "y"
          },
          {
           "alignmentgroup": "True",
           "hovertemplate": "Region=%{x}<br> Date= 31-03-2020<br> Estimated Unemployment Rate (%)=%{y}<extra></extra>",
           "legendgroup": "16",
           "marker": {
            "color": "#19d3f3"
           },
           "name": "16",
           "notched": false,
           "offsetgroup": "16",
           "orientation": "v",
           "showlegend": true,
           "type": "box",
           "x": [
            16,
            16
           ],
           "x0": " ",
           "xaxis": "x",
           "y": [
            1.28,
            2.8
           ],
           "y0": " ",
           "yaxis": "y"
          },
          {
           "alignmentgroup": "True",
           "hovertemplate": "Region=%{x}<br> Date= 31-03-2020<br> Estimated Unemployment Rate (%)=%{y}<extra></extra>",
           "legendgroup": "17",
           "marker": {
            "color": "#FF6692"
           },
           "name": "17",
           "notched": false,
           "offsetgroup": "17",
           "orientation": "v",
           "showlegend": true,
           "type": "box",
           "x": [
            17,
            17
           ],
           "x0": " ",
           "xaxis": "x",
           "y": [
            15.09,
            3.96
           ],
           "y0": " ",
           "yaxis": "y"
          },
          {
           "alignmentgroup": "True",
           "hovertemplate": "Region=%{x}<br> Date= 31-03-2020<br> Estimated Unemployment Rate (%)=%{y}<extra></extra>",
           "legendgroup": "18",
           "marker": {
            "color": "#B6E880"
           },
           "name": "18",
           "notched": false,
           "offsetgroup": "18",
           "orientation": "v",
           "showlegend": true,
           "type": "box",
           "x": [
            18,
            18
           ],
           "x0": " ",
           "xaxis": "x",
           "y": [
            2.31,
            0.62
           ],
           "y0": " ",
           "yaxis": "y"
          },
          {
           "alignmentgroup": "True",
           "hovertemplate": "Region=%{x}<br> Date= 31-03-2020<br> Estimated Unemployment Rate (%)=%{y}<extra></extra>",
           "legendgroup": "19",
           "marker": {
            "color": "#FF97FF"
           },
           "name": "19",
           "notched": false,
           "offsetgroup": "19",
           "orientation": "v",
           "showlegend": true,
           "type": "box",
           "x": [
            19,
            19
           ],
           "x0": " ",
           "xaxis": "x",
           "y": [
            10.51,
            9.97
           ],
           "y0": " ",
           "yaxis": "y"
          },
          {
           "alignmentgroup": "True",
           "hovertemplate": "Region=%{x}<br> Date= 31-03-2020<br> Estimated Unemployment Rate (%)=%{y}<extra></extra>",
           "legendgroup": "20",
           "marker": {
            "color": "#FECB52"
           },
           "name": "20",
           "notched": false,
           "offsetgroup": "20",
           "orientation": "v",
           "showlegend": true,
           "type": "box",
           "x": [
            20,
            20
           ],
           "x0": " ",
           "xaxis": "x",
           "y": [
            9.47,
            18.54
           ],
           "y0": " ",
           "yaxis": "y"
          },
          {
           "alignmentgroup": "True",
           "hovertemplate": "Region=%{x}<br> Date= 31-03-2020<br> Estimated Unemployment Rate (%)=%{y}<extra></extra>",
           "legendgroup": "21",
           "marker": {
            "color": "#636efa"
           },
           "name": "21",
           "notched": false,
           "offsetgroup": "21",
           "orientation": "v",
           "showlegend": true,
           "type": "box",
           "x": [
            21
           ],
           "x0": " ",
           "xaxis": "x",
           "y": [
            20.45
           ],
           "y0": " ",
           "yaxis": "y"
          },
          {
           "alignmentgroup": "True",
           "hovertemplate": "Region=%{x}<br> Date= 31-03-2020<br> Estimated Unemployment Rate (%)=%{y}<extra></extra>",
           "legendgroup": "22",
           "marker": {
            "color": "#EF553B"
           },
           "name": "22",
           "notched": false,
           "offsetgroup": "22",
           "orientation": "v",
           "showlegend": true,
           "type": "box",
           "x": [
            22,
            22
           ],
           "x0": " ",
           "xaxis": "x",
           "y": [
            6.36,
            6.46
           ],
           "y0": " ",
           "yaxis": "y"
          },
          {
           "alignmentgroup": "True",
           "hovertemplate": "Region=%{x}<br> Date= 31-03-2020<br> Estimated Unemployment Rate (%)=%{y}<extra></extra>",
           "legendgroup": "23",
           "marker": {
            "color": "#00cc96"
           },
           "name": "23",
           "notched": false,
           "offsetgroup": "23",
           "orientation": "v",
           "showlegend": true,
           "type": "box",
           "x": [
            23,
            23
           ],
           "x0": " ",
           "xaxis": "x",
           "y": [
            5.63,
            6.1
           ],
           "y0": " ",
           "yaxis": "y"
          },
          {
           "alignmentgroup": "True",
           "hovertemplate": "Region=%{x}<br> Date= 31-03-2020<br> Estimated Unemployment Rate (%)=%{y}<extra></extra>",
           "legendgroup": "24",
           "marker": {
            "color": "#ab63fa"
           },
           "name": "24",
           "notched": false,
           "offsetgroup": "24",
           "orientation": "v",
           "showlegend": true,
           "type": "box",
           "x": [
            24,
            24
           ],
           "x0": " ",
           "xaxis": "x",
           "y": [
            31.61,
            25.69
           ],
           "y0": " ",
           "yaxis": "y"
          },
          {
           "alignmentgroup": "True",
           "hovertemplate": "Region=%{x}<br> Date= 31-03-2020<br> Estimated Unemployment Rate (%)=%{y}<extra></extra>",
           "legendgroup": "25",
           "marker": {
            "color": "#FFA15A"
           },
           "name": "25",
           "notched": false,
           "offsetgroup": "25",
           "orientation": "v",
           "showlegend": true,
           "type": "box",
           "x": [
            25,
            25
           ],
           "x0": " ",
           "xaxis": "x",
           "y": [
            9.37,
            12.32
           ],
           "y0": " ",
           "yaxis": "y"
          },
          {
           "alignmentgroup": "True",
           "hovertemplate": "Region=%{x}<br> Date= 31-03-2020<br> Estimated Unemployment Rate (%)=%{y}<extra></extra>",
           "legendgroup": "26",
           "marker": {
            "color": "#19d3f3"
           },
           "name": "26",
           "notched": false,
           "offsetgroup": "26",
           "orientation": "v",
           "showlegend": true,
           "type": "box",
           "x": [
            26
           ],
           "x0": " ",
           "xaxis": "x",
           "y": [
            8.15
           ],
           "y0": " ",
           "yaxis": "y"
          },
          {
           "alignmentgroup": "True",
           "hovertemplate": "Region=%{x}<br> Date= 31-03-2020<br> Estimated Unemployment Rate (%)=%{y}<extra></extra>",
           "legendgroup": "27",
           "marker": {
            "color": "#FF6692"
           },
           "name": "27",
           "notched": false,
           "offsetgroup": "27",
           "orientation": "v",
           "showlegend": true,
           "type": "box",
           "x": [
            27,
            27
           ],
           "x0": " ",
           "xaxis": "x",
           "y": [
            7.02,
            6.67
           ],
           "y0": " ",
           "yaxis": "y"
          },
          {
           "alignmentgroup": "True",
           "hovertemplate": "Region=%{x}<br> Date= 31-03-2020<br> Estimated Unemployment Rate (%)=%{y}<extra></extra>",
           "legendgroup": "3",
           "marker": {
            "color": "#FF97FF"
           },
           "name": "3",
           "notched": false,
           "offsetgroup": "3",
           "orientation": "v",
           "showlegend": true,
           "type": "box",
           "x": [
            3
           ],
           "x0": " ",
           "xaxis": "x",
           "y": [
            21.43
           ],
           "y0": " ",
           "yaxis": "y"
          }
         ],
         "name": " 31-03-2020"
        },
        {
         "data": [
          {
           "alignmentgroup": "True",
           "hovertemplate": "Region=%{x}<br> Date= 30-04-2020<br> Estimated Unemployment Rate (%)=%{y}<extra></extra>",
           "legendgroup": "0",
           "marker": {
            "color": "#636efa"
           },
           "name": "0",
           "notched": false,
           "offsetgroup": "0",
           "orientation": "v",
           "showlegend": true,
           "type": "box",
           "x": [
            0,
            0
           ],
           "x0": " ",
           "xaxis": "x",
           "y": [
            16.29,
            32.3
           ],
           "y0": " ",
           "yaxis": "y"
          },
          {
           "alignmentgroup": "True",
           "hovertemplate": "Region=%{x}<br> Date= 30-04-2020<br> Estimated Unemployment Rate (%)=%{y}<extra></extra>",
           "legendgroup": "1",
           "marker": {
            "color": "#EF553B"
           },
           "name": "1",
           "notched": false,
           "offsetgroup": "1",
           "orientation": "v",
           "showlegend": true,
           "type": "box",
           "x": [
            1
           ],
           "x0": " ",
           "xaxis": "x",
           "y": [
            8.37
           ],
           "y0": " ",
           "yaxis": "y"
          },
          {
           "alignmentgroup": "True",
           "hovertemplate": "Region=%{x}<br> Date= 30-04-2020<br> Estimated Unemployment Rate (%)=%{y}<extra></extra>",
           "legendgroup": "2",
           "marker": {
            "color": "#00cc96"
           },
           "name": "2",
           "notched": false,
           "offsetgroup": "2",
           "orientation": "v",
           "showlegend": true,
           "type": "box",
           "x": [
            2,
            2
           ],
           "x0": " ",
           "xaxis": "x",
           "y": [
            45.09,
            58.77
           ],
           "y0": " ",
           "yaxis": "y"
          },
          {
           "alignmentgroup": "True",
           "hovertemplate": "Region=%{x}<br> Date= 30-04-2020<br> Estimated Unemployment Rate (%)=%{y}<extra></extra>",
           "legendgroup": "4",
           "marker": {
            "color": "#ab63fa"
           },
           "name": "4",
           "notched": false,
           "offsetgroup": "4",
           "orientation": "v",
           "showlegend": true,
           "type": "box",
           "x": [
            4,
            4
           ],
           "x0": " ",
           "xaxis": "x",
           "y": [
            0,
            20.13
           ],
           "y0": " ",
           "yaxis": "y"
          },
          {
           "alignmentgroup": "True",
           "hovertemplate": "Region=%{x}<br> Date= 30-04-2020<br> Estimated Unemployment Rate (%)=%{y}<extra></extra>",
           "legendgroup": "5",
           "marker": {
            "color": "#FFA15A"
           },
           "name": "5",
           "notched": false,
           "offsetgroup": "5",
           "orientation": "v",
           "showlegend": true,
           "type": "box",
           "x": [
            5,
            5
           ],
           "x0": " ",
           "xaxis": "x",
           "y": [
            20.69,
            16.51
           ],
           "y0": " ",
           "yaxis": "y"
          },
          {
           "alignmentgroup": "True",
           "hovertemplate": "Region=%{x}<br> Date= 30-04-2020<br> Estimated Unemployment Rate (%)=%{y}<extra></extra>",
           "legendgroup": "6",
           "marker": {
            "color": "#19d3f3"
           },
           "name": "6",
           "notched": false,
           "offsetgroup": "6",
           "orientation": "v",
           "showlegend": true,
           "type": "box",
           "x": [
            6,
            6
           ],
           "x0": " ",
           "xaxis": "x",
           "y": [
            15.91,
            11.76
           ],
           "y0": " ",
           "yaxis": "y"
          },
          {
           "alignmentgroup": "True",
           "hovertemplate": "Region=%{x}<br> Date= 30-04-2020<br> Estimated Unemployment Rate (%)=%{y}<extra></extra>",
           "legendgroup": "7",
           "marker": {
            "color": "#FF6692"
           },
           "name": "7",
           "notched": false,
           "offsetgroup": "7",
           "orientation": "v",
           "showlegend": true,
           "type": "box",
           "x": [
            7,
            7
           ],
           "x0": " ",
           "xaxis": "x",
           "y": [
            12,
            25.94
           ],
           "y0": " ",
           "yaxis": "y"
          },
          {
           "alignmentgroup": "True",
           "hovertemplate": "Region=%{x}<br> Date= 30-04-2020<br> Estimated Unemployment Rate (%)=%{y}<extra></extra>",
           "legendgroup": "8",
           "marker": {
            "color": "#B6E880"
           },
           "name": "8",
           "notched": false,
           "offsetgroup": "8",
           "orientation": "v",
           "showlegend": true,
           "type": "box",
           "x": [
            8,
            8
           ],
           "x0": " ",
           "xaxis": "x",
           "y": [
            41.61,
            46.89
           ],
           "y0": " ",
           "yaxis": "y"
          },
          {
           "alignmentgroup": "True",
           "hovertemplate": "Region=%{x}<br> Date= 30-04-2020<br> Estimated Unemployment Rate (%)=%{y}<extra></extra>",
           "legendgroup": "9",
           "marker": {
            "color": "#FF97FF"
           },
           "name": "9",
           "notched": false,
           "offsetgroup": "9",
           "orientation": "v",
           "showlegend": true,
           "type": "box",
           "x": [
            9,
            9
           ],
           "x0": " ",
           "xaxis": "x",
           "y": [
            2.13,
            2.7
           ],
           "y0": " ",
           "yaxis": "y"
          },
          {
           "alignmentgroup": "True",
           "hovertemplate": "Region=%{x}<br> Date= 30-04-2020<br> Estimated Unemployment Rate (%)=%{y}<extra></extra>",
           "legendgroup": "11",
           "marker": {
            "color": "#636efa"
           },
           "name": "11",
           "notched": false,
           "offsetgroup": "11",
           "orientation": "v",
           "showlegend": true,
           "type": "box",
           "x": [
            11,
            11
           ],
           "x0": " ",
           "xaxis": "x",
           "y": [
            41.72,
            61.48
           ],
           "y0": " ",
           "yaxis": "y"
          },
          {
           "alignmentgroup": "True",
           "hovertemplate": "Region=%{x}<br> Date= 30-04-2020<br> Estimated Unemployment Rate (%)=%{y}<extra></extra>",
           "legendgroup": "12",
           "marker": {
            "color": "#EF553B"
           },
           "name": "12",
           "notched": false,
           "offsetgroup": "12",
           "orientation": "v",
           "showlegend": true,
           "type": "box",
           "x": [
            12,
            12
           ],
           "x0": " ",
           "xaxis": "x",
           "y": [
            33.17,
            25.12
           ],
           "y0": " ",
           "yaxis": "y"
          },
          {
           "alignmentgroup": "True",
           "hovertemplate": "Region=%{x}<br> Date= 30-04-2020<br> Estimated Unemployment Rate (%)=%{y}<extra></extra>",
           "legendgroup": "13",
           "marker": {
            "color": "#00cc96"
           },
           "name": "13",
           "notched": false,
           "offsetgroup": "13",
           "orientation": "v",
           "showlegend": true,
           "type": "box",
           "x": [
            13,
            13
           ],
           "x0": " ",
           "xaxis": "x",
           "y": [
            10.71,
            21.43
           ],
           "y0": " ",
           "yaxis": "y"
          },
          {
           "alignmentgroup": "True",
           "hovertemplate": "Region=%{x}<br> Date= 30-04-2020<br> Estimated Unemployment Rate (%)=%{y}<extra></extra>",
           "legendgroup": "14",
           "marker": {
            "color": "#ab63fa"
           },
           "name": "14",
           "notched": false,
           "offsetgroup": "14",
           "orientation": "v",
           "showlegend": true,
           "type": "box",
           "x": [
            14,
            14
           ],
           "x0": " ",
           "xaxis": "x",
           "y": [
            12.5,
            11.94
           ],
           "y0": " ",
           "yaxis": "y"
          },
          {
           "alignmentgroup": "True",
           "hovertemplate": "Region=%{x}<br> Date= 30-04-2020<br> Estimated Unemployment Rate (%)=%{y}<extra></extra>",
           "legendgroup": "15",
           "marker": {
            "color": "#FFA15A"
           },
           "name": "15",
           "notched": false,
           "offsetgroup": "15",
           "orientation": "v",
           "showlegend": true,
           "type": "box",
           "x": [
            15,
            15
           ],
           "x0": " ",
           "xaxis": "x",
           "y": [
            25.28,
            14.99
           ],
           "y0": " ",
           "yaxis": "y"
          },
          {
           "alignmentgroup": "True",
           "hovertemplate": "Region=%{x}<br> Date= 30-04-2020<br> Estimated Unemployment Rate (%)=%{y}<extra></extra>",
           "legendgroup": "16",
           "marker": {
            "color": "#19d3f3"
           },
           "name": "16",
           "notched": false,
           "offsetgroup": "16",
           "orientation": "v",
           "showlegend": true,
           "type": "box",
           "x": [
            16,
            16
           ],
           "x0": " ",
           "xaxis": "x",
           "y": [
            8.38,
            17.39
           ],
           "y0": " ",
           "yaxis": "y"
          },
          {
           "alignmentgroup": "True",
           "hovertemplate": "Region=%{x}<br> Date= 30-04-2020<br> Estimated Unemployment Rate (%)=%{y}<extra></extra>",
           "legendgroup": "17",
           "marker": {
            "color": "#FF6692"
           },
           "name": "17",
           "notched": false,
           "offsetgroup": "17",
           "orientation": "v",
           "showlegend": true,
           "type": "box",
           "x": [
            17,
            17
           ],
           "x0": " ",
           "xaxis": "x",
           "y": [
            24.48,
            20.5
           ],
           "y0": " ",
           "yaxis": "y"
          },
          {
           "alignmentgroup": "True",
           "hovertemplate": "Region=%{x}<br> Date= 30-04-2020<br> Estimated Unemployment Rate (%)=%{y}<extra></extra>",
           "legendgroup": "18",
           "marker": {
            "color": "#B6E880"
           },
           "name": "18",
           "notched": false,
           "offsetgroup": "18",
           "orientation": "v",
           "showlegend": true,
           "type": "box",
           "x": [
            18,
            18
           ],
           "x0": " ",
           "xaxis": "x",
           "y": [
            74.51,
            76.74
           ],
           "y0": " ",
           "yaxis": "y"
          },
          {
           "alignmentgroup": "True",
           "hovertemplate": "Region=%{x}<br> Date= 30-04-2020<br> Estimated Unemployment Rate (%)=%{y}<extra></extra>",
           "legendgroup": "19",
           "marker": {
            "color": "#FF97FF"
           },
           "name": "19",
           "notched": false,
           "offsetgroup": "19",
           "orientation": "v",
           "showlegend": true,
           "type": "box",
           "x": [
            19,
            19
           ],
           "x0": " ",
           "xaxis": "x",
           "y": [
            3.69,
            1.13
           ],
           "y0": " ",
           "yaxis": "y"
          },
          {
           "alignmentgroup": "True",
           "hovertemplate": "Region=%{x}<br> Date= 30-04-2020<br> Estimated Unemployment Rate (%)=%{y}<extra></extra>",
           "legendgroup": "20",
           "marker": {
            "color": "#FECB52"
           },
           "name": "20",
           "notched": false,
           "offsetgroup": "20",
           "orientation": "v",
           "showlegend": true,
           "type": "box",
           "x": [
            20,
            20
           ],
           "x0": " ",
           "xaxis": "x",
           "y": [
            12.25,
            35.53
           ],
           "y0": " ",
           "yaxis": "y"
          },
          {
           "alignmentgroup": "True",
           "hovertemplate": "Region=%{x}<br> Date= 30-04-2020<br> Estimated Unemployment Rate (%)=%{y}<extra></extra>",
           "legendgroup": "21",
           "marker": {
            "color": "#636efa"
           },
           "name": "21",
           "notched": false,
           "offsetgroup": "21",
           "orientation": "v",
           "showlegend": true,
           "type": "box",
           "x": [
            21,
            21
           ],
           "x0": " ",
           "xaxis": "x",
           "y": [
            0,
            5.77
           ],
           "y0": " ",
           "yaxis": "y"
          },
          {
           "alignmentgroup": "True",
           "hovertemplate": "Region=%{x}<br> Date= 30-04-2020<br> Estimated Unemployment Rate (%)=%{y}<extra></extra>",
           "legendgroup": "22",
           "marker": {
            "color": "#EF553B"
           },
           "name": "22",
           "notched": false,
           "offsetgroup": "22",
           "orientation": "v",
           "showlegend": true,
           "type": "box",
           "x": [
            22,
            22
           ],
           "x0": " ",
           "xaxis": "x",
           "y": [
            53.19,
            45.55
           ],
           "y0": " ",
           "yaxis": "y"
          },
          {
           "alignmentgroup": "True",
           "hovertemplate": "Region=%{x}<br> Date= 30-04-2020<br> Estimated Unemployment Rate (%)=%{y}<extra></extra>",
           "legendgroup": "23",
           "marker": {
            "color": "#00cc96"
           },
           "name": "23",
           "notched": false,
           "offsetgroup": "23",
           "orientation": "v",
           "showlegend": true,
           "type": "box",
           "x": [
            23,
            23
           ],
           "x0": " ",
           "xaxis": "x",
           "y": [
            4.51,
            10.5
           ],
           "y0": " ",
           "yaxis": "y"
          },
          {
           "alignmentgroup": "True",
           "hovertemplate": "Region=%{x}<br> Date= 30-04-2020<br> Estimated Unemployment Rate (%)=%{y}<extra></extra>",
           "legendgroup": "24",
           "marker": {
            "color": "#ab63fa"
           },
           "name": "24",
           "notched": false,
           "offsetgroup": "24",
           "orientation": "v",
           "showlegend": true,
           "type": "box",
           "x": [
            24,
            24
           ],
           "x0": " ",
           "xaxis": "x",
           "y": [
            43.64,
            34.88
           ],
           "y0": " ",
           "yaxis": "y"
          },
          {
           "alignmentgroup": "True",
           "hovertemplate": "Region=%{x}<br> Date= 30-04-2020<br> Estimated Unemployment Rate (%)=%{y}<extra></extra>",
           "legendgroup": "25",
           "marker": {
            "color": "#FFA15A"
           },
           "name": "25",
           "notched": false,
           "offsetgroup": "25",
           "orientation": "v",
           "showlegend": true,
           "type": "box",
           "x": [
            25,
            25
           ],
           "x0": " ",
           "xaxis": "x",
           "y": [
            19.92,
            26.94
           ],
           "y0": " ",
           "yaxis": "y"
          },
          {
           "alignmentgroup": "True",
           "hovertemplate": "Region=%{x}<br> Date= 30-04-2020<br> Estimated Unemployment Rate (%)=%{y}<extra></extra>",
           "legendgroup": "26",
           "marker": {
            "color": "#19d3f3"
           },
           "name": "26",
           "notched": false,
           "offsetgroup": "26",
           "orientation": "v",
           "showlegend": true,
           "type": "box",
           "x": [
            26,
            26
           ],
           "x0": " ",
           "xaxis": "x",
           "y": [
            3.66,
            13.18
           ],
           "y0": " ",
           "yaxis": "y"
          },
          {
           "alignmentgroup": "True",
           "hovertemplate": "Region=%{x}<br> Date= 30-04-2020<br> Estimated Unemployment Rate (%)=%{y}<extra></extra>",
           "legendgroup": "27",
           "marker": {
            "color": "#FF6692"
           },
           "name": "27",
           "notched": false,
           "offsetgroup": "27",
           "orientation": "v",
           "showlegend": true,
           "type": "box",
           "x": [
            27,
            27
           ],
           "x0": " ",
           "xaxis": "x",
           "y": [
            18.32,
            15.63
           ],
           "y0": " ",
           "yaxis": "y"
          }
         ],
         "name": " 30-04-2020"
        },
        {
         "data": [
          {
           "alignmentgroup": "True",
           "hovertemplate": "Region=%{x}<br> Date= 31-05-2020<br> Estimated Unemployment Rate (%)=%{y}<extra></extra>",
           "legendgroup": "0",
           "marker": {
            "color": "#636efa"
           },
           "name": "0",
           "notched": false,
           "offsetgroup": "0",
           "orientation": "v",
           "showlegend": true,
           "type": "box",
           "x": [
            0,
            0
           ],
           "x0": " ",
           "xaxis": "x",
           "y": [
            14.46,
            24.91
           ],
           "y0": " ",
           "yaxis": "y"
          },
          {
           "alignmentgroup": "True",
           "hovertemplate": "Region=%{x}<br> Date= 31-05-2020<br> Estimated Unemployment Rate (%)=%{y}<extra></extra>",
           "legendgroup": "1",
           "marker": {
            "color": "#EF553B"
           },
           "name": "1",
           "notched": false,
           "offsetgroup": "1",
           "orientation": "v",
           "showlegend": true,
           "type": "box",
           "x": [
            1,
            1
           ],
           "x0": " ",
           "xaxis": "x",
           "y": [
            9.38,
            10.77
           ],
           "y0": " ",
           "yaxis": "y"
          },
          {
           "alignmentgroup": "True",
           "hovertemplate": "Region=%{x}<br> Date= 31-05-2020<br> Estimated Unemployment Rate (%)=%{y}<extra></extra>",
           "legendgroup": "2",
           "marker": {
            "color": "#00cc96"
           },
           "name": "2",
           "notched": false,
           "offsetgroup": "2",
           "orientation": "v",
           "showlegend": true,
           "type": "box",
           "x": [
            2,
            2
           ],
           "x0": " ",
           "xaxis": "x",
           "y": [
            47.26,
            37.87
           ],
           "y0": " ",
           "yaxis": "y"
          },
          {
           "alignmentgroup": "True",
           "hovertemplate": "Region=%{x}<br> Date= 31-05-2020<br> Estimated Unemployment Rate (%)=%{y}<extra></extra>",
           "legendgroup": "4",
           "marker": {
            "color": "#ab63fa"
           },
           "name": "4",
           "notched": false,
           "offsetgroup": "4",
           "orientation": "v",
           "showlegend": true,
           "type": "box",
           "x": [
            4,
            4
           ],
           "x0": " ",
           "xaxis": "x",
           "y": [
            7.64,
            24.1
           ],
           "y0": " ",
           "yaxis": "y"
          },
          {
           "alignmentgroup": "True",
           "hovertemplate": "Region=%{x}<br> Date= 31-05-2020<br> Estimated Unemployment Rate (%)=%{y}<extra></extra>",
           "legendgroup": "5",
           "marker": {
            "color": "#FFA15A"
           },
           "name": "5",
           "notched": false,
           "offsetgroup": "5",
           "orientation": "v",
           "showlegend": true,
           "type": "box",
           "x": [
            5,
            5
           ],
           "x0": " ",
           "xaxis": "x",
           "y": [
            22.76,
            45.78
           ],
           "y0": " ",
           "yaxis": "y"
          },
          {
           "alignmentgroup": "True",
           "hovertemplate": "Region=%{x}<br> Date= 31-05-2020<br> Estimated Unemployment Rate (%)=%{y}<extra></extra>",
           "legendgroup": "6",
           "marker": {
            "color": "#19d3f3"
           },
           "name": "6",
           "notched": false,
           "offsetgroup": "6",
           "orientation": "v",
           "showlegend": true,
           "type": "box",
           "x": [
            6
           ],
           "x0": " ",
           "xaxis": "x",
           "y": [
            20
           ],
           "y0": " ",
           "yaxis": "y"
          },
          {
           "alignmentgroup": "True",
           "hovertemplate": "Region=%{x}<br> Date= 31-05-2020<br> Estimated Unemployment Rate (%)=%{y}<extra></extra>",
           "legendgroup": "7",
           "marker": {
            "color": "#FF6692"
           },
           "name": "7",
           "notched": false,
           "offsetgroup": "7",
           "orientation": "v",
           "showlegend": true,
           "type": "box",
           "x": [
            7,
            7
           ],
           "x0": " ",
           "xaxis": "x",
           "y": [
            14.58,
            11.62
           ],
           "y0": " ",
           "yaxis": "y"
          },
          {
           "alignmentgroup": "True",
           "hovertemplate": "Region=%{x}<br> Date= 31-05-2020<br> Estimated Unemployment Rate (%)=%{y}<extra></extra>",
           "legendgroup": "8",
           "marker": {
            "color": "#B6E880"
           },
           "name": "8",
           "notched": false,
           "offsetgroup": "8",
           "orientation": "v",
           "showlegend": true,
           "type": "box",
           "x": [
            8,
            8
           ],
           "x0": " ",
           "xaxis": "x",
           "y": [
            34.22,
            38.46
           ],
           "y0": " ",
           "yaxis": "y"
          },
          {
           "alignmentgroup": "True",
           "hovertemplate": "Region=%{x}<br> Date= 31-05-2020<br> Estimated Unemployment Rate (%)=%{y}<extra></extra>",
           "legendgroup": "9",
           "marker": {
            "color": "#FF97FF"
           },
           "name": "9",
           "notched": false,
           "offsetgroup": "9",
           "orientation": "v",
           "showlegend": true,
           "type": "box",
           "x": [
            9,
            9
           ],
           "x0": " ",
           "xaxis": "x",
           "y": [
            25.64,
            50
           ],
           "y0": " ",
           "yaxis": "y"
          },
          {
           "alignmentgroup": "True",
           "hovertemplate": "Region=%{x}<br> Date= 31-05-2020<br> Estimated Unemployment Rate (%)=%{y}<extra></extra>",
           "legendgroup": "10",
           "marker": {
            "color": "#FECB52"
           },
           "name": "10",
           "notched": false,
           "offsetgroup": "10",
           "orientation": "v",
           "showlegend": true,
           "type": "box",
           "x": [
            10,
            10
           ],
           "x0": " ",
           "xaxis": "x",
           "y": [
            2.22,
            12.96
           ],
           "y0": " ",
           "yaxis": "y"
          },
          {
           "alignmentgroup": "True",
           "hovertemplate": "Region=%{x}<br> Date= 31-05-2020<br> Estimated Unemployment Rate (%)=%{y}<extra></extra>",
           "legendgroup": "11",
           "marker": {
            "color": "#636efa"
           },
           "name": "11",
           "notched": false,
           "offsetgroup": "11",
           "orientation": "v",
           "showlegend": true,
           "type": "box",
           "x": [
            11,
            11
           ],
           "x0": " ",
           "xaxis": "x",
           "y": [
            55.1,
            70.17
           ],
           "y0": " ",
           "yaxis": "y"
          },
          {
           "alignmentgroup": "True",
           "hovertemplate": "Region=%{x}<br> Date= 31-05-2020<br> Estimated Unemployment Rate (%)=%{y}<extra></extra>",
           "legendgroup": "12",
           "marker": {
            "color": "#EF553B"
           },
           "name": "12",
           "notched": false,
           "offsetgroup": "12",
           "orientation": "v",
           "showlegend": true,
           "type": "box",
           "x": [
            12,
            12
           ],
           "x0": " ",
           "xaxis": "x",
           "y": [
            23.72,
            15.88
           ],
           "y0": " ",
           "yaxis": "y"
          },
          {
           "alignmentgroup": "True",
           "hovertemplate": "Region=%{x}<br> Date= 31-05-2020<br> Estimated Unemployment Rate (%)=%{y}<extra></extra>",
           "legendgroup": "13",
           "marker": {
            "color": "#00cc96"
           },
           "name": "13",
           "notched": false,
           "offsetgroup": "13",
           "orientation": "v",
           "showlegend": true,
           "type": "box",
           "x": [
            13,
            13
           ],
           "x0": " ",
           "xaxis": "x",
           "y": [
            23.38,
            30.28
           ],
           "y0": " ",
           "yaxis": "y"
          },
          {
           "alignmentgroup": "True",
           "hovertemplate": "Region=%{x}<br> Date= 31-05-2020<br> Estimated Unemployment Rate (%)=%{y}<extra></extra>",
           "legendgroup": "14",
           "marker": {
            "color": "#ab63fa"
           },
           "name": "14",
           "notched": false,
           "offsetgroup": "14",
           "orientation": "v",
           "showlegend": true,
           "type": "box",
           "x": [
            14,
            14
           ],
           "x0": " ",
           "xaxis": "x",
           "y": [
            22.46,
            40.49
           ],
           "y0": " ",
           "yaxis": "y"
          },
          {
           "alignmentgroup": "True",
           "hovertemplate": "Region=%{x}<br> Date= 31-05-2020<br> Estimated Unemployment Rate (%)=%{y}<extra></extra>",
           "legendgroup": "15",
           "marker": {
            "color": "#FFA15A"
           },
           "name": "15",
           "notched": false,
           "offsetgroup": "15",
           "orientation": "v",
           "showlegend": true,
           "type": "box",
           "x": [
            15,
            15
           ],
           "x0": " ",
           "xaxis": "x",
           "y": [
            16.89,
            15.92
           ],
           "y0": " ",
           "yaxis": "y"
          },
          {
           "alignmentgroup": "True",
           "hovertemplate": "Region=%{x}<br> Date= 31-05-2020<br> Estimated Unemployment Rate (%)=%{y}<extra></extra>",
           "legendgroup": "16",
           "marker": {
            "color": "#19d3f3"
           },
           "name": "16",
           "notched": false,
           "offsetgroup": "16",
           "orientation": "v",
           "showlegend": true,
           "type": "box",
           "x": [
            16,
            16
           ],
           "x0": " ",
           "xaxis": "x",
           "y": [
            3.73,
            14.58
           ],
           "y0": " ",
           "yaxis": "y"
          },
          {
           "alignmentgroup": "True",
           "hovertemplate": "Region=%{x}<br> Date= 31-05-2020<br> Estimated Unemployment Rate (%)=%{y}<extra></extra>",
           "legendgroup": "17",
           "marker": {
            "color": "#FF6692"
           },
           "name": "17",
           "notched": false,
           "offsetgroup": "17",
           "orientation": "v",
           "showlegend": true,
           "type": "box",
           "x": [
            17,
            17
           ],
           "x0": " ",
           "xaxis": "x",
           "y": [
            9.45,
            10
           ],
           "y0": " ",
           "yaxis": "y"
          },
          {
           "alignmentgroup": "True",
           "hovertemplate": "Region=%{x}<br> Date= 31-05-2020<br> Estimated Unemployment Rate (%)=%{y}<extra></extra>",
           "legendgroup": "18",
           "marker": {
            "color": "#B6E880"
           },
           "name": "18",
           "notched": false,
           "offsetgroup": "18",
           "orientation": "v",
           "showlegend": true,
           "type": "box",
           "x": [
            18
           ],
           "x0": " ",
           "xaxis": "x",
           "y": [
            75
           ],
           "y0": " ",
           "yaxis": "y"
          },
          {
           "alignmentgroup": "True",
           "hovertemplate": "Region=%{x}<br> Date= 31-05-2020<br> Estimated Unemployment Rate (%)=%{y}<extra></extra>",
           "legendgroup": "19",
           "marker": {
            "color": "#FF97FF"
           },
           "name": "19",
           "notched": false,
           "offsetgroup": "19",
           "orientation": "v",
           "showlegend": true,
           "type": "box",
           "x": [
            19,
            19
           ],
           "x0": " ",
           "xaxis": "x",
           "y": [
            40.59,
            20.54
           ],
           "y0": " ",
           "yaxis": "y"
          },
          {
           "alignmentgroup": "True",
           "hovertemplate": "Region=%{x}<br> Date= 31-05-2020<br> Estimated Unemployment Rate (%)=%{y}<extra></extra>",
           "legendgroup": "20",
           "marker": {
            "color": "#FECB52"
           },
           "name": "20",
           "notched": false,
           "offsetgroup": "20",
           "orientation": "v",
           "showlegend": true,
           "type": "box",
           "x": [
            20,
            20
           ],
           "x0": " ",
           "xaxis": "x",
           "y": [
            10.45,
            25.35
           ],
           "y0": " ",
           "yaxis": "y"
          },
          {
           "alignmentgroup": "True",
           "hovertemplate": "Region=%{x}<br> Date= 31-05-2020<br> Estimated Unemployment Rate (%)=%{y}<extra></extra>",
           "legendgroup": "21",
           "marker": {
            "color": "#636efa"
           },
           "name": "21",
           "notched": false,
           "offsetgroup": "21",
           "orientation": "v",
           "showlegend": true,
           "type": "box",
           "x": [
            21
           ],
           "x0": " ",
           "xaxis": "x",
           "y": [
            19.75
           ],
           "y0": " ",
           "yaxis": "y"
          },
          {
           "alignmentgroup": "True",
           "hovertemplate": "Region=%{x}<br> Date= 31-05-2020<br> Estimated Unemployment Rate (%)=%{y}<extra></extra>",
           "legendgroup": "22",
           "marker": {
            "color": "#EF553B"
           },
           "name": "22",
           "notched": false,
           "offsetgroup": "22",
           "orientation": "v",
           "showlegend": true,
           "type": "box",
           "x": [
            22,
            22
           ],
           "x0": " ",
           "xaxis": "x",
           "y": [
            38.73,
            25.95
           ],
           "y0": " ",
           "yaxis": "y"
          },
          {
           "alignmentgroup": "True",
           "hovertemplate": "Region=%{x}<br> Date= 31-05-2020<br> Estimated Unemployment Rate (%)=%{y}<extra></extra>",
           "legendgroup": "23",
           "marker": {
            "color": "#00cc96"
           },
           "name": "23",
           "notched": false,
           "offsetgroup": "23",
           "orientation": "v",
           "showlegend": true,
           "type": "box",
           "x": [
            23,
            23
           ],
           "x0": " ",
           "xaxis": "x",
           "y": [
            34.01,
            36.57
           ],
           "y0": " ",
           "yaxis": "y"
          },
          {
           "alignmentgroup": "True",
           "hovertemplate": "Region=%{x}<br> Date= 31-05-2020<br> Estimated Unemployment Rate (%)=%{y}<extra></extra>",
           "legendgroup": "24",
           "marker": {
            "color": "#ab63fa"
           },
           "name": "24",
           "notched": false,
           "offsetgroup": "24",
           "orientation": "v",
           "showlegend": true,
           "type": "box",
           "x": [
            24,
            24
           ],
           "x0": " ",
           "xaxis": "x",
           "y": [
            14.71,
            16.78
           ],
           "y0": " ",
           "yaxis": "y"
          },
          {
           "alignmentgroup": "True",
           "hovertemplate": "Region=%{x}<br> Date= 31-05-2020<br> Estimated Unemployment Rate (%)=%{y}<extra></extra>",
           "legendgroup": "25",
           "marker": {
            "color": "#FFA15A"
           },
           "name": "25",
           "notched": false,
           "offsetgroup": "25",
           "orientation": "v",
           "showlegend": true,
           "type": "box",
           "x": [
            25,
            25
           ],
           "x0": " ",
           "xaxis": "x",
           "y": [
            16.89,
            32.06
           ],
           "y0": " ",
           "yaxis": "y"
          },
          {
           "alignmentgroup": "True",
           "hovertemplate": "Region=%{x}<br> Date= 31-05-2020<br> Estimated Unemployment Rate (%)=%{y}<extra></extra>",
           "legendgroup": "26",
           "marker": {
            "color": "#19d3f3"
           },
           "name": "26",
           "notched": false,
           "offsetgroup": "26",
           "orientation": "v",
           "showlegend": true,
           "type": "box",
           "x": [
            26,
            26
           ],
           "x0": " ",
           "xaxis": "x",
           "y": [
            3.57,
            17.36
           ],
           "y0": " ",
           "yaxis": "y"
          },
          {
           "alignmentgroup": "True",
           "hovertemplate": "Region=%{x}<br> Date= 31-05-2020<br> Estimated Unemployment Rate (%)=%{y}<extra></extra>",
           "legendgroup": "27",
           "marker": {
            "color": "#FF6692"
           },
           "name": "27",
           "notched": false,
           "offsetgroup": "27",
           "orientation": "v",
           "showlegend": true,
           "type": "box",
           "x": [
            27,
            27
           ],
           "x0": " ",
           "xaxis": "x",
           "y": [
            18.43,
            15.22
           ],
           "y0": " ",
           "yaxis": "y"
          }
         ],
         "name": " 31-05-2020"
        },
        {
         "data": [
          {
           "alignmentgroup": "True",
           "hovertemplate": "Region=%{x}<br> Date= 30-06-2020<br> Estimated Unemployment Rate (%)=%{y}<extra></extra>",
           "legendgroup": "0",
           "marker": {
            "color": "#636efa"
           },
           "name": "0",
           "notched": false,
           "offsetgroup": "0",
           "orientation": "v",
           "showlegend": true,
           "type": "box",
           "x": [
            0,
            0
           ],
           "x0": " ",
           "xaxis": "x",
           "y": [
            0.85,
            5.86
           ],
           "y0": " ",
           "yaxis": "y"
          },
          {
           "alignmentgroup": "True",
           "hovertemplate": "Region=%{x}<br> Date= 30-06-2020<br> Estimated Unemployment Rate (%)=%{y}<extra></extra>",
           "legendgroup": "1",
           "marker": {
            "color": "#EF553B"
           },
           "name": "1",
           "notched": false,
           "offsetgroup": "1",
           "orientation": "v",
           "showlegend": true,
           "type": "box",
           "x": [
            1,
            1
           ],
           "x0": " ",
           "xaxis": "x",
           "y": [
            0,
            3.42
           ],
           "y0": " ",
           "yaxis": "y"
          },
          {
           "alignmentgroup": "True",
           "hovertemplate": "Region=%{x}<br> Date= 30-06-2020<br> Estimated Unemployment Rate (%)=%{y}<extra></extra>",
           "legendgroup": "2",
           "marker": {
            "color": "#00cc96"
           },
           "name": "2",
           "notched": false,
           "offsetgroup": "2",
           "orientation": "v",
           "showlegend": true,
           "type": "box",
           "x": [
            2,
            2
           ],
           "x0": " ",
           "xaxis": "x",
           "y": [
            20.49,
            12.45
           ],
           "y0": " ",
           "yaxis": "y"
          },
          {
           "alignmentgroup": "True",
           "hovertemplate": "Region=%{x}<br> Date= 30-06-2020<br> Estimated Unemployment Rate (%)=%{y}<extra></extra>",
           "legendgroup": "4",
           "marker": {
            "color": "#ab63fa"
           },
           "name": "4",
           "notched": false,
           "offsetgroup": "4",
           "orientation": "v",
           "showlegend": true,
           "type": "box",
           "x": [
            4,
            4
           ],
           "x0": " ",
           "xaxis": "x",
           "y": [
            10.14,
            27.07
           ],
           "y0": " ",
           "yaxis": "y"
          },
          {
           "alignmentgroup": "True",
           "hovertemplate": "Region=%{x}<br> Date= 30-06-2020<br> Estimated Unemployment Rate (%)=%{y}<extra></extra>",
           "legendgroup": "5",
           "marker": {
            "color": "#FFA15A"
           },
           "name": "5",
           "notched": false,
           "offsetgroup": "5",
           "orientation": "v",
           "showlegend": true,
           "type": "box",
           "x": [
            5,
            5
           ],
           "x0": " ",
           "xaxis": "x",
           "y": [
            21.14,
            18.11
           ],
           "y0": " ",
           "yaxis": "y"
          },
          {
           "alignmentgroup": "True",
           "hovertemplate": "Region=%{x}<br> Date= 30-06-2020<br> Estimated Unemployment Rate (%)=%{y}<extra></extra>",
           "legendgroup": "7",
           "marker": {
            "color": "#FF6692"
           },
           "name": "7",
           "notched": false,
           "offsetgroup": "7",
           "orientation": "v",
           "showlegend": true,
           "type": "box",
           "x": [
            7,
            7
           ],
           "x0": " ",
           "xaxis": "x",
           "y": [
            1.41,
            4.54
           ],
           "y0": " ",
           "yaxis": "y"
          },
          {
           "alignmentgroup": "True",
           "hovertemplate": "Region=%{x}<br> Date= 30-06-2020<br> Estimated Unemployment Rate (%)=%{y}<extra></extra>",
           "legendgroup": "8",
           "marker": {
            "color": "#B6E880"
           },
           "name": "8",
           "notched": false,
           "offsetgroup": "8",
           "orientation": "v",
           "showlegend": true,
           "type": "box",
           "x": [
            8,
            8
           ],
           "x0": " ",
           "xaxis": "x",
           "y": [
            35.57,
            29.41
           ],
           "y0": " ",
           "yaxis": "y"
          },
          {
           "alignmentgroup": "True",
           "hovertemplate": "Region=%{x}<br> Date= 30-06-2020<br> Estimated Unemployment Rate (%)=%{y}<extra></extra>",
           "legendgroup": "9",
           "marker": {
            "color": "#FF97FF"
           },
           "name": "9",
           "notched": false,
           "offsetgroup": "9",
           "orientation": "v",
           "showlegend": true,
           "type": "box",
           "x": [
            9,
            9
           ],
           "x0": " ",
           "xaxis": "x",
           "y": [
            1.12,
            10.81
           ],
           "y0": " ",
           "yaxis": "y"
          },
          {
           "alignmentgroup": "True",
           "hovertemplate": "Region=%{x}<br> Date= 30-06-2020<br> Estimated Unemployment Rate (%)=%{y}<extra></extra>",
           "legendgroup": "10",
           "marker": {
            "color": "#FECB52"
           },
           "name": "10",
           "notched": false,
           "offsetgroup": "10",
           "orientation": "v",
           "showlegend": true,
           "type": "box",
           "x": [
            10
           ],
           "x0": " ",
           "xaxis": "x",
           "y": [
            18.97
           ],
           "y0": " ",
           "yaxis": "y"
          },
          {
           "alignmentgroup": "True",
           "hovertemplate": "Region=%{x}<br> Date= 30-06-2020<br> Estimated Unemployment Rate (%)=%{y}<extra></extra>",
           "legendgroup": "11",
           "marker": {
            "color": "#636efa"
           },
           "name": "11",
           "notched": false,
           "offsetgroup": "11",
           "orientation": "v",
           "showlegend": true,
           "type": "box",
           "x": [
            11,
            11
           ],
           "x0": " ",
           "xaxis": "x",
           "y": [
            21.53,
            19.38
           ],
           "y0": " ",
           "yaxis": "y"
          },
          {
           "alignmentgroup": "True",
           "hovertemplate": "Region=%{x}<br> Date= 30-06-2020<br> Estimated Unemployment Rate (%)=%{y}<extra></extra>",
           "legendgroup": "12",
           "marker": {
            "color": "#EF553B"
           },
           "name": "12",
           "notched": false,
           "offsetgroup": "12",
           "orientation": "v",
           "showlegend": true,
           "type": "box",
           "x": [
            12,
            12
           ],
           "x0": " ",
           "xaxis": "x",
           "y": [
            10.92,
            6.12
           ],
           "y0": " ",
           "yaxis": "y"
          },
          {
           "alignmentgroup": "True",
           "hovertemplate": "Region=%{x}<br> Date= 30-06-2020<br> Estimated Unemployment Rate (%)=%{y}<extra></extra>",
           "legendgroup": "13",
           "marker": {
            "color": "#00cc96"
           },
           "name": "13",
           "notched": false,
           "offsetgroup": "13",
           "orientation": "v",
           "showlegend": true,
           "type": "box",
           "x": [
            13,
            13
           ],
           "x0": " ",
           "xaxis": "x",
           "y": [
            27.66,
            12.17
           ],
           "y0": " ",
           "yaxis": "y"
          },
          {
           "alignmentgroup": "True",
           "hovertemplate": "Region=%{x}<br> Date= 30-06-2020<br> Estimated Unemployment Rate (%)=%{y}<extra></extra>",
           "legendgroup": "14",
           "marker": {
            "color": "#ab63fa"
           },
           "name": "14",
           "notched": false,
           "offsetgroup": "14",
           "orientation": "v",
           "showlegend": true,
           "type": "box",
           "x": [
            14,
            14
           ],
           "x0": " ",
           "xaxis": "x",
           "y": [
            6.46,
            12.72
           ],
           "y0": " ",
           "yaxis": "y"
          },
          {
           "alignmentgroup": "True",
           "hovertemplate": "Region=%{x}<br> Date= 30-06-2020<br> Estimated Unemployment Rate (%)=%{y}<extra></extra>",
           "legendgroup": "15",
           "marker": {
            "color": "#FFA15A"
           },
           "name": "15",
           "notched": false,
           "offsetgroup": "15",
           "orientation": "v",
           "showlegend": true,
           "type": "box",
           "x": [
            15,
            15
           ],
           "x0": " ",
           "xaxis": "x",
           "y": [
            9.4,
            10.01
           ],
           "y0": " ",
           "yaxis": "y"
          },
          {
           "alignmentgroup": "True",
           "hovertemplate": "Region=%{x}<br> Date= 30-06-2020<br> Estimated Unemployment Rate (%)=%{y}<extra></extra>",
           "legendgroup": "16",
           "marker": {
            "color": "#19d3f3"
           },
           "name": "16",
           "notched": false,
           "offsetgroup": "16",
           "orientation": "v",
           "showlegend": true,
           "type": "box",
           "x": [
            16
           ],
           "x0": " ",
           "xaxis": "x",
           "y": [
            1.35
           ],
           "y0": " ",
           "yaxis": "y"
          },
          {
           "alignmentgroup": "True",
           "hovertemplate": "Region=%{x}<br> Date= 30-06-2020<br> Estimated Unemployment Rate (%)=%{y}<extra></extra>",
           "legendgroup": "17",
           "marker": {
            "color": "#FF6692"
           },
           "name": "17",
           "notched": false,
           "offsetgroup": "17",
           "orientation": "v",
           "showlegend": true,
           "type": "box",
           "x": [
            17,
            17
           ],
           "x0": " ",
           "xaxis": "x",
           "y": [
            4.59,
            2.18
           ],
           "y0": " ",
           "yaxis": "y"
          },
          {
           "alignmentgroup": "True",
           "hovertemplate": "Region=%{x}<br> Date= 30-06-2020<br> Estimated Unemployment Rate (%)=%{y}<extra></extra>",
           "legendgroup": "18",
           "marker": {
            "color": "#B6E880"
           },
           "name": "18",
           "notched": false,
           "offsetgroup": "18",
           "orientation": "v",
           "showlegend": true,
           "type": "box",
           "x": [
            18
           ],
           "x0": " ",
           "xaxis": "x",
           "y": [
            4.55
           ],
           "y0": " ",
           "yaxis": "y"
          },
          {
           "alignmentgroup": "True",
           "hovertemplate": "Region=%{x}<br> Date= 30-06-2020<br> Estimated Unemployment Rate (%)=%{y}<extra></extra>",
           "legendgroup": "19",
           "marker": {
            "color": "#FF97FF"
           },
           "name": "19",
           "notched": false,
           "offsetgroup": "19",
           "orientation": "v",
           "showlegend": true,
           "type": "box",
           "x": [
            19,
            19
           ],
           "x0": " ",
           "xaxis": "x",
           "y": [
            20,
            10.55
           ],
           "y0": " ",
           "yaxis": "y"
          },
          {
           "alignmentgroup": "True",
           "hovertemplate": "Region=%{x}<br> Date= 30-06-2020<br> Estimated Unemployment Rate (%)=%{y}<extra></extra>",
           "legendgroup": "20",
           "marker": {
            "color": "#FECB52"
           },
           "name": "20",
           "notched": false,
           "offsetgroup": "20",
           "orientation": "v",
           "showlegend": true,
           "type": "box",
           "x": [
            20,
            20
           ],
           "x0": " ",
           "xaxis": "x",
           "y": [
            13.86,
            13.04
           ],
           "y0": " ",
           "yaxis": "y"
          },
          {
           "alignmentgroup": "True",
           "hovertemplate": "Region=%{x}<br> Date= 30-06-2020<br> Estimated Unemployment Rate (%)=%{y}<extra></extra>",
           "legendgroup": "21",
           "marker": {
            "color": "#636efa"
           },
           "name": "21",
           "notched": false,
           "offsetgroup": "21",
           "orientation": "v",
           "showlegend": true,
           "type": "box",
           "x": [
            21,
            21
           ],
           "x0": " ",
           "xaxis": "x",
           "y": [
            5.81,
            2.63
           ],
           "y0": " ",
           "yaxis": "y"
          },
          {
           "alignmentgroup": "True",
           "hovertemplate": "Region=%{x}<br> Date= 30-06-2020<br> Estimated Unemployment Rate (%)=%{y}<extra></extra>",
           "legendgroup": "22",
           "marker": {
            "color": "#EF553B"
           },
           "name": "22",
           "notched": false,
           "offsetgroup": "22",
           "orientation": "v",
           "showlegend": true,
           "type": "box",
           "x": [
            22,
            22
           ],
           "x0": " ",
           "xaxis": "x",
           "y": [
            2.06,
            24.93
           ],
           "y0": " ",
           "yaxis": "y"
          },
          {
           "alignmentgroup": "True",
           "hovertemplate": "Region=%{x}<br> Date= 30-06-2020<br> Estimated Unemployment Rate (%)=%{y}<extra></extra>",
           "legendgroup": "23",
           "marker": {
            "color": "#00cc96"
           },
           "name": "23",
           "notched": false,
           "offsetgroup": "23",
           "orientation": "v",
           "showlegend": true,
           "type": "box",
           "x": [
            23,
            23
           ],
           "x0": " ",
           "xaxis": "x",
           "y": [
            19.3,
            6.92
           ],
           "y0": " ",
           "yaxis": "y"
          },
          {
           "alignmentgroup": "True",
           "hovertemplate": "Region=%{x}<br> Date= 30-06-2020<br> Estimated Unemployment Rate (%)=%{y}<extra></extra>",
           "legendgroup": "24",
           "marker": {
            "color": "#ab63fa"
           },
           "name": "24",
           "notched": false,
           "offsetgroup": "24",
           "orientation": "v",
           "showlegend": true,
           "type": "box",
           "x": [
            24,
            24
           ],
           "x0": " ",
           "xaxis": "x",
           "y": [
            18.84,
            27.47
           ],
           "y0": " ",
           "yaxis": "y"
          },
          {
           "alignmentgroup": "True",
           "hovertemplate": "Region=%{x}<br> Date= 30-06-2020<br> Estimated Unemployment Rate (%)=%{y}<extra></extra>",
           "legendgroup": "25",
           "marker": {
            "color": "#FFA15A"
           },
           "name": "25",
           "notched": false,
           "offsetgroup": "25",
           "orientation": "v",
           "showlegend": true,
           "type": "box",
           "x": [
            25,
            25
           ],
           "x0": " ",
           "xaxis": "x",
           "y": [
            8.51,
            13.05
           ],
           "y0": " ",
           "yaxis": "y"
          },
          {
           "alignmentgroup": "True",
           "hovertemplate": "Region=%{x}<br> Date= 30-06-2020<br> Estimated Unemployment Rate (%)=%{y}<extra></extra>",
           "legendgroup": "26",
           "marker": {
            "color": "#19d3f3"
           },
           "name": "26",
           "notched": false,
           "offsetgroup": "26",
           "orientation": "v",
           "showlegend": true,
           "type": "box",
           "x": [
            26,
            26
           ],
           "x0": " ",
           "xaxis": "x",
           "y": [
            10.71,
            5.08
           ],
           "y0": " ",
           "yaxis": "y"
          },
          {
           "alignmentgroup": "True",
           "hovertemplate": "Region=%{x}<br> Date= 30-06-2020<br> Estimated Unemployment Rate (%)=%{y}<extra></extra>",
           "legendgroup": "27",
           "marker": {
            "color": "#FF6692"
           },
           "name": "27",
           "notched": false,
           "offsetgroup": "27",
           "orientation": "v",
           "showlegend": true,
           "type": "box",
           "x": [
            27,
            27
           ],
           "x0": " ",
           "xaxis": "x",
           "y": [
            4.94,
            9.86
           ],
           "y0": " ",
           "yaxis": "y"
          },
          {
           "alignmentgroup": "True",
           "hovertemplate": "Region=%{x}<br> Date= 30-06-2020<br> Estimated Unemployment Rate (%)=%{y}<extra></extra>",
           "legendgroup": "3",
           "marker": {
            "color": "#FF97FF"
           },
           "name": "3",
           "notched": false,
           "offsetgroup": "3",
           "orientation": "v",
           "showlegend": true,
           "type": "box",
           "x": [
            3
           ],
           "x0": " ",
           "xaxis": "x",
           "y": [
            7.22
           ],
           "y0": " ",
           "yaxis": "y"
          }
         ],
         "name": " 30-06-2020"
        }
       ],
       "layout": {
        "boxmode": "overlay",
        "legend": {
         "title": {
          "text": "Region"
         },
         "tracegroupgap": 0
        },
        "sliders": [
         {
          "active": 0,
          "currentvalue": {
           "prefix": " Date="
          },
          "len": 0.9,
          "pad": {
           "b": 10,
           "t": 60
          },
          "steps": [
           {
            "args": [
             [
              " 31-05-2019"
             ],
             {
              "frame": {
               "duration": 0,
               "redraw": true
              },
              "fromcurrent": true,
              "mode": "immediate",
              "transition": {
               "duration": 0,
               "easing": "linear"
              }
             }
            ],
            "label": " 31-05-2019",
            "method": "animate"
           },
           {
            "args": [
             [
              " 30-06-2019"
             ],
             {
              "frame": {
               "duration": 0,
               "redraw": true
              },
              "fromcurrent": true,
              "mode": "immediate",
              "transition": {
               "duration": 0,
               "easing": "linear"
              }
             }
            ],
            "label": " 30-06-2019",
            "method": "animate"
           },
           {
            "args": [
             [
              " 31-07-2019"
             ],
             {
              "frame": {
               "duration": 0,
               "redraw": true
              },
              "fromcurrent": true,
              "mode": "immediate",
              "transition": {
               "duration": 0,
               "easing": "linear"
              }
             }
            ],
            "label": " 31-07-2019",
            "method": "animate"
           },
           {
            "args": [
             [
              " 31-08-2019"
             ],
             {
              "frame": {
               "duration": 0,
               "redraw": true
              },
              "fromcurrent": true,
              "mode": "immediate",
              "transition": {
               "duration": 0,
               "easing": "linear"
              }
             }
            ],
            "label": " 31-08-2019",
            "method": "animate"
           },
           {
            "args": [
             [
              " 30-09-2019"
             ],
             {
              "frame": {
               "duration": 0,
               "redraw": true
              },
              "fromcurrent": true,
              "mode": "immediate",
              "transition": {
               "duration": 0,
               "easing": "linear"
              }
             }
            ],
            "label": " 30-09-2019",
            "method": "animate"
           },
           {
            "args": [
             [
              " 31-10-2019"
             ],
             {
              "frame": {
               "duration": 0,
               "redraw": true
              },
              "fromcurrent": true,
              "mode": "immediate",
              "transition": {
               "duration": 0,
               "easing": "linear"
              }
             }
            ],
            "label": " 31-10-2019",
            "method": "animate"
           },
           {
            "args": [
             [
              " 30-11-2019"
             ],
             {
              "frame": {
               "duration": 0,
               "redraw": true
              },
              "fromcurrent": true,
              "mode": "immediate",
              "transition": {
               "duration": 0,
               "easing": "linear"
              }
             }
            ],
            "label": " 30-11-2019",
            "method": "animate"
           },
           {
            "args": [
             [
              " 31-12-2019"
             ],
             {
              "frame": {
               "duration": 0,
               "redraw": true
              },
              "fromcurrent": true,
              "mode": "immediate",
              "transition": {
               "duration": 0,
               "easing": "linear"
              }
             }
            ],
            "label": " 31-12-2019",
            "method": "animate"
           },
           {
            "args": [
             [
              " 31-01-2020"
             ],
             {
              "frame": {
               "duration": 0,
               "redraw": true
              },
              "fromcurrent": true,
              "mode": "immediate",
              "transition": {
               "duration": 0,
               "easing": "linear"
              }
             }
            ],
            "label": " 31-01-2020",
            "method": "animate"
           },
           {
            "args": [
             [
              " 29-02-2020"
             ],
             {
              "frame": {
               "duration": 0,
               "redraw": true
              },
              "fromcurrent": true,
              "mode": "immediate",
              "transition": {
               "duration": 0,
               "easing": "linear"
              }
             }
            ],
            "label": " 29-02-2020",
            "method": "animate"
           },
           {
            "args": [
             [
              " 31-03-2020"
             ],
             {
              "frame": {
               "duration": 0,
               "redraw": true
              },
              "fromcurrent": true,
              "mode": "immediate",
              "transition": {
               "duration": 0,
               "easing": "linear"
              }
             }
            ],
            "label": " 31-03-2020",
            "method": "animate"
           },
           {
            "args": [
             [
              " 30-04-2020"
             ],
             {
              "frame": {
               "duration": 0,
               "redraw": true
              },
              "fromcurrent": true,
              "mode": "immediate",
              "transition": {
               "duration": 0,
               "easing": "linear"
              }
             }
            ],
            "label": " 30-04-2020",
            "method": "animate"
           },
           {
            "args": [
             [
              " 31-05-2020"
             ],
             {
              "frame": {
               "duration": 0,
               "redraw": true
              },
              "fromcurrent": true,
              "mode": "immediate",
              "transition": {
               "duration": 0,
               "easing": "linear"
              }
             }
            ],
            "label": " 31-05-2020",
            "method": "animate"
           },
           {
            "args": [
             [
              " 30-06-2020"
             ],
             {
              "frame": {
               "duration": 0,
               "redraw": true
              },
              "fromcurrent": true,
              "mode": "immediate",
              "transition": {
               "duration": 0,
               "easing": "linear"
              }
             }
            ],
            "label": " 30-06-2020",
            "method": "animate"
           }
          ],
          "x": 0.1,
          "xanchor": "left",
          "y": 0,
          "yanchor": "top"
         }
        ],
        "template": {
         "data": {
          "bar": [
           {
            "error_x": {
             "color": "#2a3f5f"
            },
            "error_y": {
             "color": "#2a3f5f"
            },
            "marker": {
             "line": {
              "color": "#E5ECF6",
              "width": 0.5
             },
             "pattern": {
              "fillmode": "overlay",
              "size": 10,
              "solidity": 0.2
             }
            },
            "type": "bar"
           }
          ],
          "barpolar": [
           {
            "marker": {
             "line": {
              "color": "#E5ECF6",
              "width": 0.5
             },
             "pattern": {
              "fillmode": "overlay",
              "size": 10,
              "solidity": 0.2
             }
            },
            "type": "barpolar"
           }
          ],
          "carpet": [
           {
            "aaxis": {
             "endlinecolor": "#2a3f5f",
             "gridcolor": "white",
             "linecolor": "white",
             "minorgridcolor": "white",
             "startlinecolor": "#2a3f5f"
            },
            "baxis": {
             "endlinecolor": "#2a3f5f",
             "gridcolor": "white",
             "linecolor": "white",
             "minorgridcolor": "white",
             "startlinecolor": "#2a3f5f"
            },
            "type": "carpet"
           }
          ],
          "choropleth": [
           {
            "colorbar": {
             "outlinewidth": 0,
             "ticks": ""
            },
            "type": "choropleth"
           }
          ],
          "contour": [
           {
            "colorbar": {
             "outlinewidth": 0,
             "ticks": ""
            },
            "colorscale": [
             [
              0,
              "#0d0887"
             ],
             [
              0.1111111111111111,
              "#46039f"
             ],
             [
              0.2222222222222222,
              "#7201a8"
             ],
             [
              0.3333333333333333,
              "#9c179e"
             ],
             [
              0.4444444444444444,
              "#bd3786"
             ],
             [
              0.5555555555555556,
              "#d8576b"
             ],
             [
              0.6666666666666666,
              "#ed7953"
             ],
             [
              0.7777777777777778,
              "#fb9f3a"
             ],
             [
              0.8888888888888888,
              "#fdca26"
             ],
             [
              1,
              "#f0f921"
             ]
            ],
            "type": "contour"
           }
          ],
          "contourcarpet": [
           {
            "colorbar": {
             "outlinewidth": 0,
             "ticks": ""
            },
            "type": "contourcarpet"
           }
          ],
          "heatmap": [
           {
            "colorbar": {
             "outlinewidth": 0,
             "ticks": ""
            },
            "colorscale": [
             [
              0,
              "#0d0887"
             ],
             [
              0.1111111111111111,
              "#46039f"
             ],
             [
              0.2222222222222222,
              "#7201a8"
             ],
             [
              0.3333333333333333,
              "#9c179e"
             ],
             [
              0.4444444444444444,
              "#bd3786"
             ],
             [
              0.5555555555555556,
              "#d8576b"
             ],
             [
              0.6666666666666666,
              "#ed7953"
             ],
             [
              0.7777777777777778,
              "#fb9f3a"
             ],
             [
              0.8888888888888888,
              "#fdca26"
             ],
             [
              1,
              "#f0f921"
             ]
            ],
            "type": "heatmap"
           }
          ],
          "heatmapgl": [
           {
            "colorbar": {
             "outlinewidth": 0,
             "ticks": ""
            },
            "colorscale": [
             [
              0,
              "#0d0887"
             ],
             [
              0.1111111111111111,
              "#46039f"
             ],
             [
              0.2222222222222222,
              "#7201a8"
             ],
             [
              0.3333333333333333,
              "#9c179e"
             ],
             [
              0.4444444444444444,
              "#bd3786"
             ],
             [
              0.5555555555555556,
              "#d8576b"
             ],
             [
              0.6666666666666666,
              "#ed7953"
             ],
             [
              0.7777777777777778,
              "#fb9f3a"
             ],
             [
              0.8888888888888888,
              "#fdca26"
             ],
             [
              1,
              "#f0f921"
             ]
            ],
            "type": "heatmapgl"
           }
          ],
          "histogram": [
           {
            "marker": {
             "pattern": {
              "fillmode": "overlay",
              "size": 10,
              "solidity": 0.2
             }
            },
            "type": "histogram"
           }
          ],
          "histogram2d": [
           {
            "colorbar": {
             "outlinewidth": 0,
             "ticks": ""
            },
            "colorscale": [
             [
              0,
              "#0d0887"
             ],
             [
              0.1111111111111111,
              "#46039f"
             ],
             [
              0.2222222222222222,
              "#7201a8"
             ],
             [
              0.3333333333333333,
              "#9c179e"
             ],
             [
              0.4444444444444444,
              "#bd3786"
             ],
             [
              0.5555555555555556,
              "#d8576b"
             ],
             [
              0.6666666666666666,
              "#ed7953"
             ],
             [
              0.7777777777777778,
              "#fb9f3a"
             ],
             [
              0.8888888888888888,
              "#fdca26"
             ],
             [
              1,
              "#f0f921"
             ]
            ],
            "type": "histogram2d"
           }
          ],
          "histogram2dcontour": [
           {
            "colorbar": {
             "outlinewidth": 0,
             "ticks": ""
            },
            "colorscale": [
             [
              0,
              "#0d0887"
             ],
             [
              0.1111111111111111,
              "#46039f"
             ],
             [
              0.2222222222222222,
              "#7201a8"
             ],
             [
              0.3333333333333333,
              "#9c179e"
             ],
             [
              0.4444444444444444,
              "#bd3786"
             ],
             [
              0.5555555555555556,
              "#d8576b"
             ],
             [
              0.6666666666666666,
              "#ed7953"
             ],
             [
              0.7777777777777778,
              "#fb9f3a"
             ],
             [
              0.8888888888888888,
              "#fdca26"
             ],
             [
              1,
              "#f0f921"
             ]
            ],
            "type": "histogram2dcontour"
           }
          ],
          "mesh3d": [
           {
            "colorbar": {
             "outlinewidth": 0,
             "ticks": ""
            },
            "type": "mesh3d"
           }
          ],
          "parcoords": [
           {
            "line": {
             "colorbar": {
              "outlinewidth": 0,
              "ticks": ""
             }
            },
            "type": "parcoords"
           }
          ],
          "pie": [
           {
            "automargin": true,
            "type": "pie"
           }
          ],
          "scatter": [
           {
            "fillpattern": {
             "fillmode": "overlay",
             "size": 10,
             "solidity": 0.2
            },
            "type": "scatter"
           }
          ],
          "scatter3d": [
           {
            "line": {
             "colorbar": {
              "outlinewidth": 0,
              "ticks": ""
             }
            },
            "marker": {
             "colorbar": {
              "outlinewidth": 0,
              "ticks": ""
             }
            },
            "type": "scatter3d"
           }
          ],
          "scattercarpet": [
           {
            "marker": {
             "colorbar": {
              "outlinewidth": 0,
              "ticks": ""
             }
            },
            "type": "scattercarpet"
           }
          ],
          "scattergeo": [
           {
            "marker": {
             "colorbar": {
              "outlinewidth": 0,
              "ticks": ""
             }
            },
            "type": "scattergeo"
           }
          ],
          "scattergl": [
           {
            "marker": {
             "colorbar": {
              "outlinewidth": 0,
              "ticks": ""
             }
            },
            "type": "scattergl"
           }
          ],
          "scattermapbox": [
           {
            "marker": {
             "colorbar": {
              "outlinewidth": 0,
              "ticks": ""
             }
            },
            "type": "scattermapbox"
           }
          ],
          "scatterpolar": [
           {
            "marker": {
             "colorbar": {
              "outlinewidth": 0,
              "ticks": ""
             }
            },
            "type": "scatterpolar"
           }
          ],
          "scatterpolargl": [
           {
            "marker": {
             "colorbar": {
              "outlinewidth": 0,
              "ticks": ""
             }
            },
            "type": "scatterpolargl"
           }
          ],
          "scatterternary": [
           {
            "marker": {
             "colorbar": {
              "outlinewidth": 0,
              "ticks": ""
             }
            },
            "type": "scatterternary"
           }
          ],
          "surface": [
           {
            "colorbar": {
             "outlinewidth": 0,
             "ticks": ""
            },
            "colorscale": [
             [
              0,
              "#0d0887"
             ],
             [
              0.1111111111111111,
              "#46039f"
             ],
             [
              0.2222222222222222,
              "#7201a8"
             ],
             [
              0.3333333333333333,
              "#9c179e"
             ],
             [
              0.4444444444444444,
              "#bd3786"
             ],
             [
              0.5555555555555556,
              "#d8576b"
             ],
             [
              0.6666666666666666,
              "#ed7953"
             ],
             [
              0.7777777777777778,
              "#fb9f3a"
             ],
             [
              0.8888888888888888,
              "#fdca26"
             ],
             [
              1,
              "#f0f921"
             ]
            ],
            "type": "surface"
           }
          ],
          "table": [
           {
            "cells": {
             "fill": {
              "color": "#EBF0F8"
             },
             "line": {
              "color": "white"
             }
            },
            "header": {
             "fill": {
              "color": "#C8D4E3"
             },
             "line": {
              "color": "white"
             }
            },
            "type": "table"
           }
          ]
         },
         "layout": {
          "annotationdefaults": {
           "arrowcolor": "#2a3f5f",
           "arrowhead": 0,
           "arrowwidth": 1
          },
          "autotypenumbers": "strict",
          "coloraxis": {
           "colorbar": {
            "outlinewidth": 0,
            "ticks": ""
           }
          },
          "colorscale": {
           "diverging": [
            [
             0,
             "#8e0152"
            ],
            [
             0.1,
             "#c51b7d"
            ],
            [
             0.2,
             "#de77ae"
            ],
            [
             0.3,
             "#f1b6da"
            ],
            [
             0.4,
             "#fde0ef"
            ],
            [
             0.5,
             "#f7f7f7"
            ],
            [
             0.6,
             "#e6f5d0"
            ],
            [
             0.7,
             "#b8e186"
            ],
            [
             0.8,
             "#7fbc41"
            ],
            [
             0.9,
             "#4d9221"
            ],
            [
             1,
             "#276419"
            ]
           ],
           "sequential": [
            [
             0,
             "#0d0887"
            ],
            [
             0.1111111111111111,
             "#46039f"
            ],
            [
             0.2222222222222222,
             "#7201a8"
            ],
            [
             0.3333333333333333,
             "#9c179e"
            ],
            [
             0.4444444444444444,
             "#bd3786"
            ],
            [
             0.5555555555555556,
             "#d8576b"
            ],
            [
             0.6666666666666666,
             "#ed7953"
            ],
            [
             0.7777777777777778,
             "#fb9f3a"
            ],
            [
             0.8888888888888888,
             "#fdca26"
            ],
            [
             1,
             "#f0f921"
            ]
           ],
           "sequentialminus": [
            [
             0,
             "#0d0887"
            ],
            [
             0.1111111111111111,
             "#46039f"
            ],
            [
             0.2222222222222222,
             "#7201a8"
            ],
            [
             0.3333333333333333,
             "#9c179e"
            ],
            [
             0.4444444444444444,
             "#bd3786"
            ],
            [
             0.5555555555555556,
             "#d8576b"
            ],
            [
             0.6666666666666666,
             "#ed7953"
            ],
            [
             0.7777777777777778,
             "#fb9f3a"
            ],
            [
             0.8888888888888888,
             "#fdca26"
            ],
            [
             1,
             "#f0f921"
            ]
           ]
          },
          "colorway": [
           "#636efa",
           "#EF553B",
           "#00cc96",
           "#ab63fa",
           "#FFA15A",
           "#19d3f3",
           "#FF6692",
           "#B6E880",
           "#FF97FF",
           "#FECB52"
          ],
          "font": {
           "color": "#2a3f5f"
          },
          "geo": {
           "bgcolor": "white",
           "lakecolor": "white",
           "landcolor": "#E5ECF6",
           "showlakes": true,
           "showland": true,
           "subunitcolor": "white"
          },
          "hoverlabel": {
           "align": "left"
          },
          "hovermode": "closest",
          "mapbox": {
           "style": "light"
          },
          "paper_bgcolor": "white",
          "plot_bgcolor": "#E5ECF6",
          "polar": {
           "angularaxis": {
            "gridcolor": "white",
            "linecolor": "white",
            "ticks": ""
           },
           "bgcolor": "#E5ECF6",
           "radialaxis": {
            "gridcolor": "white",
            "linecolor": "white",
            "ticks": ""
           }
          },
          "scene": {
           "xaxis": {
            "backgroundcolor": "#E5ECF6",
            "gridcolor": "white",
            "gridwidth": 2,
            "linecolor": "white",
            "showbackground": true,
            "ticks": "",
            "zerolinecolor": "white"
           },
           "yaxis": {
            "backgroundcolor": "#E5ECF6",
            "gridcolor": "white",
            "gridwidth": 2,
            "linecolor": "white",
            "showbackground": true,
            "ticks": "",
            "zerolinecolor": "white"
           },
           "zaxis": {
            "backgroundcolor": "#E5ECF6",
            "gridcolor": "white",
            "gridwidth": 2,
            "linecolor": "white",
            "showbackground": true,
            "ticks": "",
            "zerolinecolor": "white"
           }
          },
          "shapedefaults": {
           "line": {
            "color": "#2a3f5f"
           }
          },
          "ternary": {
           "aaxis": {
            "gridcolor": "white",
            "linecolor": "white",
            "ticks": ""
           },
           "baxis": {
            "gridcolor": "white",
            "linecolor": "white",
            "ticks": ""
           },
           "bgcolor": "#E5ECF6",
           "caxis": {
            "gridcolor": "white",
            "linecolor": "white",
            "ticks": ""
           }
          },
          "title": {
           "x": 0.05
          },
          "xaxis": {
           "automargin": true,
           "gridcolor": "white",
           "linecolor": "white",
           "ticks": "",
           "title": {
            "standoff": 15
           },
           "zerolinecolor": "white",
           "zerolinewidth": 2
          },
          "yaxis": {
           "automargin": true,
           "gridcolor": "white",
           "linecolor": "white",
           "ticks": "",
           "title": {
            "standoff": 15
           },
           "zerolinecolor": "white",
           "zerolinewidth": 2
          }
         }
        },
        "title": {
         "text": "Unemployment rate"
        },
        "updatemenus": [
         {
          "buttons": [
           {
            "args": [
             null,
             {
              "frame": {
               "duration": 500,
               "redraw": true
              },
              "fromcurrent": true,
              "mode": "immediate",
              "transition": {
               "duration": 500,
               "easing": "linear"
              }
             }
            ],
            "label": "&#9654;",
            "method": "animate"
           },
           {
            "args": [
             [
              null
             ],
             {
              "frame": {
               "duration": 0,
               "redraw": true
              },
              "fromcurrent": true,
              "mode": "immediate",
              "transition": {
               "duration": 0,
               "easing": "linear"
              }
             }
            ],
            "label": "&#9724;",
            "method": "animate"
           }
          ],
          "direction": "left",
          "pad": {
           "r": 10,
           "t": 70
          },
          "showactive": false,
          "type": "buttons",
          "x": 0.1,
          "xanchor": "right",
          "y": 0,
          "yanchor": "top"
         }
        ],
        "xaxis": {
         "anchor": "y",
         "categoryarray": [
          0,
          1,
          2,
          4,
          5,
          6,
          7,
          8,
          9,
          10,
          11,
          12,
          13,
          14,
          15,
          16,
          17,
          18,
          19,
          20,
          21,
          22,
          23,
          24,
          25,
          26,
          27,
          28,
          3
         ],
         "categoryorder": "total descending",
         "domain": [
          0,
          1
         ],
         "title": {
          "text": "Region"
         }
        },
        "yaxis": {
         "anchor": "x",
         "domain": [
          0,
          1
         ],
         "title": {
          "text": " Estimated Unemployment Rate (%)"
         }
        }
       }
      }
     },
     "metadata": {},
     "output_type": "display_data"
    }
   ],
   "source": [
    "fg = px.box(df,x='Region',y=' Estimated Unemployment Rate (%)',color='Region',title='Unemployment rate',animation_frame=' Date',template='plotly')\n",
    "fg.update_layout(xaxis={'categoryorder':'total descending'})\n",
    "fg.show()"
   ]
  },
  {
   "cell_type": "code",
   "execution_count": 53,
   "metadata": {},
   "outputs": [
    {
     "data": {
      "application/vnd.plotly.v1+json": {
       "config": {
        "plotlyServerURL": "https://plot.ly"
       },
       "data": [
        {
         "hovertemplate": " Date= 31-05-2019<br>Region=%{marker.color}<br> Estimated Unemployment Rate (%)=%{y}<extra></extra>",
         "legendgroup": "",
         "marker": {
          "color": [
           0,
           1,
           2,
           4,
           5,
           6,
           7,
           8,
           9,
           10,
           11,
           12,
           13,
           14,
           15,
           16,
           17,
           18,
           19,
           20,
           22,
           23,
           24,
           25,
           26,
           27,
           0,
           1,
           2,
           3,
           4,
           5,
           6,
           7,
           8,
           9,
           10,
           11,
           12,
           13,
           14,
           15,
           16,
           17,
           18,
           19,
           20,
           21,
           22,
           23,
           24,
           25,
           26,
           27
          ],
          "coloraxis": "coloraxis",
          "symbol": "circle"
         },
         "mode": "markers",
         "name": "",
         "orientation": "v",
         "showlegend": false,
         "type": "scatter",
         "x": [
          0,
          1,
          2,
          4,
          5,
          6,
          7,
          8,
          9,
          10,
          11,
          12,
          13,
          14,
          15,
          16,
          17,
          18,
          19,
          20,
          22,
          23,
          24,
          25,
          26,
          27,
          0,
          1,
          2,
          3,
          4,
          5,
          6,
          7,
          8,
          9,
          10,
          11,
          12,
          13,
          14,
          15,
          16,
          17,
          18,
          19,
          20,
          21,
          22,
          23,
          24,
          25,
          26,
          27
         ],
         "xaxis": "x",
         "y": [
          3.65,
          4.29,
          9.27,
          9.82,
          12.56,
          2.91,
          2.88,
          14.54,
          13.68,
          12.78,
          7.11,
          5.46,
          6.63,
          3.63,
          3.67,
          3.16,
          4.17,
          0,
          9.17,
          4.03,
          0.97,
          2.23,
          29.25,
          10.26,
          1.63,
          6.02,
          6.09,
          7.87,
          19.9,
          18.35,
          9.77,
          12.31,
          2.75,
          4.09,
          24.67,
          10.88,
          23.04,
          17.23,
          6.56,
          6.11,
          3.91,
          6.08,
          8.4,
          2.95,
          1.25,
          13.49,
          13.62,
          8.2,
          0.89,
          1.52,
          34.69,
          14.4,
          9.17,
          7.25
         ],
         "yaxis": "y"
        }
       ],
       "frames": [
        {
         "data": [
          {
           "hovertemplate": " Date= 31-05-2019<br>Region=%{marker.color}<br> Estimated Unemployment Rate (%)=%{y}<extra></extra>",
           "legendgroup": "",
           "marker": {
            "color": [
             0,
             1,
             2,
             4,
             5,
             6,
             7,
             8,
             9,
             10,
             11,
             12,
             13,
             14,
             15,
             16,
             17,
             18,
             19,
             20,
             22,
             23,
             24,
             25,
             26,
             27,
             0,
             1,
             2,
             3,
             4,
             5,
             6,
             7,
             8,
             9,
             10,
             11,
             12,
             13,
             14,
             15,
             16,
             17,
             18,
             19,
             20,
             21,
             22,
             23,
             24,
             25,
             26,
             27
            ],
            "coloraxis": "coloraxis",
            "symbol": "circle"
           },
           "mode": "markers",
           "name": "",
           "orientation": "v",
           "showlegend": false,
           "type": "scatter",
           "x": [
            0,
            1,
            2,
            4,
            5,
            6,
            7,
            8,
            9,
            10,
            11,
            12,
            13,
            14,
            15,
            16,
            17,
            18,
            19,
            20,
            22,
            23,
            24,
            25,
            26,
            27,
            0,
            1,
            2,
            3,
            4,
            5,
            6,
            7,
            8,
            9,
            10,
            11,
            12,
            13,
            14,
            15,
            16,
            17,
            18,
            19,
            20,
            21,
            22,
            23,
            24,
            25,
            26,
            27
           ],
           "xaxis": "x",
           "y": [
            3.65,
            4.29,
            9.27,
            9.82,
            12.56,
            2.91,
            2.88,
            14.54,
            13.68,
            12.78,
            7.11,
            5.46,
            6.63,
            3.63,
            3.67,
            3.16,
            4.17,
            0,
            9.17,
            4.03,
            0.97,
            2.23,
            29.25,
            10.26,
            1.63,
            6.02,
            6.09,
            7.87,
            19.9,
            18.35,
            9.77,
            12.31,
            2.75,
            4.09,
            24.67,
            10.88,
            23.04,
            17.23,
            6.56,
            6.11,
            3.91,
            6.08,
            8.4,
            2.95,
            1.25,
            13.49,
            13.62,
            8.2,
            0.89,
            1.52,
            34.69,
            14.4,
            9.17,
            7.25
           ],
           "yaxis": "y"
          }
         ],
         "name": " 31-05-2019"
        },
        {
         "data": [
          {
           "hovertemplate": " Date= 30-06-2019<br>Region=%{marker.color}<br> Estimated Unemployment Rate (%)=%{y}<extra></extra>",
           "legendgroup": "",
           "marker": {
            "color": [
             0,
             1,
             2,
             4,
             5,
             6,
             7,
             8,
             9,
             10,
             11,
             12,
             13,
             14,
             15,
             16,
             17,
             18,
             19,
             20,
             22,
             23,
             24,
             25,
             26,
             27,
             0,
             1,
             2,
             3,
             4,
             5,
             6,
             7,
             8,
             9,
             10,
             11,
             12,
             13,
             14,
             15,
             16,
             17,
             18,
             19,
             20,
             21,
             22,
             23,
             24,
             25,
             26,
             27
            ],
            "coloraxis": "coloraxis",
            "symbol": "circle"
           },
           "mode": "markers",
           "name": "",
           "orientation": "v",
           "showlegend": false,
           "type": "scatter",
           "x": [
            0,
            1,
            2,
            4,
            5,
            6,
            7,
            8,
            9,
            10,
            11,
            12,
            13,
            14,
            15,
            16,
            17,
            18,
            19,
            20,
            22,
            23,
            24,
            25,
            26,
            27,
            0,
            1,
            2,
            3,
            4,
            5,
            6,
            7,
            8,
            9,
            10,
            11,
            12,
            13,
            14,
            15,
            16,
            17,
            18,
            19,
            20,
            21,
            22,
            23,
            24,
            25,
            26,
            27
           ],
           "xaxis": "x",
           "y": [
            3.05,
            5.08,
            10.2,
            6.76,
            9.33,
            5.45,
            4.77,
            23.08,
            11.43,
            12.09,
            8.46,
            5.98,
            9,
            4.25,
            4.34,
            4.23,
            4.71,
            0,
            12.21,
            13.7,
            0.92,
            5.92,
            26.64,
            11.13,
            4.65,
            5.85,
            3.8,
            9.89,
            13.29,
            12.4,
            11.77,
            12.76,
            13.33,
            6.31,
            20.42,
            21.43,
            19.88,
            20.51,
            5,
            6.67,
            6.38,
            6.46,
            8.66,
            2.63,
            0,
            13.17,
            14.36,
            7.76,
            1.56,
            1.43,
            25.59,
            11.62,
            4.69,
            7.38
           ],
           "yaxis": "y"
          }
         ],
         "name": " 30-06-2019"
        },
        {
         "data": [
          {
           "hovertemplate": " Date= 31-07-2019<br>Region=%{marker.color}<br> Estimated Unemployment Rate (%)=%{y}<extra></extra>",
           "legendgroup": "",
           "marker": {
            "color": [
             0,
             1,
             2,
             4,
             5,
             6,
             7,
             8,
             9,
             10,
             11,
             12,
             13,
             14,
             15,
             16,
             17,
             18,
             19,
             20,
             22,
             23,
             24,
             25,
             26,
             27,
             0,
             1,
             2,
             3,
             4,
             5,
             6,
             7,
             8,
             9,
             10,
             11,
             12,
             13,
             14,
             15,
             16,
             17,
             18,
             19,
             20,
             21,
             22,
             23,
             24,
             25,
             26,
             27
            ],
            "coloraxis": "coloraxis",
            "symbol": "circle"
           },
           "mode": "markers",
           "name": "",
           "orientation": "v",
           "showlegend": false,
           "type": "scatter",
           "x": [
            0,
            1,
            2,
            4,
            5,
            6,
            7,
            8,
            9,
            10,
            11,
            12,
            13,
            14,
            15,
            16,
            17,
            18,
            19,
            20,
            22,
            23,
            24,
            25,
            26,
            27,
            0,
            1,
            2,
            3,
            4,
            5,
            6,
            7,
            8,
            9,
            10,
            11,
            12,
            13,
            14,
            15,
            16,
            17,
            18,
            19,
            20,
            21,
            22,
            23,
            24,
            25,
            26,
            27
           ],
           "xaxis": "x",
           "y": [
            3.75,
            4.26,
            13.44,
            4.54,
            11.07,
            10.98,
            4.58,
            16.22,
            20.59,
            13.67,
            9.98,
            0.52,
            4.95,
            3.92,
            3.66,
            1.03,
            3.31,
            0,
            9.64,
            9.7,
            6.01,
            2.45,
            22.47,
            9.19,
            5.74,
            5.62,
            5.64,
            3.21,
            16.41,
            21.8,
            8.17,
            14.68,
            12.28,
            5.15,
            25.45,
            21.51,
            21.55,
            15.67,
            2.29,
            7.58,
            7.38,
            6.35,
            4.43,
            1.78,
            0,
            11.61,
            11.67,
            2.56,
            3.18,
            3.73,
            25.81,
            11.8,
            6.94,
            7.91
           ],
           "yaxis": "y"
          }
         ],
         "name": " 31-07-2019"
        },
        {
         "data": [
          {
           "hovertemplate": " Date= 31-08-2019<br>Region=%{marker.color}<br> Estimated Unemployment Rate (%)=%{y}<extra></extra>",
           "legendgroup": "",
           "marker": {
            "color": [
             0,
             1,
             2,
             4,
             5,
             6,
             7,
             8,
             9,
             10,
             11,
             12,
             13,
             14,
             15,
             16,
             17,
             18,
             19,
             20,
             22,
             23,
             24,
             25,
             26,
             27,
             0,
             1,
             2,
             3,
             4,
             5,
             6,
             7,
             8,
             9,
             11,
             12,
             13,
             14,
             15,
             16,
             17,
             18,
             19,
             20,
             21,
             22,
             23,
             24,
             25,
             26,
             27
            ],
            "coloraxis": "coloraxis",
            "symbol": "circle"
           },
           "mode": "markers",
           "name": "",
           "orientation": "v",
           "showlegend": false,
           "type": "scatter",
           "x": [
            0,
            1,
            2,
            4,
            5,
            6,
            7,
            8,
            9,
            10,
            11,
            12,
            13,
            14,
            15,
            16,
            17,
            18,
            19,
            20,
            22,
            23,
            24,
            25,
            26,
            27,
            0,
            1,
            2,
            3,
            4,
            5,
            6,
            7,
            8,
            9,
            11,
            12,
            13,
            14,
            15,
            16,
            17,
            18,
            19,
            20,
            21,
            22,
            23,
            24,
            25,
            26,
            27
           ],
           "xaxis": "x",
           "y": [
            3.32,
            5.79,
            11,
            4.64,
            17.18,
            1.98,
            3.7,
            30.94,
            18.56,
            11.32,
            12.06,
            0.37,
            10.32,
            4.94,
            3.76,
            0.52,
            3.68,
            4.85,
            6.69,
            12.5,
            2.91,
            1.4,
            25.49,
            11.47,
            6.11,
            5.58,
            4.61,
            10.39,
            17.66,
            9.52,
            6.29,
            13.52,
            4.9,
            4.2,
            24.19,
            24.48,
            20.25,
            1.27,
            7.69,
            6.82,
            7.57,
            5.8,
            3.5,
            8.95,
            11.99,
            14.71,
            4.82,
            9.53,
            4.19,
            33.45,
            14.73,
            7.43,
            7.27
           ],
           "yaxis": "y"
          }
         ],
         "name": " 31-08-2019"
        },
        {
         "data": [
          {
           "hovertemplate": " Date= 30-09-2019<br>Region=%{marker.color}<br> Estimated Unemployment Rate (%)=%{y}<extra></extra>",
           "legendgroup": "",
           "marker": {
            "color": [
             0,
             1,
             2,
             4,
             5,
             6,
             7,
             8,
             9,
             11,
             12,
             13,
             14,
             15,
             16,
             17,
             18,
             19,
             20,
             22,
             23,
             24,
             25,
             26,
             27,
             0,
             1,
             2,
             3,
             4,
             5,
             6,
             7,
             8,
             9,
             11,
             12,
             13,
             14,
             15,
             16,
             17,
             18,
             19,
             20,
             21,
             22,
             23,
             24,
             25,
             26,
             27
            ],
            "coloraxis": "coloraxis",
            "symbol": "circle"
           },
           "mode": "markers",
           "name": "",
           "orientation": "v",
           "showlegend": false,
           "type": "scatter",
           "x": [
            0,
            1,
            2,
            4,
            5,
            6,
            7,
            8,
            9,
            11,
            12,
            13,
            14,
            15,
            16,
            17,
            18,
            19,
            20,
            22,
            23,
            24,
            25,
            26,
            27,
            0,
            1,
            2,
            3,
            4,
            5,
            6,
            7,
            8,
            9,
            11,
            12,
            13,
            14,
            15,
            16,
            17,
            18,
            19,
            20,
            21,
            22,
            23,
            24,
            25,
            26,
            27
           ],
           "xaxis": "x",
           "y": [
            5.17,
            4.46,
            8.87,
            8.33,
            12.5,
            3.61,
            6.29,
            16.36,
            15.98,
            7.12,
            3.2,
            5.35,
            3.08,
            4.4,
            0.24,
            4.31,
            0,
            8.59,
            5.45,
            1.71,
            5.49,
            30.23,
            6.45,
            3.47,
            5.26,
            6.01,
            9.26,
            20.46,
            20.14,
            9.46,
            20.59,
            3.16,
            5.96,
            26.84,
            12,
            21.16,
            3.57,
            5.52,
            7,
            7.6,
            5.3,
            3.78,
            1.22,
            15.69,
            12.63,
            4.81,
            1.86,
            6.19,
            33.57,
            13.58,
            9.62,
            7.79
           ],
           "yaxis": "y"
          }
         ],
         "name": " 30-09-2019"
        },
        {
         "data": [
          {
           "hovertemplate": " Date= 31-10-2019<br>Region=%{marker.color}<br> Estimated Unemployment Rate (%)=%{y}<extra></extra>",
           "legendgroup": "",
           "marker": {
            "color": [
             0,
             1,
             2,
             4,
             5,
             6,
             7,
             8,
             9,
             10,
             11,
             12,
             13,
             14,
             15,
             16,
             17,
             18,
             19,
             20,
             21,
             22,
             23,
             24,
             25,
             26,
             27,
             0,
             1,
             2,
             3,
             4,
             5,
             6,
             7,
             8,
             9,
             10,
             11,
             12,
             13,
             14,
             15,
             16,
             17,
             18,
             19,
             20,
             21,
             22,
             23,
             24,
             25,
             26,
             27
            ],
            "coloraxis": "coloraxis",
            "symbol": "circle"
           },
           "mode": "markers",
           "name": "",
           "orientation": "v",
           "showlegend": false,
           "type": "scatter",
           "x": [
            0,
            1,
            2,
            4,
            5,
            6,
            7,
            8,
            9,
            10,
            11,
            12,
            13,
            14,
            15,
            16,
            17,
            18,
            19,
            20,
            21,
            22,
            23,
            24,
            25,
            26,
            27,
            0,
            1,
            2,
            3,
            4,
            5,
            6,
            7,
            8,
            9,
            10,
            11,
            12,
            13,
            14,
            15,
            16,
            17,
            18,
            19,
            20,
            21,
            22,
            23,
            24,
            25,
            26,
            27
           ],
           "xaxis": "x",
           "y": [
            3.52,
            4.65,
            12.47,
            6.96,
            15.84,
            7.21,
            4.91,
            24.17,
            15.81,
            19.27,
            6.57,
            7.13,
            9.14,
            2.98,
            3.81,
            3.7,
            4.28,
            1.18,
            12.56,
            14.66,
            5.48,
            1.46,
            7.29,
            27.54,
            10.18,
            4.83,
            6.78,
            4.7,
            11.17,
            14.06,
            13.99,
            10.27,
            12.41,
            12.31,
            5.45,
            21.04,
            23.77,
            24.06,
            19.05,
            3.87,
            5.35,
            4.4,
            7.51,
            7.2,
            4.5,
            1.17,
            13.75,
            13.02,
            9.68,
            1.13,
            6.74,
            26.67,
            10.35,
            4.72,
            7.83
           ],
           "yaxis": "y"
          }
         ],
         "name": " 31-10-2019"
        },
        {
         "data": [
          {
           "hovertemplate": " Date= 30-11-2019<br>Region=%{marker.color}<br> Estimated Unemployment Rate (%)=%{y}<extra></extra>",
           "legendgroup": "",
           "marker": {
            "color": [
             0,
             1,
             2,
             4,
             5,
             6,
             7,
             8,
             9,
             10,
             11,
             12,
             13,
             14,
             15,
             16,
             17,
             18,
             19,
             20,
             21,
             22,
             23,
             24,
             25,
             26,
             27,
             0,
             1,
             2,
             3,
             4,
             5,
             6,
             7,
             8,
             9,
             10,
             11,
             12,
             13,
             14,
             15,
             16,
             17,
             18,
             19,
             20,
             21,
             22,
             23,
             24,
             25,
             26,
             27
            ],
            "coloraxis": "coloraxis",
            "symbol": "circle"
           },
           "mode": "markers",
           "name": "",
           "orientation": "v",
           "showlegend": false,
           "type": "scatter",
           "x": [
            0,
            1,
            2,
            4,
            5,
            6,
            7,
            8,
            9,
            10,
            11,
            12,
            13,
            14,
            15,
            16,
            17,
            18,
            19,
            20,
            21,
            22,
            23,
            24,
            25,
            26,
            27,
            0,
            1,
            2,
            3,
            4,
            5,
            6,
            7,
            8,
            9,
            10,
            11,
            12,
            13,
            14,
            15,
            16,
            17,
            18,
            19,
            20,
            21,
            22,
            23,
            24,
            25,
            26,
            27
           ],
           "xaxis": "x",
           "y": [
            4.12,
            4.66,
            12.4,
            2.77,
            11.11,
            23.71,
            4.68,
            16.59,
            22.86,
            14.73,
            8.07,
            1.19,
            5,
            2.72,
            3.68,
            1.5,
            4.72,
            0,
            7.07,
            10.47,
            13.11,
            2.46,
            6.47,
            25.25,
            6.94,
            5.56,
            5.83,
            7.54,
            6.31,
            17.62,
            22.05,
            8.32,
            16.11,
            25.2,
            7.53,
            27.06,
            27.27,
            14.29,
            17.34,
            3.44,
            6.71,
            6.06,
            7.6,
            3.02,
            2.23,
            1.37,
            10.39,
            14.3,
            4.04,
            2.65,
            5.23,
            27.15,
            11.31,
            6.34,
            6.61
           ],
           "yaxis": "y"
          }
         ],
         "name": " 30-11-2019"
        },
        {
         "data": [
          {
           "hovertemplate": " Date= 31-12-2019<br>Region=%{marker.color}<br> Estimated Unemployment Rate (%)=%{y}<extra></extra>",
           "legendgroup": "",
           "marker": {
            "color": [
             0,
             2,
             4,
             5,
             6,
             7,
             8,
             9,
             11,
             12,
             13,
             14,
             15,
             16,
             17,
             18,
             19,
             20,
             21,
             22,
             23,
             24,
             25,
             26,
             27,
             0,
             1,
             2,
             3,
             4,
             5,
             6,
             7,
             8,
             9,
             10,
             11,
             12,
             13,
             14,
             15,
             16,
             17,
             18,
             19,
             20,
             21,
             22,
             23,
             24,
             25,
             26,
             27
            ],
            "coloraxis": "coloraxis",
            "symbol": "circle"
           },
           "mode": "markers",
           "name": "",
           "orientation": "v",
           "showlegend": false,
           "type": "scatter",
           "x": [
            0,
            2,
            4,
            5,
            6,
            7,
            8,
            9,
            11,
            12,
            13,
            14,
            15,
            16,
            17,
            18,
            19,
            20,
            21,
            22,
            23,
            24,
            25,
            26,
            27,
            0,
            1,
            2,
            3,
            4,
            5,
            6,
            7,
            8,
            9,
            10,
            11,
            12,
            13,
            14,
            15,
            16,
            17,
            18,
            19,
            20,
            21,
            22,
            23,
            24,
            25,
            26,
            27
           ],
           "xaxis": "x",
           "y": [
            4.38,
            10.16,
            6.11,
            16.97,
            3.54,
            3.46,
            29.56,
            19.46,
            15.15,
            0.41,
            10.77,
            2.94,
            3.03,
            1.8,
            4.67,
            1.99,
            6.13,
            13.96,
            1,
            3.73,
            1.35,
            26.53,
            8.43,
            4.52,
            5.79,
            7.88,
            5.02,
            14.91,
            8.33,
            3.57,
            11.07,
            16.22,
            5.71,
            23.65,
            25.32,
            7.02,
            22.01,
            1.56,
            7.31,
            6.2,
            7.83,
            5.21,
            3.36,
            5.21,
            11.97,
            18.04,
            7.37,
            8.05,
            4.22,
            33.48,
            12.37,
            7.39,
            7.24
           ],
           "yaxis": "y"
          }
         ],
         "name": " 31-12-2019"
        },
        {
         "data": [
          {
           "hovertemplate": " Date= 31-01-2020<br>Region=%{marker.color}<br> Estimated Unemployment Rate (%)=%{y}<extra></extra>",
           "legendgroup": "",
           "marker": {
            "color": [
             0,
             1,
             2,
             4,
             5,
             6,
             7,
             8,
             9,
             10,
             11,
             12,
             13,
             14,
             15,
             16,
             17,
             18,
             19,
             20,
             22,
             23,
             24,
             25,
             26,
             27,
             0,
             1,
             2,
             3,
             4,
             5,
             6,
             7,
             8,
             9,
             10,
             11,
             12,
             13,
             14,
             15,
             16,
             17,
             18,
             19,
             20,
             22,
             23,
             24,
             25,
             26,
             27
            ],
            "coloraxis": "coloraxis",
            "symbol": "circle"
           },
           "mode": "markers",
           "name": "",
           "orientation": "v",
           "showlegend": false,
           "type": "scatter",
           "x": [
            0,
            1,
            2,
            4,
            5,
            6,
            7,
            8,
            9,
            10,
            11,
            12,
            13,
            14,
            15,
            16,
            17,
            18,
            19,
            20,
            22,
            23,
            24,
            25,
            26,
            27,
            0,
            1,
            2,
            3,
            4,
            5,
            6,
            7,
            8,
            9,
            10,
            11,
            12,
            13,
            14,
            15,
            16,
            17,
            18,
            19,
            20,
            22,
            23,
            24,
            25,
            26,
            27
           ],
           "xaxis": "x",
           "y": [
            4.84,
            4.29,
            9.13,
            9.89,
            13.48,
            5.38,
            5.35,
            16.21,
            16.67,
            22.19,
            6.16,
            2.57,
            4.11,
            3.66,
            3.8,
            0.97,
            1.81,
            0.58,
            9.69,
            8,
            1.18,
            5.02,
            31.91,
            6.06,
            4.17,
            6.79,
            7.11,
            7.24,
            20.69,
            20,
            9.01,
            22.45,
            10.92,
            5.82,
            27.24,
            18.15,
            18.54,
            22.96,
            3.31,
            6.65,
            5.17,
            6.67,
            4.76,
            2.28,
            0.57,
            13.68,
            18.82,
            2.05,
            6.49,
            34.37,
            12.34,
            8.92,
            7.27
           ],
           "yaxis": "y"
          }
         ],
         "name": " 31-01-2020"
        },
        {
         "data": [
          {
           "hovertemplate": " Date= 29-02-2020<br>Region=%{marker.color}<br> Estimated Unemployment Rate (%)=%{y}<extra></extra>",
           "legendgroup": "",
           "marker": {
            "color": [
             0,
             1,
             2,
             4,
             5,
             6,
             7,
             8,
             9,
             10,
             11,
             12,
             13,
             14,
             15,
             16,
             17,
             18,
             19,
             20,
             22,
             23,
             24,
             25,
             26,
             27,
             0,
             1,
             2,
             3,
             4,
             5,
             6,
             7,
             8,
             9,
             10,
             11,
             12,
             13,
             14,
             15,
             16,
             17,
             18,
             19,
             20,
             22,
             23,
             24,
             25,
             26,
             27
            ],
            "coloraxis": "coloraxis",
            "symbol": "circle"
           },
           "mode": "markers",
           "name": "",
           "orientation": "v",
           "showlegend": false,
           "type": "scatter",
           "x": [
            0,
            1,
            2,
            4,
            5,
            6,
            7,
            8,
            9,
            10,
            11,
            12,
            13,
            14,
            15,
            16,
            17,
            18,
            19,
            20,
            22,
            23,
            24,
            25,
            26,
            27,
            0,
            1,
            2,
            3,
            4,
            5,
            6,
            7,
            8,
            9,
            10,
            11,
            12,
            13,
            14,
            15,
            16,
            17,
            18,
            19,
            20,
            22,
            23,
            24,
            25,
            26,
            27
           ],
           "xaxis": "x",
           "y": [
            5.91,
            3.26,
            9.61,
            7.89,
            13.81,
            0,
            6.64,
            27.19,
            15.42,
            21.23,
            9.06,
            4.11,
            8.91,
            4.42,
            4.24,
            2.76,
            3.31,
            1.74,
            10.41,
            14.48,
            1.17,
            9.02,
            26.22,
            8.12,
            4.85,
            3.78,
            5.66,
            9.98,
            15.11,
            16.67,
            9.79,
            14.86,
            4.31,
            6.04,
            23.29,
            27.31,
            19.86,
            19.67,
            2.88,
            6.08,
            4.96,
            5.34,
            7.37,
            2.19,
            1.78,
            11.99,
            17.02,
            3.31,
            6.74,
            33.88,
            11.65,
            5.28,
            7.55
           ],
           "yaxis": "y"
          }
         ],
         "name": " 29-02-2020"
        },
        {
         "data": [
          {
           "hovertemplate": " Date= 31-03-2020<br>Region=%{marker.color}<br> Estimated Unemployment Rate (%)=%{y}<extra></extra>",
           "legendgroup": "",
           "marker": {
            "color": [
             0,
             1,
             2,
             4,
             5,
             7,
             8,
             9,
             10,
             11,
             12,
             13,
             14,
             15,
             16,
             17,
             18,
             19,
             20,
             22,
             23,
             24,
             25,
             27,
             0,
             1,
             2,
             3,
             4,
             5,
             6,
             7,
             8,
             9,
             10,
             11,
             12,
             13,
             14,
             15,
             16,
             17,
             18,
             19,
             20,
             21,
             22,
             23,
             24,
             25,
             26,
             27
            ],
            "coloraxis": "coloraxis",
            "symbol": "circle"
           },
           "mode": "markers",
           "name": "",
           "orientation": "v",
           "showlegend": false,
           "type": "scatter",
           "x": [
            0,
            1,
            2,
            4,
            5,
            7,
            8,
            9,
            10,
            11,
            12,
            13,
            14,
            15,
            16,
            17,
            18,
            19,
            20,
            22,
            23,
            24,
            25,
            27,
            0,
            1,
            2,
            3,
            4,
            5,
            6,
            7,
            8,
            9,
            10,
            11,
            12,
            13,
            14,
            15,
            16,
            17,
            18,
            19,
            20,
            21,
            22,
            23,
            24,
            25,
            26,
            27
           ],
           "xaxis": "x",
           "y": [
            4.06,
            3.77,
            15.39,
            7.31,
            15.18,
            7.59,
            23.92,
            17.71,
            16,
            5.01,
            2.39,
            8.85,
            1.19,
            5.38,
            1.28,
            15.09,
            2.31,
            10.51,
            9.47,
            6.36,
            5.63,
            31.61,
            9.37,
            7.02,
            9.88,
            10.34,
            15.73,
            21.43,
            8.21,
            17.09,
            4.76,
            5.39,
            27.14,
            26.44,
            14.29,
            16.4,
            4.92,
            9.14,
            4.8,
            6.34,
            2.8,
            3.96,
            0.62,
            9.97,
            18.54,
            20.45,
            6.46,
            6.1,
            25.69,
            12.32,
            8.15,
            6.67
           ],
           "yaxis": "y"
          }
         ],
         "name": " 31-03-2020"
        },
        {
         "data": [
          {
           "hovertemplate": " Date= 30-04-2020<br>Region=%{marker.color}<br> Estimated Unemployment Rate (%)=%{y}<extra></extra>",
           "legendgroup": "",
           "marker": {
            "color": [
             0,
             2,
             4,
             5,
             6,
             7,
             8,
             9,
             11,
             12,
             13,
             14,
             15,
             16,
             17,
             18,
             19,
             20,
             21,
             22,
             23,
             24,
             25,
             26,
             27,
             0,
             1,
             2,
             4,
             5,
             6,
             7,
             8,
             9,
             11,
             12,
             13,
             14,
             15,
             16,
             17,
             18,
             19,
             20,
             21,
             22,
             23,
             24,
             25,
             26,
             27
            ],
            "coloraxis": "coloraxis",
            "symbol": "circle"
           },
           "mode": "markers",
           "name": "",
           "orientation": "v",
           "showlegend": false,
           "type": "scatter",
           "x": [
            0,
            2,
            4,
            5,
            6,
            7,
            8,
            9,
            11,
            12,
            13,
            14,
            15,
            16,
            17,
            18,
            19,
            20,
            21,
            22,
            23,
            24,
            25,
            26,
            27,
            0,
            1,
            2,
            4,
            5,
            6,
            7,
            8,
            9,
            11,
            12,
            13,
            14,
            15,
            16,
            17,
            18,
            19,
            20,
            21,
            22,
            23,
            24,
            25,
            26,
            27
           ],
           "xaxis": "x",
           "y": [
            16.29,
            45.09,
            0,
            20.69,
            15.91,
            12,
            41.61,
            2.13,
            41.72,
            33.17,
            10.71,
            12.5,
            25.28,
            8.38,
            24.48,
            74.51,
            3.69,
            12.25,
            0,
            53.19,
            4.51,
            43.64,
            19.92,
            3.66,
            18.32,
            32.3,
            8.37,
            58.77,
            20.13,
            16.51,
            11.76,
            25.94,
            46.89,
            2.7,
            61.48,
            25.12,
            21.43,
            11.94,
            14.99,
            17.39,
            20.5,
            76.74,
            1.13,
            35.53,
            5.77,
            45.55,
            10.5,
            34.88,
            26.94,
            13.18,
            15.63
           ],
           "yaxis": "y"
          }
         ],
         "name": " 30-04-2020"
        },
        {
         "data": [
          {
           "hovertemplate": " Date= 31-05-2020<br>Region=%{marker.color}<br> Estimated Unemployment Rate (%)=%{y}<extra></extra>",
           "legendgroup": "",
           "marker": {
            "color": [
             0,
             1,
             2,
             4,
             5,
             6,
             7,
             8,
             9,
             10,
             11,
             12,
             13,
             14,
             15,
             16,
             17,
             19,
             20,
             22,
             23,
             24,
             25,
             26,
             27,
             0,
             1,
             2,
             4,
             5,
             7,
             8,
             9,
             10,
             11,
             12,
             13,
             14,
             15,
             16,
             17,
             18,
             19,
             20,
             21,
             22,
             23,
             24,
             25,
             26,
             27
            ],
            "coloraxis": "coloraxis",
            "symbol": "circle"
           },
           "mode": "markers",
           "name": "",
           "orientation": "v",
           "showlegend": false,
           "type": "scatter",
           "x": [
            0,
            1,
            2,
            4,
            5,
            6,
            7,
            8,
            9,
            10,
            11,
            12,
            13,
            14,
            15,
            16,
            17,
            19,
            20,
            22,
            23,
            24,
            25,
            26,
            27,
            0,
            1,
            2,
            4,
            5,
            7,
            8,
            9,
            10,
            11,
            12,
            13,
            14,
            15,
            16,
            17,
            18,
            19,
            20,
            21,
            22,
            23,
            24,
            25,
            26,
            27
           ],
           "xaxis": "x",
           "y": [
            14.46,
            9.38,
            47.26,
            7.64,
            22.76,
            20,
            14.58,
            34.22,
            25.64,
            2.22,
            55.1,
            23.72,
            23.38,
            22.46,
            16.89,
            3.73,
            9.45,
            40.59,
            10.45,
            38.73,
            34.01,
            14.71,
            16.89,
            3.57,
            18.43,
            24.91,
            10.77,
            37.87,
            24.1,
            45.78,
            11.62,
            38.46,
            50,
            12.96,
            70.17,
            15.88,
            30.28,
            40.49,
            15.92,
            14.58,
            10,
            75,
            20.54,
            25.35,
            19.75,
            25.95,
            36.57,
            16.78,
            32.06,
            17.36,
            15.22
           ],
           "yaxis": "y"
          }
         ],
         "name": " 31-05-2020"
        },
        {
         "data": [
          {
           "hovertemplate": " Date= 30-06-2020<br>Region=%{marker.color}<br> Estimated Unemployment Rate (%)=%{y}<extra></extra>",
           "legendgroup": "",
           "marker": {
            "color": [
             0,
             1,
             2,
             4,
             5,
             7,
             8,
             9,
             10,
             11,
             12,
             13,
             14,
             15,
             16,
             17,
             19,
             20,
             21,
             22,
             23,
             24,
             25,
             26,
             27,
             0,
             1,
             2,
             3,
             4,
             5,
             7,
             8,
             9,
             11,
             12,
             13,
             14,
             15,
             17,
             18,
             19,
             20,
             21,
             22,
             23,
             24,
             25,
             26,
             27
            ],
            "coloraxis": "coloraxis",
            "symbol": "circle"
           },
           "mode": "markers",
           "name": "",
           "orientation": "v",
           "showlegend": false,
           "type": "scatter",
           "x": [
            0,
            1,
            2,
            4,
            5,
            7,
            8,
            9,
            10,
            11,
            12,
            13,
            14,
            15,
            16,
            17,
            19,
            20,
            21,
            22,
            23,
            24,
            25,
            26,
            27,
            0,
            1,
            2,
            3,
            4,
            5,
            7,
            8,
            9,
            11,
            12,
            13,
            14,
            15,
            17,
            18,
            19,
            20,
            21,
            22,
            23,
            24,
            25,
            26,
            27
           ],
           "xaxis": "x",
           "y": [
            0.85,
            0,
            20.49,
            10.14,
            21.14,
            1.41,
            35.57,
            1.12,
            18.97,
            21.53,
            10.92,
            27.66,
            6.46,
            9.4,
            1.35,
            4.59,
            20,
            13.86,
            5.81,
            2.06,
            19.3,
            18.84,
            8.51,
            10.71,
            4.94,
            5.86,
            3.42,
            12.45,
            7.22,
            27.07,
            18.11,
            4.54,
            29.41,
            10.81,
            19.38,
            6.12,
            12.17,
            12.72,
            10.01,
            2.18,
            4.55,
            10.55,
            13.04,
            2.63,
            24.93,
            6.92,
            27.47,
            13.05,
            5.08,
            9.86
           ],
           "yaxis": "y"
          }
         ],
         "name": " 30-06-2020"
        }
       ],
       "layout": {
        "coloraxis": {
         "colorbar": {
          "title": {
           "text": "Region"
          }
         },
         "colorscale": [
          [
           0,
           "#0d0887"
          ],
          [
           0.1111111111111111,
           "#46039f"
          ],
          [
           0.2222222222222222,
           "#7201a8"
          ],
          [
           0.3333333333333333,
           "#9c179e"
          ],
          [
           0.4444444444444444,
           "#bd3786"
          ],
          [
           0.5555555555555556,
           "#d8576b"
          ],
          [
           0.6666666666666666,
           "#ed7953"
          ],
          [
           0.7777777777777778,
           "#fb9f3a"
          ],
          [
           0.8888888888888888,
           "#fdca26"
          ],
          [
           1,
           "#f0f921"
          ]
         ]
        },
        "legend": {
         "tracegroupgap": 0
        },
        "sliders": [
         {
          "active": 0,
          "currentvalue": {
           "prefix": " Date="
          },
          "len": 0.9,
          "pad": {
           "b": 10,
           "t": 60
          },
          "steps": [
           {
            "args": [
             [
              " 31-05-2019"
             ],
             {
              "frame": {
               "duration": 0,
               "redraw": false
              },
              "fromcurrent": true,
              "mode": "immediate",
              "transition": {
               "duration": 0,
               "easing": "linear"
              }
             }
            ],
            "label": " 31-05-2019",
            "method": "animate"
           },
           {
            "args": [
             [
              " 30-06-2019"
             ],
             {
              "frame": {
               "duration": 0,
               "redraw": false
              },
              "fromcurrent": true,
              "mode": "immediate",
              "transition": {
               "duration": 0,
               "easing": "linear"
              }
             }
            ],
            "label": " 30-06-2019",
            "method": "animate"
           },
           {
            "args": [
             [
              " 31-07-2019"
             ],
             {
              "frame": {
               "duration": 0,
               "redraw": false
              },
              "fromcurrent": true,
              "mode": "immediate",
              "transition": {
               "duration": 0,
               "easing": "linear"
              }
             }
            ],
            "label": " 31-07-2019",
            "method": "animate"
           },
           {
            "args": [
             [
              " 31-08-2019"
             ],
             {
              "frame": {
               "duration": 0,
               "redraw": false
              },
              "fromcurrent": true,
              "mode": "immediate",
              "transition": {
               "duration": 0,
               "easing": "linear"
              }
             }
            ],
            "label": " 31-08-2019",
            "method": "animate"
           },
           {
            "args": [
             [
              " 30-09-2019"
             ],
             {
              "frame": {
               "duration": 0,
               "redraw": false
              },
              "fromcurrent": true,
              "mode": "immediate",
              "transition": {
               "duration": 0,
               "easing": "linear"
              }
             }
            ],
            "label": " 30-09-2019",
            "method": "animate"
           },
           {
            "args": [
             [
              " 31-10-2019"
             ],
             {
              "frame": {
               "duration": 0,
               "redraw": false
              },
              "fromcurrent": true,
              "mode": "immediate",
              "transition": {
               "duration": 0,
               "easing": "linear"
              }
             }
            ],
            "label": " 31-10-2019",
            "method": "animate"
           },
           {
            "args": [
             [
              " 30-11-2019"
             ],
             {
              "frame": {
               "duration": 0,
               "redraw": false
              },
              "fromcurrent": true,
              "mode": "immediate",
              "transition": {
               "duration": 0,
               "easing": "linear"
              }
             }
            ],
            "label": " 30-11-2019",
            "method": "animate"
           },
           {
            "args": [
             [
              " 31-12-2019"
             ],
             {
              "frame": {
               "duration": 0,
               "redraw": false
              },
              "fromcurrent": true,
              "mode": "immediate",
              "transition": {
               "duration": 0,
               "easing": "linear"
              }
             }
            ],
            "label": " 31-12-2019",
            "method": "animate"
           },
           {
            "args": [
             [
              " 31-01-2020"
             ],
             {
              "frame": {
               "duration": 0,
               "redraw": false
              },
              "fromcurrent": true,
              "mode": "immediate",
              "transition": {
               "duration": 0,
               "easing": "linear"
              }
             }
            ],
            "label": " 31-01-2020",
            "method": "animate"
           },
           {
            "args": [
             [
              " 29-02-2020"
             ],
             {
              "frame": {
               "duration": 0,
               "redraw": false
              },
              "fromcurrent": true,
              "mode": "immediate",
              "transition": {
               "duration": 0,
               "easing": "linear"
              }
             }
            ],
            "label": " 29-02-2020",
            "method": "animate"
           },
           {
            "args": [
             [
              " 31-03-2020"
             ],
             {
              "frame": {
               "duration": 0,
               "redraw": false
              },
              "fromcurrent": true,
              "mode": "immediate",
              "transition": {
               "duration": 0,
               "easing": "linear"
              }
             }
            ],
            "label": " 31-03-2020",
            "method": "animate"
           },
           {
            "args": [
             [
              " 30-04-2020"
             ],
             {
              "frame": {
               "duration": 0,
               "redraw": false
              },
              "fromcurrent": true,
              "mode": "immediate",
              "transition": {
               "duration": 0,
               "easing": "linear"
              }
             }
            ],
            "label": " 30-04-2020",
            "method": "animate"
           },
           {
            "args": [
             [
              " 31-05-2020"
             ],
             {
              "frame": {
               "duration": 0,
               "redraw": false
              },
              "fromcurrent": true,
              "mode": "immediate",
              "transition": {
               "duration": 0,
               "easing": "linear"
              }
             }
            ],
            "label": " 31-05-2020",
            "method": "animate"
           },
           {
            "args": [
             [
              " 30-06-2020"
             ],
             {
              "frame": {
               "duration": 0,
               "redraw": false
              },
              "fromcurrent": true,
              "mode": "immediate",
              "transition": {
               "duration": 0,
               "easing": "linear"
              }
             }
            ],
            "label": " 30-06-2020",
            "method": "animate"
           }
          ],
          "x": 0.1,
          "xanchor": "left",
          "y": 0,
          "yanchor": "top"
         }
        ],
        "template": {
         "data": {
          "bar": [
           {
            "error_x": {
             "color": "#2a3f5f"
            },
            "error_y": {
             "color": "#2a3f5f"
            },
            "marker": {
             "line": {
              "color": "#E5ECF6",
              "width": 0.5
             },
             "pattern": {
              "fillmode": "overlay",
              "size": 10,
              "solidity": 0.2
             }
            },
            "type": "bar"
           }
          ],
          "barpolar": [
           {
            "marker": {
             "line": {
              "color": "#E5ECF6",
              "width": 0.5
             },
             "pattern": {
              "fillmode": "overlay",
              "size": 10,
              "solidity": 0.2
             }
            },
            "type": "barpolar"
           }
          ],
          "carpet": [
           {
            "aaxis": {
             "endlinecolor": "#2a3f5f",
             "gridcolor": "white",
             "linecolor": "white",
             "minorgridcolor": "white",
             "startlinecolor": "#2a3f5f"
            },
            "baxis": {
             "endlinecolor": "#2a3f5f",
             "gridcolor": "white",
             "linecolor": "white",
             "minorgridcolor": "white",
             "startlinecolor": "#2a3f5f"
            },
            "type": "carpet"
           }
          ],
          "choropleth": [
           {
            "colorbar": {
             "outlinewidth": 0,
             "ticks": ""
            },
            "type": "choropleth"
           }
          ],
          "contour": [
           {
            "colorbar": {
             "outlinewidth": 0,
             "ticks": ""
            },
            "colorscale": [
             [
              0,
              "#0d0887"
             ],
             [
              0.1111111111111111,
              "#46039f"
             ],
             [
              0.2222222222222222,
              "#7201a8"
             ],
             [
              0.3333333333333333,
              "#9c179e"
             ],
             [
              0.4444444444444444,
              "#bd3786"
             ],
             [
              0.5555555555555556,
              "#d8576b"
             ],
             [
              0.6666666666666666,
              "#ed7953"
             ],
             [
              0.7777777777777778,
              "#fb9f3a"
             ],
             [
              0.8888888888888888,
              "#fdca26"
             ],
             [
              1,
              "#f0f921"
             ]
            ],
            "type": "contour"
           }
          ],
          "contourcarpet": [
           {
            "colorbar": {
             "outlinewidth": 0,
             "ticks": ""
            },
            "type": "contourcarpet"
           }
          ],
          "heatmap": [
           {
            "colorbar": {
             "outlinewidth": 0,
             "ticks": ""
            },
            "colorscale": [
             [
              0,
              "#0d0887"
             ],
             [
              0.1111111111111111,
              "#46039f"
             ],
             [
              0.2222222222222222,
              "#7201a8"
             ],
             [
              0.3333333333333333,
              "#9c179e"
             ],
             [
              0.4444444444444444,
              "#bd3786"
             ],
             [
              0.5555555555555556,
              "#d8576b"
             ],
             [
              0.6666666666666666,
              "#ed7953"
             ],
             [
              0.7777777777777778,
              "#fb9f3a"
             ],
             [
              0.8888888888888888,
              "#fdca26"
             ],
             [
              1,
              "#f0f921"
             ]
            ],
            "type": "heatmap"
           }
          ],
          "heatmapgl": [
           {
            "colorbar": {
             "outlinewidth": 0,
             "ticks": ""
            },
            "colorscale": [
             [
              0,
              "#0d0887"
             ],
             [
              0.1111111111111111,
              "#46039f"
             ],
             [
              0.2222222222222222,
              "#7201a8"
             ],
             [
              0.3333333333333333,
              "#9c179e"
             ],
             [
              0.4444444444444444,
              "#bd3786"
             ],
             [
              0.5555555555555556,
              "#d8576b"
             ],
             [
              0.6666666666666666,
              "#ed7953"
             ],
             [
              0.7777777777777778,
              "#fb9f3a"
             ],
             [
              0.8888888888888888,
              "#fdca26"
             ],
             [
              1,
              "#f0f921"
             ]
            ],
            "type": "heatmapgl"
           }
          ],
          "histogram": [
           {
            "marker": {
             "pattern": {
              "fillmode": "overlay",
              "size": 10,
              "solidity": 0.2
             }
            },
            "type": "histogram"
           }
          ],
          "histogram2d": [
           {
            "colorbar": {
             "outlinewidth": 0,
             "ticks": ""
            },
            "colorscale": [
             [
              0,
              "#0d0887"
             ],
             [
              0.1111111111111111,
              "#46039f"
             ],
             [
              0.2222222222222222,
              "#7201a8"
             ],
             [
              0.3333333333333333,
              "#9c179e"
             ],
             [
              0.4444444444444444,
              "#bd3786"
             ],
             [
              0.5555555555555556,
              "#d8576b"
             ],
             [
              0.6666666666666666,
              "#ed7953"
             ],
             [
              0.7777777777777778,
              "#fb9f3a"
             ],
             [
              0.8888888888888888,
              "#fdca26"
             ],
             [
              1,
              "#f0f921"
             ]
            ],
            "type": "histogram2d"
           }
          ],
          "histogram2dcontour": [
           {
            "colorbar": {
             "outlinewidth": 0,
             "ticks": ""
            },
            "colorscale": [
             [
              0,
              "#0d0887"
             ],
             [
              0.1111111111111111,
              "#46039f"
             ],
             [
              0.2222222222222222,
              "#7201a8"
             ],
             [
              0.3333333333333333,
              "#9c179e"
             ],
             [
              0.4444444444444444,
              "#bd3786"
             ],
             [
              0.5555555555555556,
              "#d8576b"
             ],
             [
              0.6666666666666666,
              "#ed7953"
             ],
             [
              0.7777777777777778,
              "#fb9f3a"
             ],
             [
              0.8888888888888888,
              "#fdca26"
             ],
             [
              1,
              "#f0f921"
             ]
            ],
            "type": "histogram2dcontour"
           }
          ],
          "mesh3d": [
           {
            "colorbar": {
             "outlinewidth": 0,
             "ticks": ""
            },
            "type": "mesh3d"
           }
          ],
          "parcoords": [
           {
            "line": {
             "colorbar": {
              "outlinewidth": 0,
              "ticks": ""
             }
            },
            "type": "parcoords"
           }
          ],
          "pie": [
           {
            "automargin": true,
            "type": "pie"
           }
          ],
          "scatter": [
           {
            "fillpattern": {
             "fillmode": "overlay",
             "size": 10,
             "solidity": 0.2
            },
            "type": "scatter"
           }
          ],
          "scatter3d": [
           {
            "line": {
             "colorbar": {
              "outlinewidth": 0,
              "ticks": ""
             }
            },
            "marker": {
             "colorbar": {
              "outlinewidth": 0,
              "ticks": ""
             }
            },
            "type": "scatter3d"
           }
          ],
          "scattercarpet": [
           {
            "marker": {
             "colorbar": {
              "outlinewidth": 0,
              "ticks": ""
             }
            },
            "type": "scattercarpet"
           }
          ],
          "scattergeo": [
           {
            "marker": {
             "colorbar": {
              "outlinewidth": 0,
              "ticks": ""
             }
            },
            "type": "scattergeo"
           }
          ],
          "scattergl": [
           {
            "marker": {
             "colorbar": {
              "outlinewidth": 0,
              "ticks": ""
             }
            },
            "type": "scattergl"
           }
          ],
          "scattermapbox": [
           {
            "marker": {
             "colorbar": {
              "outlinewidth": 0,
              "ticks": ""
             }
            },
            "type": "scattermapbox"
           }
          ],
          "scatterpolar": [
           {
            "marker": {
             "colorbar": {
              "outlinewidth": 0,
              "ticks": ""
             }
            },
            "type": "scatterpolar"
           }
          ],
          "scatterpolargl": [
           {
            "marker": {
             "colorbar": {
              "outlinewidth": 0,
              "ticks": ""
             }
            },
            "type": "scatterpolargl"
           }
          ],
          "scatterternary": [
           {
            "marker": {
             "colorbar": {
              "outlinewidth": 0,
              "ticks": ""
             }
            },
            "type": "scatterternary"
           }
          ],
          "surface": [
           {
            "colorbar": {
             "outlinewidth": 0,
             "ticks": ""
            },
            "colorscale": [
             [
              0,
              "#0d0887"
             ],
             [
              0.1111111111111111,
              "#46039f"
             ],
             [
              0.2222222222222222,
              "#7201a8"
             ],
             [
              0.3333333333333333,
              "#9c179e"
             ],
             [
              0.4444444444444444,
              "#bd3786"
             ],
             [
              0.5555555555555556,
              "#d8576b"
             ],
             [
              0.6666666666666666,
              "#ed7953"
             ],
             [
              0.7777777777777778,
              "#fb9f3a"
             ],
             [
              0.8888888888888888,
              "#fdca26"
             ],
             [
              1,
              "#f0f921"
             ]
            ],
            "type": "surface"
           }
          ],
          "table": [
           {
            "cells": {
             "fill": {
              "color": "#EBF0F8"
             },
             "line": {
              "color": "white"
             }
            },
            "header": {
             "fill": {
              "color": "#C8D4E3"
             },
             "line": {
              "color": "white"
             }
            },
            "type": "table"
           }
          ]
         },
         "layout": {
          "annotationdefaults": {
           "arrowcolor": "#2a3f5f",
           "arrowhead": 0,
           "arrowwidth": 1
          },
          "autotypenumbers": "strict",
          "coloraxis": {
           "colorbar": {
            "outlinewidth": 0,
            "ticks": ""
           }
          },
          "colorscale": {
           "diverging": [
            [
             0,
             "#8e0152"
            ],
            [
             0.1,
             "#c51b7d"
            ],
            [
             0.2,
             "#de77ae"
            ],
            [
             0.3,
             "#f1b6da"
            ],
            [
             0.4,
             "#fde0ef"
            ],
            [
             0.5,
             "#f7f7f7"
            ],
            [
             0.6,
             "#e6f5d0"
            ],
            [
             0.7,
             "#b8e186"
            ],
            [
             0.8,
             "#7fbc41"
            ],
            [
             0.9,
             "#4d9221"
            ],
            [
             1,
             "#276419"
            ]
           ],
           "sequential": [
            [
             0,
             "#0d0887"
            ],
            [
             0.1111111111111111,
             "#46039f"
            ],
            [
             0.2222222222222222,
             "#7201a8"
            ],
            [
             0.3333333333333333,
             "#9c179e"
            ],
            [
             0.4444444444444444,
             "#bd3786"
            ],
            [
             0.5555555555555556,
             "#d8576b"
            ],
            [
             0.6666666666666666,
             "#ed7953"
            ],
            [
             0.7777777777777778,
             "#fb9f3a"
            ],
            [
             0.8888888888888888,
             "#fdca26"
            ],
            [
             1,
             "#f0f921"
            ]
           ],
           "sequentialminus": [
            [
             0,
             "#0d0887"
            ],
            [
             0.1111111111111111,
             "#46039f"
            ],
            [
             0.2222222222222222,
             "#7201a8"
            ],
            [
             0.3333333333333333,
             "#9c179e"
            ],
            [
             0.4444444444444444,
             "#bd3786"
            ],
            [
             0.5555555555555556,
             "#d8576b"
            ],
            [
             0.6666666666666666,
             "#ed7953"
            ],
            [
             0.7777777777777778,
             "#fb9f3a"
            ],
            [
             0.8888888888888888,
             "#fdca26"
            ],
            [
             1,
             "#f0f921"
            ]
           ]
          },
          "colorway": [
           "#636efa",
           "#EF553B",
           "#00cc96",
           "#ab63fa",
           "#FFA15A",
           "#19d3f3",
           "#FF6692",
           "#B6E880",
           "#FF97FF",
           "#FECB52"
          ],
          "font": {
           "color": "#2a3f5f"
          },
          "geo": {
           "bgcolor": "white",
           "lakecolor": "white",
           "landcolor": "#E5ECF6",
           "showlakes": true,
           "showland": true,
           "subunitcolor": "white"
          },
          "hoverlabel": {
           "align": "left"
          },
          "hovermode": "closest",
          "mapbox": {
           "style": "light"
          },
          "paper_bgcolor": "white",
          "plot_bgcolor": "#E5ECF6",
          "polar": {
           "angularaxis": {
            "gridcolor": "white",
            "linecolor": "white",
            "ticks": ""
           },
           "bgcolor": "#E5ECF6",
           "radialaxis": {
            "gridcolor": "white",
            "linecolor": "white",
            "ticks": ""
           }
          },
          "scene": {
           "xaxis": {
            "backgroundcolor": "#E5ECF6",
            "gridcolor": "white",
            "gridwidth": 2,
            "linecolor": "white",
            "showbackground": true,
            "ticks": "",
            "zerolinecolor": "white"
           },
           "yaxis": {
            "backgroundcolor": "#E5ECF6",
            "gridcolor": "white",
            "gridwidth": 2,
            "linecolor": "white",
            "showbackground": true,
            "ticks": "",
            "zerolinecolor": "white"
           },
           "zaxis": {
            "backgroundcolor": "#E5ECF6",
            "gridcolor": "white",
            "gridwidth": 2,
            "linecolor": "white",
            "showbackground": true,
            "ticks": "",
            "zerolinecolor": "white"
           }
          },
          "shapedefaults": {
           "line": {
            "color": "#2a3f5f"
           }
          },
          "ternary": {
           "aaxis": {
            "gridcolor": "white",
            "linecolor": "white",
            "ticks": ""
           },
           "baxis": {
            "gridcolor": "white",
            "linecolor": "white",
            "ticks": ""
           },
           "bgcolor": "#E5ECF6",
           "caxis": {
            "gridcolor": "white",
            "linecolor": "white",
            "ticks": ""
           }
          },
          "title": {
           "x": 0.05
          },
          "xaxis": {
           "automargin": true,
           "gridcolor": "white",
           "linecolor": "white",
           "ticks": "",
           "title": {
            "standoff": 15
           },
           "zerolinecolor": "white",
           "zerolinewidth": 2
          },
          "yaxis": {
           "automargin": true,
           "gridcolor": "white",
           "linecolor": "white",
           "ticks": "",
           "title": {
            "standoff": 15
           },
           "zerolinecolor": "white",
           "zerolinewidth": 2
          }
         }
        },
        "title": {
         "text": "Unemployment rate"
        },
        "updatemenus": [
         {
          "buttons": [
           {
            "args": [
             null,
             {
              "frame": {
               "duration": 500,
               "redraw": false
              },
              "fromcurrent": true,
              "mode": "immediate",
              "transition": {
               "duration": 500,
               "easing": "linear"
              }
             }
            ],
            "label": "&#9654;",
            "method": "animate"
           },
           {
            "args": [
             [
              null
             ],
             {
              "frame": {
               "duration": 0,
               "redraw": false
              },
              "fromcurrent": true,
              "mode": "immediate",
              "transition": {
               "duration": 0,
               "easing": "linear"
              }
             }
            ],
            "label": "&#9724;",
            "method": "animate"
           }
          ],
          "direction": "left",
          "pad": {
           "r": 10,
           "t": 70
          },
          "showactive": false,
          "type": "buttons",
          "x": 0.1,
          "xanchor": "right",
          "y": 0,
          "yanchor": "top"
         }
        ],
        "xaxis": {
         "anchor": "y",
         "categoryorder": "total descending",
         "domain": [
          0,
          1
         ],
         "title": {
          "text": "Region"
         }
        },
        "yaxis": {
         "anchor": "x",
         "domain": [
          0,
          1
         ],
         "title": {
          "text": " Estimated Unemployment Rate (%)"
         }
        }
       }
      }
     },
     "metadata": {},
     "output_type": "display_data"
    }
   ],
   "source": [
    "fg = px.scatter(df,x='Region',y=' Estimated Unemployment Rate (%)',color='Region',title='Unemployment rate',animation_frame=' Date',template='plotly')\n",
    "fg.update_layout(xaxis={'categoryorder':'total descending'})\n",
    "fg.show()"
   ]
  },
  {
   "cell_type": "code",
   "execution_count": 54,
   "metadata": {},
   "outputs": [
    {
     "data": {
      "application/vnd.plotly.v1+json": {
       "config": {
        "plotlyServerURL": "https://plot.ly"
       },
       "data": [
        {
         "alignmentgroup": "True",
         "bingroup": "x",
         "histfunc": "sum",
         "hovertemplate": "Region=%{x}<br> Date= 31-05-2019<br>sum of  Estimated Unemployment Rate (%)=%{y}<extra></extra>",
         "legendgroup": "0",
         "marker": {
          "color": "#636efa",
          "pattern": {
           "shape": ""
          }
         },
         "name": "0",
         "offsetgroup": "0",
         "orientation": "v",
         "showlegend": true,
         "type": "histogram",
         "x": [
          0,
          0
         ],
         "xaxis": "x",
         "y": [
          3.65,
          6.09
         ],
         "yaxis": "y"
        },
        {
         "alignmentgroup": "True",
         "bingroup": "x",
         "histfunc": "sum",
         "hovertemplate": "Region=%{x}<br> Date= 31-05-2019<br>sum of  Estimated Unemployment Rate (%)=%{y}<extra></extra>",
         "legendgroup": "1",
         "marker": {
          "color": "#EF553B",
          "pattern": {
           "shape": ""
          }
         },
         "name": "1",
         "offsetgroup": "1",
         "orientation": "v",
         "showlegend": true,
         "type": "histogram",
         "x": [
          1,
          1
         ],
         "xaxis": "x",
         "y": [
          4.29,
          7.87
         ],
         "yaxis": "y"
        },
        {
         "alignmentgroup": "True",
         "bingroup": "x",
         "histfunc": "sum",
         "hovertemplate": "Region=%{x}<br> Date= 31-05-2019<br>sum of  Estimated Unemployment Rate (%)=%{y}<extra></extra>",
         "legendgroup": "2",
         "marker": {
          "color": "#00cc96",
          "pattern": {
           "shape": ""
          }
         },
         "name": "2",
         "offsetgroup": "2",
         "orientation": "v",
         "showlegend": true,
         "type": "histogram",
         "x": [
          2,
          2
         ],
         "xaxis": "x",
         "y": [
          9.27,
          19.9
         ],
         "yaxis": "y"
        },
        {
         "alignmentgroup": "True",
         "bingroup": "x",
         "histfunc": "sum",
         "hovertemplate": "Region=%{x}<br> Date= 31-05-2019<br>sum of  Estimated Unemployment Rate (%)=%{y}<extra></extra>",
         "legendgroup": "4",
         "marker": {
          "color": "#ab63fa",
          "pattern": {
           "shape": ""
          }
         },
         "name": "4",
         "offsetgroup": "4",
         "orientation": "v",
         "showlegend": true,
         "type": "histogram",
         "x": [
          4,
          4
         ],
         "xaxis": "x",
         "y": [
          9.82,
          9.77
         ],
         "yaxis": "y"
        },
        {
         "alignmentgroup": "True",
         "bingroup": "x",
         "histfunc": "sum",
         "hovertemplate": "Region=%{x}<br> Date= 31-05-2019<br>sum of  Estimated Unemployment Rate (%)=%{y}<extra></extra>",
         "legendgroup": "5",
         "marker": {
          "color": "#FFA15A",
          "pattern": {
           "shape": ""
          }
         },
         "name": "5",
         "offsetgroup": "5",
         "orientation": "v",
         "showlegend": true,
         "type": "histogram",
         "x": [
          5,
          5
         ],
         "xaxis": "x",
         "y": [
          12.56,
          12.31
         ],
         "yaxis": "y"
        },
        {
         "alignmentgroup": "True",
         "bingroup": "x",
         "histfunc": "sum",
         "hovertemplate": "Region=%{x}<br> Date= 31-05-2019<br>sum of  Estimated Unemployment Rate (%)=%{y}<extra></extra>",
         "legendgroup": "6",
         "marker": {
          "color": "#19d3f3",
          "pattern": {
           "shape": ""
          }
         },
         "name": "6",
         "offsetgroup": "6",
         "orientation": "v",
         "showlegend": true,
         "type": "histogram",
         "x": [
          6,
          6
         ],
         "xaxis": "x",
         "y": [
          2.91,
          2.75
         ],
         "yaxis": "y"
        },
        {
         "alignmentgroup": "True",
         "bingroup": "x",
         "histfunc": "sum",
         "hovertemplate": "Region=%{x}<br> Date= 31-05-2019<br>sum of  Estimated Unemployment Rate (%)=%{y}<extra></extra>",
         "legendgroup": "7",
         "marker": {
          "color": "#FF6692",
          "pattern": {
           "shape": ""
          }
         },
         "name": "7",
         "offsetgroup": "7",
         "orientation": "v",
         "showlegend": true,
         "type": "histogram",
         "x": [
          7,
          7
         ],
         "xaxis": "x",
         "y": [
          2.88,
          4.09
         ],
         "yaxis": "y"
        },
        {
         "alignmentgroup": "True",
         "bingroup": "x",
         "histfunc": "sum",
         "hovertemplate": "Region=%{x}<br> Date= 31-05-2019<br>sum of  Estimated Unemployment Rate (%)=%{y}<extra></extra>",
         "legendgroup": "8",
         "marker": {
          "color": "#B6E880",
          "pattern": {
           "shape": ""
          }
         },
         "name": "8",
         "offsetgroup": "8",
         "orientation": "v",
         "showlegend": true,
         "type": "histogram",
         "x": [
          8,
          8
         ],
         "xaxis": "x",
         "y": [
          14.54,
          24.67
         ],
         "yaxis": "y"
        },
        {
         "alignmentgroup": "True",
         "bingroup": "x",
         "histfunc": "sum",
         "hovertemplate": "Region=%{x}<br> Date= 31-05-2019<br>sum of  Estimated Unemployment Rate (%)=%{y}<extra></extra>",
         "legendgroup": "9",
         "marker": {
          "color": "#FF97FF",
          "pattern": {
           "shape": ""
          }
         },
         "name": "9",
         "offsetgroup": "9",
         "orientation": "v",
         "showlegend": true,
         "type": "histogram",
         "x": [
          9,
          9
         ],
         "xaxis": "x",
         "y": [
          13.68,
          10.88
         ],
         "yaxis": "y"
        },
        {
         "alignmentgroup": "True",
         "bingroup": "x",
         "histfunc": "sum",
         "hovertemplate": "Region=%{x}<br> Date= 31-05-2019<br>sum of  Estimated Unemployment Rate (%)=%{y}<extra></extra>",
         "legendgroup": "10",
         "marker": {
          "color": "#FECB52",
          "pattern": {
           "shape": ""
          }
         },
         "name": "10",
         "offsetgroup": "10",
         "orientation": "v",
         "showlegend": true,
         "type": "histogram",
         "x": [
          10,
          10
         ],
         "xaxis": "x",
         "y": [
          12.78,
          23.04
         ],
         "yaxis": "y"
        },
        {
         "alignmentgroup": "True",
         "bingroup": "x",
         "histfunc": "sum",
         "hovertemplate": "Region=%{x}<br> Date= 31-05-2019<br>sum of  Estimated Unemployment Rate (%)=%{y}<extra></extra>",
         "legendgroup": "11",
         "marker": {
          "color": "#636efa",
          "pattern": {
           "shape": ""
          }
         },
         "name": "11",
         "offsetgroup": "11",
         "orientation": "v",
         "showlegend": true,
         "type": "histogram",
         "x": [
          11,
          11
         ],
         "xaxis": "x",
         "y": [
          7.11,
          17.23
         ],
         "yaxis": "y"
        },
        {
         "alignmentgroup": "True",
         "bingroup": "x",
         "histfunc": "sum",
         "hovertemplate": "Region=%{x}<br> Date= 31-05-2019<br>sum of  Estimated Unemployment Rate (%)=%{y}<extra></extra>",
         "legendgroup": "12",
         "marker": {
          "color": "#EF553B",
          "pattern": {
           "shape": ""
          }
         },
         "name": "12",
         "offsetgroup": "12",
         "orientation": "v",
         "showlegend": true,
         "type": "histogram",
         "x": [
          12,
          12
         ],
         "xaxis": "x",
         "y": [
          5.46,
          6.56
         ],
         "yaxis": "y"
        },
        {
         "alignmentgroup": "True",
         "bingroup": "x",
         "histfunc": "sum",
         "hovertemplate": "Region=%{x}<br> Date= 31-05-2019<br>sum of  Estimated Unemployment Rate (%)=%{y}<extra></extra>",
         "legendgroup": "13",
         "marker": {
          "color": "#00cc96",
          "pattern": {
           "shape": ""
          }
         },
         "name": "13",
         "offsetgroup": "13",
         "orientation": "v",
         "showlegend": true,
         "type": "histogram",
         "x": [
          13,
          13
         ],
         "xaxis": "x",
         "y": [
          6.63,
          6.11
         ],
         "yaxis": "y"
        },
        {
         "alignmentgroup": "True",
         "bingroup": "x",
         "histfunc": "sum",
         "hovertemplate": "Region=%{x}<br> Date= 31-05-2019<br>sum of  Estimated Unemployment Rate (%)=%{y}<extra></extra>",
         "legendgroup": "14",
         "marker": {
          "color": "#ab63fa",
          "pattern": {
           "shape": ""
          }
         },
         "name": "14",
         "offsetgroup": "14",
         "orientation": "v",
         "showlegend": true,
         "type": "histogram",
         "x": [
          14,
          14
         ],
         "xaxis": "x",
         "y": [
          3.63,
          3.91
         ],
         "yaxis": "y"
        },
        {
         "alignmentgroup": "True",
         "bingroup": "x",
         "histfunc": "sum",
         "hovertemplate": "Region=%{x}<br> Date= 31-05-2019<br>sum of  Estimated Unemployment Rate (%)=%{y}<extra></extra>",
         "legendgroup": "15",
         "marker": {
          "color": "#FFA15A",
          "pattern": {
           "shape": ""
          }
         },
         "name": "15",
         "offsetgroup": "15",
         "orientation": "v",
         "showlegend": true,
         "type": "histogram",
         "x": [
          15,
          15
         ],
         "xaxis": "x",
         "y": [
          3.67,
          6.08
         ],
         "yaxis": "y"
        },
        {
         "alignmentgroup": "True",
         "bingroup": "x",
         "histfunc": "sum",
         "hovertemplate": "Region=%{x}<br> Date= 31-05-2019<br>sum of  Estimated Unemployment Rate (%)=%{y}<extra></extra>",
         "legendgroup": "16",
         "marker": {
          "color": "#19d3f3",
          "pattern": {
           "shape": ""
          }
         },
         "name": "16",
         "offsetgroup": "16",
         "orientation": "v",
         "showlegend": true,
         "type": "histogram",
         "x": [
          16,
          16
         ],
         "xaxis": "x",
         "y": [
          3.16,
          8.4
         ],
         "yaxis": "y"
        },
        {
         "alignmentgroup": "True",
         "bingroup": "x",
         "histfunc": "sum",
         "hovertemplate": "Region=%{x}<br> Date= 31-05-2019<br>sum of  Estimated Unemployment Rate (%)=%{y}<extra></extra>",
         "legendgroup": "17",
         "marker": {
          "color": "#FF6692",
          "pattern": {
           "shape": ""
          }
         },
         "name": "17",
         "offsetgroup": "17",
         "orientation": "v",
         "showlegend": true,
         "type": "histogram",
         "x": [
          17,
          17
         ],
         "xaxis": "x",
         "y": [
          4.17,
          2.95
         ],
         "yaxis": "y"
        },
        {
         "alignmentgroup": "True",
         "bingroup": "x",
         "histfunc": "sum",
         "hovertemplate": "Region=%{x}<br> Date= 31-05-2019<br>sum of  Estimated Unemployment Rate (%)=%{y}<extra></extra>",
         "legendgroup": "18",
         "marker": {
          "color": "#B6E880",
          "pattern": {
           "shape": ""
          }
         },
         "name": "18",
         "offsetgroup": "18",
         "orientation": "v",
         "showlegend": true,
         "type": "histogram",
         "x": [
          18,
          18
         ],
         "xaxis": "x",
         "y": [
          0,
          1.25
         ],
         "yaxis": "y"
        },
        {
         "alignmentgroup": "True",
         "bingroup": "x",
         "histfunc": "sum",
         "hovertemplate": "Region=%{x}<br> Date= 31-05-2019<br>sum of  Estimated Unemployment Rate (%)=%{y}<extra></extra>",
         "legendgroup": "19",
         "marker": {
          "color": "#FF97FF",
          "pattern": {
           "shape": ""
          }
         },
         "name": "19",
         "offsetgroup": "19",
         "orientation": "v",
         "showlegend": true,
         "type": "histogram",
         "x": [
          19,
          19
         ],
         "xaxis": "x",
         "y": [
          9.17,
          13.49
         ],
         "yaxis": "y"
        },
        {
         "alignmentgroup": "True",
         "bingroup": "x",
         "histfunc": "sum",
         "hovertemplate": "Region=%{x}<br> Date= 31-05-2019<br>sum of  Estimated Unemployment Rate (%)=%{y}<extra></extra>",
         "legendgroup": "20",
         "marker": {
          "color": "#FECB52",
          "pattern": {
           "shape": ""
          }
         },
         "name": "20",
         "offsetgroup": "20",
         "orientation": "v",
         "showlegend": true,
         "type": "histogram",
         "x": [
          20,
          20
         ],
         "xaxis": "x",
         "y": [
          4.03,
          13.62
         ],
         "yaxis": "y"
        },
        {
         "alignmentgroup": "True",
         "bingroup": "x",
         "histfunc": "sum",
         "hovertemplate": "Region=%{x}<br> Date= 31-05-2019<br>sum of  Estimated Unemployment Rate (%)=%{y}<extra></extra>",
         "legendgroup": "21",
         "marker": {
          "color": "#636efa",
          "pattern": {
           "shape": ""
          }
         },
         "name": "21",
         "offsetgroup": "21",
         "orientation": "v",
         "showlegend": true,
         "type": "histogram",
         "x": [
          21
         ],
         "xaxis": "x",
         "y": [
          8.2
         ],
         "yaxis": "y"
        },
        {
         "alignmentgroup": "True",
         "bingroup": "x",
         "histfunc": "sum",
         "hovertemplate": "Region=%{x}<br> Date= 31-05-2019<br>sum of  Estimated Unemployment Rate (%)=%{y}<extra></extra>",
         "legendgroup": "22",
         "marker": {
          "color": "#EF553B",
          "pattern": {
           "shape": ""
          }
         },
         "name": "22",
         "offsetgroup": "22",
         "orientation": "v",
         "showlegend": true,
         "type": "histogram",
         "x": [
          22,
          22
         ],
         "xaxis": "x",
         "y": [
          0.97,
          0.89
         ],
         "yaxis": "y"
        },
        {
         "alignmentgroup": "True",
         "bingroup": "x",
         "histfunc": "sum",
         "hovertemplate": "Region=%{x}<br> Date= 31-05-2019<br>sum of  Estimated Unemployment Rate (%)=%{y}<extra></extra>",
         "legendgroup": "23",
         "marker": {
          "color": "#00cc96",
          "pattern": {
           "shape": ""
          }
         },
         "name": "23",
         "offsetgroup": "23",
         "orientation": "v",
         "showlegend": true,
         "type": "histogram",
         "x": [
          23,
          23
         ],
         "xaxis": "x",
         "y": [
          2.23,
          1.52
         ],
         "yaxis": "y"
        },
        {
         "alignmentgroup": "True",
         "bingroup": "x",
         "histfunc": "sum",
         "hovertemplate": "Region=%{x}<br> Date= 31-05-2019<br>sum of  Estimated Unemployment Rate (%)=%{y}<extra></extra>",
         "legendgroup": "24",
         "marker": {
          "color": "#ab63fa",
          "pattern": {
           "shape": ""
          }
         },
         "name": "24",
         "offsetgroup": "24",
         "orientation": "v",
         "showlegend": true,
         "type": "histogram",
         "x": [
          24,
          24
         ],
         "xaxis": "x",
         "y": [
          29.25,
          34.69
         ],
         "yaxis": "y"
        },
        {
         "alignmentgroup": "True",
         "bingroup": "x",
         "histfunc": "sum",
         "hovertemplate": "Region=%{x}<br> Date= 31-05-2019<br>sum of  Estimated Unemployment Rate (%)=%{y}<extra></extra>",
         "legendgroup": "25",
         "marker": {
          "color": "#FFA15A",
          "pattern": {
           "shape": ""
          }
         },
         "name": "25",
         "offsetgroup": "25",
         "orientation": "v",
         "showlegend": true,
         "type": "histogram",
         "x": [
          25,
          25
         ],
         "xaxis": "x",
         "y": [
          10.26,
          14.4
         ],
         "yaxis": "y"
        },
        {
         "alignmentgroup": "True",
         "bingroup": "x",
         "histfunc": "sum",
         "hovertemplate": "Region=%{x}<br> Date= 31-05-2019<br>sum of  Estimated Unemployment Rate (%)=%{y}<extra></extra>",
         "legendgroup": "26",
         "marker": {
          "color": "#19d3f3",
          "pattern": {
           "shape": ""
          }
         },
         "name": "26",
         "offsetgroup": "26",
         "orientation": "v",
         "showlegend": true,
         "type": "histogram",
         "x": [
          26,
          26
         ],
         "xaxis": "x",
         "y": [
          1.63,
          9.17
         ],
         "yaxis": "y"
        },
        {
         "alignmentgroup": "True",
         "bingroup": "x",
         "histfunc": "sum",
         "hovertemplate": "Region=%{x}<br> Date= 31-05-2019<br>sum of  Estimated Unemployment Rate (%)=%{y}<extra></extra>",
         "legendgroup": "27",
         "marker": {
          "color": "#FF6692",
          "pattern": {
           "shape": ""
          }
         },
         "name": "27",
         "offsetgroup": "27",
         "orientation": "v",
         "showlegend": true,
         "type": "histogram",
         "x": [
          27,
          27
         ],
         "xaxis": "x",
         "y": [
          6.02,
          7.25
         ],
         "yaxis": "y"
        },
        {
         "alignmentgroup": "True",
         "bingroup": "x",
         "histfunc": "sum",
         "hovertemplate": "Region=%{x}<br> Date= 31-05-2019<br>sum of  Estimated Unemployment Rate (%)=%{y}<extra></extra>",
         "legendgroup": "3",
         "marker": {
          "color": "#FF97FF",
          "pattern": {
           "shape": ""
          }
         },
         "name": "3",
         "offsetgroup": "3",
         "orientation": "v",
         "showlegend": true,
         "type": "histogram",
         "x": [
          3
         ],
         "xaxis": "x",
         "y": [
          18.35
         ],
         "yaxis": "y"
        }
       ],
       "frames": [
        {
         "data": [
          {
           "alignmentgroup": "True",
           "bingroup": "x",
           "histfunc": "sum",
           "hovertemplate": "Region=%{x}<br> Date= 31-05-2019<br>sum of  Estimated Unemployment Rate (%)=%{y}<extra></extra>",
           "legendgroup": "0",
           "marker": {
            "color": "#636efa",
            "pattern": {
             "shape": ""
            }
           },
           "name": "0",
           "offsetgroup": "0",
           "orientation": "v",
           "showlegend": true,
           "type": "histogram",
           "x": [
            0,
            0
           ],
           "xaxis": "x",
           "y": [
            3.65,
            6.09
           ],
           "yaxis": "y"
          },
          {
           "alignmentgroup": "True",
           "bingroup": "x",
           "histfunc": "sum",
           "hovertemplate": "Region=%{x}<br> Date= 31-05-2019<br>sum of  Estimated Unemployment Rate (%)=%{y}<extra></extra>",
           "legendgroup": "1",
           "marker": {
            "color": "#EF553B",
            "pattern": {
             "shape": ""
            }
           },
           "name": "1",
           "offsetgroup": "1",
           "orientation": "v",
           "showlegend": true,
           "type": "histogram",
           "x": [
            1,
            1
           ],
           "xaxis": "x",
           "y": [
            4.29,
            7.87
           ],
           "yaxis": "y"
          },
          {
           "alignmentgroup": "True",
           "bingroup": "x",
           "histfunc": "sum",
           "hovertemplate": "Region=%{x}<br> Date= 31-05-2019<br>sum of  Estimated Unemployment Rate (%)=%{y}<extra></extra>",
           "legendgroup": "2",
           "marker": {
            "color": "#00cc96",
            "pattern": {
             "shape": ""
            }
           },
           "name": "2",
           "offsetgroup": "2",
           "orientation": "v",
           "showlegend": true,
           "type": "histogram",
           "x": [
            2,
            2
           ],
           "xaxis": "x",
           "y": [
            9.27,
            19.9
           ],
           "yaxis": "y"
          },
          {
           "alignmentgroup": "True",
           "bingroup": "x",
           "histfunc": "sum",
           "hovertemplate": "Region=%{x}<br> Date= 31-05-2019<br>sum of  Estimated Unemployment Rate (%)=%{y}<extra></extra>",
           "legendgroup": "4",
           "marker": {
            "color": "#ab63fa",
            "pattern": {
             "shape": ""
            }
           },
           "name": "4",
           "offsetgroup": "4",
           "orientation": "v",
           "showlegend": true,
           "type": "histogram",
           "x": [
            4,
            4
           ],
           "xaxis": "x",
           "y": [
            9.82,
            9.77
           ],
           "yaxis": "y"
          },
          {
           "alignmentgroup": "True",
           "bingroup": "x",
           "histfunc": "sum",
           "hovertemplate": "Region=%{x}<br> Date= 31-05-2019<br>sum of  Estimated Unemployment Rate (%)=%{y}<extra></extra>",
           "legendgroup": "5",
           "marker": {
            "color": "#FFA15A",
            "pattern": {
             "shape": ""
            }
           },
           "name": "5",
           "offsetgroup": "5",
           "orientation": "v",
           "showlegend": true,
           "type": "histogram",
           "x": [
            5,
            5
           ],
           "xaxis": "x",
           "y": [
            12.56,
            12.31
           ],
           "yaxis": "y"
          },
          {
           "alignmentgroup": "True",
           "bingroup": "x",
           "histfunc": "sum",
           "hovertemplate": "Region=%{x}<br> Date= 31-05-2019<br>sum of  Estimated Unemployment Rate (%)=%{y}<extra></extra>",
           "legendgroup": "6",
           "marker": {
            "color": "#19d3f3",
            "pattern": {
             "shape": ""
            }
           },
           "name": "6",
           "offsetgroup": "6",
           "orientation": "v",
           "showlegend": true,
           "type": "histogram",
           "x": [
            6,
            6
           ],
           "xaxis": "x",
           "y": [
            2.91,
            2.75
           ],
           "yaxis": "y"
          },
          {
           "alignmentgroup": "True",
           "bingroup": "x",
           "histfunc": "sum",
           "hovertemplate": "Region=%{x}<br> Date= 31-05-2019<br>sum of  Estimated Unemployment Rate (%)=%{y}<extra></extra>",
           "legendgroup": "7",
           "marker": {
            "color": "#FF6692",
            "pattern": {
             "shape": ""
            }
           },
           "name": "7",
           "offsetgroup": "7",
           "orientation": "v",
           "showlegend": true,
           "type": "histogram",
           "x": [
            7,
            7
           ],
           "xaxis": "x",
           "y": [
            2.88,
            4.09
           ],
           "yaxis": "y"
          },
          {
           "alignmentgroup": "True",
           "bingroup": "x",
           "histfunc": "sum",
           "hovertemplate": "Region=%{x}<br> Date= 31-05-2019<br>sum of  Estimated Unemployment Rate (%)=%{y}<extra></extra>",
           "legendgroup": "8",
           "marker": {
            "color": "#B6E880",
            "pattern": {
             "shape": ""
            }
           },
           "name": "8",
           "offsetgroup": "8",
           "orientation": "v",
           "showlegend": true,
           "type": "histogram",
           "x": [
            8,
            8
           ],
           "xaxis": "x",
           "y": [
            14.54,
            24.67
           ],
           "yaxis": "y"
          },
          {
           "alignmentgroup": "True",
           "bingroup": "x",
           "histfunc": "sum",
           "hovertemplate": "Region=%{x}<br> Date= 31-05-2019<br>sum of  Estimated Unemployment Rate (%)=%{y}<extra></extra>",
           "legendgroup": "9",
           "marker": {
            "color": "#FF97FF",
            "pattern": {
             "shape": ""
            }
           },
           "name": "9",
           "offsetgroup": "9",
           "orientation": "v",
           "showlegend": true,
           "type": "histogram",
           "x": [
            9,
            9
           ],
           "xaxis": "x",
           "y": [
            13.68,
            10.88
           ],
           "yaxis": "y"
          },
          {
           "alignmentgroup": "True",
           "bingroup": "x",
           "histfunc": "sum",
           "hovertemplate": "Region=%{x}<br> Date= 31-05-2019<br>sum of  Estimated Unemployment Rate (%)=%{y}<extra></extra>",
           "legendgroup": "10",
           "marker": {
            "color": "#FECB52",
            "pattern": {
             "shape": ""
            }
           },
           "name": "10",
           "offsetgroup": "10",
           "orientation": "v",
           "showlegend": true,
           "type": "histogram",
           "x": [
            10,
            10
           ],
           "xaxis": "x",
           "y": [
            12.78,
            23.04
           ],
           "yaxis": "y"
          },
          {
           "alignmentgroup": "True",
           "bingroup": "x",
           "histfunc": "sum",
           "hovertemplate": "Region=%{x}<br> Date= 31-05-2019<br>sum of  Estimated Unemployment Rate (%)=%{y}<extra></extra>",
           "legendgroup": "11",
           "marker": {
            "color": "#636efa",
            "pattern": {
             "shape": ""
            }
           },
           "name": "11",
           "offsetgroup": "11",
           "orientation": "v",
           "showlegend": true,
           "type": "histogram",
           "x": [
            11,
            11
           ],
           "xaxis": "x",
           "y": [
            7.11,
            17.23
           ],
           "yaxis": "y"
          },
          {
           "alignmentgroup": "True",
           "bingroup": "x",
           "histfunc": "sum",
           "hovertemplate": "Region=%{x}<br> Date= 31-05-2019<br>sum of  Estimated Unemployment Rate (%)=%{y}<extra></extra>",
           "legendgroup": "12",
           "marker": {
            "color": "#EF553B",
            "pattern": {
             "shape": ""
            }
           },
           "name": "12",
           "offsetgroup": "12",
           "orientation": "v",
           "showlegend": true,
           "type": "histogram",
           "x": [
            12,
            12
           ],
           "xaxis": "x",
           "y": [
            5.46,
            6.56
           ],
           "yaxis": "y"
          },
          {
           "alignmentgroup": "True",
           "bingroup": "x",
           "histfunc": "sum",
           "hovertemplate": "Region=%{x}<br> Date= 31-05-2019<br>sum of  Estimated Unemployment Rate (%)=%{y}<extra></extra>",
           "legendgroup": "13",
           "marker": {
            "color": "#00cc96",
            "pattern": {
             "shape": ""
            }
           },
           "name": "13",
           "offsetgroup": "13",
           "orientation": "v",
           "showlegend": true,
           "type": "histogram",
           "x": [
            13,
            13
           ],
           "xaxis": "x",
           "y": [
            6.63,
            6.11
           ],
           "yaxis": "y"
          },
          {
           "alignmentgroup": "True",
           "bingroup": "x",
           "histfunc": "sum",
           "hovertemplate": "Region=%{x}<br> Date= 31-05-2019<br>sum of  Estimated Unemployment Rate (%)=%{y}<extra></extra>",
           "legendgroup": "14",
           "marker": {
            "color": "#ab63fa",
            "pattern": {
             "shape": ""
            }
           },
           "name": "14",
           "offsetgroup": "14",
           "orientation": "v",
           "showlegend": true,
           "type": "histogram",
           "x": [
            14,
            14
           ],
           "xaxis": "x",
           "y": [
            3.63,
            3.91
           ],
           "yaxis": "y"
          },
          {
           "alignmentgroup": "True",
           "bingroup": "x",
           "histfunc": "sum",
           "hovertemplate": "Region=%{x}<br> Date= 31-05-2019<br>sum of  Estimated Unemployment Rate (%)=%{y}<extra></extra>",
           "legendgroup": "15",
           "marker": {
            "color": "#FFA15A",
            "pattern": {
             "shape": ""
            }
           },
           "name": "15",
           "offsetgroup": "15",
           "orientation": "v",
           "showlegend": true,
           "type": "histogram",
           "x": [
            15,
            15
           ],
           "xaxis": "x",
           "y": [
            3.67,
            6.08
           ],
           "yaxis": "y"
          },
          {
           "alignmentgroup": "True",
           "bingroup": "x",
           "histfunc": "sum",
           "hovertemplate": "Region=%{x}<br> Date= 31-05-2019<br>sum of  Estimated Unemployment Rate (%)=%{y}<extra></extra>",
           "legendgroup": "16",
           "marker": {
            "color": "#19d3f3",
            "pattern": {
             "shape": ""
            }
           },
           "name": "16",
           "offsetgroup": "16",
           "orientation": "v",
           "showlegend": true,
           "type": "histogram",
           "x": [
            16,
            16
           ],
           "xaxis": "x",
           "y": [
            3.16,
            8.4
           ],
           "yaxis": "y"
          },
          {
           "alignmentgroup": "True",
           "bingroup": "x",
           "histfunc": "sum",
           "hovertemplate": "Region=%{x}<br> Date= 31-05-2019<br>sum of  Estimated Unemployment Rate (%)=%{y}<extra></extra>",
           "legendgroup": "17",
           "marker": {
            "color": "#FF6692",
            "pattern": {
             "shape": ""
            }
           },
           "name": "17",
           "offsetgroup": "17",
           "orientation": "v",
           "showlegend": true,
           "type": "histogram",
           "x": [
            17,
            17
           ],
           "xaxis": "x",
           "y": [
            4.17,
            2.95
           ],
           "yaxis": "y"
          },
          {
           "alignmentgroup": "True",
           "bingroup": "x",
           "histfunc": "sum",
           "hovertemplate": "Region=%{x}<br> Date= 31-05-2019<br>sum of  Estimated Unemployment Rate (%)=%{y}<extra></extra>",
           "legendgroup": "18",
           "marker": {
            "color": "#B6E880",
            "pattern": {
             "shape": ""
            }
           },
           "name": "18",
           "offsetgroup": "18",
           "orientation": "v",
           "showlegend": true,
           "type": "histogram",
           "x": [
            18,
            18
           ],
           "xaxis": "x",
           "y": [
            0,
            1.25
           ],
           "yaxis": "y"
          },
          {
           "alignmentgroup": "True",
           "bingroup": "x",
           "histfunc": "sum",
           "hovertemplate": "Region=%{x}<br> Date= 31-05-2019<br>sum of  Estimated Unemployment Rate (%)=%{y}<extra></extra>",
           "legendgroup": "19",
           "marker": {
            "color": "#FF97FF",
            "pattern": {
             "shape": ""
            }
           },
           "name": "19",
           "offsetgroup": "19",
           "orientation": "v",
           "showlegend": true,
           "type": "histogram",
           "x": [
            19,
            19
           ],
           "xaxis": "x",
           "y": [
            9.17,
            13.49
           ],
           "yaxis": "y"
          },
          {
           "alignmentgroup": "True",
           "bingroup": "x",
           "histfunc": "sum",
           "hovertemplate": "Region=%{x}<br> Date= 31-05-2019<br>sum of  Estimated Unemployment Rate (%)=%{y}<extra></extra>",
           "legendgroup": "20",
           "marker": {
            "color": "#FECB52",
            "pattern": {
             "shape": ""
            }
           },
           "name": "20",
           "offsetgroup": "20",
           "orientation": "v",
           "showlegend": true,
           "type": "histogram",
           "x": [
            20,
            20
           ],
           "xaxis": "x",
           "y": [
            4.03,
            13.62
           ],
           "yaxis": "y"
          },
          {
           "alignmentgroup": "True",
           "bingroup": "x",
           "histfunc": "sum",
           "hovertemplate": "Region=%{x}<br> Date= 31-05-2019<br>sum of  Estimated Unemployment Rate (%)=%{y}<extra></extra>",
           "legendgroup": "21",
           "marker": {
            "color": "#636efa",
            "pattern": {
             "shape": ""
            }
           },
           "name": "21",
           "offsetgroup": "21",
           "orientation": "v",
           "showlegend": true,
           "type": "histogram",
           "x": [
            21
           ],
           "xaxis": "x",
           "y": [
            8.2
           ],
           "yaxis": "y"
          },
          {
           "alignmentgroup": "True",
           "bingroup": "x",
           "histfunc": "sum",
           "hovertemplate": "Region=%{x}<br> Date= 31-05-2019<br>sum of  Estimated Unemployment Rate (%)=%{y}<extra></extra>",
           "legendgroup": "22",
           "marker": {
            "color": "#EF553B",
            "pattern": {
             "shape": ""
            }
           },
           "name": "22",
           "offsetgroup": "22",
           "orientation": "v",
           "showlegend": true,
           "type": "histogram",
           "x": [
            22,
            22
           ],
           "xaxis": "x",
           "y": [
            0.97,
            0.89
           ],
           "yaxis": "y"
          },
          {
           "alignmentgroup": "True",
           "bingroup": "x",
           "histfunc": "sum",
           "hovertemplate": "Region=%{x}<br> Date= 31-05-2019<br>sum of  Estimated Unemployment Rate (%)=%{y}<extra></extra>",
           "legendgroup": "23",
           "marker": {
            "color": "#00cc96",
            "pattern": {
             "shape": ""
            }
           },
           "name": "23",
           "offsetgroup": "23",
           "orientation": "v",
           "showlegend": true,
           "type": "histogram",
           "x": [
            23,
            23
           ],
           "xaxis": "x",
           "y": [
            2.23,
            1.52
           ],
           "yaxis": "y"
          },
          {
           "alignmentgroup": "True",
           "bingroup": "x",
           "histfunc": "sum",
           "hovertemplate": "Region=%{x}<br> Date= 31-05-2019<br>sum of  Estimated Unemployment Rate (%)=%{y}<extra></extra>",
           "legendgroup": "24",
           "marker": {
            "color": "#ab63fa",
            "pattern": {
             "shape": ""
            }
           },
           "name": "24",
           "offsetgroup": "24",
           "orientation": "v",
           "showlegend": true,
           "type": "histogram",
           "x": [
            24,
            24
           ],
           "xaxis": "x",
           "y": [
            29.25,
            34.69
           ],
           "yaxis": "y"
          },
          {
           "alignmentgroup": "True",
           "bingroup": "x",
           "histfunc": "sum",
           "hovertemplate": "Region=%{x}<br> Date= 31-05-2019<br>sum of  Estimated Unemployment Rate (%)=%{y}<extra></extra>",
           "legendgroup": "25",
           "marker": {
            "color": "#FFA15A",
            "pattern": {
             "shape": ""
            }
           },
           "name": "25",
           "offsetgroup": "25",
           "orientation": "v",
           "showlegend": true,
           "type": "histogram",
           "x": [
            25,
            25
           ],
           "xaxis": "x",
           "y": [
            10.26,
            14.4
           ],
           "yaxis": "y"
          },
          {
           "alignmentgroup": "True",
           "bingroup": "x",
           "histfunc": "sum",
           "hovertemplate": "Region=%{x}<br> Date= 31-05-2019<br>sum of  Estimated Unemployment Rate (%)=%{y}<extra></extra>",
           "legendgroup": "26",
           "marker": {
            "color": "#19d3f3",
            "pattern": {
             "shape": ""
            }
           },
           "name": "26",
           "offsetgroup": "26",
           "orientation": "v",
           "showlegend": true,
           "type": "histogram",
           "x": [
            26,
            26
           ],
           "xaxis": "x",
           "y": [
            1.63,
            9.17
           ],
           "yaxis": "y"
          },
          {
           "alignmentgroup": "True",
           "bingroup": "x",
           "histfunc": "sum",
           "hovertemplate": "Region=%{x}<br> Date= 31-05-2019<br>sum of  Estimated Unemployment Rate (%)=%{y}<extra></extra>",
           "legendgroup": "27",
           "marker": {
            "color": "#FF6692",
            "pattern": {
             "shape": ""
            }
           },
           "name": "27",
           "offsetgroup": "27",
           "orientation": "v",
           "showlegend": true,
           "type": "histogram",
           "x": [
            27,
            27
           ],
           "xaxis": "x",
           "y": [
            6.02,
            7.25
           ],
           "yaxis": "y"
          },
          {
           "alignmentgroup": "True",
           "bingroup": "x",
           "histfunc": "sum",
           "hovertemplate": "Region=%{x}<br> Date= 31-05-2019<br>sum of  Estimated Unemployment Rate (%)=%{y}<extra></extra>",
           "legendgroup": "3",
           "marker": {
            "color": "#FF97FF",
            "pattern": {
             "shape": ""
            }
           },
           "name": "3",
           "offsetgroup": "3",
           "orientation": "v",
           "showlegend": true,
           "type": "histogram",
           "x": [
            3
           ],
           "xaxis": "x",
           "y": [
            18.35
           ],
           "yaxis": "y"
          }
         ],
         "name": " 31-05-2019"
        },
        {
         "data": [
          {
           "alignmentgroup": "True",
           "bingroup": "x",
           "histfunc": "sum",
           "hovertemplate": "Region=%{x}<br> Date= 30-06-2019<br>sum of  Estimated Unemployment Rate (%)=%{y}<extra></extra>",
           "legendgroup": "0",
           "marker": {
            "color": "#636efa",
            "pattern": {
             "shape": ""
            }
           },
           "name": "0",
           "offsetgroup": "0",
           "orientation": "v",
           "showlegend": true,
           "type": "histogram",
           "x": [
            0,
            0
           ],
           "xaxis": "x",
           "y": [
            3.05,
            3.8
           ],
           "yaxis": "y"
          },
          {
           "alignmentgroup": "True",
           "bingroup": "x",
           "histfunc": "sum",
           "hovertemplate": "Region=%{x}<br> Date= 30-06-2019<br>sum of  Estimated Unemployment Rate (%)=%{y}<extra></extra>",
           "legendgroup": "1",
           "marker": {
            "color": "#EF553B",
            "pattern": {
             "shape": ""
            }
           },
           "name": "1",
           "offsetgroup": "1",
           "orientation": "v",
           "showlegend": true,
           "type": "histogram",
           "x": [
            1,
            1
           ],
           "xaxis": "x",
           "y": [
            5.08,
            9.89
           ],
           "yaxis": "y"
          },
          {
           "alignmentgroup": "True",
           "bingroup": "x",
           "histfunc": "sum",
           "hovertemplate": "Region=%{x}<br> Date= 30-06-2019<br>sum of  Estimated Unemployment Rate (%)=%{y}<extra></extra>",
           "legendgroup": "2",
           "marker": {
            "color": "#00cc96",
            "pattern": {
             "shape": ""
            }
           },
           "name": "2",
           "offsetgroup": "2",
           "orientation": "v",
           "showlegend": true,
           "type": "histogram",
           "x": [
            2,
            2
           ],
           "xaxis": "x",
           "y": [
            10.2,
            13.29
           ],
           "yaxis": "y"
          },
          {
           "alignmentgroup": "True",
           "bingroup": "x",
           "histfunc": "sum",
           "hovertemplate": "Region=%{x}<br> Date= 30-06-2019<br>sum of  Estimated Unemployment Rate (%)=%{y}<extra></extra>",
           "legendgroup": "4",
           "marker": {
            "color": "#ab63fa",
            "pattern": {
             "shape": ""
            }
           },
           "name": "4",
           "offsetgroup": "4",
           "orientation": "v",
           "showlegend": true,
           "type": "histogram",
           "x": [
            4,
            4
           ],
           "xaxis": "x",
           "y": [
            6.76,
            11.77
           ],
           "yaxis": "y"
          },
          {
           "alignmentgroup": "True",
           "bingroup": "x",
           "histfunc": "sum",
           "hovertemplate": "Region=%{x}<br> Date= 30-06-2019<br>sum of  Estimated Unemployment Rate (%)=%{y}<extra></extra>",
           "legendgroup": "5",
           "marker": {
            "color": "#FFA15A",
            "pattern": {
             "shape": ""
            }
           },
           "name": "5",
           "offsetgroup": "5",
           "orientation": "v",
           "showlegend": true,
           "type": "histogram",
           "x": [
            5,
            5
           ],
           "xaxis": "x",
           "y": [
            9.33,
            12.76
           ],
           "yaxis": "y"
          },
          {
           "alignmentgroup": "True",
           "bingroup": "x",
           "histfunc": "sum",
           "hovertemplate": "Region=%{x}<br> Date= 30-06-2019<br>sum of  Estimated Unemployment Rate (%)=%{y}<extra></extra>",
           "legendgroup": "6",
           "marker": {
            "color": "#19d3f3",
            "pattern": {
             "shape": ""
            }
           },
           "name": "6",
           "offsetgroup": "6",
           "orientation": "v",
           "showlegend": true,
           "type": "histogram",
           "x": [
            6,
            6
           ],
           "xaxis": "x",
           "y": [
            5.45,
            13.33
           ],
           "yaxis": "y"
          },
          {
           "alignmentgroup": "True",
           "bingroup": "x",
           "histfunc": "sum",
           "hovertemplate": "Region=%{x}<br> Date= 30-06-2019<br>sum of  Estimated Unemployment Rate (%)=%{y}<extra></extra>",
           "legendgroup": "7",
           "marker": {
            "color": "#FF6692",
            "pattern": {
             "shape": ""
            }
           },
           "name": "7",
           "offsetgroup": "7",
           "orientation": "v",
           "showlegend": true,
           "type": "histogram",
           "x": [
            7,
            7
           ],
           "xaxis": "x",
           "y": [
            4.77,
            6.31
           ],
           "yaxis": "y"
          },
          {
           "alignmentgroup": "True",
           "bingroup": "x",
           "histfunc": "sum",
           "hovertemplate": "Region=%{x}<br> Date= 30-06-2019<br>sum of  Estimated Unemployment Rate (%)=%{y}<extra></extra>",
           "legendgroup": "8",
           "marker": {
            "color": "#B6E880",
            "pattern": {
             "shape": ""
            }
           },
           "name": "8",
           "offsetgroup": "8",
           "orientation": "v",
           "showlegend": true,
           "type": "histogram",
           "x": [
            8,
            8
           ],
           "xaxis": "x",
           "y": [
            23.08,
            20.42
           ],
           "yaxis": "y"
          },
          {
           "alignmentgroup": "True",
           "bingroup": "x",
           "histfunc": "sum",
           "hovertemplate": "Region=%{x}<br> Date= 30-06-2019<br>sum of  Estimated Unemployment Rate (%)=%{y}<extra></extra>",
           "legendgroup": "9",
           "marker": {
            "color": "#FF97FF",
            "pattern": {
             "shape": ""
            }
           },
           "name": "9",
           "offsetgroup": "9",
           "orientation": "v",
           "showlegend": true,
           "type": "histogram",
           "x": [
            9,
            9
           ],
           "xaxis": "x",
           "y": [
            11.43,
            21.43
           ],
           "yaxis": "y"
          },
          {
           "alignmentgroup": "True",
           "bingroup": "x",
           "histfunc": "sum",
           "hovertemplate": "Region=%{x}<br> Date= 30-06-2019<br>sum of  Estimated Unemployment Rate (%)=%{y}<extra></extra>",
           "legendgroup": "10",
           "marker": {
            "color": "#FECB52",
            "pattern": {
             "shape": ""
            }
           },
           "name": "10",
           "offsetgroup": "10",
           "orientation": "v",
           "showlegend": true,
           "type": "histogram",
           "x": [
            10,
            10
           ],
           "xaxis": "x",
           "y": [
            12.09,
            19.88
           ],
           "yaxis": "y"
          },
          {
           "alignmentgroup": "True",
           "bingroup": "x",
           "histfunc": "sum",
           "hovertemplate": "Region=%{x}<br> Date= 30-06-2019<br>sum of  Estimated Unemployment Rate (%)=%{y}<extra></extra>",
           "legendgroup": "11",
           "marker": {
            "color": "#636efa",
            "pattern": {
             "shape": ""
            }
           },
           "name": "11",
           "offsetgroup": "11",
           "orientation": "v",
           "showlegend": true,
           "type": "histogram",
           "x": [
            11,
            11
           ],
           "xaxis": "x",
           "y": [
            8.46,
            20.51
           ],
           "yaxis": "y"
          },
          {
           "alignmentgroup": "True",
           "bingroup": "x",
           "histfunc": "sum",
           "hovertemplate": "Region=%{x}<br> Date= 30-06-2019<br>sum of  Estimated Unemployment Rate (%)=%{y}<extra></extra>",
           "legendgroup": "12",
           "marker": {
            "color": "#EF553B",
            "pattern": {
             "shape": ""
            }
           },
           "name": "12",
           "offsetgroup": "12",
           "orientation": "v",
           "showlegend": true,
           "type": "histogram",
           "x": [
            12,
            12
           ],
           "xaxis": "x",
           "y": [
            5.98,
            5
           ],
           "yaxis": "y"
          },
          {
           "alignmentgroup": "True",
           "bingroup": "x",
           "histfunc": "sum",
           "hovertemplate": "Region=%{x}<br> Date= 30-06-2019<br>sum of  Estimated Unemployment Rate (%)=%{y}<extra></extra>",
           "legendgroup": "13",
           "marker": {
            "color": "#00cc96",
            "pattern": {
             "shape": ""
            }
           },
           "name": "13",
           "offsetgroup": "13",
           "orientation": "v",
           "showlegend": true,
           "type": "histogram",
           "x": [
            13,
            13
           ],
           "xaxis": "x",
           "y": [
            9,
            6.67
           ],
           "yaxis": "y"
          },
          {
           "alignmentgroup": "True",
           "bingroup": "x",
           "histfunc": "sum",
           "hovertemplate": "Region=%{x}<br> Date= 30-06-2019<br>sum of  Estimated Unemployment Rate (%)=%{y}<extra></extra>",
           "legendgroup": "14",
           "marker": {
            "color": "#ab63fa",
            "pattern": {
             "shape": ""
            }
           },
           "name": "14",
           "offsetgroup": "14",
           "orientation": "v",
           "showlegend": true,
           "type": "histogram",
           "x": [
            14,
            14
           ],
           "xaxis": "x",
           "y": [
            4.25,
            6.38
           ],
           "yaxis": "y"
          },
          {
           "alignmentgroup": "True",
           "bingroup": "x",
           "histfunc": "sum",
           "hovertemplate": "Region=%{x}<br> Date= 30-06-2019<br>sum of  Estimated Unemployment Rate (%)=%{y}<extra></extra>",
           "legendgroup": "15",
           "marker": {
            "color": "#FFA15A",
            "pattern": {
             "shape": ""
            }
           },
           "name": "15",
           "offsetgroup": "15",
           "orientation": "v",
           "showlegend": true,
           "type": "histogram",
           "x": [
            15,
            15
           ],
           "xaxis": "x",
           "y": [
            4.34,
            6.46
           ],
           "yaxis": "y"
          },
          {
           "alignmentgroup": "True",
           "bingroup": "x",
           "histfunc": "sum",
           "hovertemplate": "Region=%{x}<br> Date= 30-06-2019<br>sum of  Estimated Unemployment Rate (%)=%{y}<extra></extra>",
           "legendgroup": "16",
           "marker": {
            "color": "#19d3f3",
            "pattern": {
             "shape": ""
            }
           },
           "name": "16",
           "offsetgroup": "16",
           "orientation": "v",
           "showlegend": true,
           "type": "histogram",
           "x": [
            16,
            16
           ],
           "xaxis": "x",
           "y": [
            4.23,
            8.66
           ],
           "yaxis": "y"
          },
          {
           "alignmentgroup": "True",
           "bingroup": "x",
           "histfunc": "sum",
           "hovertemplate": "Region=%{x}<br> Date= 30-06-2019<br>sum of  Estimated Unemployment Rate (%)=%{y}<extra></extra>",
           "legendgroup": "17",
           "marker": {
            "color": "#FF6692",
            "pattern": {
             "shape": ""
            }
           },
           "name": "17",
           "offsetgroup": "17",
           "orientation": "v",
           "showlegend": true,
           "type": "histogram",
           "x": [
            17,
            17
           ],
           "xaxis": "x",
           "y": [
            4.71,
            2.63
           ],
           "yaxis": "y"
          },
          {
           "alignmentgroup": "True",
           "bingroup": "x",
           "histfunc": "sum",
           "hovertemplate": "Region=%{x}<br> Date= 30-06-2019<br>sum of  Estimated Unemployment Rate (%)=%{y}<extra></extra>",
           "legendgroup": "18",
           "marker": {
            "color": "#B6E880",
            "pattern": {
             "shape": ""
            }
           },
           "name": "18",
           "offsetgroup": "18",
           "orientation": "v",
           "showlegend": true,
           "type": "histogram",
           "x": [
            18,
            18
           ],
           "xaxis": "x",
           "y": [
            0,
            0
           ],
           "yaxis": "y"
          },
          {
           "alignmentgroup": "True",
           "bingroup": "x",
           "histfunc": "sum",
           "hovertemplate": "Region=%{x}<br> Date= 30-06-2019<br>sum of  Estimated Unemployment Rate (%)=%{y}<extra></extra>",
           "legendgroup": "19",
           "marker": {
            "color": "#FF97FF",
            "pattern": {
             "shape": ""
            }
           },
           "name": "19",
           "offsetgroup": "19",
           "orientation": "v",
           "showlegend": true,
           "type": "histogram",
           "x": [
            19,
            19
           ],
           "xaxis": "x",
           "y": [
            12.21,
            13.17
           ],
           "yaxis": "y"
          },
          {
           "alignmentgroup": "True",
           "bingroup": "x",
           "histfunc": "sum",
           "hovertemplate": "Region=%{x}<br> Date= 30-06-2019<br>sum of  Estimated Unemployment Rate (%)=%{y}<extra></extra>",
           "legendgroup": "20",
           "marker": {
            "color": "#FECB52",
            "pattern": {
             "shape": ""
            }
           },
           "name": "20",
           "offsetgroup": "20",
           "orientation": "v",
           "showlegend": true,
           "type": "histogram",
           "x": [
            20,
            20
           ],
           "xaxis": "x",
           "y": [
            13.7,
            14.36
           ],
           "yaxis": "y"
          },
          {
           "alignmentgroup": "True",
           "bingroup": "x",
           "histfunc": "sum",
           "hovertemplate": "Region=%{x}<br> Date= 30-06-2019<br>sum of  Estimated Unemployment Rate (%)=%{y}<extra></extra>",
           "legendgroup": "21",
           "marker": {
            "color": "#636efa",
            "pattern": {
             "shape": ""
            }
           },
           "name": "21",
           "offsetgroup": "21",
           "orientation": "v",
           "showlegend": true,
           "type": "histogram",
           "x": [
            21
           ],
           "xaxis": "x",
           "y": [
            7.76
           ],
           "yaxis": "y"
          },
          {
           "alignmentgroup": "True",
           "bingroup": "x",
           "histfunc": "sum",
           "hovertemplate": "Region=%{x}<br> Date= 30-06-2019<br>sum of  Estimated Unemployment Rate (%)=%{y}<extra></extra>",
           "legendgroup": "22",
           "marker": {
            "color": "#EF553B",
            "pattern": {
             "shape": ""
            }
           },
           "name": "22",
           "offsetgroup": "22",
           "orientation": "v",
           "showlegend": true,
           "type": "histogram",
           "x": [
            22,
            22
           ],
           "xaxis": "x",
           "y": [
            0.92,
            1.56
           ],
           "yaxis": "y"
          },
          {
           "alignmentgroup": "True",
           "bingroup": "x",
           "histfunc": "sum",
           "hovertemplate": "Region=%{x}<br> Date= 30-06-2019<br>sum of  Estimated Unemployment Rate (%)=%{y}<extra></extra>",
           "legendgroup": "23",
           "marker": {
            "color": "#00cc96",
            "pattern": {
             "shape": ""
            }
           },
           "name": "23",
           "offsetgroup": "23",
           "orientation": "v",
           "showlegend": true,
           "type": "histogram",
           "x": [
            23,
            23
           ],
           "xaxis": "x",
           "y": [
            5.92,
            1.43
           ],
           "yaxis": "y"
          },
          {
           "alignmentgroup": "True",
           "bingroup": "x",
           "histfunc": "sum",
           "hovertemplate": "Region=%{x}<br> Date= 30-06-2019<br>sum of  Estimated Unemployment Rate (%)=%{y}<extra></extra>",
           "legendgroup": "24",
           "marker": {
            "color": "#ab63fa",
            "pattern": {
             "shape": ""
            }
           },
           "name": "24",
           "offsetgroup": "24",
           "orientation": "v",
           "showlegend": true,
           "type": "histogram",
           "x": [
            24,
            24
           ],
           "xaxis": "x",
           "y": [
            26.64,
            25.59
           ],
           "yaxis": "y"
          },
          {
           "alignmentgroup": "True",
           "bingroup": "x",
           "histfunc": "sum",
           "hovertemplate": "Region=%{x}<br> Date= 30-06-2019<br>sum of  Estimated Unemployment Rate (%)=%{y}<extra></extra>",
           "legendgroup": "25",
           "marker": {
            "color": "#FFA15A",
            "pattern": {
             "shape": ""
            }
           },
           "name": "25",
           "offsetgroup": "25",
           "orientation": "v",
           "showlegend": true,
           "type": "histogram",
           "x": [
            25,
            25
           ],
           "xaxis": "x",
           "y": [
            11.13,
            11.62
           ],
           "yaxis": "y"
          },
          {
           "alignmentgroup": "True",
           "bingroup": "x",
           "histfunc": "sum",
           "hovertemplate": "Region=%{x}<br> Date= 30-06-2019<br>sum of  Estimated Unemployment Rate (%)=%{y}<extra></extra>",
           "legendgroup": "26",
           "marker": {
            "color": "#19d3f3",
            "pattern": {
             "shape": ""
            }
           },
           "name": "26",
           "offsetgroup": "26",
           "orientation": "v",
           "showlegend": true,
           "type": "histogram",
           "x": [
            26,
            26
           ],
           "xaxis": "x",
           "y": [
            4.65,
            4.69
           ],
           "yaxis": "y"
          },
          {
           "alignmentgroup": "True",
           "bingroup": "x",
           "histfunc": "sum",
           "hovertemplate": "Region=%{x}<br> Date= 30-06-2019<br>sum of  Estimated Unemployment Rate (%)=%{y}<extra></extra>",
           "legendgroup": "27",
           "marker": {
            "color": "#FF6692",
            "pattern": {
             "shape": ""
            }
           },
           "name": "27",
           "offsetgroup": "27",
           "orientation": "v",
           "showlegend": true,
           "type": "histogram",
           "x": [
            27,
            27
           ],
           "xaxis": "x",
           "y": [
            5.85,
            7.38
           ],
           "yaxis": "y"
          },
          {
           "alignmentgroup": "True",
           "bingroup": "x",
           "histfunc": "sum",
           "hovertemplate": "Region=%{x}<br> Date= 30-06-2019<br>sum of  Estimated Unemployment Rate (%)=%{y}<extra></extra>",
           "legendgroup": "3",
           "marker": {
            "color": "#FF97FF",
            "pattern": {
             "shape": ""
            }
           },
           "name": "3",
           "offsetgroup": "3",
           "orientation": "v",
           "showlegend": true,
           "type": "histogram",
           "x": [
            3
           ],
           "xaxis": "x",
           "y": [
            12.4
           ],
           "yaxis": "y"
          }
         ],
         "name": " 30-06-2019"
        },
        {
         "data": [
          {
           "alignmentgroup": "True",
           "bingroup": "x",
           "histfunc": "sum",
           "hovertemplate": "Region=%{x}<br> Date= 31-07-2019<br>sum of  Estimated Unemployment Rate (%)=%{y}<extra></extra>",
           "legendgroup": "0",
           "marker": {
            "color": "#636efa",
            "pattern": {
             "shape": ""
            }
           },
           "name": "0",
           "offsetgroup": "0",
           "orientation": "v",
           "showlegend": true,
           "type": "histogram",
           "x": [
            0,
            0
           ],
           "xaxis": "x",
           "y": [
            3.75,
            5.64
           ],
           "yaxis": "y"
          },
          {
           "alignmentgroup": "True",
           "bingroup": "x",
           "histfunc": "sum",
           "hovertemplate": "Region=%{x}<br> Date= 31-07-2019<br>sum of  Estimated Unemployment Rate (%)=%{y}<extra></extra>",
           "legendgroup": "1",
           "marker": {
            "color": "#EF553B",
            "pattern": {
             "shape": ""
            }
           },
           "name": "1",
           "offsetgroup": "1",
           "orientation": "v",
           "showlegend": true,
           "type": "histogram",
           "x": [
            1,
            1
           ],
           "xaxis": "x",
           "y": [
            4.26,
            3.21
           ],
           "yaxis": "y"
          },
          {
           "alignmentgroup": "True",
           "bingroup": "x",
           "histfunc": "sum",
           "hovertemplate": "Region=%{x}<br> Date= 31-07-2019<br>sum of  Estimated Unemployment Rate (%)=%{y}<extra></extra>",
           "legendgroup": "2",
           "marker": {
            "color": "#00cc96",
            "pattern": {
             "shape": ""
            }
           },
           "name": "2",
           "offsetgroup": "2",
           "orientation": "v",
           "showlegend": true,
           "type": "histogram",
           "x": [
            2,
            2
           ],
           "xaxis": "x",
           "y": [
            13.44,
            16.41
           ],
           "yaxis": "y"
          },
          {
           "alignmentgroup": "True",
           "bingroup": "x",
           "histfunc": "sum",
           "hovertemplate": "Region=%{x}<br> Date= 31-07-2019<br>sum of  Estimated Unemployment Rate (%)=%{y}<extra></extra>",
           "legendgroup": "4",
           "marker": {
            "color": "#ab63fa",
            "pattern": {
             "shape": ""
            }
           },
           "name": "4",
           "offsetgroup": "4",
           "orientation": "v",
           "showlegend": true,
           "type": "histogram",
           "x": [
            4,
            4
           ],
           "xaxis": "x",
           "y": [
            4.54,
            8.17
           ],
           "yaxis": "y"
          },
          {
           "alignmentgroup": "True",
           "bingroup": "x",
           "histfunc": "sum",
           "hovertemplate": "Region=%{x}<br> Date= 31-07-2019<br>sum of  Estimated Unemployment Rate (%)=%{y}<extra></extra>",
           "legendgroup": "5",
           "marker": {
            "color": "#FFA15A",
            "pattern": {
             "shape": ""
            }
           },
           "name": "5",
           "offsetgroup": "5",
           "orientation": "v",
           "showlegend": true,
           "type": "histogram",
           "x": [
            5,
            5
           ],
           "xaxis": "x",
           "y": [
            11.07,
            14.68
           ],
           "yaxis": "y"
          },
          {
           "alignmentgroup": "True",
           "bingroup": "x",
           "histfunc": "sum",
           "hovertemplate": "Region=%{x}<br> Date= 31-07-2019<br>sum of  Estimated Unemployment Rate (%)=%{y}<extra></extra>",
           "legendgroup": "6",
           "marker": {
            "color": "#19d3f3",
            "pattern": {
             "shape": ""
            }
           },
           "name": "6",
           "offsetgroup": "6",
           "orientation": "v",
           "showlegend": true,
           "type": "histogram",
           "x": [
            6,
            6
           ],
           "xaxis": "x",
           "y": [
            10.98,
            12.28
           ],
           "yaxis": "y"
          },
          {
           "alignmentgroup": "True",
           "bingroup": "x",
           "histfunc": "sum",
           "hovertemplate": "Region=%{x}<br> Date= 31-07-2019<br>sum of  Estimated Unemployment Rate (%)=%{y}<extra></extra>",
           "legendgroup": "7",
           "marker": {
            "color": "#FF6692",
            "pattern": {
             "shape": ""
            }
           },
           "name": "7",
           "offsetgroup": "7",
           "orientation": "v",
           "showlegend": true,
           "type": "histogram",
           "x": [
            7,
            7
           ],
           "xaxis": "x",
           "y": [
            4.58,
            5.15
           ],
           "yaxis": "y"
          },
          {
           "alignmentgroup": "True",
           "bingroup": "x",
           "histfunc": "sum",
           "hovertemplate": "Region=%{x}<br> Date= 31-07-2019<br>sum of  Estimated Unemployment Rate (%)=%{y}<extra></extra>",
           "legendgroup": "8",
           "marker": {
            "color": "#B6E880",
            "pattern": {
             "shape": ""
            }
           },
           "name": "8",
           "offsetgroup": "8",
           "orientation": "v",
           "showlegend": true,
           "type": "histogram",
           "x": [
            8,
            8
           ],
           "xaxis": "x",
           "y": [
            16.22,
            25.45
           ],
           "yaxis": "y"
          },
          {
           "alignmentgroup": "True",
           "bingroup": "x",
           "histfunc": "sum",
           "hovertemplate": "Region=%{x}<br> Date= 31-07-2019<br>sum of  Estimated Unemployment Rate (%)=%{y}<extra></extra>",
           "legendgroup": "9",
           "marker": {
            "color": "#FF97FF",
            "pattern": {
             "shape": ""
            }
           },
           "name": "9",
           "offsetgroup": "9",
           "orientation": "v",
           "showlegend": true,
           "type": "histogram",
           "x": [
            9,
            9
           ],
           "xaxis": "x",
           "y": [
            20.59,
            21.51
           ],
           "yaxis": "y"
          },
          {
           "alignmentgroup": "True",
           "bingroup": "x",
           "histfunc": "sum",
           "hovertemplate": "Region=%{x}<br> Date= 31-07-2019<br>sum of  Estimated Unemployment Rate (%)=%{y}<extra></extra>",
           "legendgroup": "10",
           "marker": {
            "color": "#FECB52",
            "pattern": {
             "shape": ""
            }
           },
           "name": "10",
           "offsetgroup": "10",
           "orientation": "v",
           "showlegend": true,
           "type": "histogram",
           "x": [
            10,
            10
           ],
           "xaxis": "x",
           "y": [
            13.67,
            21.55
           ],
           "yaxis": "y"
          },
          {
           "alignmentgroup": "True",
           "bingroup": "x",
           "histfunc": "sum",
           "hovertemplate": "Region=%{x}<br> Date= 31-07-2019<br>sum of  Estimated Unemployment Rate (%)=%{y}<extra></extra>",
           "legendgroup": "11",
           "marker": {
            "color": "#636efa",
            "pattern": {
             "shape": ""
            }
           },
           "name": "11",
           "offsetgroup": "11",
           "orientation": "v",
           "showlegend": true,
           "type": "histogram",
           "x": [
            11,
            11
           ],
           "xaxis": "x",
           "y": [
            9.98,
            15.67
           ],
           "yaxis": "y"
          },
          {
           "alignmentgroup": "True",
           "bingroup": "x",
           "histfunc": "sum",
           "hovertemplate": "Region=%{x}<br> Date= 31-07-2019<br>sum of  Estimated Unemployment Rate (%)=%{y}<extra></extra>",
           "legendgroup": "12",
           "marker": {
            "color": "#EF553B",
            "pattern": {
             "shape": ""
            }
           },
           "name": "12",
           "offsetgroup": "12",
           "orientation": "v",
           "showlegend": true,
           "type": "histogram",
           "x": [
            12,
            12
           ],
           "xaxis": "x",
           "y": [
            0.52,
            2.29
           ],
           "yaxis": "y"
          },
          {
           "alignmentgroup": "True",
           "bingroup": "x",
           "histfunc": "sum",
           "hovertemplate": "Region=%{x}<br> Date= 31-07-2019<br>sum of  Estimated Unemployment Rate (%)=%{y}<extra></extra>",
           "legendgroup": "13",
           "marker": {
            "color": "#00cc96",
            "pattern": {
             "shape": ""
            }
           },
           "name": "13",
           "offsetgroup": "13",
           "orientation": "v",
           "showlegend": true,
           "type": "histogram",
           "x": [
            13,
            13
           ],
           "xaxis": "x",
           "y": [
            4.95,
            7.58
           ],
           "yaxis": "y"
          },
          {
           "alignmentgroup": "True",
           "bingroup": "x",
           "histfunc": "sum",
           "hovertemplate": "Region=%{x}<br> Date= 31-07-2019<br>sum of  Estimated Unemployment Rate (%)=%{y}<extra></extra>",
           "legendgroup": "14",
           "marker": {
            "color": "#ab63fa",
            "pattern": {
             "shape": ""
            }
           },
           "name": "14",
           "offsetgroup": "14",
           "orientation": "v",
           "showlegend": true,
           "type": "histogram",
           "x": [
            14,
            14
           ],
           "xaxis": "x",
           "y": [
            3.92,
            7.38
           ],
           "yaxis": "y"
          },
          {
           "alignmentgroup": "True",
           "bingroup": "x",
           "histfunc": "sum",
           "hovertemplate": "Region=%{x}<br> Date= 31-07-2019<br>sum of  Estimated Unemployment Rate (%)=%{y}<extra></extra>",
           "legendgroup": "15",
           "marker": {
            "color": "#FFA15A",
            "pattern": {
             "shape": ""
            }
           },
           "name": "15",
           "offsetgroup": "15",
           "orientation": "v",
           "showlegend": true,
           "type": "histogram",
           "x": [
            15,
            15
           ],
           "xaxis": "x",
           "y": [
            3.66,
            6.35
           ],
           "yaxis": "y"
          },
          {
           "alignmentgroup": "True",
           "bingroup": "x",
           "histfunc": "sum",
           "hovertemplate": "Region=%{x}<br> Date= 31-07-2019<br>sum of  Estimated Unemployment Rate (%)=%{y}<extra></extra>",
           "legendgroup": "16",
           "marker": {
            "color": "#19d3f3",
            "pattern": {
             "shape": ""
            }
           },
           "name": "16",
           "offsetgroup": "16",
           "orientation": "v",
           "showlegend": true,
           "type": "histogram",
           "x": [
            16,
            16
           ],
           "xaxis": "x",
           "y": [
            1.03,
            4.43
           ],
           "yaxis": "y"
          },
          {
           "alignmentgroup": "True",
           "bingroup": "x",
           "histfunc": "sum",
           "hovertemplate": "Region=%{x}<br> Date= 31-07-2019<br>sum of  Estimated Unemployment Rate (%)=%{y}<extra></extra>",
           "legendgroup": "17",
           "marker": {
            "color": "#FF6692",
            "pattern": {
             "shape": ""
            }
           },
           "name": "17",
           "offsetgroup": "17",
           "orientation": "v",
           "showlegend": true,
           "type": "histogram",
           "x": [
            17,
            17
           ],
           "xaxis": "x",
           "y": [
            3.31,
            1.78
           ],
           "yaxis": "y"
          },
          {
           "alignmentgroup": "True",
           "bingroup": "x",
           "histfunc": "sum",
           "hovertemplate": "Region=%{x}<br> Date= 31-07-2019<br>sum of  Estimated Unemployment Rate (%)=%{y}<extra></extra>",
           "legendgroup": "18",
           "marker": {
            "color": "#B6E880",
            "pattern": {
             "shape": ""
            }
           },
           "name": "18",
           "offsetgroup": "18",
           "orientation": "v",
           "showlegend": true,
           "type": "histogram",
           "x": [
            18,
            18
           ],
           "xaxis": "x",
           "y": [
            0,
            0
           ],
           "yaxis": "y"
          },
          {
           "alignmentgroup": "True",
           "bingroup": "x",
           "histfunc": "sum",
           "hovertemplate": "Region=%{x}<br> Date= 31-07-2019<br>sum of  Estimated Unemployment Rate (%)=%{y}<extra></extra>",
           "legendgroup": "19",
           "marker": {
            "color": "#FF97FF",
            "pattern": {
             "shape": ""
            }
           },
           "name": "19",
           "offsetgroup": "19",
           "orientation": "v",
           "showlegend": true,
           "type": "histogram",
           "x": [
            19,
            19
           ],
           "xaxis": "x",
           "y": [
            9.64,
            11.61
           ],
           "yaxis": "y"
          },
          {
           "alignmentgroup": "True",
           "bingroup": "x",
           "histfunc": "sum",
           "hovertemplate": "Region=%{x}<br> Date= 31-07-2019<br>sum of  Estimated Unemployment Rate (%)=%{y}<extra></extra>",
           "legendgroup": "20",
           "marker": {
            "color": "#FECB52",
            "pattern": {
             "shape": ""
            }
           },
           "name": "20",
           "offsetgroup": "20",
           "orientation": "v",
           "showlegend": true,
           "type": "histogram",
           "x": [
            20,
            20
           ],
           "xaxis": "x",
           "y": [
            9.7,
            11.67
           ],
           "yaxis": "y"
          },
          {
           "alignmentgroup": "True",
           "bingroup": "x",
           "histfunc": "sum",
           "hovertemplate": "Region=%{x}<br> Date= 31-07-2019<br>sum of  Estimated Unemployment Rate (%)=%{y}<extra></extra>",
           "legendgroup": "21",
           "marker": {
            "color": "#636efa",
            "pattern": {
             "shape": ""
            }
           },
           "name": "21",
           "offsetgroup": "21",
           "orientation": "v",
           "showlegend": true,
           "type": "histogram",
           "x": [
            21
           ],
           "xaxis": "x",
           "y": [
            2.56
           ],
           "yaxis": "y"
          },
          {
           "alignmentgroup": "True",
           "bingroup": "x",
           "histfunc": "sum",
           "hovertemplate": "Region=%{x}<br> Date= 31-07-2019<br>sum of  Estimated Unemployment Rate (%)=%{y}<extra></extra>",
           "legendgroup": "22",
           "marker": {
            "color": "#EF553B",
            "pattern": {
             "shape": ""
            }
           },
           "name": "22",
           "offsetgroup": "22",
           "orientation": "v",
           "showlegend": true,
           "type": "histogram",
           "x": [
            22,
            22
           ],
           "xaxis": "x",
           "y": [
            6.01,
            3.18
           ],
           "yaxis": "y"
          },
          {
           "alignmentgroup": "True",
           "bingroup": "x",
           "histfunc": "sum",
           "hovertemplate": "Region=%{x}<br> Date= 31-07-2019<br>sum of  Estimated Unemployment Rate (%)=%{y}<extra></extra>",
           "legendgroup": "23",
           "marker": {
            "color": "#00cc96",
            "pattern": {
             "shape": ""
            }
           },
           "name": "23",
           "offsetgroup": "23",
           "orientation": "v",
           "showlegend": true,
           "type": "histogram",
           "x": [
            23,
            23
           ],
           "xaxis": "x",
           "y": [
            2.45,
            3.73
           ],
           "yaxis": "y"
          },
          {
           "alignmentgroup": "True",
           "bingroup": "x",
           "histfunc": "sum",
           "hovertemplate": "Region=%{x}<br> Date= 31-07-2019<br>sum of  Estimated Unemployment Rate (%)=%{y}<extra></extra>",
           "legendgroup": "24",
           "marker": {
            "color": "#ab63fa",
            "pattern": {
             "shape": ""
            }
           },
           "name": "24",
           "offsetgroup": "24",
           "orientation": "v",
           "showlegend": true,
           "type": "histogram",
           "x": [
            24,
            24
           ],
           "xaxis": "x",
           "y": [
            22.47,
            25.81
           ],
           "yaxis": "y"
          },
          {
           "alignmentgroup": "True",
           "bingroup": "x",
           "histfunc": "sum",
           "hovertemplate": "Region=%{x}<br> Date= 31-07-2019<br>sum of  Estimated Unemployment Rate (%)=%{y}<extra></extra>",
           "legendgroup": "25",
           "marker": {
            "color": "#FFA15A",
            "pattern": {
             "shape": ""
            }
           },
           "name": "25",
           "offsetgroup": "25",
           "orientation": "v",
           "showlegend": true,
           "type": "histogram",
           "x": [
            25,
            25
           ],
           "xaxis": "x",
           "y": [
            9.19,
            11.8
           ],
           "yaxis": "y"
          },
          {
           "alignmentgroup": "True",
           "bingroup": "x",
           "histfunc": "sum",
           "hovertemplate": "Region=%{x}<br> Date= 31-07-2019<br>sum of  Estimated Unemployment Rate (%)=%{y}<extra></extra>",
           "legendgroup": "26",
           "marker": {
            "color": "#19d3f3",
            "pattern": {
             "shape": ""
            }
           },
           "name": "26",
           "offsetgroup": "26",
           "orientation": "v",
           "showlegend": true,
           "type": "histogram",
           "x": [
            26,
            26
           ],
           "xaxis": "x",
           "y": [
            5.74,
            6.94
           ],
           "yaxis": "y"
          },
          {
           "alignmentgroup": "True",
           "bingroup": "x",
           "histfunc": "sum",
           "hovertemplate": "Region=%{x}<br> Date= 31-07-2019<br>sum of  Estimated Unemployment Rate (%)=%{y}<extra></extra>",
           "legendgroup": "27",
           "marker": {
            "color": "#FF6692",
            "pattern": {
             "shape": ""
            }
           },
           "name": "27",
           "offsetgroup": "27",
           "orientation": "v",
           "showlegend": true,
           "type": "histogram",
           "x": [
            27,
            27
           ],
           "xaxis": "x",
           "y": [
            5.62,
            7.91
           ],
           "yaxis": "y"
          },
          {
           "alignmentgroup": "True",
           "bingroup": "x",
           "histfunc": "sum",
           "hovertemplate": "Region=%{x}<br> Date= 31-07-2019<br>sum of  Estimated Unemployment Rate (%)=%{y}<extra></extra>",
           "legendgroup": "3",
           "marker": {
            "color": "#FF97FF",
            "pattern": {
             "shape": ""
            }
           },
           "name": "3",
           "offsetgroup": "3",
           "orientation": "v",
           "showlegend": true,
           "type": "histogram",
           "x": [
            3
           ],
           "xaxis": "x",
           "y": [
            21.8
           ],
           "yaxis": "y"
          }
         ],
         "name": " 31-07-2019"
        },
        {
         "data": [
          {
           "alignmentgroup": "True",
           "bingroup": "x",
           "histfunc": "sum",
           "hovertemplate": "Region=%{x}<br> Date= 31-08-2019<br>sum of  Estimated Unemployment Rate (%)=%{y}<extra></extra>",
           "legendgroup": "0",
           "marker": {
            "color": "#636efa",
            "pattern": {
             "shape": ""
            }
           },
           "name": "0",
           "offsetgroup": "0",
           "orientation": "v",
           "showlegend": true,
           "type": "histogram",
           "x": [
            0,
            0
           ],
           "xaxis": "x",
           "y": [
            3.32,
            4.61
           ],
           "yaxis": "y"
          },
          {
           "alignmentgroup": "True",
           "bingroup": "x",
           "histfunc": "sum",
           "hovertemplate": "Region=%{x}<br> Date= 31-08-2019<br>sum of  Estimated Unemployment Rate (%)=%{y}<extra></extra>",
           "legendgroup": "1",
           "marker": {
            "color": "#EF553B",
            "pattern": {
             "shape": ""
            }
           },
           "name": "1",
           "offsetgroup": "1",
           "orientation": "v",
           "showlegend": true,
           "type": "histogram",
           "x": [
            1,
            1
           ],
           "xaxis": "x",
           "y": [
            5.79,
            10.39
           ],
           "yaxis": "y"
          },
          {
           "alignmentgroup": "True",
           "bingroup": "x",
           "histfunc": "sum",
           "hovertemplate": "Region=%{x}<br> Date= 31-08-2019<br>sum of  Estimated Unemployment Rate (%)=%{y}<extra></extra>",
           "legendgroup": "2",
           "marker": {
            "color": "#00cc96",
            "pattern": {
             "shape": ""
            }
           },
           "name": "2",
           "offsetgroup": "2",
           "orientation": "v",
           "showlegend": true,
           "type": "histogram",
           "x": [
            2,
            2
           ],
           "xaxis": "x",
           "y": [
            11,
            17.66
           ],
           "yaxis": "y"
          },
          {
           "alignmentgroup": "True",
           "bingroup": "x",
           "histfunc": "sum",
           "hovertemplate": "Region=%{x}<br> Date= 31-08-2019<br>sum of  Estimated Unemployment Rate (%)=%{y}<extra></extra>",
           "legendgroup": "4",
           "marker": {
            "color": "#ab63fa",
            "pattern": {
             "shape": ""
            }
           },
           "name": "4",
           "offsetgroup": "4",
           "orientation": "v",
           "showlegend": true,
           "type": "histogram",
           "x": [
            4,
            4
           ],
           "xaxis": "x",
           "y": [
            4.64,
            6.29
           ],
           "yaxis": "y"
          },
          {
           "alignmentgroup": "True",
           "bingroup": "x",
           "histfunc": "sum",
           "hovertemplate": "Region=%{x}<br> Date= 31-08-2019<br>sum of  Estimated Unemployment Rate (%)=%{y}<extra></extra>",
           "legendgroup": "5",
           "marker": {
            "color": "#FFA15A",
            "pattern": {
             "shape": ""
            }
           },
           "name": "5",
           "offsetgroup": "5",
           "orientation": "v",
           "showlegend": true,
           "type": "histogram",
           "x": [
            5,
            5
           ],
           "xaxis": "x",
           "y": [
            17.18,
            13.52
           ],
           "yaxis": "y"
          },
          {
           "alignmentgroup": "True",
           "bingroup": "x",
           "histfunc": "sum",
           "hovertemplate": "Region=%{x}<br> Date= 31-08-2019<br>sum of  Estimated Unemployment Rate (%)=%{y}<extra></extra>",
           "legendgroup": "6",
           "marker": {
            "color": "#19d3f3",
            "pattern": {
             "shape": ""
            }
           },
           "name": "6",
           "offsetgroup": "6",
           "orientation": "v",
           "showlegend": true,
           "type": "histogram",
           "x": [
            6,
            6
           ],
           "xaxis": "x",
           "y": [
            1.98,
            4.9
           ],
           "yaxis": "y"
          },
          {
           "alignmentgroup": "True",
           "bingroup": "x",
           "histfunc": "sum",
           "hovertemplate": "Region=%{x}<br> Date= 31-08-2019<br>sum of  Estimated Unemployment Rate (%)=%{y}<extra></extra>",
           "legendgroup": "7",
           "marker": {
            "color": "#FF6692",
            "pattern": {
             "shape": ""
            }
           },
           "name": "7",
           "offsetgroup": "7",
           "orientation": "v",
           "showlegend": true,
           "type": "histogram",
           "x": [
            7,
            7
           ],
           "xaxis": "x",
           "y": [
            3.7,
            4.2
           ],
           "yaxis": "y"
          },
          {
           "alignmentgroup": "True",
           "bingroup": "x",
           "histfunc": "sum",
           "hovertemplate": "Region=%{x}<br> Date= 31-08-2019<br>sum of  Estimated Unemployment Rate (%)=%{y}<extra></extra>",
           "legendgroup": "8",
           "marker": {
            "color": "#B6E880",
            "pattern": {
             "shape": ""
            }
           },
           "name": "8",
           "offsetgroup": "8",
           "orientation": "v",
           "showlegend": true,
           "type": "histogram",
           "x": [
            8,
            8
           ],
           "xaxis": "x",
           "y": [
            30.94,
            24.19
           ],
           "yaxis": "y"
          },
          {
           "alignmentgroup": "True",
           "bingroup": "x",
           "histfunc": "sum",
           "hovertemplate": "Region=%{x}<br> Date= 31-08-2019<br>sum of  Estimated Unemployment Rate (%)=%{y}<extra></extra>",
           "legendgroup": "9",
           "marker": {
            "color": "#FF97FF",
            "pattern": {
             "shape": ""
            }
           },
           "name": "9",
           "offsetgroup": "9",
           "orientation": "v",
           "showlegend": true,
           "type": "histogram",
           "x": [
            9,
            9
           ],
           "xaxis": "x",
           "y": [
            18.56,
            24.48
           ],
           "yaxis": "y"
          },
          {
           "alignmentgroup": "True",
           "bingroup": "x",
           "histfunc": "sum",
           "hovertemplate": "Region=%{x}<br> Date= 31-08-2019<br>sum of  Estimated Unemployment Rate (%)=%{y}<extra></extra>",
           "legendgroup": "10",
           "marker": {
            "color": "#FECB52",
            "pattern": {
             "shape": ""
            }
           },
           "name": "10",
           "offsetgroup": "10",
           "orientation": "v",
           "showlegend": true,
           "type": "histogram",
           "x": [
            10
           ],
           "xaxis": "x",
           "y": [
            11.32
           ],
           "yaxis": "y"
          },
          {
           "alignmentgroup": "True",
           "bingroup": "x",
           "histfunc": "sum",
           "hovertemplate": "Region=%{x}<br> Date= 31-08-2019<br>sum of  Estimated Unemployment Rate (%)=%{y}<extra></extra>",
           "legendgroup": "11",
           "marker": {
            "color": "#636efa",
            "pattern": {
             "shape": ""
            }
           },
           "name": "11",
           "offsetgroup": "11",
           "orientation": "v",
           "showlegend": true,
           "type": "histogram",
           "x": [
            11,
            11
           ],
           "xaxis": "x",
           "y": [
            12.06,
            20.25
           ],
           "yaxis": "y"
          },
          {
           "alignmentgroup": "True",
           "bingroup": "x",
           "histfunc": "sum",
           "hovertemplate": "Region=%{x}<br> Date= 31-08-2019<br>sum of  Estimated Unemployment Rate (%)=%{y}<extra></extra>",
           "legendgroup": "12",
           "marker": {
            "color": "#EF553B",
            "pattern": {
             "shape": ""
            }
           },
           "name": "12",
           "offsetgroup": "12",
           "orientation": "v",
           "showlegend": true,
           "type": "histogram",
           "x": [
            12,
            12
           ],
           "xaxis": "x",
           "y": [
            0.37,
            1.27
           ],
           "yaxis": "y"
          },
          {
           "alignmentgroup": "True",
           "bingroup": "x",
           "histfunc": "sum",
           "hovertemplate": "Region=%{x}<br> Date= 31-08-2019<br>sum of  Estimated Unemployment Rate (%)=%{y}<extra></extra>",
           "legendgroup": "13",
           "marker": {
            "color": "#00cc96",
            "pattern": {
             "shape": ""
            }
           },
           "name": "13",
           "offsetgroup": "13",
           "orientation": "v",
           "showlegend": true,
           "type": "histogram",
           "x": [
            13,
            13
           ],
           "xaxis": "x",
           "y": [
            10.32,
            7.69
           ],
           "yaxis": "y"
          },
          {
           "alignmentgroup": "True",
           "bingroup": "x",
           "histfunc": "sum",
           "hovertemplate": "Region=%{x}<br> Date= 31-08-2019<br>sum of  Estimated Unemployment Rate (%)=%{y}<extra></extra>",
           "legendgroup": "14",
           "marker": {
            "color": "#ab63fa",
            "pattern": {
             "shape": ""
            }
           },
           "name": "14",
           "offsetgroup": "14",
           "orientation": "v",
           "showlegend": true,
           "type": "histogram",
           "x": [
            14,
            14
           ],
           "xaxis": "x",
           "y": [
            4.94,
            6.82
           ],
           "yaxis": "y"
          },
          {
           "alignmentgroup": "True",
           "bingroup": "x",
           "histfunc": "sum",
           "hovertemplate": "Region=%{x}<br> Date= 31-08-2019<br>sum of  Estimated Unemployment Rate (%)=%{y}<extra></extra>",
           "legendgroup": "15",
           "marker": {
            "color": "#FFA15A",
            "pattern": {
             "shape": ""
            }
           },
           "name": "15",
           "offsetgroup": "15",
           "orientation": "v",
           "showlegend": true,
           "type": "histogram",
           "x": [
            15,
            15
           ],
           "xaxis": "x",
           "y": [
            3.76,
            7.57
           ],
           "yaxis": "y"
          },
          {
           "alignmentgroup": "True",
           "bingroup": "x",
           "histfunc": "sum",
           "hovertemplate": "Region=%{x}<br> Date= 31-08-2019<br>sum of  Estimated Unemployment Rate (%)=%{y}<extra></extra>",
           "legendgroup": "16",
           "marker": {
            "color": "#19d3f3",
            "pattern": {
             "shape": ""
            }
           },
           "name": "16",
           "offsetgroup": "16",
           "orientation": "v",
           "showlegend": true,
           "type": "histogram",
           "x": [
            16,
            16
           ],
           "xaxis": "x",
           "y": [
            0.52,
            5.8
           ],
           "yaxis": "y"
          },
          {
           "alignmentgroup": "True",
           "bingroup": "x",
           "histfunc": "sum",
           "hovertemplate": "Region=%{x}<br> Date= 31-08-2019<br>sum of  Estimated Unemployment Rate (%)=%{y}<extra></extra>",
           "legendgroup": "17",
           "marker": {
            "color": "#FF6692",
            "pattern": {
             "shape": ""
            }
           },
           "name": "17",
           "offsetgroup": "17",
           "orientation": "v",
           "showlegend": true,
           "type": "histogram",
           "x": [
            17,
            17
           ],
           "xaxis": "x",
           "y": [
            3.68,
            3.5
           ],
           "yaxis": "y"
          },
          {
           "alignmentgroup": "True",
           "bingroup": "x",
           "histfunc": "sum",
           "hovertemplate": "Region=%{x}<br> Date= 31-08-2019<br>sum of  Estimated Unemployment Rate (%)=%{y}<extra></extra>",
           "legendgroup": "18",
           "marker": {
            "color": "#B6E880",
            "pattern": {
             "shape": ""
            }
           },
           "name": "18",
           "offsetgroup": "18",
           "orientation": "v",
           "showlegend": true,
           "type": "histogram",
           "x": [
            18,
            18
           ],
           "xaxis": "x",
           "y": [
            4.85,
            8.95
           ],
           "yaxis": "y"
          },
          {
           "alignmentgroup": "True",
           "bingroup": "x",
           "histfunc": "sum",
           "hovertemplate": "Region=%{x}<br> Date= 31-08-2019<br>sum of  Estimated Unemployment Rate (%)=%{y}<extra></extra>",
           "legendgroup": "19",
           "marker": {
            "color": "#FF97FF",
            "pattern": {
             "shape": ""
            }
           },
           "name": "19",
           "offsetgroup": "19",
           "orientation": "v",
           "showlegend": true,
           "type": "histogram",
           "x": [
            19,
            19
           ],
           "xaxis": "x",
           "y": [
            6.69,
            11.99
           ],
           "yaxis": "y"
          },
          {
           "alignmentgroup": "True",
           "bingroup": "x",
           "histfunc": "sum",
           "hovertemplate": "Region=%{x}<br> Date= 31-08-2019<br>sum of  Estimated Unemployment Rate (%)=%{y}<extra></extra>",
           "legendgroup": "20",
           "marker": {
            "color": "#FECB52",
            "pattern": {
             "shape": ""
            }
           },
           "name": "20",
           "offsetgroup": "20",
           "orientation": "v",
           "showlegend": true,
           "type": "histogram",
           "x": [
            20,
            20
           ],
           "xaxis": "x",
           "y": [
            12.5,
            14.71
           ],
           "yaxis": "y"
          },
          {
           "alignmentgroup": "True",
           "bingroup": "x",
           "histfunc": "sum",
           "hovertemplate": "Region=%{x}<br> Date= 31-08-2019<br>sum of  Estimated Unemployment Rate (%)=%{y}<extra></extra>",
           "legendgroup": "21",
           "marker": {
            "color": "#636efa",
            "pattern": {
             "shape": ""
            }
           },
           "name": "21",
           "offsetgroup": "21",
           "orientation": "v",
           "showlegend": true,
           "type": "histogram",
           "x": [
            21
           ],
           "xaxis": "x",
           "y": [
            4.82
           ],
           "yaxis": "y"
          },
          {
           "alignmentgroup": "True",
           "bingroup": "x",
           "histfunc": "sum",
           "hovertemplate": "Region=%{x}<br> Date= 31-08-2019<br>sum of  Estimated Unemployment Rate (%)=%{y}<extra></extra>",
           "legendgroup": "22",
           "marker": {
            "color": "#EF553B",
            "pattern": {
             "shape": ""
            }
           },
           "name": "22",
           "offsetgroup": "22",
           "orientation": "v",
           "showlegend": true,
           "type": "histogram",
           "x": [
            22,
            22
           ],
           "xaxis": "x",
           "y": [
            2.91,
            9.53
           ],
           "yaxis": "y"
          },
          {
           "alignmentgroup": "True",
           "bingroup": "x",
           "histfunc": "sum",
           "hovertemplate": "Region=%{x}<br> Date= 31-08-2019<br>sum of  Estimated Unemployment Rate (%)=%{y}<extra></extra>",
           "legendgroup": "23",
           "marker": {
            "color": "#00cc96",
            "pattern": {
             "shape": ""
            }
           },
           "name": "23",
           "offsetgroup": "23",
           "orientation": "v",
           "showlegend": true,
           "type": "histogram",
           "x": [
            23,
            23
           ],
           "xaxis": "x",
           "y": [
            1.4,
            4.19
           ],
           "yaxis": "y"
          },
          {
           "alignmentgroup": "True",
           "bingroup": "x",
           "histfunc": "sum",
           "hovertemplate": "Region=%{x}<br> Date= 31-08-2019<br>sum of  Estimated Unemployment Rate (%)=%{y}<extra></extra>",
           "legendgroup": "24",
           "marker": {
            "color": "#ab63fa",
            "pattern": {
             "shape": ""
            }
           },
           "name": "24",
           "offsetgroup": "24",
           "orientation": "v",
           "showlegend": true,
           "type": "histogram",
           "x": [
            24,
            24
           ],
           "xaxis": "x",
           "y": [
            25.49,
            33.45
           ],
           "yaxis": "y"
          },
          {
           "alignmentgroup": "True",
           "bingroup": "x",
           "histfunc": "sum",
           "hovertemplate": "Region=%{x}<br> Date= 31-08-2019<br>sum of  Estimated Unemployment Rate (%)=%{y}<extra></extra>",
           "legendgroup": "25",
           "marker": {
            "color": "#FFA15A",
            "pattern": {
             "shape": ""
            }
           },
           "name": "25",
           "offsetgroup": "25",
           "orientation": "v",
           "showlegend": true,
           "type": "histogram",
           "x": [
            25,
            25
           ],
           "xaxis": "x",
           "y": [
            11.47,
            14.73
           ],
           "yaxis": "y"
          },
          {
           "alignmentgroup": "True",
           "bingroup": "x",
           "histfunc": "sum",
           "hovertemplate": "Region=%{x}<br> Date= 31-08-2019<br>sum of  Estimated Unemployment Rate (%)=%{y}<extra></extra>",
           "legendgroup": "26",
           "marker": {
            "color": "#19d3f3",
            "pattern": {
             "shape": ""
            }
           },
           "name": "26",
           "offsetgroup": "26",
           "orientation": "v",
           "showlegend": true,
           "type": "histogram",
           "x": [
            26,
            26
           ],
           "xaxis": "x",
           "y": [
            6.11,
            7.43
           ],
           "yaxis": "y"
          },
          {
           "alignmentgroup": "True",
           "bingroup": "x",
           "histfunc": "sum",
           "hovertemplate": "Region=%{x}<br> Date= 31-08-2019<br>sum of  Estimated Unemployment Rate (%)=%{y}<extra></extra>",
           "legendgroup": "27",
           "marker": {
            "color": "#FF6692",
            "pattern": {
             "shape": ""
            }
           },
           "name": "27",
           "offsetgroup": "27",
           "orientation": "v",
           "showlegend": true,
           "type": "histogram",
           "x": [
            27,
            27
           ],
           "xaxis": "x",
           "y": [
            5.58,
            7.27
           ],
           "yaxis": "y"
          },
          {
           "alignmentgroup": "True",
           "bingroup": "x",
           "histfunc": "sum",
           "hovertemplate": "Region=%{x}<br> Date= 31-08-2019<br>sum of  Estimated Unemployment Rate (%)=%{y}<extra></extra>",
           "legendgroup": "3",
           "marker": {
            "color": "#FF97FF",
            "pattern": {
             "shape": ""
            }
           },
           "name": "3",
           "offsetgroup": "3",
           "orientation": "v",
           "showlegend": true,
           "type": "histogram",
           "x": [
            3
           ],
           "xaxis": "x",
           "y": [
            9.52
           ],
           "yaxis": "y"
          }
         ],
         "name": " 31-08-2019"
        },
        {
         "data": [
          {
           "alignmentgroup": "True",
           "bingroup": "x",
           "histfunc": "sum",
           "hovertemplate": "Region=%{x}<br> Date= 30-09-2019<br>sum of  Estimated Unemployment Rate (%)=%{y}<extra></extra>",
           "legendgroup": "0",
           "marker": {
            "color": "#636efa",
            "pattern": {
             "shape": ""
            }
           },
           "name": "0",
           "offsetgroup": "0",
           "orientation": "v",
           "showlegend": true,
           "type": "histogram",
           "x": [
            0,
            0
           ],
           "xaxis": "x",
           "y": [
            5.17,
            6.01
           ],
           "yaxis": "y"
          },
          {
           "alignmentgroup": "True",
           "bingroup": "x",
           "histfunc": "sum",
           "hovertemplate": "Region=%{x}<br> Date= 30-09-2019<br>sum of  Estimated Unemployment Rate (%)=%{y}<extra></extra>",
           "legendgroup": "1",
           "marker": {
            "color": "#EF553B",
            "pattern": {
             "shape": ""
            }
           },
           "name": "1",
           "offsetgroup": "1",
           "orientation": "v",
           "showlegend": true,
           "type": "histogram",
           "x": [
            1,
            1
           ],
           "xaxis": "x",
           "y": [
            4.46,
            9.26
           ],
           "yaxis": "y"
          },
          {
           "alignmentgroup": "True",
           "bingroup": "x",
           "histfunc": "sum",
           "hovertemplate": "Region=%{x}<br> Date= 30-09-2019<br>sum of  Estimated Unemployment Rate (%)=%{y}<extra></extra>",
           "legendgroup": "2",
           "marker": {
            "color": "#00cc96",
            "pattern": {
             "shape": ""
            }
           },
           "name": "2",
           "offsetgroup": "2",
           "orientation": "v",
           "showlegend": true,
           "type": "histogram",
           "x": [
            2,
            2
           ],
           "xaxis": "x",
           "y": [
            8.87,
            20.46
           ],
           "yaxis": "y"
          },
          {
           "alignmentgroup": "True",
           "bingroup": "x",
           "histfunc": "sum",
           "hovertemplate": "Region=%{x}<br> Date= 30-09-2019<br>sum of  Estimated Unemployment Rate (%)=%{y}<extra></extra>",
           "legendgroup": "4",
           "marker": {
            "color": "#ab63fa",
            "pattern": {
             "shape": ""
            }
           },
           "name": "4",
           "offsetgroup": "4",
           "orientation": "v",
           "showlegend": true,
           "type": "histogram",
           "x": [
            4,
            4
           ],
           "xaxis": "x",
           "y": [
            8.33,
            9.46
           ],
           "yaxis": "y"
          },
          {
           "alignmentgroup": "True",
           "bingroup": "x",
           "histfunc": "sum",
           "hovertemplate": "Region=%{x}<br> Date= 30-09-2019<br>sum of  Estimated Unemployment Rate (%)=%{y}<extra></extra>",
           "legendgroup": "5",
           "marker": {
            "color": "#FFA15A",
            "pattern": {
             "shape": ""
            }
           },
           "name": "5",
           "offsetgroup": "5",
           "orientation": "v",
           "showlegend": true,
           "type": "histogram",
           "x": [
            5,
            5
           ],
           "xaxis": "x",
           "y": [
            12.5,
            20.59
           ],
           "yaxis": "y"
          },
          {
           "alignmentgroup": "True",
           "bingroup": "x",
           "histfunc": "sum",
           "hovertemplate": "Region=%{x}<br> Date= 30-09-2019<br>sum of  Estimated Unemployment Rate (%)=%{y}<extra></extra>",
           "legendgroup": "6",
           "marker": {
            "color": "#19d3f3",
            "pattern": {
             "shape": ""
            }
           },
           "name": "6",
           "offsetgroup": "6",
           "orientation": "v",
           "showlegend": true,
           "type": "histogram",
           "x": [
            6,
            6
           ],
           "xaxis": "x",
           "y": [
            3.61,
            3.16
           ],
           "yaxis": "y"
          },
          {
           "alignmentgroup": "True",
           "bingroup": "x",
           "histfunc": "sum",
           "hovertemplate": "Region=%{x}<br> Date= 30-09-2019<br>sum of  Estimated Unemployment Rate (%)=%{y}<extra></extra>",
           "legendgroup": "7",
           "marker": {
            "color": "#FF6692",
            "pattern": {
             "shape": ""
            }
           },
           "name": "7",
           "offsetgroup": "7",
           "orientation": "v",
           "showlegend": true,
           "type": "histogram",
           "x": [
            7,
            7
           ],
           "xaxis": "x",
           "y": [
            6.29,
            5.96
           ],
           "yaxis": "y"
          },
          {
           "alignmentgroup": "True",
           "bingroup": "x",
           "histfunc": "sum",
           "hovertemplate": "Region=%{x}<br> Date= 30-09-2019<br>sum of  Estimated Unemployment Rate (%)=%{y}<extra></extra>",
           "legendgroup": "8",
           "marker": {
            "color": "#B6E880",
            "pattern": {
             "shape": ""
            }
           },
           "name": "8",
           "offsetgroup": "8",
           "orientation": "v",
           "showlegend": true,
           "type": "histogram",
           "x": [
            8,
            8
           ],
           "xaxis": "x",
           "y": [
            16.36,
            26.84
           ],
           "yaxis": "y"
          },
          {
           "alignmentgroup": "True",
           "bingroup": "x",
           "histfunc": "sum",
           "hovertemplate": "Region=%{x}<br> Date= 30-09-2019<br>sum of  Estimated Unemployment Rate (%)=%{y}<extra></extra>",
           "legendgroup": "9",
           "marker": {
            "color": "#FF97FF",
            "pattern": {
             "shape": ""
            }
           },
           "name": "9",
           "offsetgroup": "9",
           "orientation": "v",
           "showlegend": true,
           "type": "histogram",
           "x": [
            9,
            9
           ],
           "xaxis": "x",
           "y": [
            15.98,
            12
           ],
           "yaxis": "y"
          },
          {
           "alignmentgroup": "True",
           "bingroup": "x",
           "histfunc": "sum",
           "hovertemplate": "Region=%{x}<br> Date= 30-09-2019<br>sum of  Estimated Unemployment Rate (%)=%{y}<extra></extra>",
           "legendgroup": "11",
           "marker": {
            "color": "#636efa",
            "pattern": {
             "shape": ""
            }
           },
           "name": "11",
           "offsetgroup": "11",
           "orientation": "v",
           "showlegend": true,
           "type": "histogram",
           "x": [
            11,
            11
           ],
           "xaxis": "x",
           "y": [
            7.12,
            21.16
           ],
           "yaxis": "y"
          },
          {
           "alignmentgroup": "True",
           "bingroup": "x",
           "histfunc": "sum",
           "hovertemplate": "Region=%{x}<br> Date= 30-09-2019<br>sum of  Estimated Unemployment Rate (%)=%{y}<extra></extra>",
           "legendgroup": "12",
           "marker": {
            "color": "#EF553B",
            "pattern": {
             "shape": ""
            }
           },
           "name": "12",
           "offsetgroup": "12",
           "orientation": "v",
           "showlegend": true,
           "type": "histogram",
           "x": [
            12,
            12
           ],
           "xaxis": "x",
           "y": [
            3.2,
            3.57
           ],
           "yaxis": "y"
          },
          {
           "alignmentgroup": "True",
           "bingroup": "x",
           "histfunc": "sum",
           "hovertemplate": "Region=%{x}<br> Date= 30-09-2019<br>sum of  Estimated Unemployment Rate (%)=%{y}<extra></extra>",
           "legendgroup": "13",
           "marker": {
            "color": "#00cc96",
            "pattern": {
             "shape": ""
            }
           },
           "name": "13",
           "offsetgroup": "13",
           "orientation": "v",
           "showlegend": true,
           "type": "histogram",
           "x": [
            13,
            13
           ],
           "xaxis": "x",
           "y": [
            5.35,
            5.52
           ],
           "yaxis": "y"
          },
          {
           "alignmentgroup": "True",
           "bingroup": "x",
           "histfunc": "sum",
           "hovertemplate": "Region=%{x}<br> Date= 30-09-2019<br>sum of  Estimated Unemployment Rate (%)=%{y}<extra></extra>",
           "legendgroup": "14",
           "marker": {
            "color": "#ab63fa",
            "pattern": {
             "shape": ""
            }
           },
           "name": "14",
           "offsetgroup": "14",
           "orientation": "v",
           "showlegend": true,
           "type": "histogram",
           "x": [
            14,
            14
           ],
           "xaxis": "x",
           "y": [
            3.08,
            7
           ],
           "yaxis": "y"
          },
          {
           "alignmentgroup": "True",
           "bingroup": "x",
           "histfunc": "sum",
           "hovertemplate": "Region=%{x}<br> Date= 30-09-2019<br>sum of  Estimated Unemployment Rate (%)=%{y}<extra></extra>",
           "legendgroup": "15",
           "marker": {
            "color": "#FFA15A",
            "pattern": {
             "shape": ""
            }
           },
           "name": "15",
           "offsetgroup": "15",
           "orientation": "v",
           "showlegend": true,
           "type": "histogram",
           "x": [
            15,
            15
           ],
           "xaxis": "x",
           "y": [
            4.4,
            7.6
           ],
           "yaxis": "y"
          },
          {
           "alignmentgroup": "True",
           "bingroup": "x",
           "histfunc": "sum",
           "hovertemplate": "Region=%{x}<br> Date= 30-09-2019<br>sum of  Estimated Unemployment Rate (%)=%{y}<extra></extra>",
           "legendgroup": "16",
           "marker": {
            "color": "#19d3f3",
            "pattern": {
             "shape": ""
            }
           },
           "name": "16",
           "offsetgroup": "16",
           "orientation": "v",
           "showlegend": true,
           "type": "histogram",
           "x": [
            16,
            16
           ],
           "xaxis": "x",
           "y": [
            0.24,
            5.3
           ],
           "yaxis": "y"
          },
          {
           "alignmentgroup": "True",
           "bingroup": "x",
           "histfunc": "sum",
           "hovertemplate": "Region=%{x}<br> Date= 30-09-2019<br>sum of  Estimated Unemployment Rate (%)=%{y}<extra></extra>",
           "legendgroup": "17",
           "marker": {
            "color": "#FF6692",
            "pattern": {
             "shape": ""
            }
           },
           "name": "17",
           "offsetgroup": "17",
           "orientation": "v",
           "showlegend": true,
           "type": "histogram",
           "x": [
            17,
            17
           ],
           "xaxis": "x",
           "y": [
            4.31,
            3.78
           ],
           "yaxis": "y"
          },
          {
           "alignmentgroup": "True",
           "bingroup": "x",
           "histfunc": "sum",
           "hovertemplate": "Region=%{x}<br> Date= 30-09-2019<br>sum of  Estimated Unemployment Rate (%)=%{y}<extra></extra>",
           "legendgroup": "18",
           "marker": {
            "color": "#B6E880",
            "pattern": {
             "shape": ""
            }
           },
           "name": "18",
           "offsetgroup": "18",
           "orientation": "v",
           "showlegend": true,
           "type": "histogram",
           "x": [
            18,
            18
           ],
           "xaxis": "x",
           "y": [
            0,
            1.22
           ],
           "yaxis": "y"
          },
          {
           "alignmentgroup": "True",
           "bingroup": "x",
           "histfunc": "sum",
           "hovertemplate": "Region=%{x}<br> Date= 30-09-2019<br>sum of  Estimated Unemployment Rate (%)=%{y}<extra></extra>",
           "legendgroup": "19",
           "marker": {
            "color": "#FF97FF",
            "pattern": {
             "shape": ""
            }
           },
           "name": "19",
           "offsetgroup": "19",
           "orientation": "v",
           "showlegend": true,
           "type": "histogram",
           "x": [
            19,
            19
           ],
           "xaxis": "x",
           "y": [
            8.59,
            15.69
           ],
           "yaxis": "y"
          },
          {
           "alignmentgroup": "True",
           "bingroup": "x",
           "histfunc": "sum",
           "hovertemplate": "Region=%{x}<br> Date= 30-09-2019<br>sum of  Estimated Unemployment Rate (%)=%{y}<extra></extra>",
           "legendgroup": "20",
           "marker": {
            "color": "#FECB52",
            "pattern": {
             "shape": ""
            }
           },
           "name": "20",
           "offsetgroup": "20",
           "orientation": "v",
           "showlegend": true,
           "type": "histogram",
           "x": [
            20,
            20
           ],
           "xaxis": "x",
           "y": [
            5.45,
            12.63
           ],
           "yaxis": "y"
          },
          {
           "alignmentgroup": "True",
           "bingroup": "x",
           "histfunc": "sum",
           "hovertemplate": "Region=%{x}<br> Date= 30-09-2019<br>sum of  Estimated Unemployment Rate (%)=%{y}<extra></extra>",
           "legendgroup": "21",
           "marker": {
            "color": "#636efa",
            "pattern": {
             "shape": ""
            }
           },
           "name": "21",
           "offsetgroup": "21",
           "orientation": "v",
           "showlegend": true,
           "type": "histogram",
           "x": [
            21
           ],
           "xaxis": "x",
           "y": [
            4.81
           ],
           "yaxis": "y"
          },
          {
           "alignmentgroup": "True",
           "bingroup": "x",
           "histfunc": "sum",
           "hovertemplate": "Region=%{x}<br> Date= 30-09-2019<br>sum of  Estimated Unemployment Rate (%)=%{y}<extra></extra>",
           "legendgroup": "22",
           "marker": {
            "color": "#EF553B",
            "pattern": {
             "shape": ""
            }
           },
           "name": "22",
           "offsetgroup": "22",
           "orientation": "v",
           "showlegend": true,
           "type": "histogram",
           "x": [
            22,
            22
           ],
           "xaxis": "x",
           "y": [
            1.71,
            1.86
           ],
           "yaxis": "y"
          },
          {
           "alignmentgroup": "True",
           "bingroup": "x",
           "histfunc": "sum",
           "hovertemplate": "Region=%{x}<br> Date= 30-09-2019<br>sum of  Estimated Unemployment Rate (%)=%{y}<extra></extra>",
           "legendgroup": "23",
           "marker": {
            "color": "#00cc96",
            "pattern": {
             "shape": ""
            }
           },
           "name": "23",
           "offsetgroup": "23",
           "orientation": "v",
           "showlegend": true,
           "type": "histogram",
           "x": [
            23,
            23
           ],
           "xaxis": "x",
           "y": [
            5.49,
            6.19
           ],
           "yaxis": "y"
          },
          {
           "alignmentgroup": "True",
           "bingroup": "x",
           "histfunc": "sum",
           "hovertemplate": "Region=%{x}<br> Date= 30-09-2019<br>sum of  Estimated Unemployment Rate (%)=%{y}<extra></extra>",
           "legendgroup": "24",
           "marker": {
            "color": "#ab63fa",
            "pattern": {
             "shape": ""
            }
           },
           "name": "24",
           "offsetgroup": "24",
           "orientation": "v",
           "showlegend": true,
           "type": "histogram",
           "x": [
            24,
            24
           ],
           "xaxis": "x",
           "y": [
            30.23,
            33.57
           ],
           "yaxis": "y"
          },
          {
           "alignmentgroup": "True",
           "bingroup": "x",
           "histfunc": "sum",
           "hovertemplate": "Region=%{x}<br> Date= 30-09-2019<br>sum of  Estimated Unemployment Rate (%)=%{y}<extra></extra>",
           "legendgroup": "25",
           "marker": {
            "color": "#FFA15A",
            "pattern": {
             "shape": ""
            }
           },
           "name": "25",
           "offsetgroup": "25",
           "orientation": "v",
           "showlegend": true,
           "type": "histogram",
           "x": [
            25,
            25
           ],
           "xaxis": "x",
           "y": [
            6.45,
            13.58
           ],
           "yaxis": "y"
          },
          {
           "alignmentgroup": "True",
           "bingroup": "x",
           "histfunc": "sum",
           "hovertemplate": "Region=%{x}<br> Date= 30-09-2019<br>sum of  Estimated Unemployment Rate (%)=%{y}<extra></extra>",
           "legendgroup": "26",
           "marker": {
            "color": "#19d3f3",
            "pattern": {
             "shape": ""
            }
           },
           "name": "26",
           "offsetgroup": "26",
           "orientation": "v",
           "showlegend": true,
           "type": "histogram",
           "x": [
            26,
            26
           ],
           "xaxis": "x",
           "y": [
            3.47,
            9.62
           ],
           "yaxis": "y"
          },
          {
           "alignmentgroup": "True",
           "bingroup": "x",
           "histfunc": "sum",
           "hovertemplate": "Region=%{x}<br> Date= 30-09-2019<br>sum of  Estimated Unemployment Rate (%)=%{y}<extra></extra>",
           "legendgroup": "27",
           "marker": {
            "color": "#FF6692",
            "pattern": {
             "shape": ""
            }
           },
           "name": "27",
           "offsetgroup": "27",
           "orientation": "v",
           "showlegend": true,
           "type": "histogram",
           "x": [
            27,
            27
           ],
           "xaxis": "x",
           "y": [
            5.26,
            7.79
           ],
           "yaxis": "y"
          },
          {
           "alignmentgroup": "True",
           "bingroup": "x",
           "histfunc": "sum",
           "hovertemplate": "Region=%{x}<br> Date= 30-09-2019<br>sum of  Estimated Unemployment Rate (%)=%{y}<extra></extra>",
           "legendgroup": "3",
           "marker": {
            "color": "#FF97FF",
            "pattern": {
             "shape": ""
            }
           },
           "name": "3",
           "offsetgroup": "3",
           "orientation": "v",
           "showlegend": true,
           "type": "histogram",
           "x": [
            3
           ],
           "xaxis": "x",
           "y": [
            20.14
           ],
           "yaxis": "y"
          }
         ],
         "name": " 30-09-2019"
        },
        {
         "data": [
          {
           "alignmentgroup": "True",
           "bingroup": "x",
           "histfunc": "sum",
           "hovertemplate": "Region=%{x}<br> Date= 31-10-2019<br>sum of  Estimated Unemployment Rate (%)=%{y}<extra></extra>",
           "legendgroup": "0",
           "marker": {
            "color": "#636efa",
            "pattern": {
             "shape": ""
            }
           },
           "name": "0",
           "offsetgroup": "0",
           "orientation": "v",
           "showlegend": true,
           "type": "histogram",
           "x": [
            0,
            0
           ],
           "xaxis": "x",
           "y": [
            3.52,
            4.7
           ],
           "yaxis": "y"
          },
          {
           "alignmentgroup": "True",
           "bingroup": "x",
           "histfunc": "sum",
           "hovertemplate": "Region=%{x}<br> Date= 31-10-2019<br>sum of  Estimated Unemployment Rate (%)=%{y}<extra></extra>",
           "legendgroup": "1",
           "marker": {
            "color": "#EF553B",
            "pattern": {
             "shape": ""
            }
           },
           "name": "1",
           "offsetgroup": "1",
           "orientation": "v",
           "showlegend": true,
           "type": "histogram",
           "x": [
            1,
            1
           ],
           "xaxis": "x",
           "y": [
            4.65,
            11.17
           ],
           "yaxis": "y"
          },
          {
           "alignmentgroup": "True",
           "bingroup": "x",
           "histfunc": "sum",
           "hovertemplate": "Region=%{x}<br> Date= 31-10-2019<br>sum of  Estimated Unemployment Rate (%)=%{y}<extra></extra>",
           "legendgroup": "2",
           "marker": {
            "color": "#00cc96",
            "pattern": {
             "shape": ""
            }
           },
           "name": "2",
           "offsetgroup": "2",
           "orientation": "v",
           "showlegend": true,
           "type": "histogram",
           "x": [
            2,
            2
           ],
           "xaxis": "x",
           "y": [
            12.47,
            14.06
           ],
           "yaxis": "y"
          },
          {
           "alignmentgroup": "True",
           "bingroup": "x",
           "histfunc": "sum",
           "hovertemplate": "Region=%{x}<br> Date= 31-10-2019<br>sum of  Estimated Unemployment Rate (%)=%{y}<extra></extra>",
           "legendgroup": "4",
           "marker": {
            "color": "#ab63fa",
            "pattern": {
             "shape": ""
            }
           },
           "name": "4",
           "offsetgroup": "4",
           "orientation": "v",
           "showlegend": true,
           "type": "histogram",
           "x": [
            4,
            4
           ],
           "xaxis": "x",
           "y": [
            6.96,
            10.27
           ],
           "yaxis": "y"
          },
          {
           "alignmentgroup": "True",
           "bingroup": "x",
           "histfunc": "sum",
           "hovertemplate": "Region=%{x}<br> Date= 31-10-2019<br>sum of  Estimated Unemployment Rate (%)=%{y}<extra></extra>",
           "legendgroup": "5",
           "marker": {
            "color": "#FFA15A",
            "pattern": {
             "shape": ""
            }
           },
           "name": "5",
           "offsetgroup": "5",
           "orientation": "v",
           "showlegend": true,
           "type": "histogram",
           "x": [
            5,
            5
           ],
           "xaxis": "x",
           "y": [
            15.84,
            12.41
           ],
           "yaxis": "y"
          },
          {
           "alignmentgroup": "True",
           "bingroup": "x",
           "histfunc": "sum",
           "hovertemplate": "Region=%{x}<br> Date= 31-10-2019<br>sum of  Estimated Unemployment Rate (%)=%{y}<extra></extra>",
           "legendgroup": "6",
           "marker": {
            "color": "#19d3f3",
            "pattern": {
             "shape": ""
            }
           },
           "name": "6",
           "offsetgroup": "6",
           "orientation": "v",
           "showlegend": true,
           "type": "histogram",
           "x": [
            6,
            6
           ],
           "xaxis": "x",
           "y": [
            7.21,
            12.31
           ],
           "yaxis": "y"
          },
          {
           "alignmentgroup": "True",
           "bingroup": "x",
           "histfunc": "sum",
           "hovertemplate": "Region=%{x}<br> Date= 31-10-2019<br>sum of  Estimated Unemployment Rate (%)=%{y}<extra></extra>",
           "legendgroup": "7",
           "marker": {
            "color": "#FF6692",
            "pattern": {
             "shape": ""
            }
           },
           "name": "7",
           "offsetgroup": "7",
           "orientation": "v",
           "showlegend": true,
           "type": "histogram",
           "x": [
            7,
            7
           ],
           "xaxis": "x",
           "y": [
            4.91,
            5.45
           ],
           "yaxis": "y"
          },
          {
           "alignmentgroup": "True",
           "bingroup": "x",
           "histfunc": "sum",
           "hovertemplate": "Region=%{x}<br> Date= 31-10-2019<br>sum of  Estimated Unemployment Rate (%)=%{y}<extra></extra>",
           "legendgroup": "8",
           "marker": {
            "color": "#B6E880",
            "pattern": {
             "shape": ""
            }
           },
           "name": "8",
           "offsetgroup": "8",
           "orientation": "v",
           "showlegend": true,
           "type": "histogram",
           "x": [
            8,
            8
           ],
           "xaxis": "x",
           "y": [
            24.17,
            21.04
           ],
           "yaxis": "y"
          },
          {
           "alignmentgroup": "True",
           "bingroup": "x",
           "histfunc": "sum",
           "hovertemplate": "Region=%{x}<br> Date= 31-10-2019<br>sum of  Estimated Unemployment Rate (%)=%{y}<extra></extra>",
           "legendgroup": "9",
           "marker": {
            "color": "#FF97FF",
            "pattern": {
             "shape": ""
            }
           },
           "name": "9",
           "offsetgroup": "9",
           "orientation": "v",
           "showlegend": true,
           "type": "histogram",
           "x": [
            9,
            9
           ],
           "xaxis": "x",
           "y": [
            15.81,
            23.77
           ],
           "yaxis": "y"
          },
          {
           "alignmentgroup": "True",
           "bingroup": "x",
           "histfunc": "sum",
           "hovertemplate": "Region=%{x}<br> Date= 31-10-2019<br>sum of  Estimated Unemployment Rate (%)=%{y}<extra></extra>",
           "legendgroup": "10",
           "marker": {
            "color": "#FECB52",
            "pattern": {
             "shape": ""
            }
           },
           "name": "10",
           "offsetgroup": "10",
           "orientation": "v",
           "showlegend": true,
           "type": "histogram",
           "x": [
            10,
            10
           ],
           "xaxis": "x",
           "y": [
            19.27,
            24.06
           ],
           "yaxis": "y"
          },
          {
           "alignmentgroup": "True",
           "bingroup": "x",
           "histfunc": "sum",
           "hovertemplate": "Region=%{x}<br> Date= 31-10-2019<br>sum of  Estimated Unemployment Rate (%)=%{y}<extra></extra>",
           "legendgroup": "11",
           "marker": {
            "color": "#636efa",
            "pattern": {
             "shape": ""
            }
           },
           "name": "11",
           "offsetgroup": "11",
           "orientation": "v",
           "showlegend": true,
           "type": "histogram",
           "x": [
            11,
            11
           ],
           "xaxis": "x",
           "y": [
            6.57,
            19.05
           ],
           "yaxis": "y"
          },
          {
           "alignmentgroup": "True",
           "bingroup": "x",
           "histfunc": "sum",
           "hovertemplate": "Region=%{x}<br> Date= 31-10-2019<br>sum of  Estimated Unemployment Rate (%)=%{y}<extra></extra>",
           "legendgroup": "12",
           "marker": {
            "color": "#EF553B",
            "pattern": {
             "shape": ""
            }
           },
           "name": "12",
           "offsetgroup": "12",
           "orientation": "v",
           "showlegend": true,
           "type": "histogram",
           "x": [
            12,
            12
           ],
           "xaxis": "x",
           "y": [
            7.13,
            3.87
           ],
           "yaxis": "y"
          },
          {
           "alignmentgroup": "True",
           "bingroup": "x",
           "histfunc": "sum",
           "hovertemplate": "Region=%{x}<br> Date= 31-10-2019<br>sum of  Estimated Unemployment Rate (%)=%{y}<extra></extra>",
           "legendgroup": "13",
           "marker": {
            "color": "#00cc96",
            "pattern": {
             "shape": ""
            }
           },
           "name": "13",
           "offsetgroup": "13",
           "orientation": "v",
           "showlegend": true,
           "type": "histogram",
           "x": [
            13,
            13
           ],
           "xaxis": "x",
           "y": [
            9.14,
            5.35
           ],
           "yaxis": "y"
          },
          {
           "alignmentgroup": "True",
           "bingroup": "x",
           "histfunc": "sum",
           "hovertemplate": "Region=%{x}<br> Date= 31-10-2019<br>sum of  Estimated Unemployment Rate (%)=%{y}<extra></extra>",
           "legendgroup": "14",
           "marker": {
            "color": "#ab63fa",
            "pattern": {
             "shape": ""
            }
           },
           "name": "14",
           "offsetgroup": "14",
           "orientation": "v",
           "showlegend": true,
           "type": "histogram",
           "x": [
            14,
            14
           ],
           "xaxis": "x",
           "y": [
            2.98,
            4.4
           ],
           "yaxis": "y"
          },
          {
           "alignmentgroup": "True",
           "bingroup": "x",
           "histfunc": "sum",
           "hovertemplate": "Region=%{x}<br> Date= 31-10-2019<br>sum of  Estimated Unemployment Rate (%)=%{y}<extra></extra>",
           "legendgroup": "15",
           "marker": {
            "color": "#FFA15A",
            "pattern": {
             "shape": ""
            }
           },
           "name": "15",
           "offsetgroup": "15",
           "orientation": "v",
           "showlegend": true,
           "type": "histogram",
           "x": [
            15,
            15
           ],
           "xaxis": "x",
           "y": [
            3.81,
            7.51
           ],
           "yaxis": "y"
          },
          {
           "alignmentgroup": "True",
           "bingroup": "x",
           "histfunc": "sum",
           "hovertemplate": "Region=%{x}<br> Date= 31-10-2019<br>sum of  Estimated Unemployment Rate (%)=%{y}<extra></extra>",
           "legendgroup": "16",
           "marker": {
            "color": "#19d3f3",
            "pattern": {
             "shape": ""
            }
           },
           "name": "16",
           "offsetgroup": "16",
           "orientation": "v",
           "showlegend": true,
           "type": "histogram",
           "x": [
            16,
            16
           ],
           "xaxis": "x",
           "y": [
            3.7,
            7.2
           ],
           "yaxis": "y"
          },
          {
           "alignmentgroup": "True",
           "bingroup": "x",
           "histfunc": "sum",
           "hovertemplate": "Region=%{x}<br> Date= 31-10-2019<br>sum of  Estimated Unemployment Rate (%)=%{y}<extra></extra>",
           "legendgroup": "17",
           "marker": {
            "color": "#FF6692",
            "pattern": {
             "shape": ""
            }
           },
           "name": "17",
           "offsetgroup": "17",
           "orientation": "v",
           "showlegend": true,
           "type": "histogram",
           "x": [
            17,
            17
           ],
           "xaxis": "x",
           "y": [
            4.28,
            4.5
           ],
           "yaxis": "y"
          },
          {
           "alignmentgroup": "True",
           "bingroup": "x",
           "histfunc": "sum",
           "hovertemplate": "Region=%{x}<br> Date= 31-10-2019<br>sum of  Estimated Unemployment Rate (%)=%{y}<extra></extra>",
           "legendgroup": "18",
           "marker": {
            "color": "#B6E880",
            "pattern": {
             "shape": ""
            }
           },
           "name": "18",
           "offsetgroup": "18",
           "orientation": "v",
           "showlegend": true,
           "type": "histogram",
           "x": [
            18,
            18
           ],
           "xaxis": "x",
           "y": [
            1.18,
            1.17
           ],
           "yaxis": "y"
          },
          {
           "alignmentgroup": "True",
           "bingroup": "x",
           "histfunc": "sum",
           "hovertemplate": "Region=%{x}<br> Date= 31-10-2019<br>sum of  Estimated Unemployment Rate (%)=%{y}<extra></extra>",
           "legendgroup": "19",
           "marker": {
            "color": "#FF97FF",
            "pattern": {
             "shape": ""
            }
           },
           "name": "19",
           "offsetgroup": "19",
           "orientation": "v",
           "showlegend": true,
           "type": "histogram",
           "x": [
            19,
            19
           ],
           "xaxis": "x",
           "y": [
            12.56,
            13.75
           ],
           "yaxis": "y"
          },
          {
           "alignmentgroup": "True",
           "bingroup": "x",
           "histfunc": "sum",
           "hovertemplate": "Region=%{x}<br> Date= 31-10-2019<br>sum of  Estimated Unemployment Rate (%)=%{y}<extra></extra>",
           "legendgroup": "20",
           "marker": {
            "color": "#FECB52",
            "pattern": {
             "shape": ""
            }
           },
           "name": "20",
           "offsetgroup": "20",
           "orientation": "v",
           "showlegend": true,
           "type": "histogram",
           "x": [
            20,
            20
           ],
           "xaxis": "x",
           "y": [
            14.66,
            13.02
           ],
           "yaxis": "y"
          },
          {
           "alignmentgroup": "True",
           "bingroup": "x",
           "histfunc": "sum",
           "hovertemplate": "Region=%{x}<br> Date= 31-10-2019<br>sum of  Estimated Unemployment Rate (%)=%{y}<extra></extra>",
           "legendgroup": "21",
           "marker": {
            "color": "#636efa",
            "pattern": {
             "shape": ""
            }
           },
           "name": "21",
           "offsetgroup": "21",
           "orientation": "v",
           "showlegend": true,
           "type": "histogram",
           "x": [
            21,
            21
           ],
           "xaxis": "x",
           "y": [
            5.48,
            9.68
           ],
           "yaxis": "y"
          },
          {
           "alignmentgroup": "True",
           "bingroup": "x",
           "histfunc": "sum",
           "hovertemplate": "Region=%{x}<br> Date= 31-10-2019<br>sum of  Estimated Unemployment Rate (%)=%{y}<extra></extra>",
           "legendgroup": "22",
           "marker": {
            "color": "#EF553B",
            "pattern": {
             "shape": ""
            }
           },
           "name": "22",
           "offsetgroup": "22",
           "orientation": "v",
           "showlegend": true,
           "type": "histogram",
           "x": [
            22,
            22
           ],
           "xaxis": "x",
           "y": [
            1.46,
            1.13
           ],
           "yaxis": "y"
          },
          {
           "alignmentgroup": "True",
           "bingroup": "x",
           "histfunc": "sum",
           "hovertemplate": "Region=%{x}<br> Date= 31-10-2019<br>sum of  Estimated Unemployment Rate (%)=%{y}<extra></extra>",
           "legendgroup": "23",
           "marker": {
            "color": "#00cc96",
            "pattern": {
             "shape": ""
            }
           },
           "name": "23",
           "offsetgroup": "23",
           "orientation": "v",
           "showlegend": true,
           "type": "histogram",
           "x": [
            23,
            23
           ],
           "xaxis": "x",
           "y": [
            7.29,
            6.74
           ],
           "yaxis": "y"
          },
          {
           "alignmentgroup": "True",
           "bingroup": "x",
           "histfunc": "sum",
           "hovertemplate": "Region=%{x}<br> Date= 31-10-2019<br>sum of  Estimated Unemployment Rate (%)=%{y}<extra></extra>",
           "legendgroup": "24",
           "marker": {
            "color": "#ab63fa",
            "pattern": {
             "shape": ""
            }
           },
           "name": "24",
           "offsetgroup": "24",
           "orientation": "v",
           "showlegend": true,
           "type": "histogram",
           "x": [
            24,
            24
           ],
           "xaxis": "x",
           "y": [
            27.54,
            26.67
           ],
           "yaxis": "y"
          },
          {
           "alignmentgroup": "True",
           "bingroup": "x",
           "histfunc": "sum",
           "hovertemplate": "Region=%{x}<br> Date= 31-10-2019<br>sum of  Estimated Unemployment Rate (%)=%{y}<extra></extra>",
           "legendgroup": "25",
           "marker": {
            "color": "#FFA15A",
            "pattern": {
             "shape": ""
            }
           },
           "name": "25",
           "offsetgroup": "25",
           "orientation": "v",
           "showlegend": true,
           "type": "histogram",
           "x": [
            25,
            25
           ],
           "xaxis": "x",
           "y": [
            10.18,
            10.35
           ],
           "yaxis": "y"
          },
          {
           "alignmentgroup": "True",
           "bingroup": "x",
           "histfunc": "sum",
           "hovertemplate": "Region=%{x}<br> Date= 31-10-2019<br>sum of  Estimated Unemployment Rate (%)=%{y}<extra></extra>",
           "legendgroup": "26",
           "marker": {
            "color": "#19d3f3",
            "pattern": {
             "shape": ""
            }
           },
           "name": "26",
           "offsetgroup": "26",
           "orientation": "v",
           "showlegend": true,
           "type": "histogram",
           "x": [
            26,
            26
           ],
           "xaxis": "x",
           "y": [
            4.83,
            4.72
           ],
           "yaxis": "y"
          },
          {
           "alignmentgroup": "True",
           "bingroup": "x",
           "histfunc": "sum",
           "hovertemplate": "Region=%{x}<br> Date= 31-10-2019<br>sum of  Estimated Unemployment Rate (%)=%{y}<extra></extra>",
           "legendgroup": "27",
           "marker": {
            "color": "#FF6692",
            "pattern": {
             "shape": ""
            }
           },
           "name": "27",
           "offsetgroup": "27",
           "orientation": "v",
           "showlegend": true,
           "type": "histogram",
           "x": [
            27,
            27
           ],
           "xaxis": "x",
           "y": [
            6.78,
            7.83
           ],
           "yaxis": "y"
          },
          {
           "alignmentgroup": "True",
           "bingroup": "x",
           "histfunc": "sum",
           "hovertemplate": "Region=%{x}<br> Date= 31-10-2019<br>sum of  Estimated Unemployment Rate (%)=%{y}<extra></extra>",
           "legendgroup": "3",
           "marker": {
            "color": "#FF97FF",
            "pattern": {
             "shape": ""
            }
           },
           "name": "3",
           "offsetgroup": "3",
           "orientation": "v",
           "showlegend": true,
           "type": "histogram",
           "x": [
            3
           ],
           "xaxis": "x",
           "y": [
            13.99
           ],
           "yaxis": "y"
          }
         ],
         "name": " 31-10-2019"
        },
        {
         "data": [
          {
           "alignmentgroup": "True",
           "bingroup": "x",
           "histfunc": "sum",
           "hovertemplate": "Region=%{x}<br> Date= 30-11-2019<br>sum of  Estimated Unemployment Rate (%)=%{y}<extra></extra>",
           "legendgroup": "0",
           "marker": {
            "color": "#636efa",
            "pattern": {
             "shape": ""
            }
           },
           "name": "0",
           "offsetgroup": "0",
           "orientation": "v",
           "showlegend": true,
           "type": "histogram",
           "x": [
            0,
            0
           ],
           "xaxis": "x",
           "y": [
            4.12,
            7.54
           ],
           "yaxis": "y"
          },
          {
           "alignmentgroup": "True",
           "bingroup": "x",
           "histfunc": "sum",
           "hovertemplate": "Region=%{x}<br> Date= 30-11-2019<br>sum of  Estimated Unemployment Rate (%)=%{y}<extra></extra>",
           "legendgroup": "1",
           "marker": {
            "color": "#EF553B",
            "pattern": {
             "shape": ""
            }
           },
           "name": "1",
           "offsetgroup": "1",
           "orientation": "v",
           "showlegend": true,
           "type": "histogram",
           "x": [
            1,
            1
           ],
           "xaxis": "x",
           "y": [
            4.66,
            6.31
           ],
           "yaxis": "y"
          },
          {
           "alignmentgroup": "True",
           "bingroup": "x",
           "histfunc": "sum",
           "hovertemplate": "Region=%{x}<br> Date= 30-11-2019<br>sum of  Estimated Unemployment Rate (%)=%{y}<extra></extra>",
           "legendgroup": "2",
           "marker": {
            "color": "#00cc96",
            "pattern": {
             "shape": ""
            }
           },
           "name": "2",
           "offsetgroup": "2",
           "orientation": "v",
           "showlegend": true,
           "type": "histogram",
           "x": [
            2,
            2
           ],
           "xaxis": "x",
           "y": [
            12.4,
            17.62
           ],
           "yaxis": "y"
          },
          {
           "alignmentgroup": "True",
           "bingroup": "x",
           "histfunc": "sum",
           "hovertemplate": "Region=%{x}<br> Date= 30-11-2019<br>sum of  Estimated Unemployment Rate (%)=%{y}<extra></extra>",
           "legendgroup": "4",
           "marker": {
            "color": "#ab63fa",
            "pattern": {
             "shape": ""
            }
           },
           "name": "4",
           "offsetgroup": "4",
           "orientation": "v",
           "showlegend": true,
           "type": "histogram",
           "x": [
            4,
            4
           ],
           "xaxis": "x",
           "y": [
            2.77,
            8.32
           ],
           "yaxis": "y"
          },
          {
           "alignmentgroup": "True",
           "bingroup": "x",
           "histfunc": "sum",
           "hovertemplate": "Region=%{x}<br> Date= 30-11-2019<br>sum of  Estimated Unemployment Rate (%)=%{y}<extra></extra>",
           "legendgroup": "5",
           "marker": {
            "color": "#FFA15A",
            "pattern": {
             "shape": ""
            }
           },
           "name": "5",
           "offsetgroup": "5",
           "orientation": "v",
           "showlegend": true,
           "type": "histogram",
           "x": [
            5,
            5
           ],
           "xaxis": "x",
           "y": [
            11.11,
            16.11
           ],
           "yaxis": "y"
          },
          {
           "alignmentgroup": "True",
           "bingroup": "x",
           "histfunc": "sum",
           "hovertemplate": "Region=%{x}<br> Date= 30-11-2019<br>sum of  Estimated Unemployment Rate (%)=%{y}<extra></extra>",
           "legendgroup": "6",
           "marker": {
            "color": "#19d3f3",
            "pattern": {
             "shape": ""
            }
           },
           "name": "6",
           "offsetgroup": "6",
           "orientation": "v",
           "showlegend": true,
           "type": "histogram",
           "x": [
            6,
            6
           ],
           "xaxis": "x",
           "y": [
            23.71,
            25.2
           ],
           "yaxis": "y"
          },
          {
           "alignmentgroup": "True",
           "bingroup": "x",
           "histfunc": "sum",
           "hovertemplate": "Region=%{x}<br> Date= 30-11-2019<br>sum of  Estimated Unemployment Rate (%)=%{y}<extra></extra>",
           "legendgroup": "7",
           "marker": {
            "color": "#FF6692",
            "pattern": {
             "shape": ""
            }
           },
           "name": "7",
           "offsetgroup": "7",
           "orientation": "v",
           "showlegend": true,
           "type": "histogram",
           "x": [
            7,
            7
           ],
           "xaxis": "x",
           "y": [
            4.68,
            7.53
           ],
           "yaxis": "y"
          },
          {
           "alignmentgroup": "True",
           "bingroup": "x",
           "histfunc": "sum",
           "hovertemplate": "Region=%{x}<br> Date= 30-11-2019<br>sum of  Estimated Unemployment Rate (%)=%{y}<extra></extra>",
           "legendgroup": "8",
           "marker": {
            "color": "#B6E880",
            "pattern": {
             "shape": ""
            }
           },
           "name": "8",
           "offsetgroup": "8",
           "orientation": "v",
           "showlegend": true,
           "type": "histogram",
           "x": [
            8,
            8
           ],
           "xaxis": "x",
           "y": [
            16.59,
            27.06
           ],
           "yaxis": "y"
          },
          {
           "alignmentgroup": "True",
           "bingroup": "x",
           "histfunc": "sum",
           "hovertemplate": "Region=%{x}<br> Date= 30-11-2019<br>sum of  Estimated Unemployment Rate (%)=%{y}<extra></extra>",
           "legendgroup": "9",
           "marker": {
            "color": "#FF97FF",
            "pattern": {
             "shape": ""
            }
           },
           "name": "9",
           "offsetgroup": "9",
           "orientation": "v",
           "showlegend": true,
           "type": "histogram",
           "x": [
            9,
            9
           ],
           "xaxis": "x",
           "y": [
            22.86,
            27.27
           ],
           "yaxis": "y"
          },
          {
           "alignmentgroup": "True",
           "bingroup": "x",
           "histfunc": "sum",
           "hovertemplate": "Region=%{x}<br> Date= 30-11-2019<br>sum of  Estimated Unemployment Rate (%)=%{y}<extra></extra>",
           "legendgroup": "10",
           "marker": {
            "color": "#FECB52",
            "pattern": {
             "shape": ""
            }
           },
           "name": "10",
           "offsetgroup": "10",
           "orientation": "v",
           "showlegend": true,
           "type": "histogram",
           "x": [
            10,
            10
           ],
           "xaxis": "x",
           "y": [
            14.73,
            14.29
           ],
           "yaxis": "y"
          },
          {
           "alignmentgroup": "True",
           "bingroup": "x",
           "histfunc": "sum",
           "hovertemplate": "Region=%{x}<br> Date= 30-11-2019<br>sum of  Estimated Unemployment Rate (%)=%{y}<extra></extra>",
           "legendgroup": "11",
           "marker": {
            "color": "#636efa",
            "pattern": {
             "shape": ""
            }
           },
           "name": "11",
           "offsetgroup": "11",
           "orientation": "v",
           "showlegend": true,
           "type": "histogram",
           "x": [
            11,
            11
           ],
           "xaxis": "x",
           "y": [
            8.07,
            17.34
           ],
           "yaxis": "y"
          },
          {
           "alignmentgroup": "True",
           "bingroup": "x",
           "histfunc": "sum",
           "hovertemplate": "Region=%{x}<br> Date= 30-11-2019<br>sum of  Estimated Unemployment Rate (%)=%{y}<extra></extra>",
           "legendgroup": "12",
           "marker": {
            "color": "#EF553B",
            "pattern": {
             "shape": ""
            }
           },
           "name": "12",
           "offsetgroup": "12",
           "orientation": "v",
           "showlegend": true,
           "type": "histogram",
           "x": [
            12,
            12
           ],
           "xaxis": "x",
           "y": [
            1.19,
            3.44
           ],
           "yaxis": "y"
          },
          {
           "alignmentgroup": "True",
           "bingroup": "x",
           "histfunc": "sum",
           "hovertemplate": "Region=%{x}<br> Date= 30-11-2019<br>sum of  Estimated Unemployment Rate (%)=%{y}<extra></extra>",
           "legendgroup": "13",
           "marker": {
            "color": "#00cc96",
            "pattern": {
             "shape": ""
            }
           },
           "name": "13",
           "offsetgroup": "13",
           "orientation": "v",
           "showlegend": true,
           "type": "histogram",
           "x": [
            13,
            13
           ],
           "xaxis": "x",
           "y": [
            5,
            6.71
           ],
           "yaxis": "y"
          },
          {
           "alignmentgroup": "True",
           "bingroup": "x",
           "histfunc": "sum",
           "hovertemplate": "Region=%{x}<br> Date= 30-11-2019<br>sum of  Estimated Unemployment Rate (%)=%{y}<extra></extra>",
           "legendgroup": "14",
           "marker": {
            "color": "#ab63fa",
            "pattern": {
             "shape": ""
            }
           },
           "name": "14",
           "offsetgroup": "14",
           "orientation": "v",
           "showlegend": true,
           "type": "histogram",
           "x": [
            14,
            14
           ],
           "xaxis": "x",
           "y": [
            2.72,
            6.06
           ],
           "yaxis": "y"
          },
          {
           "alignmentgroup": "True",
           "bingroup": "x",
           "histfunc": "sum",
           "hovertemplate": "Region=%{x}<br> Date= 30-11-2019<br>sum of  Estimated Unemployment Rate (%)=%{y}<extra></extra>",
           "legendgroup": "15",
           "marker": {
            "color": "#FFA15A",
            "pattern": {
             "shape": ""
            }
           },
           "name": "15",
           "offsetgroup": "15",
           "orientation": "v",
           "showlegend": true,
           "type": "histogram",
           "x": [
            15,
            15
           ],
           "xaxis": "x",
           "y": [
            3.68,
            7.6
           ],
           "yaxis": "y"
          },
          {
           "alignmentgroup": "True",
           "bingroup": "x",
           "histfunc": "sum",
           "hovertemplate": "Region=%{x}<br> Date= 30-11-2019<br>sum of  Estimated Unemployment Rate (%)=%{y}<extra></extra>",
           "legendgroup": "16",
           "marker": {
            "color": "#19d3f3",
            "pattern": {
             "shape": ""
            }
           },
           "name": "16",
           "offsetgroup": "16",
           "orientation": "v",
           "showlegend": true,
           "type": "histogram",
           "x": [
            16,
            16
           ],
           "xaxis": "x",
           "y": [
            1.5,
            3.02
           ],
           "yaxis": "y"
          },
          {
           "alignmentgroup": "True",
           "bingroup": "x",
           "histfunc": "sum",
           "hovertemplate": "Region=%{x}<br> Date= 30-11-2019<br>sum of  Estimated Unemployment Rate (%)=%{y}<extra></extra>",
           "legendgroup": "17",
           "marker": {
            "color": "#FF6692",
            "pattern": {
             "shape": ""
            }
           },
           "name": "17",
           "offsetgroup": "17",
           "orientation": "v",
           "showlegend": true,
           "type": "histogram",
           "x": [
            17,
            17
           ],
           "xaxis": "x",
           "y": [
            4.72,
            2.23
           ],
           "yaxis": "y"
          },
          {
           "alignmentgroup": "True",
           "bingroup": "x",
           "histfunc": "sum",
           "hovertemplate": "Region=%{x}<br> Date= 30-11-2019<br>sum of  Estimated Unemployment Rate (%)=%{y}<extra></extra>",
           "legendgroup": "18",
           "marker": {
            "color": "#B6E880",
            "pattern": {
             "shape": ""
            }
           },
           "name": "18",
           "offsetgroup": "18",
           "orientation": "v",
           "showlegend": true,
           "type": "histogram",
           "x": [
            18,
            18
           ],
           "xaxis": "x",
           "y": [
            0,
            1.37
           ],
           "yaxis": "y"
          },
          {
           "alignmentgroup": "True",
           "bingroup": "x",
           "histfunc": "sum",
           "hovertemplate": "Region=%{x}<br> Date= 30-11-2019<br>sum of  Estimated Unemployment Rate (%)=%{y}<extra></extra>",
           "legendgroup": "19",
           "marker": {
            "color": "#FF97FF",
            "pattern": {
             "shape": ""
            }
           },
           "name": "19",
           "offsetgroup": "19",
           "orientation": "v",
           "showlegend": true,
           "type": "histogram",
           "x": [
            19,
            19
           ],
           "xaxis": "x",
           "y": [
            7.07,
            10.39
           ],
           "yaxis": "y"
          },
          {
           "alignmentgroup": "True",
           "bingroup": "x",
           "histfunc": "sum",
           "hovertemplate": "Region=%{x}<br> Date= 30-11-2019<br>sum of  Estimated Unemployment Rate (%)=%{y}<extra></extra>",
           "legendgroup": "20",
           "marker": {
            "color": "#FECB52",
            "pattern": {
             "shape": ""
            }
           },
           "name": "20",
           "offsetgroup": "20",
           "orientation": "v",
           "showlegend": true,
           "type": "histogram",
           "x": [
            20,
            20
           ],
           "xaxis": "x",
           "y": [
            10.47,
            14.3
           ],
           "yaxis": "y"
          },
          {
           "alignmentgroup": "True",
           "bingroup": "x",
           "histfunc": "sum",
           "hovertemplate": "Region=%{x}<br> Date= 30-11-2019<br>sum of  Estimated Unemployment Rate (%)=%{y}<extra></extra>",
           "legendgroup": "21",
           "marker": {
            "color": "#636efa",
            "pattern": {
             "shape": ""
            }
           },
           "name": "21",
           "offsetgroup": "21",
           "orientation": "v",
           "showlegend": true,
           "type": "histogram",
           "x": [
            21,
            21
           ],
           "xaxis": "x",
           "y": [
            13.11,
            4.04
           ],
           "yaxis": "y"
          },
          {
           "alignmentgroup": "True",
           "bingroup": "x",
           "histfunc": "sum",
           "hovertemplate": "Region=%{x}<br> Date= 30-11-2019<br>sum of  Estimated Unemployment Rate (%)=%{y}<extra></extra>",
           "legendgroup": "22",
           "marker": {
            "color": "#EF553B",
            "pattern": {
             "shape": ""
            }
           },
           "name": "22",
           "offsetgroup": "22",
           "orientation": "v",
           "showlegend": true,
           "type": "histogram",
           "x": [
            22,
            22
           ],
           "xaxis": "x",
           "y": [
            2.46,
            2.65
           ],
           "yaxis": "y"
          },
          {
           "alignmentgroup": "True",
           "bingroup": "x",
           "histfunc": "sum",
           "hovertemplate": "Region=%{x}<br> Date= 30-11-2019<br>sum of  Estimated Unemployment Rate (%)=%{y}<extra></extra>",
           "legendgroup": "23",
           "marker": {
            "color": "#00cc96",
            "pattern": {
             "shape": ""
            }
           },
           "name": "23",
           "offsetgroup": "23",
           "orientation": "v",
           "showlegend": true,
           "type": "histogram",
           "x": [
            23,
            23
           ],
           "xaxis": "x",
           "y": [
            6.47,
            5.23
           ],
           "yaxis": "y"
          },
          {
           "alignmentgroup": "True",
           "bingroup": "x",
           "histfunc": "sum",
           "hovertemplate": "Region=%{x}<br> Date= 30-11-2019<br>sum of  Estimated Unemployment Rate (%)=%{y}<extra></extra>",
           "legendgroup": "24",
           "marker": {
            "color": "#ab63fa",
            "pattern": {
             "shape": ""
            }
           },
           "name": "24",
           "offsetgroup": "24",
           "orientation": "v",
           "showlegend": true,
           "type": "histogram",
           "x": [
            24,
            24
           ],
           "xaxis": "x",
           "y": [
            25.25,
            27.15
           ],
           "yaxis": "y"
          },
          {
           "alignmentgroup": "True",
           "bingroup": "x",
           "histfunc": "sum",
           "hovertemplate": "Region=%{x}<br> Date= 30-11-2019<br>sum of  Estimated Unemployment Rate (%)=%{y}<extra></extra>",
           "legendgroup": "25",
           "marker": {
            "color": "#FFA15A",
            "pattern": {
             "shape": ""
            }
           },
           "name": "25",
           "offsetgroup": "25",
           "orientation": "v",
           "showlegend": true,
           "type": "histogram",
           "x": [
            25,
            25
           ],
           "xaxis": "x",
           "y": [
            6.94,
            11.31
           ],
           "yaxis": "y"
          },
          {
           "alignmentgroup": "True",
           "bingroup": "x",
           "histfunc": "sum",
           "hovertemplate": "Region=%{x}<br> Date= 30-11-2019<br>sum of  Estimated Unemployment Rate (%)=%{y}<extra></extra>",
           "legendgroup": "26",
           "marker": {
            "color": "#19d3f3",
            "pattern": {
             "shape": ""
            }
           },
           "name": "26",
           "offsetgroup": "26",
           "orientation": "v",
           "showlegend": true,
           "type": "histogram",
           "x": [
            26,
            26
           ],
           "xaxis": "x",
           "y": [
            5.56,
            6.34
           ],
           "yaxis": "y"
          },
          {
           "alignmentgroup": "True",
           "bingroup": "x",
           "histfunc": "sum",
           "hovertemplate": "Region=%{x}<br> Date= 30-11-2019<br>sum of  Estimated Unemployment Rate (%)=%{y}<extra></extra>",
           "legendgroup": "27",
           "marker": {
            "color": "#FF6692",
            "pattern": {
             "shape": ""
            }
           },
           "name": "27",
           "offsetgroup": "27",
           "orientation": "v",
           "showlegend": true,
           "type": "histogram",
           "x": [
            27,
            27
           ],
           "xaxis": "x",
           "y": [
            5.83,
            6.61
           ],
           "yaxis": "y"
          },
          {
           "alignmentgroup": "True",
           "bingroup": "x",
           "histfunc": "sum",
           "hovertemplate": "Region=%{x}<br> Date= 30-11-2019<br>sum of  Estimated Unemployment Rate (%)=%{y}<extra></extra>",
           "legendgroup": "3",
           "marker": {
            "color": "#FF97FF",
            "pattern": {
             "shape": ""
            }
           },
           "name": "3",
           "offsetgroup": "3",
           "orientation": "v",
           "showlegend": true,
           "type": "histogram",
           "x": [
            3
           ],
           "xaxis": "x",
           "y": [
            22.05
           ],
           "yaxis": "y"
          }
         ],
         "name": " 30-11-2019"
        },
        {
         "data": [
          {
           "alignmentgroup": "True",
           "bingroup": "x",
           "histfunc": "sum",
           "hovertemplate": "Region=%{x}<br> Date= 31-12-2019<br>sum of  Estimated Unemployment Rate (%)=%{y}<extra></extra>",
           "legendgroup": "0",
           "marker": {
            "color": "#636efa",
            "pattern": {
             "shape": ""
            }
           },
           "name": "0",
           "offsetgroup": "0",
           "orientation": "v",
           "showlegend": true,
           "type": "histogram",
           "x": [
            0,
            0
           ],
           "xaxis": "x",
           "y": [
            4.38,
            7.88
           ],
           "yaxis": "y"
          },
          {
           "alignmentgroup": "True",
           "bingroup": "x",
           "histfunc": "sum",
           "hovertemplate": "Region=%{x}<br> Date= 31-12-2019<br>sum of  Estimated Unemployment Rate (%)=%{y}<extra></extra>",
           "legendgroup": "1",
           "marker": {
            "color": "#EF553B",
            "pattern": {
             "shape": ""
            }
           },
           "name": "1",
           "offsetgroup": "1",
           "orientation": "v",
           "showlegend": true,
           "type": "histogram",
           "x": [
            1
           ],
           "xaxis": "x",
           "y": [
            5.02
           ],
           "yaxis": "y"
          },
          {
           "alignmentgroup": "True",
           "bingroup": "x",
           "histfunc": "sum",
           "hovertemplate": "Region=%{x}<br> Date= 31-12-2019<br>sum of  Estimated Unemployment Rate (%)=%{y}<extra></extra>",
           "legendgroup": "2",
           "marker": {
            "color": "#00cc96",
            "pattern": {
             "shape": ""
            }
           },
           "name": "2",
           "offsetgroup": "2",
           "orientation": "v",
           "showlegend": true,
           "type": "histogram",
           "x": [
            2,
            2
           ],
           "xaxis": "x",
           "y": [
            10.16,
            14.91
           ],
           "yaxis": "y"
          },
          {
           "alignmentgroup": "True",
           "bingroup": "x",
           "histfunc": "sum",
           "hovertemplate": "Region=%{x}<br> Date= 31-12-2019<br>sum of  Estimated Unemployment Rate (%)=%{y}<extra></extra>",
           "legendgroup": "4",
           "marker": {
            "color": "#ab63fa",
            "pattern": {
             "shape": ""
            }
           },
           "name": "4",
           "offsetgroup": "4",
           "orientation": "v",
           "showlegend": true,
           "type": "histogram",
           "x": [
            4,
            4
           ],
           "xaxis": "x",
           "y": [
            6.11,
            3.57
           ],
           "yaxis": "y"
          },
          {
           "alignmentgroup": "True",
           "bingroup": "x",
           "histfunc": "sum",
           "hovertemplate": "Region=%{x}<br> Date= 31-12-2019<br>sum of  Estimated Unemployment Rate (%)=%{y}<extra></extra>",
           "legendgroup": "5",
           "marker": {
            "color": "#FFA15A",
            "pattern": {
             "shape": ""
            }
           },
           "name": "5",
           "offsetgroup": "5",
           "orientation": "v",
           "showlegend": true,
           "type": "histogram",
           "x": [
            5,
            5
           ],
           "xaxis": "x",
           "y": [
            16.97,
            11.07
           ],
           "yaxis": "y"
          },
          {
           "alignmentgroup": "True",
           "bingroup": "x",
           "histfunc": "sum",
           "hovertemplate": "Region=%{x}<br> Date= 31-12-2019<br>sum of  Estimated Unemployment Rate (%)=%{y}<extra></extra>",
           "legendgroup": "6",
           "marker": {
            "color": "#19d3f3",
            "pattern": {
             "shape": ""
            }
           },
           "name": "6",
           "offsetgroup": "6",
           "orientation": "v",
           "showlegend": true,
           "type": "histogram",
           "x": [
            6,
            6
           ],
           "xaxis": "x",
           "y": [
            3.54,
            16.22
           ],
           "yaxis": "y"
          },
          {
           "alignmentgroup": "True",
           "bingroup": "x",
           "histfunc": "sum",
           "hovertemplate": "Region=%{x}<br> Date= 31-12-2019<br>sum of  Estimated Unemployment Rate (%)=%{y}<extra></extra>",
           "legendgroup": "7",
           "marker": {
            "color": "#FF6692",
            "pattern": {
             "shape": ""
            }
           },
           "name": "7",
           "offsetgroup": "7",
           "orientation": "v",
           "showlegend": true,
           "type": "histogram",
           "x": [
            7,
            7
           ],
           "xaxis": "x",
           "y": [
            3.46,
            5.71
           ],
           "yaxis": "y"
          },
          {
           "alignmentgroup": "True",
           "bingroup": "x",
           "histfunc": "sum",
           "hovertemplate": "Region=%{x}<br> Date= 31-12-2019<br>sum of  Estimated Unemployment Rate (%)=%{y}<extra></extra>",
           "legendgroup": "8",
           "marker": {
            "color": "#B6E880",
            "pattern": {
             "shape": ""
            }
           },
           "name": "8",
           "offsetgroup": "8",
           "orientation": "v",
           "showlegend": true,
           "type": "histogram",
           "x": [
            8,
            8
           ],
           "xaxis": "x",
           "y": [
            29.56,
            23.65
           ],
           "yaxis": "y"
          },
          {
           "alignmentgroup": "True",
           "bingroup": "x",
           "histfunc": "sum",
           "hovertemplate": "Region=%{x}<br> Date= 31-12-2019<br>sum of  Estimated Unemployment Rate (%)=%{y}<extra></extra>",
           "legendgroup": "9",
           "marker": {
            "color": "#FF97FF",
            "pattern": {
             "shape": ""
            }
           },
           "name": "9",
           "offsetgroup": "9",
           "orientation": "v",
           "showlegend": true,
           "type": "histogram",
           "x": [
            9,
            9
           ],
           "xaxis": "x",
           "y": [
            19.46,
            25.32
           ],
           "yaxis": "y"
          },
          {
           "alignmentgroup": "True",
           "bingroup": "x",
           "histfunc": "sum",
           "hovertemplate": "Region=%{x}<br> Date= 31-12-2019<br>sum of  Estimated Unemployment Rate (%)=%{y}<extra></extra>",
           "legendgroup": "10",
           "marker": {
            "color": "#FECB52",
            "pattern": {
             "shape": ""
            }
           },
           "name": "10",
           "offsetgroup": "10",
           "orientation": "v",
           "showlegend": true,
           "type": "histogram",
           "x": [
            10
           ],
           "xaxis": "x",
           "y": [
            7.02
           ],
           "yaxis": "y"
          },
          {
           "alignmentgroup": "True",
           "bingroup": "x",
           "histfunc": "sum",
           "hovertemplate": "Region=%{x}<br> Date= 31-12-2019<br>sum of  Estimated Unemployment Rate (%)=%{y}<extra></extra>",
           "legendgroup": "11",
           "marker": {
            "color": "#636efa",
            "pattern": {
             "shape": ""
            }
           },
           "name": "11",
           "offsetgroup": "11",
           "orientation": "v",
           "showlegend": true,
           "type": "histogram",
           "x": [
            11,
            11
           ],
           "xaxis": "x",
           "y": [
            15.15,
            22.01
           ],
           "yaxis": "y"
          },
          {
           "alignmentgroup": "True",
           "bingroup": "x",
           "histfunc": "sum",
           "hovertemplate": "Region=%{x}<br> Date= 31-12-2019<br>sum of  Estimated Unemployment Rate (%)=%{y}<extra></extra>",
           "legendgroup": "12",
           "marker": {
            "color": "#EF553B",
            "pattern": {
             "shape": ""
            }
           },
           "name": "12",
           "offsetgroup": "12",
           "orientation": "v",
           "showlegend": true,
           "type": "histogram",
           "x": [
            12,
            12
           ],
           "xaxis": "x",
           "y": [
            0.41,
            1.56
           ],
           "yaxis": "y"
          },
          {
           "alignmentgroup": "True",
           "bingroup": "x",
           "histfunc": "sum",
           "hovertemplate": "Region=%{x}<br> Date= 31-12-2019<br>sum of  Estimated Unemployment Rate (%)=%{y}<extra></extra>",
           "legendgroup": "13",
           "marker": {
            "color": "#00cc96",
            "pattern": {
             "shape": ""
            }
           },
           "name": "13",
           "offsetgroup": "13",
           "orientation": "v",
           "showlegend": true,
           "type": "histogram",
           "x": [
            13,
            13
           ],
           "xaxis": "x",
           "y": [
            10.77,
            7.31
           ],
           "yaxis": "y"
          },
          {
           "alignmentgroup": "True",
           "bingroup": "x",
           "histfunc": "sum",
           "hovertemplate": "Region=%{x}<br> Date= 31-12-2019<br>sum of  Estimated Unemployment Rate (%)=%{y}<extra></extra>",
           "legendgroup": "14",
           "marker": {
            "color": "#ab63fa",
            "pattern": {
             "shape": ""
            }
           },
           "name": "14",
           "offsetgroup": "14",
           "orientation": "v",
           "showlegend": true,
           "type": "histogram",
           "x": [
            14,
            14
           ],
           "xaxis": "x",
           "y": [
            2.94,
            6.2
           ],
           "yaxis": "y"
          },
          {
           "alignmentgroup": "True",
           "bingroup": "x",
           "histfunc": "sum",
           "hovertemplate": "Region=%{x}<br> Date= 31-12-2019<br>sum of  Estimated Unemployment Rate (%)=%{y}<extra></extra>",
           "legendgroup": "15",
           "marker": {
            "color": "#FFA15A",
            "pattern": {
             "shape": ""
            }
           },
           "name": "15",
           "offsetgroup": "15",
           "orientation": "v",
           "showlegend": true,
           "type": "histogram",
           "x": [
            15,
            15
           ],
           "xaxis": "x",
           "y": [
            3.03,
            7.83
           ],
           "yaxis": "y"
          },
          {
           "alignmentgroup": "True",
           "bingroup": "x",
           "histfunc": "sum",
           "hovertemplate": "Region=%{x}<br> Date= 31-12-2019<br>sum of  Estimated Unemployment Rate (%)=%{y}<extra></extra>",
           "legendgroup": "16",
           "marker": {
            "color": "#19d3f3",
            "pattern": {
             "shape": ""
            }
           },
           "name": "16",
           "offsetgroup": "16",
           "orientation": "v",
           "showlegend": true,
           "type": "histogram",
           "x": [
            16,
            16
           ],
           "xaxis": "x",
           "y": [
            1.8,
            5.21
           ],
           "yaxis": "y"
          },
          {
           "alignmentgroup": "True",
           "bingroup": "x",
           "histfunc": "sum",
           "hovertemplate": "Region=%{x}<br> Date= 31-12-2019<br>sum of  Estimated Unemployment Rate (%)=%{y}<extra></extra>",
           "legendgroup": "17",
           "marker": {
            "color": "#FF6692",
            "pattern": {
             "shape": ""
            }
           },
           "name": "17",
           "offsetgroup": "17",
           "orientation": "v",
           "showlegend": true,
           "type": "histogram",
           "x": [
            17,
            17
           ],
           "xaxis": "x",
           "y": [
            4.67,
            3.36
           ],
           "yaxis": "y"
          },
          {
           "alignmentgroup": "True",
           "bingroup": "x",
           "histfunc": "sum",
           "hovertemplate": "Region=%{x}<br> Date= 31-12-2019<br>sum of  Estimated Unemployment Rate (%)=%{y}<extra></extra>",
           "legendgroup": "18",
           "marker": {
            "color": "#B6E880",
            "pattern": {
             "shape": ""
            }
           },
           "name": "18",
           "offsetgroup": "18",
           "orientation": "v",
           "showlegend": true,
           "type": "histogram",
           "x": [
            18,
            18
           ],
           "xaxis": "x",
           "y": [
            1.99,
            5.21
           ],
           "yaxis": "y"
          },
          {
           "alignmentgroup": "True",
           "bingroup": "x",
           "histfunc": "sum",
           "hovertemplate": "Region=%{x}<br> Date= 31-12-2019<br>sum of  Estimated Unemployment Rate (%)=%{y}<extra></extra>",
           "legendgroup": "19",
           "marker": {
            "color": "#FF97FF",
            "pattern": {
             "shape": ""
            }
           },
           "name": "19",
           "offsetgroup": "19",
           "orientation": "v",
           "showlegend": true,
           "type": "histogram",
           "x": [
            19,
            19
           ],
           "xaxis": "x",
           "y": [
            6.13,
            11.97
           ],
           "yaxis": "y"
          },
          {
           "alignmentgroup": "True",
           "bingroup": "x",
           "histfunc": "sum",
           "hovertemplate": "Region=%{x}<br> Date= 31-12-2019<br>sum of  Estimated Unemployment Rate (%)=%{y}<extra></extra>",
           "legendgroup": "20",
           "marker": {
            "color": "#FECB52",
            "pattern": {
             "shape": ""
            }
           },
           "name": "20",
           "offsetgroup": "20",
           "orientation": "v",
           "showlegend": true,
           "type": "histogram",
           "x": [
            20,
            20
           ],
           "xaxis": "x",
           "y": [
            13.96,
            18.04
           ],
           "yaxis": "y"
          },
          {
           "alignmentgroup": "True",
           "bingroup": "x",
           "histfunc": "sum",
           "hovertemplate": "Region=%{x}<br> Date= 31-12-2019<br>sum of  Estimated Unemployment Rate (%)=%{y}<extra></extra>",
           "legendgroup": "21",
           "marker": {
            "color": "#636efa",
            "pattern": {
             "shape": ""
            }
           },
           "name": "21",
           "offsetgroup": "21",
           "orientation": "v",
           "showlegend": true,
           "type": "histogram",
           "x": [
            21,
            21
           ],
           "xaxis": "x",
           "y": [
            1,
            7.37
           ],
           "yaxis": "y"
          },
          {
           "alignmentgroup": "True",
           "bingroup": "x",
           "histfunc": "sum",
           "hovertemplate": "Region=%{x}<br> Date= 31-12-2019<br>sum of  Estimated Unemployment Rate (%)=%{y}<extra></extra>",
           "legendgroup": "22",
           "marker": {
            "color": "#EF553B",
            "pattern": {
             "shape": ""
            }
           },
           "name": "22",
           "offsetgroup": "22",
           "orientation": "v",
           "showlegend": true,
           "type": "histogram",
           "x": [
            22,
            22
           ],
           "xaxis": "x",
           "y": [
            3.73,
            8.05
           ],
           "yaxis": "y"
          },
          {
           "alignmentgroup": "True",
           "bingroup": "x",
           "histfunc": "sum",
           "hovertemplate": "Region=%{x}<br> Date= 31-12-2019<br>sum of  Estimated Unemployment Rate (%)=%{y}<extra></extra>",
           "legendgroup": "23",
           "marker": {
            "color": "#00cc96",
            "pattern": {
             "shape": ""
            }
           },
           "name": "23",
           "offsetgroup": "23",
           "orientation": "v",
           "showlegend": true,
           "type": "histogram",
           "x": [
            23,
            23
           ],
           "xaxis": "x",
           "y": [
            1.35,
            4.22
           ],
           "yaxis": "y"
          },
          {
           "alignmentgroup": "True",
           "bingroup": "x",
           "histfunc": "sum",
           "hovertemplate": "Region=%{x}<br> Date= 31-12-2019<br>sum of  Estimated Unemployment Rate (%)=%{y}<extra></extra>",
           "legendgroup": "24",
           "marker": {
            "color": "#ab63fa",
            "pattern": {
             "shape": ""
            }
           },
           "name": "24",
           "offsetgroup": "24",
           "orientation": "v",
           "showlegend": true,
           "type": "histogram",
           "x": [
            24,
            24
           ],
           "xaxis": "x",
           "y": [
            26.53,
            33.48
           ],
           "yaxis": "y"
          },
          {
           "alignmentgroup": "True",
           "bingroup": "x",
           "histfunc": "sum",
           "hovertemplate": "Region=%{x}<br> Date= 31-12-2019<br>sum of  Estimated Unemployment Rate (%)=%{y}<extra></extra>",
           "legendgroup": "25",
           "marker": {
            "color": "#FFA15A",
            "pattern": {
             "shape": ""
            }
           },
           "name": "25",
           "offsetgroup": "25",
           "orientation": "v",
           "showlegend": true,
           "type": "histogram",
           "x": [
            25,
            25
           ],
           "xaxis": "x",
           "y": [
            8.43,
            12.37
           ],
           "yaxis": "y"
          },
          {
           "alignmentgroup": "True",
           "bingroup": "x",
           "histfunc": "sum",
           "hovertemplate": "Region=%{x}<br> Date= 31-12-2019<br>sum of  Estimated Unemployment Rate (%)=%{y}<extra></extra>",
           "legendgroup": "26",
           "marker": {
            "color": "#19d3f3",
            "pattern": {
             "shape": ""
            }
           },
           "name": "26",
           "offsetgroup": "26",
           "orientation": "v",
           "showlegend": true,
           "type": "histogram",
           "x": [
            26,
            26
           ],
           "xaxis": "x",
           "y": [
            4.52,
            7.39
           ],
           "yaxis": "y"
          },
          {
           "alignmentgroup": "True",
           "bingroup": "x",
           "histfunc": "sum",
           "hovertemplate": "Region=%{x}<br> Date= 31-12-2019<br>sum of  Estimated Unemployment Rate (%)=%{y}<extra></extra>",
           "legendgroup": "27",
           "marker": {
            "color": "#FF6692",
            "pattern": {
             "shape": ""
            }
           },
           "name": "27",
           "offsetgroup": "27",
           "orientation": "v",
           "showlegend": true,
           "type": "histogram",
           "x": [
            27,
            27
           ],
           "xaxis": "x",
           "y": [
            5.79,
            7.24
           ],
           "yaxis": "y"
          },
          {
           "alignmentgroup": "True",
           "bingroup": "x",
           "histfunc": "sum",
           "hovertemplate": "Region=%{x}<br> Date= 31-12-2019<br>sum of  Estimated Unemployment Rate (%)=%{y}<extra></extra>",
           "legendgroup": "3",
           "marker": {
            "color": "#FF97FF",
            "pattern": {
             "shape": ""
            }
           },
           "name": "3",
           "offsetgroup": "3",
           "orientation": "v",
           "showlegend": true,
           "type": "histogram",
           "x": [
            3
           ],
           "xaxis": "x",
           "y": [
            8.33
           ],
           "yaxis": "y"
          }
         ],
         "name": " 31-12-2019"
        },
        {
         "data": [
          {
           "alignmentgroup": "True",
           "bingroup": "x",
           "histfunc": "sum",
           "hovertemplate": "Region=%{x}<br> Date= 31-01-2020<br>sum of  Estimated Unemployment Rate (%)=%{y}<extra></extra>",
           "legendgroup": "0",
           "marker": {
            "color": "#636efa",
            "pattern": {
             "shape": ""
            }
           },
           "name": "0",
           "offsetgroup": "0",
           "orientation": "v",
           "showlegend": true,
           "type": "histogram",
           "x": [
            0,
            0
           ],
           "xaxis": "x",
           "y": [
            4.84,
            7.11
           ],
           "yaxis": "y"
          },
          {
           "alignmentgroup": "True",
           "bingroup": "x",
           "histfunc": "sum",
           "hovertemplate": "Region=%{x}<br> Date= 31-01-2020<br>sum of  Estimated Unemployment Rate (%)=%{y}<extra></extra>",
           "legendgroup": "1",
           "marker": {
            "color": "#EF553B",
            "pattern": {
             "shape": ""
            }
           },
           "name": "1",
           "offsetgroup": "1",
           "orientation": "v",
           "showlegend": true,
           "type": "histogram",
           "x": [
            1,
            1
           ],
           "xaxis": "x",
           "y": [
            4.29,
            7.24
           ],
           "yaxis": "y"
          },
          {
           "alignmentgroup": "True",
           "bingroup": "x",
           "histfunc": "sum",
           "hovertemplate": "Region=%{x}<br> Date= 31-01-2020<br>sum of  Estimated Unemployment Rate (%)=%{y}<extra></extra>",
           "legendgroup": "2",
           "marker": {
            "color": "#00cc96",
            "pattern": {
             "shape": ""
            }
           },
           "name": "2",
           "offsetgroup": "2",
           "orientation": "v",
           "showlegend": true,
           "type": "histogram",
           "x": [
            2,
            2
           ],
           "xaxis": "x",
           "y": [
            9.13,
            20.69
           ],
           "yaxis": "y"
          },
          {
           "alignmentgroup": "True",
           "bingroup": "x",
           "histfunc": "sum",
           "hovertemplate": "Region=%{x}<br> Date= 31-01-2020<br>sum of  Estimated Unemployment Rate (%)=%{y}<extra></extra>",
           "legendgroup": "4",
           "marker": {
            "color": "#ab63fa",
            "pattern": {
             "shape": ""
            }
           },
           "name": "4",
           "offsetgroup": "4",
           "orientation": "v",
           "showlegend": true,
           "type": "histogram",
           "x": [
            4,
            4
           ],
           "xaxis": "x",
           "y": [
            9.89,
            9.01
           ],
           "yaxis": "y"
          },
          {
           "alignmentgroup": "True",
           "bingroup": "x",
           "histfunc": "sum",
           "hovertemplate": "Region=%{x}<br> Date= 31-01-2020<br>sum of  Estimated Unemployment Rate (%)=%{y}<extra></extra>",
           "legendgroup": "5",
           "marker": {
            "color": "#FFA15A",
            "pattern": {
             "shape": ""
            }
           },
           "name": "5",
           "offsetgroup": "5",
           "orientation": "v",
           "showlegend": true,
           "type": "histogram",
           "x": [
            5,
            5
           ],
           "xaxis": "x",
           "y": [
            13.48,
            22.45
           ],
           "yaxis": "y"
          },
          {
           "alignmentgroup": "True",
           "bingroup": "x",
           "histfunc": "sum",
           "hovertemplate": "Region=%{x}<br> Date= 31-01-2020<br>sum of  Estimated Unemployment Rate (%)=%{y}<extra></extra>",
           "legendgroup": "6",
           "marker": {
            "color": "#19d3f3",
            "pattern": {
             "shape": ""
            }
           },
           "name": "6",
           "offsetgroup": "6",
           "orientation": "v",
           "showlegend": true,
           "type": "histogram",
           "x": [
            6,
            6
           ],
           "xaxis": "x",
           "y": [
            5.38,
            10.92
           ],
           "yaxis": "y"
          },
          {
           "alignmentgroup": "True",
           "bingroup": "x",
           "histfunc": "sum",
           "hovertemplate": "Region=%{x}<br> Date= 31-01-2020<br>sum of  Estimated Unemployment Rate (%)=%{y}<extra></extra>",
           "legendgroup": "7",
           "marker": {
            "color": "#FF6692",
            "pattern": {
             "shape": ""
            }
           },
           "name": "7",
           "offsetgroup": "7",
           "orientation": "v",
           "showlegend": true,
           "type": "histogram",
           "x": [
            7,
            7
           ],
           "xaxis": "x",
           "y": [
            5.35,
            5.82
           ],
           "yaxis": "y"
          },
          {
           "alignmentgroup": "True",
           "bingroup": "x",
           "histfunc": "sum",
           "hovertemplate": "Region=%{x}<br> Date= 31-01-2020<br>sum of  Estimated Unemployment Rate (%)=%{y}<extra></extra>",
           "legendgroup": "8",
           "marker": {
            "color": "#B6E880",
            "pattern": {
             "shape": ""
            }
           },
           "name": "8",
           "offsetgroup": "8",
           "orientation": "v",
           "showlegend": true,
           "type": "histogram",
           "x": [
            8,
            8
           ],
           "xaxis": "x",
           "y": [
            16.21,
            27.24
           ],
           "yaxis": "y"
          },
          {
           "alignmentgroup": "True",
           "bingroup": "x",
           "histfunc": "sum",
           "hovertemplate": "Region=%{x}<br> Date= 31-01-2020<br>sum of  Estimated Unemployment Rate (%)=%{y}<extra></extra>",
           "legendgroup": "9",
           "marker": {
            "color": "#FF97FF",
            "pattern": {
             "shape": ""
            }
           },
           "name": "9",
           "offsetgroup": "9",
           "orientation": "v",
           "showlegend": true,
           "type": "histogram",
           "x": [
            9,
            9
           ],
           "xaxis": "x",
           "y": [
            16.67,
            18.15
           ],
           "yaxis": "y"
          },
          {
           "alignmentgroup": "True",
           "bingroup": "x",
           "histfunc": "sum",
           "hovertemplate": "Region=%{x}<br> Date= 31-01-2020<br>sum of  Estimated Unemployment Rate (%)=%{y}<extra></extra>",
           "legendgroup": "10",
           "marker": {
            "color": "#FECB52",
            "pattern": {
             "shape": ""
            }
           },
           "name": "10",
           "offsetgroup": "10",
           "orientation": "v",
           "showlegend": true,
           "type": "histogram",
           "x": [
            10,
            10
           ],
           "xaxis": "x",
           "y": [
            22.19,
            18.54
           ],
           "yaxis": "y"
          },
          {
           "alignmentgroup": "True",
           "bingroup": "x",
           "histfunc": "sum",
           "hovertemplate": "Region=%{x}<br> Date= 31-01-2020<br>sum of  Estimated Unemployment Rate (%)=%{y}<extra></extra>",
           "legendgroup": "11",
           "marker": {
            "color": "#636efa",
            "pattern": {
             "shape": ""
            }
           },
           "name": "11",
           "offsetgroup": "11",
           "orientation": "v",
           "showlegend": true,
           "type": "histogram",
           "x": [
            11,
            11
           ],
           "xaxis": "x",
           "y": [
            6.16,
            22.96
           ],
           "yaxis": "y"
          },
          {
           "alignmentgroup": "True",
           "bingroup": "x",
           "histfunc": "sum",
           "hovertemplate": "Region=%{x}<br> Date= 31-01-2020<br>sum of  Estimated Unemployment Rate (%)=%{y}<extra></extra>",
           "legendgroup": "12",
           "marker": {
            "color": "#EF553B",
            "pattern": {
             "shape": ""
            }
           },
           "name": "12",
           "offsetgroup": "12",
           "orientation": "v",
           "showlegend": true,
           "type": "histogram",
           "x": [
            12,
            12
           ],
           "xaxis": "x",
           "y": [
            2.57,
            3.31
           ],
           "yaxis": "y"
          },
          {
           "alignmentgroup": "True",
           "bingroup": "x",
           "histfunc": "sum",
           "hovertemplate": "Region=%{x}<br> Date= 31-01-2020<br>sum of  Estimated Unemployment Rate (%)=%{y}<extra></extra>",
           "legendgroup": "13",
           "marker": {
            "color": "#00cc96",
            "pattern": {
             "shape": ""
            }
           },
           "name": "13",
           "offsetgroup": "13",
           "orientation": "v",
           "showlegend": true,
           "type": "histogram",
           "x": [
            13,
            13
           ],
           "xaxis": "x",
           "y": [
            4.11,
            6.65
           ],
           "yaxis": "y"
          },
          {
           "alignmentgroup": "True",
           "bingroup": "x",
           "histfunc": "sum",
           "hovertemplate": "Region=%{x}<br> Date= 31-01-2020<br>sum of  Estimated Unemployment Rate (%)=%{y}<extra></extra>",
           "legendgroup": "14",
           "marker": {
            "color": "#ab63fa",
            "pattern": {
             "shape": ""
            }
           },
           "name": "14",
           "offsetgroup": "14",
           "orientation": "v",
           "showlegend": true,
           "type": "histogram",
           "x": [
            14,
            14
           ],
           "xaxis": "x",
           "y": [
            3.66,
            5.17
           ],
           "yaxis": "y"
          },
          {
           "alignmentgroup": "True",
           "bingroup": "x",
           "histfunc": "sum",
           "hovertemplate": "Region=%{x}<br> Date= 31-01-2020<br>sum of  Estimated Unemployment Rate (%)=%{y}<extra></extra>",
           "legendgroup": "15",
           "marker": {
            "color": "#FFA15A",
            "pattern": {
             "shape": ""
            }
           },
           "name": "15",
           "offsetgroup": "15",
           "orientation": "v",
           "showlegend": true,
           "type": "histogram",
           "x": [
            15,
            15
           ],
           "xaxis": "x",
           "y": [
            3.8,
            6.67
           ],
           "yaxis": "y"
          },
          {
           "alignmentgroup": "True",
           "bingroup": "x",
           "histfunc": "sum",
           "hovertemplate": "Region=%{x}<br> Date= 31-01-2020<br>sum of  Estimated Unemployment Rate (%)=%{y}<extra></extra>",
           "legendgroup": "16",
           "marker": {
            "color": "#19d3f3",
            "pattern": {
             "shape": ""
            }
           },
           "name": "16",
           "offsetgroup": "16",
           "orientation": "v",
           "showlegend": true,
           "type": "histogram",
           "x": [
            16,
            16
           ],
           "xaxis": "x",
           "y": [
            0.97,
            4.76
           ],
           "yaxis": "y"
          },
          {
           "alignmentgroup": "True",
           "bingroup": "x",
           "histfunc": "sum",
           "hovertemplate": "Region=%{x}<br> Date= 31-01-2020<br>sum of  Estimated Unemployment Rate (%)=%{y}<extra></extra>",
           "legendgroup": "17",
           "marker": {
            "color": "#FF6692",
            "pattern": {
             "shape": ""
            }
           },
           "name": "17",
           "offsetgroup": "17",
           "orientation": "v",
           "showlegend": true,
           "type": "histogram",
           "x": [
            17,
            17
           ],
           "xaxis": "x",
           "y": [
            1.81,
            2.28
           ],
           "yaxis": "y"
          },
          {
           "alignmentgroup": "True",
           "bingroup": "x",
           "histfunc": "sum",
           "hovertemplate": "Region=%{x}<br> Date= 31-01-2020<br>sum of  Estimated Unemployment Rate (%)=%{y}<extra></extra>",
           "legendgroup": "18",
           "marker": {
            "color": "#B6E880",
            "pattern": {
             "shape": ""
            }
           },
           "name": "18",
           "offsetgroup": "18",
           "orientation": "v",
           "showlegend": true,
           "type": "histogram",
           "x": [
            18,
            18
           ],
           "xaxis": "x",
           "y": [
            0.58,
            0.57
           ],
           "yaxis": "y"
          },
          {
           "alignmentgroup": "True",
           "bingroup": "x",
           "histfunc": "sum",
           "hovertemplate": "Region=%{x}<br> Date= 31-01-2020<br>sum of  Estimated Unemployment Rate (%)=%{y}<extra></extra>",
           "legendgroup": "19",
           "marker": {
            "color": "#FF97FF",
            "pattern": {
             "shape": ""
            }
           },
           "name": "19",
           "offsetgroup": "19",
           "orientation": "v",
           "showlegend": true,
           "type": "histogram",
           "x": [
            19,
            19
           ],
           "xaxis": "x",
           "y": [
            9.69,
            13.68
           ],
           "yaxis": "y"
          },
          {
           "alignmentgroup": "True",
           "bingroup": "x",
           "histfunc": "sum",
           "hovertemplate": "Region=%{x}<br> Date= 31-01-2020<br>sum of  Estimated Unemployment Rate (%)=%{y}<extra></extra>",
           "legendgroup": "20",
           "marker": {
            "color": "#FECB52",
            "pattern": {
             "shape": ""
            }
           },
           "name": "20",
           "offsetgroup": "20",
           "orientation": "v",
           "showlegend": true,
           "type": "histogram",
           "x": [
            20,
            20
           ],
           "xaxis": "x",
           "y": [
            8,
            18.82
           ],
           "yaxis": "y"
          },
          {
           "alignmentgroup": "True",
           "bingroup": "x",
           "histfunc": "sum",
           "hovertemplate": "Region=%{x}<br> Date= 31-01-2020<br>sum of  Estimated Unemployment Rate (%)=%{y}<extra></extra>",
           "legendgroup": "22",
           "marker": {
            "color": "#EF553B",
            "pattern": {
             "shape": ""
            }
           },
           "name": "22",
           "offsetgroup": "22",
           "orientation": "v",
           "showlegend": true,
           "type": "histogram",
           "x": [
            22,
            22
           ],
           "xaxis": "x",
           "y": [
            1.18,
            2.05
           ],
           "yaxis": "y"
          },
          {
           "alignmentgroup": "True",
           "bingroup": "x",
           "histfunc": "sum",
           "hovertemplate": "Region=%{x}<br> Date= 31-01-2020<br>sum of  Estimated Unemployment Rate (%)=%{y}<extra></extra>",
           "legendgroup": "23",
           "marker": {
            "color": "#00cc96",
            "pattern": {
             "shape": ""
            }
           },
           "name": "23",
           "offsetgroup": "23",
           "orientation": "v",
           "showlegend": true,
           "type": "histogram",
           "x": [
            23,
            23
           ],
           "xaxis": "x",
           "y": [
            5.02,
            6.49
           ],
           "yaxis": "y"
          },
          {
           "alignmentgroup": "True",
           "bingroup": "x",
           "histfunc": "sum",
           "hovertemplate": "Region=%{x}<br> Date= 31-01-2020<br>sum of  Estimated Unemployment Rate (%)=%{y}<extra></extra>",
           "legendgroup": "24",
           "marker": {
            "color": "#ab63fa",
            "pattern": {
             "shape": ""
            }
           },
           "name": "24",
           "offsetgroup": "24",
           "orientation": "v",
           "showlegend": true,
           "type": "histogram",
           "x": [
            24,
            24
           ],
           "xaxis": "x",
           "y": [
            31.91,
            34.37
           ],
           "yaxis": "y"
          },
          {
           "alignmentgroup": "True",
           "bingroup": "x",
           "histfunc": "sum",
           "hovertemplate": "Region=%{x}<br> Date= 31-01-2020<br>sum of  Estimated Unemployment Rate (%)=%{y}<extra></extra>",
           "legendgroup": "25",
           "marker": {
            "color": "#FFA15A",
            "pattern": {
             "shape": ""
            }
           },
           "name": "25",
           "offsetgroup": "25",
           "orientation": "v",
           "showlegend": true,
           "type": "histogram",
           "x": [
            25,
            25
           ],
           "xaxis": "x",
           "y": [
            6.06,
            12.34
           ],
           "yaxis": "y"
          },
          {
           "alignmentgroup": "True",
           "bingroup": "x",
           "histfunc": "sum",
           "hovertemplate": "Region=%{x}<br> Date= 31-01-2020<br>sum of  Estimated Unemployment Rate (%)=%{y}<extra></extra>",
           "legendgroup": "26",
           "marker": {
            "color": "#19d3f3",
            "pattern": {
             "shape": ""
            }
           },
           "name": "26",
           "offsetgroup": "26",
           "orientation": "v",
           "showlegend": true,
           "type": "histogram",
           "x": [
            26,
            26
           ],
           "xaxis": "x",
           "y": [
            4.17,
            8.92
           ],
           "yaxis": "y"
          },
          {
           "alignmentgroup": "True",
           "bingroup": "x",
           "histfunc": "sum",
           "hovertemplate": "Region=%{x}<br> Date= 31-01-2020<br>sum of  Estimated Unemployment Rate (%)=%{y}<extra></extra>",
           "legendgroup": "27",
           "marker": {
            "color": "#FF6692",
            "pattern": {
             "shape": ""
            }
           },
           "name": "27",
           "offsetgroup": "27",
           "orientation": "v",
           "showlegend": true,
           "type": "histogram",
           "x": [
            27,
            27
           ],
           "xaxis": "x",
           "y": [
            6.79,
            7.27
           ],
           "yaxis": "y"
          },
          {
           "alignmentgroup": "True",
           "bingroup": "x",
           "histfunc": "sum",
           "hovertemplate": "Region=%{x}<br> Date= 31-01-2020<br>sum of  Estimated Unemployment Rate (%)=%{y}<extra></extra>",
           "legendgroup": "3",
           "marker": {
            "color": "#FF97FF",
            "pattern": {
             "shape": ""
            }
           },
           "name": "3",
           "offsetgroup": "3",
           "orientation": "v",
           "showlegend": true,
           "type": "histogram",
           "x": [
            3
           ],
           "xaxis": "x",
           "y": [
            20
           ],
           "yaxis": "y"
          }
         ],
         "name": " 31-01-2020"
        },
        {
         "data": [
          {
           "alignmentgroup": "True",
           "bingroup": "x",
           "histfunc": "sum",
           "hovertemplate": "Region=%{x}<br> Date= 29-02-2020<br>sum of  Estimated Unemployment Rate (%)=%{y}<extra></extra>",
           "legendgroup": "0",
           "marker": {
            "color": "#636efa",
            "pattern": {
             "shape": ""
            }
           },
           "name": "0",
           "offsetgroup": "0",
           "orientation": "v",
           "showlegend": true,
           "type": "histogram",
           "x": [
            0,
            0
           ],
           "xaxis": "x",
           "y": [
            5.91,
            5.66
           ],
           "yaxis": "y"
          },
          {
           "alignmentgroup": "True",
           "bingroup": "x",
           "histfunc": "sum",
           "hovertemplate": "Region=%{x}<br> Date= 29-02-2020<br>sum of  Estimated Unemployment Rate (%)=%{y}<extra></extra>",
           "legendgroup": "1",
           "marker": {
            "color": "#EF553B",
            "pattern": {
             "shape": ""
            }
           },
           "name": "1",
           "offsetgroup": "1",
           "orientation": "v",
           "showlegend": true,
           "type": "histogram",
           "x": [
            1,
            1
           ],
           "xaxis": "x",
           "y": [
            3.26,
            9.98
           ],
           "yaxis": "y"
          },
          {
           "alignmentgroup": "True",
           "bingroup": "x",
           "histfunc": "sum",
           "hovertemplate": "Region=%{x}<br> Date= 29-02-2020<br>sum of  Estimated Unemployment Rate (%)=%{y}<extra></extra>",
           "legendgroup": "2",
           "marker": {
            "color": "#00cc96",
            "pattern": {
             "shape": ""
            }
           },
           "name": "2",
           "offsetgroup": "2",
           "orientation": "v",
           "showlegend": true,
           "type": "histogram",
           "x": [
            2,
            2
           ],
           "xaxis": "x",
           "y": [
            9.61,
            15.11
           ],
           "yaxis": "y"
          },
          {
           "alignmentgroup": "True",
           "bingroup": "x",
           "histfunc": "sum",
           "hovertemplate": "Region=%{x}<br> Date= 29-02-2020<br>sum of  Estimated Unemployment Rate (%)=%{y}<extra></extra>",
           "legendgroup": "4",
           "marker": {
            "color": "#ab63fa",
            "pattern": {
             "shape": ""
            }
           },
           "name": "4",
           "offsetgroup": "4",
           "orientation": "v",
           "showlegend": true,
           "type": "histogram",
           "x": [
            4,
            4
           ],
           "xaxis": "x",
           "y": [
            7.89,
            9.79
           ],
           "yaxis": "y"
          },
          {
           "alignmentgroup": "True",
           "bingroup": "x",
           "histfunc": "sum",
           "hovertemplate": "Region=%{x}<br> Date= 29-02-2020<br>sum of  Estimated Unemployment Rate (%)=%{y}<extra></extra>",
           "legendgroup": "5",
           "marker": {
            "color": "#FFA15A",
            "pattern": {
             "shape": ""
            }
           },
           "name": "5",
           "offsetgroup": "5",
           "orientation": "v",
           "showlegend": true,
           "type": "histogram",
           "x": [
            5,
            5
           ],
           "xaxis": "x",
           "y": [
            13.81,
            14.86
           ],
           "yaxis": "y"
          },
          {
           "alignmentgroup": "True",
           "bingroup": "x",
           "histfunc": "sum",
           "hovertemplate": "Region=%{x}<br> Date= 29-02-2020<br>sum of  Estimated Unemployment Rate (%)=%{y}<extra></extra>",
           "legendgroup": "6",
           "marker": {
            "color": "#19d3f3",
            "pattern": {
             "shape": ""
            }
           },
           "name": "6",
           "offsetgroup": "6",
           "orientation": "v",
           "showlegend": true,
           "type": "histogram",
           "x": [
            6,
            6
           ],
           "xaxis": "x",
           "y": [
            0,
            4.31
           ],
           "yaxis": "y"
          },
          {
           "alignmentgroup": "True",
           "bingroup": "x",
           "histfunc": "sum",
           "hovertemplate": "Region=%{x}<br> Date= 29-02-2020<br>sum of  Estimated Unemployment Rate (%)=%{y}<extra></extra>",
           "legendgroup": "7",
           "marker": {
            "color": "#FF6692",
            "pattern": {
             "shape": ""
            }
           },
           "name": "7",
           "offsetgroup": "7",
           "orientation": "v",
           "showlegend": true,
           "type": "histogram",
           "x": [
            7,
            7
           ],
           "xaxis": "x",
           "y": [
            6.64,
            6.04
           ],
           "yaxis": "y"
          },
          {
           "alignmentgroup": "True",
           "bingroup": "x",
           "histfunc": "sum",
           "hovertemplate": "Region=%{x}<br> Date= 29-02-2020<br>sum of  Estimated Unemployment Rate (%)=%{y}<extra></extra>",
           "legendgroup": "8",
           "marker": {
            "color": "#B6E880",
            "pattern": {
             "shape": ""
            }
           },
           "name": "8",
           "offsetgroup": "8",
           "orientation": "v",
           "showlegend": true,
           "type": "histogram",
           "x": [
            8,
            8
           ],
           "xaxis": "x",
           "y": [
            27.19,
            23.29
           ],
           "yaxis": "y"
          },
          {
           "alignmentgroup": "True",
           "bingroup": "x",
           "histfunc": "sum",
           "hovertemplate": "Region=%{x}<br> Date= 29-02-2020<br>sum of  Estimated Unemployment Rate (%)=%{y}<extra></extra>",
           "legendgroup": "9",
           "marker": {
            "color": "#FF97FF",
            "pattern": {
             "shape": ""
            }
           },
           "name": "9",
           "offsetgroup": "9",
           "orientation": "v",
           "showlegend": true,
           "type": "histogram",
           "x": [
            9,
            9
           ],
           "xaxis": "x",
           "y": [
            15.42,
            27.31
           ],
           "yaxis": "y"
          },
          {
           "alignmentgroup": "True",
           "bingroup": "x",
           "histfunc": "sum",
           "hovertemplate": "Region=%{x}<br> Date= 29-02-2020<br>sum of  Estimated Unemployment Rate (%)=%{y}<extra></extra>",
           "legendgroup": "10",
           "marker": {
            "color": "#FECB52",
            "pattern": {
             "shape": ""
            }
           },
           "name": "10",
           "offsetgroup": "10",
           "orientation": "v",
           "showlegend": true,
           "type": "histogram",
           "x": [
            10,
            10
           ],
           "xaxis": "x",
           "y": [
            21.23,
            19.86
           ],
           "yaxis": "y"
          },
          {
           "alignmentgroup": "True",
           "bingroup": "x",
           "histfunc": "sum",
           "hovertemplate": "Region=%{x}<br> Date= 29-02-2020<br>sum of  Estimated Unemployment Rate (%)=%{y}<extra></extra>",
           "legendgroup": "11",
           "marker": {
            "color": "#636efa",
            "pattern": {
             "shape": ""
            }
           },
           "name": "11",
           "offsetgroup": "11",
           "orientation": "v",
           "showlegend": true,
           "type": "histogram",
           "x": [
            11,
            11
           ],
           "xaxis": "x",
           "y": [
            9.06,
            19.67
           ],
           "yaxis": "y"
          },
          {
           "alignmentgroup": "True",
           "bingroup": "x",
           "histfunc": "sum",
           "hovertemplate": "Region=%{x}<br> Date= 29-02-2020<br>sum of  Estimated Unemployment Rate (%)=%{y}<extra></extra>",
           "legendgroup": "12",
           "marker": {
            "color": "#EF553B",
            "pattern": {
             "shape": ""
            }
           },
           "name": "12",
           "offsetgroup": "12",
           "orientation": "v",
           "showlegend": true,
           "type": "histogram",
           "x": [
            12,
            12
           ],
           "xaxis": "x",
           "y": [
            4.11,
            2.88
           ],
           "yaxis": "y"
          },
          {
           "alignmentgroup": "True",
           "bingroup": "x",
           "histfunc": "sum",
           "hovertemplate": "Region=%{x}<br> Date= 29-02-2020<br>sum of  Estimated Unemployment Rate (%)=%{y}<extra></extra>",
           "legendgroup": "13",
           "marker": {
            "color": "#00cc96",
            "pattern": {
             "shape": ""
            }
           },
           "name": "13",
           "offsetgroup": "13",
           "orientation": "v",
           "showlegend": true,
           "type": "histogram",
           "x": [
            13,
            13
           ],
           "xaxis": "x",
           "y": [
            8.91,
            6.08
           ],
           "yaxis": "y"
          },
          {
           "alignmentgroup": "True",
           "bingroup": "x",
           "histfunc": "sum",
           "hovertemplate": "Region=%{x}<br> Date= 29-02-2020<br>sum of  Estimated Unemployment Rate (%)=%{y}<extra></extra>",
           "legendgroup": "14",
           "marker": {
            "color": "#ab63fa",
            "pattern": {
             "shape": ""
            }
           },
           "name": "14",
           "offsetgroup": "14",
           "orientation": "v",
           "showlegend": true,
           "type": "histogram",
           "x": [
            14,
            14
           ],
           "xaxis": "x",
           "y": [
            4.42,
            4.96
           ],
           "yaxis": "y"
          },
          {
           "alignmentgroup": "True",
           "bingroup": "x",
           "histfunc": "sum",
           "hovertemplate": "Region=%{x}<br> Date= 29-02-2020<br>sum of  Estimated Unemployment Rate (%)=%{y}<extra></extra>",
           "legendgroup": "15",
           "marker": {
            "color": "#FFA15A",
            "pattern": {
             "shape": ""
            }
           },
           "name": "15",
           "offsetgroup": "15",
           "orientation": "v",
           "showlegend": true,
           "type": "histogram",
           "x": [
            15,
            15
           ],
           "xaxis": "x",
           "y": [
            4.24,
            5.34
           ],
           "yaxis": "y"
          },
          {
           "alignmentgroup": "True",
           "bingroup": "x",
           "histfunc": "sum",
           "hovertemplate": "Region=%{x}<br> Date= 29-02-2020<br>sum of  Estimated Unemployment Rate (%)=%{y}<extra></extra>",
           "legendgroup": "16",
           "marker": {
            "color": "#19d3f3",
            "pattern": {
             "shape": ""
            }
           },
           "name": "16",
           "offsetgroup": "16",
           "orientation": "v",
           "showlegend": true,
           "type": "histogram",
           "x": [
            16,
            16
           ],
           "xaxis": "x",
           "y": [
            2.76,
            7.37
           ],
           "yaxis": "y"
          },
          {
           "alignmentgroup": "True",
           "bingroup": "x",
           "histfunc": "sum",
           "hovertemplate": "Region=%{x}<br> Date= 29-02-2020<br>sum of  Estimated Unemployment Rate (%)=%{y}<extra></extra>",
           "legendgroup": "17",
           "marker": {
            "color": "#FF6692",
            "pattern": {
             "shape": ""
            }
           },
           "name": "17",
           "offsetgroup": "17",
           "orientation": "v",
           "showlegend": true,
           "type": "histogram",
           "x": [
            17,
            17
           ],
           "xaxis": "x",
           "y": [
            3.31,
            2.19
           ],
           "yaxis": "y"
          },
          {
           "alignmentgroup": "True",
           "bingroup": "x",
           "histfunc": "sum",
           "hovertemplate": "Region=%{x}<br> Date= 29-02-2020<br>sum of  Estimated Unemployment Rate (%)=%{y}<extra></extra>",
           "legendgroup": "18",
           "marker": {
            "color": "#B6E880",
            "pattern": {
             "shape": ""
            }
           },
           "name": "18",
           "offsetgroup": "18",
           "orientation": "v",
           "showlegend": true,
           "type": "histogram",
           "x": [
            18,
            18
           ],
           "xaxis": "x",
           "y": [
            1.74,
            1.78
           ],
           "yaxis": "y"
          },
          {
           "alignmentgroup": "True",
           "bingroup": "x",
           "histfunc": "sum",
           "hovertemplate": "Region=%{x}<br> Date= 29-02-2020<br>sum of  Estimated Unemployment Rate (%)=%{y}<extra></extra>",
           "legendgroup": "19",
           "marker": {
            "color": "#FF97FF",
            "pattern": {
             "shape": ""
            }
           },
           "name": "19",
           "offsetgroup": "19",
           "orientation": "v",
           "showlegend": true,
           "type": "histogram",
           "x": [
            19,
            19
           ],
           "xaxis": "x",
           "y": [
            10.41,
            11.99
           ],
           "yaxis": "y"
          },
          {
           "alignmentgroup": "True",
           "bingroup": "x",
           "histfunc": "sum",
           "hovertemplate": "Region=%{x}<br> Date= 29-02-2020<br>sum of  Estimated Unemployment Rate (%)=%{y}<extra></extra>",
           "legendgroup": "20",
           "marker": {
            "color": "#FECB52",
            "pattern": {
             "shape": ""
            }
           },
           "name": "20",
           "offsetgroup": "20",
           "orientation": "v",
           "showlegend": true,
           "type": "histogram",
           "x": [
            20,
            20
           ],
           "xaxis": "x",
           "y": [
            14.48,
            17.02
           ],
           "yaxis": "y"
          },
          {
           "alignmentgroup": "True",
           "bingroup": "x",
           "histfunc": "sum",
           "hovertemplate": "Region=%{x}<br> Date= 29-02-2020<br>sum of  Estimated Unemployment Rate (%)=%{y}<extra></extra>",
           "legendgroup": "22",
           "marker": {
            "color": "#EF553B",
            "pattern": {
             "shape": ""
            }
           },
           "name": "22",
           "offsetgroup": "22",
           "orientation": "v",
           "showlegend": true,
           "type": "histogram",
           "x": [
            22,
            22
           ],
           "xaxis": "x",
           "y": [
            1.17,
            3.31
           ],
           "yaxis": "y"
          },
          {
           "alignmentgroup": "True",
           "bingroup": "x",
           "histfunc": "sum",
           "hovertemplate": "Region=%{x}<br> Date= 29-02-2020<br>sum of  Estimated Unemployment Rate (%)=%{y}<extra></extra>",
           "legendgroup": "23",
           "marker": {
            "color": "#00cc96",
            "pattern": {
             "shape": ""
            }
           },
           "name": "23",
           "offsetgroup": "23",
           "orientation": "v",
           "showlegend": true,
           "type": "histogram",
           "x": [
            23,
            23
           ],
           "xaxis": "x",
           "y": [
            9.02,
            6.74
           ],
           "yaxis": "y"
          },
          {
           "alignmentgroup": "True",
           "bingroup": "x",
           "histfunc": "sum",
           "hovertemplate": "Region=%{x}<br> Date= 29-02-2020<br>sum of  Estimated Unemployment Rate (%)=%{y}<extra></extra>",
           "legendgroup": "24",
           "marker": {
            "color": "#ab63fa",
            "pattern": {
             "shape": ""
            }
           },
           "name": "24",
           "offsetgroup": "24",
           "orientation": "v",
           "showlegend": true,
           "type": "histogram",
           "x": [
            24,
            24
           ],
           "xaxis": "x",
           "y": [
            26.22,
            33.88
           ],
           "yaxis": "y"
          },
          {
           "alignmentgroup": "True",
           "bingroup": "x",
           "histfunc": "sum",
           "hovertemplate": "Region=%{x}<br> Date= 29-02-2020<br>sum of  Estimated Unemployment Rate (%)=%{y}<extra></extra>",
           "legendgroup": "25",
           "marker": {
            "color": "#FFA15A",
            "pattern": {
             "shape": ""
            }
           },
           "name": "25",
           "offsetgroup": "25",
           "orientation": "v",
           "showlegend": true,
           "type": "histogram",
           "x": [
            25,
            25
           ],
           "xaxis": "x",
           "y": [
            8.12,
            11.65
           ],
           "yaxis": "y"
          },
          {
           "alignmentgroup": "True",
           "bingroup": "x",
           "histfunc": "sum",
           "hovertemplate": "Region=%{x}<br> Date= 29-02-2020<br>sum of  Estimated Unemployment Rate (%)=%{y}<extra></extra>",
           "legendgroup": "26",
           "marker": {
            "color": "#19d3f3",
            "pattern": {
             "shape": ""
            }
           },
           "name": "26",
           "offsetgroup": "26",
           "orientation": "v",
           "showlegend": true,
           "type": "histogram",
           "x": [
            26,
            26
           ],
           "xaxis": "x",
           "y": [
            4.85,
            5.28
           ],
           "yaxis": "y"
          },
          {
           "alignmentgroup": "True",
           "bingroup": "x",
           "histfunc": "sum",
           "hovertemplate": "Region=%{x}<br> Date= 29-02-2020<br>sum of  Estimated Unemployment Rate (%)=%{y}<extra></extra>",
           "legendgroup": "27",
           "marker": {
            "color": "#FF6692",
            "pattern": {
             "shape": ""
            }
           },
           "name": "27",
           "offsetgroup": "27",
           "orientation": "v",
           "showlegend": true,
           "type": "histogram",
           "x": [
            27,
            27
           ],
           "xaxis": "x",
           "y": [
            3.78,
            7.55
           ],
           "yaxis": "y"
          },
          {
           "alignmentgroup": "True",
           "bingroup": "x",
           "histfunc": "sum",
           "hovertemplate": "Region=%{x}<br> Date= 29-02-2020<br>sum of  Estimated Unemployment Rate (%)=%{y}<extra></extra>",
           "legendgroup": "3",
           "marker": {
            "color": "#FF97FF",
            "pattern": {
             "shape": ""
            }
           },
           "name": "3",
           "offsetgroup": "3",
           "orientation": "v",
           "showlegend": true,
           "type": "histogram",
           "x": [
            3
           ],
           "xaxis": "x",
           "y": [
            16.67
           ],
           "yaxis": "y"
          }
         ],
         "name": " 29-02-2020"
        },
        {
         "data": [
          {
           "alignmentgroup": "True",
           "bingroup": "x",
           "histfunc": "sum",
           "hovertemplate": "Region=%{x}<br> Date= 31-03-2020<br>sum of  Estimated Unemployment Rate (%)=%{y}<extra></extra>",
           "legendgroup": "0",
           "marker": {
            "color": "#636efa",
            "pattern": {
             "shape": ""
            }
           },
           "name": "0",
           "offsetgroup": "0",
           "orientation": "v",
           "showlegend": true,
           "type": "histogram",
           "x": [
            0,
            0
           ],
           "xaxis": "x",
           "y": [
            4.06,
            9.88
           ],
           "yaxis": "y"
          },
          {
           "alignmentgroup": "True",
           "bingroup": "x",
           "histfunc": "sum",
           "hovertemplate": "Region=%{x}<br> Date= 31-03-2020<br>sum of  Estimated Unemployment Rate (%)=%{y}<extra></extra>",
           "legendgroup": "1",
           "marker": {
            "color": "#EF553B",
            "pattern": {
             "shape": ""
            }
           },
           "name": "1",
           "offsetgroup": "1",
           "orientation": "v",
           "showlegend": true,
           "type": "histogram",
           "x": [
            1,
            1
           ],
           "xaxis": "x",
           "y": [
            3.77,
            10.34
           ],
           "yaxis": "y"
          },
          {
           "alignmentgroup": "True",
           "bingroup": "x",
           "histfunc": "sum",
           "hovertemplate": "Region=%{x}<br> Date= 31-03-2020<br>sum of  Estimated Unemployment Rate (%)=%{y}<extra></extra>",
           "legendgroup": "2",
           "marker": {
            "color": "#00cc96",
            "pattern": {
             "shape": ""
            }
           },
           "name": "2",
           "offsetgroup": "2",
           "orientation": "v",
           "showlegend": true,
           "type": "histogram",
           "x": [
            2,
            2
           ],
           "xaxis": "x",
           "y": [
            15.39,
            15.73
           ],
           "yaxis": "y"
          },
          {
           "alignmentgroup": "True",
           "bingroup": "x",
           "histfunc": "sum",
           "hovertemplate": "Region=%{x}<br> Date= 31-03-2020<br>sum of  Estimated Unemployment Rate (%)=%{y}<extra></extra>",
           "legendgroup": "4",
           "marker": {
            "color": "#ab63fa",
            "pattern": {
             "shape": ""
            }
           },
           "name": "4",
           "offsetgroup": "4",
           "orientation": "v",
           "showlegend": true,
           "type": "histogram",
           "x": [
            4,
            4
           ],
           "xaxis": "x",
           "y": [
            7.31,
            8.21
           ],
           "yaxis": "y"
          },
          {
           "alignmentgroup": "True",
           "bingroup": "x",
           "histfunc": "sum",
           "hovertemplate": "Region=%{x}<br> Date= 31-03-2020<br>sum of  Estimated Unemployment Rate (%)=%{y}<extra></extra>",
           "legendgroup": "5",
           "marker": {
            "color": "#FFA15A",
            "pattern": {
             "shape": ""
            }
           },
           "name": "5",
           "offsetgroup": "5",
           "orientation": "v",
           "showlegend": true,
           "type": "histogram",
           "x": [
            5,
            5
           ],
           "xaxis": "x",
           "y": [
            15.18,
            17.09
           ],
           "yaxis": "y"
          },
          {
           "alignmentgroup": "True",
           "bingroup": "x",
           "histfunc": "sum",
           "hovertemplate": "Region=%{x}<br> Date= 31-03-2020<br>sum of  Estimated Unemployment Rate (%)=%{y}<extra></extra>",
           "legendgroup": "6",
           "marker": {
            "color": "#19d3f3",
            "pattern": {
             "shape": ""
            }
           },
           "name": "6",
           "offsetgroup": "6",
           "orientation": "v",
           "showlegend": true,
           "type": "histogram",
           "x": [
            6
           ],
           "xaxis": "x",
           "y": [
            4.76
           ],
           "yaxis": "y"
          },
          {
           "alignmentgroup": "True",
           "bingroup": "x",
           "histfunc": "sum",
           "hovertemplate": "Region=%{x}<br> Date= 31-03-2020<br>sum of  Estimated Unemployment Rate (%)=%{y}<extra></extra>",
           "legendgroup": "7",
           "marker": {
            "color": "#FF6692",
            "pattern": {
             "shape": ""
            }
           },
           "name": "7",
           "offsetgroup": "7",
           "orientation": "v",
           "showlegend": true,
           "type": "histogram",
           "x": [
            7,
            7
           ],
           "xaxis": "x",
           "y": [
            7.59,
            5.39
           ],
           "yaxis": "y"
          },
          {
           "alignmentgroup": "True",
           "bingroup": "x",
           "histfunc": "sum",
           "hovertemplate": "Region=%{x}<br> Date= 31-03-2020<br>sum of  Estimated Unemployment Rate (%)=%{y}<extra></extra>",
           "legendgroup": "8",
           "marker": {
            "color": "#B6E880",
            "pattern": {
             "shape": ""
            }
           },
           "name": "8",
           "offsetgroup": "8",
           "orientation": "v",
           "showlegend": true,
           "type": "histogram",
           "x": [
            8,
            8
           ],
           "xaxis": "x",
           "y": [
            23.92,
            27.14
           ],
           "yaxis": "y"
          },
          {
           "alignmentgroup": "True",
           "bingroup": "x",
           "histfunc": "sum",
           "hovertemplate": "Region=%{x}<br> Date= 31-03-2020<br>sum of  Estimated Unemployment Rate (%)=%{y}<extra></extra>",
           "legendgroup": "9",
           "marker": {
            "color": "#FF97FF",
            "pattern": {
             "shape": ""
            }
           },
           "name": "9",
           "offsetgroup": "9",
           "orientation": "v",
           "showlegend": true,
           "type": "histogram",
           "x": [
            9,
            9
           ],
           "xaxis": "x",
           "y": [
            17.71,
            26.44
           ],
           "yaxis": "y"
          },
          {
           "alignmentgroup": "True",
           "bingroup": "x",
           "histfunc": "sum",
           "hovertemplate": "Region=%{x}<br> Date= 31-03-2020<br>sum of  Estimated Unemployment Rate (%)=%{y}<extra></extra>",
           "legendgroup": "10",
           "marker": {
            "color": "#FECB52",
            "pattern": {
             "shape": ""
            }
           },
           "name": "10",
           "offsetgroup": "10",
           "orientation": "v",
           "showlegend": true,
           "type": "histogram",
           "x": [
            10,
            10
           ],
           "xaxis": "x",
           "y": [
            16,
            14.29
           ],
           "yaxis": "y"
          },
          {
           "alignmentgroup": "True",
           "bingroup": "x",
           "histfunc": "sum",
           "hovertemplate": "Region=%{x}<br> Date= 31-03-2020<br>sum of  Estimated Unemployment Rate (%)=%{y}<extra></extra>",
           "legendgroup": "11",
           "marker": {
            "color": "#636efa",
            "pattern": {
             "shape": ""
            }
           },
           "name": "11",
           "offsetgroup": "11",
           "orientation": "v",
           "showlegend": true,
           "type": "histogram",
           "x": [
            11,
            11
           ],
           "xaxis": "x",
           "y": [
            5.01,
            16.4
           ],
           "yaxis": "y"
          },
          {
           "alignmentgroup": "True",
           "bingroup": "x",
           "histfunc": "sum",
           "hovertemplate": "Region=%{x}<br> Date= 31-03-2020<br>sum of  Estimated Unemployment Rate (%)=%{y}<extra></extra>",
           "legendgroup": "12",
           "marker": {
            "color": "#EF553B",
            "pattern": {
             "shape": ""
            }
           },
           "name": "12",
           "offsetgroup": "12",
           "orientation": "v",
           "showlegend": true,
           "type": "histogram",
           "x": [
            12,
            12
           ],
           "xaxis": "x",
           "y": [
            2.39,
            4.92
           ],
           "yaxis": "y"
          },
          {
           "alignmentgroup": "True",
           "bingroup": "x",
           "histfunc": "sum",
           "hovertemplate": "Region=%{x}<br> Date= 31-03-2020<br>sum of  Estimated Unemployment Rate (%)=%{y}<extra></extra>",
           "legendgroup": "13",
           "marker": {
            "color": "#00cc96",
            "pattern": {
             "shape": ""
            }
           },
           "name": "13",
           "offsetgroup": "13",
           "orientation": "v",
           "showlegend": true,
           "type": "histogram",
           "x": [
            13,
            13
           ],
           "xaxis": "x",
           "y": [
            8.85,
            9.14
           ],
           "yaxis": "y"
          },
          {
           "alignmentgroup": "True",
           "bingroup": "x",
           "histfunc": "sum",
           "hovertemplate": "Region=%{x}<br> Date= 31-03-2020<br>sum of  Estimated Unemployment Rate (%)=%{y}<extra></extra>",
           "legendgroup": "14",
           "marker": {
            "color": "#ab63fa",
            "pattern": {
             "shape": ""
            }
           },
           "name": "14",
           "offsetgroup": "14",
           "orientation": "v",
           "showlegend": true,
           "type": "histogram",
           "x": [
            14,
            14
           ],
           "xaxis": "x",
           "y": [
            1.19,
            4.8
           ],
           "yaxis": "y"
          },
          {
           "alignmentgroup": "True",
           "bingroup": "x",
           "histfunc": "sum",
           "hovertemplate": "Region=%{x}<br> Date= 31-03-2020<br>sum of  Estimated Unemployment Rate (%)=%{y}<extra></extra>",
           "legendgroup": "15",
           "marker": {
            "color": "#FFA15A",
            "pattern": {
             "shape": ""
            }
           },
           "name": "15",
           "offsetgroup": "15",
           "orientation": "v",
           "showlegend": true,
           "type": "histogram",
           "x": [
            15,
            15
           ],
           "xaxis": "x",
           "y": [
            5.38,
            6.34
           ],
           "yaxis": "y"
          },
          {
           "alignmentgroup": "True",
           "bingroup": "x",
           "histfunc": "sum",
           "hovertemplate": "Region=%{x}<br> Date= 31-03-2020<br>sum of  Estimated Unemployment Rate (%)=%{y}<extra></extra>",
           "legendgroup": "16",
           "marker": {
            "color": "#19d3f3",
            "pattern": {
             "shape": ""
            }
           },
           "name": "16",
           "offsetgroup": "16",
           "orientation": "v",
           "showlegend": true,
           "type": "histogram",
           "x": [
            16,
            16
           ],
           "xaxis": "x",
           "y": [
            1.28,
            2.8
           ],
           "yaxis": "y"
          },
          {
           "alignmentgroup": "True",
           "bingroup": "x",
           "histfunc": "sum",
           "hovertemplate": "Region=%{x}<br> Date= 31-03-2020<br>sum of  Estimated Unemployment Rate (%)=%{y}<extra></extra>",
           "legendgroup": "17",
           "marker": {
            "color": "#FF6692",
            "pattern": {
             "shape": ""
            }
           },
           "name": "17",
           "offsetgroup": "17",
           "orientation": "v",
           "showlegend": true,
           "type": "histogram",
           "x": [
            17,
            17
           ],
           "xaxis": "x",
           "y": [
            15.09,
            3.96
           ],
           "yaxis": "y"
          },
          {
           "alignmentgroup": "True",
           "bingroup": "x",
           "histfunc": "sum",
           "hovertemplate": "Region=%{x}<br> Date= 31-03-2020<br>sum of  Estimated Unemployment Rate (%)=%{y}<extra></extra>",
           "legendgroup": "18",
           "marker": {
            "color": "#B6E880",
            "pattern": {
             "shape": ""
            }
           },
           "name": "18",
           "offsetgroup": "18",
           "orientation": "v",
           "showlegend": true,
           "type": "histogram",
           "x": [
            18,
            18
           ],
           "xaxis": "x",
           "y": [
            2.31,
            0.62
           ],
           "yaxis": "y"
          },
          {
           "alignmentgroup": "True",
           "bingroup": "x",
           "histfunc": "sum",
           "hovertemplate": "Region=%{x}<br> Date= 31-03-2020<br>sum of  Estimated Unemployment Rate (%)=%{y}<extra></extra>",
           "legendgroup": "19",
           "marker": {
            "color": "#FF97FF",
            "pattern": {
             "shape": ""
            }
           },
           "name": "19",
           "offsetgroup": "19",
           "orientation": "v",
           "showlegend": true,
           "type": "histogram",
           "x": [
            19,
            19
           ],
           "xaxis": "x",
           "y": [
            10.51,
            9.97
           ],
           "yaxis": "y"
          },
          {
           "alignmentgroup": "True",
           "bingroup": "x",
           "histfunc": "sum",
           "hovertemplate": "Region=%{x}<br> Date= 31-03-2020<br>sum of  Estimated Unemployment Rate (%)=%{y}<extra></extra>",
           "legendgroup": "20",
           "marker": {
            "color": "#FECB52",
            "pattern": {
             "shape": ""
            }
           },
           "name": "20",
           "offsetgroup": "20",
           "orientation": "v",
           "showlegend": true,
           "type": "histogram",
           "x": [
            20,
            20
           ],
           "xaxis": "x",
           "y": [
            9.47,
            18.54
           ],
           "yaxis": "y"
          },
          {
           "alignmentgroup": "True",
           "bingroup": "x",
           "histfunc": "sum",
           "hovertemplate": "Region=%{x}<br> Date= 31-03-2020<br>sum of  Estimated Unemployment Rate (%)=%{y}<extra></extra>",
           "legendgroup": "21",
           "marker": {
            "color": "#636efa",
            "pattern": {
             "shape": ""
            }
           },
           "name": "21",
           "offsetgroup": "21",
           "orientation": "v",
           "showlegend": true,
           "type": "histogram",
           "x": [
            21
           ],
           "xaxis": "x",
           "y": [
            20.45
           ],
           "yaxis": "y"
          },
          {
           "alignmentgroup": "True",
           "bingroup": "x",
           "histfunc": "sum",
           "hovertemplate": "Region=%{x}<br> Date= 31-03-2020<br>sum of  Estimated Unemployment Rate (%)=%{y}<extra></extra>",
           "legendgroup": "22",
           "marker": {
            "color": "#EF553B",
            "pattern": {
             "shape": ""
            }
           },
           "name": "22",
           "offsetgroup": "22",
           "orientation": "v",
           "showlegend": true,
           "type": "histogram",
           "x": [
            22,
            22
           ],
           "xaxis": "x",
           "y": [
            6.36,
            6.46
           ],
           "yaxis": "y"
          },
          {
           "alignmentgroup": "True",
           "bingroup": "x",
           "histfunc": "sum",
           "hovertemplate": "Region=%{x}<br> Date= 31-03-2020<br>sum of  Estimated Unemployment Rate (%)=%{y}<extra></extra>",
           "legendgroup": "23",
           "marker": {
            "color": "#00cc96",
            "pattern": {
             "shape": ""
            }
           },
           "name": "23",
           "offsetgroup": "23",
           "orientation": "v",
           "showlegend": true,
           "type": "histogram",
           "x": [
            23,
            23
           ],
           "xaxis": "x",
           "y": [
            5.63,
            6.1
           ],
           "yaxis": "y"
          },
          {
           "alignmentgroup": "True",
           "bingroup": "x",
           "histfunc": "sum",
           "hovertemplate": "Region=%{x}<br> Date= 31-03-2020<br>sum of  Estimated Unemployment Rate (%)=%{y}<extra></extra>",
           "legendgroup": "24",
           "marker": {
            "color": "#ab63fa",
            "pattern": {
             "shape": ""
            }
           },
           "name": "24",
           "offsetgroup": "24",
           "orientation": "v",
           "showlegend": true,
           "type": "histogram",
           "x": [
            24,
            24
           ],
           "xaxis": "x",
           "y": [
            31.61,
            25.69
           ],
           "yaxis": "y"
          },
          {
           "alignmentgroup": "True",
           "bingroup": "x",
           "histfunc": "sum",
           "hovertemplate": "Region=%{x}<br> Date= 31-03-2020<br>sum of  Estimated Unemployment Rate (%)=%{y}<extra></extra>",
           "legendgroup": "25",
           "marker": {
            "color": "#FFA15A",
            "pattern": {
             "shape": ""
            }
           },
           "name": "25",
           "offsetgroup": "25",
           "orientation": "v",
           "showlegend": true,
           "type": "histogram",
           "x": [
            25,
            25
           ],
           "xaxis": "x",
           "y": [
            9.37,
            12.32
           ],
           "yaxis": "y"
          },
          {
           "alignmentgroup": "True",
           "bingroup": "x",
           "histfunc": "sum",
           "hovertemplate": "Region=%{x}<br> Date= 31-03-2020<br>sum of  Estimated Unemployment Rate (%)=%{y}<extra></extra>",
           "legendgroup": "26",
           "marker": {
            "color": "#19d3f3",
            "pattern": {
             "shape": ""
            }
           },
           "name": "26",
           "offsetgroup": "26",
           "orientation": "v",
           "showlegend": true,
           "type": "histogram",
           "x": [
            26
           ],
           "xaxis": "x",
           "y": [
            8.15
           ],
           "yaxis": "y"
          },
          {
           "alignmentgroup": "True",
           "bingroup": "x",
           "histfunc": "sum",
           "hovertemplate": "Region=%{x}<br> Date= 31-03-2020<br>sum of  Estimated Unemployment Rate (%)=%{y}<extra></extra>",
           "legendgroup": "27",
           "marker": {
            "color": "#FF6692",
            "pattern": {
             "shape": ""
            }
           },
           "name": "27",
           "offsetgroup": "27",
           "orientation": "v",
           "showlegend": true,
           "type": "histogram",
           "x": [
            27,
            27
           ],
           "xaxis": "x",
           "y": [
            7.02,
            6.67
           ],
           "yaxis": "y"
          },
          {
           "alignmentgroup": "True",
           "bingroup": "x",
           "histfunc": "sum",
           "hovertemplate": "Region=%{x}<br> Date= 31-03-2020<br>sum of  Estimated Unemployment Rate (%)=%{y}<extra></extra>",
           "legendgroup": "3",
           "marker": {
            "color": "#FF97FF",
            "pattern": {
             "shape": ""
            }
           },
           "name": "3",
           "offsetgroup": "3",
           "orientation": "v",
           "showlegend": true,
           "type": "histogram",
           "x": [
            3
           ],
           "xaxis": "x",
           "y": [
            21.43
           ],
           "yaxis": "y"
          }
         ],
         "name": " 31-03-2020"
        },
        {
         "data": [
          {
           "alignmentgroup": "True",
           "bingroup": "x",
           "histfunc": "sum",
           "hovertemplate": "Region=%{x}<br> Date= 30-04-2020<br>sum of  Estimated Unemployment Rate (%)=%{y}<extra></extra>",
           "legendgroup": "0",
           "marker": {
            "color": "#636efa",
            "pattern": {
             "shape": ""
            }
           },
           "name": "0",
           "offsetgroup": "0",
           "orientation": "v",
           "showlegend": true,
           "type": "histogram",
           "x": [
            0,
            0
           ],
           "xaxis": "x",
           "y": [
            16.29,
            32.3
           ],
           "yaxis": "y"
          },
          {
           "alignmentgroup": "True",
           "bingroup": "x",
           "histfunc": "sum",
           "hovertemplate": "Region=%{x}<br> Date= 30-04-2020<br>sum of  Estimated Unemployment Rate (%)=%{y}<extra></extra>",
           "legendgroup": "1",
           "marker": {
            "color": "#EF553B",
            "pattern": {
             "shape": ""
            }
           },
           "name": "1",
           "offsetgroup": "1",
           "orientation": "v",
           "showlegend": true,
           "type": "histogram",
           "x": [
            1
           ],
           "xaxis": "x",
           "y": [
            8.37
           ],
           "yaxis": "y"
          },
          {
           "alignmentgroup": "True",
           "bingroup": "x",
           "histfunc": "sum",
           "hovertemplate": "Region=%{x}<br> Date= 30-04-2020<br>sum of  Estimated Unemployment Rate (%)=%{y}<extra></extra>",
           "legendgroup": "2",
           "marker": {
            "color": "#00cc96",
            "pattern": {
             "shape": ""
            }
           },
           "name": "2",
           "offsetgroup": "2",
           "orientation": "v",
           "showlegend": true,
           "type": "histogram",
           "x": [
            2,
            2
           ],
           "xaxis": "x",
           "y": [
            45.09,
            58.77
           ],
           "yaxis": "y"
          },
          {
           "alignmentgroup": "True",
           "bingroup": "x",
           "histfunc": "sum",
           "hovertemplate": "Region=%{x}<br> Date= 30-04-2020<br>sum of  Estimated Unemployment Rate (%)=%{y}<extra></extra>",
           "legendgroup": "4",
           "marker": {
            "color": "#ab63fa",
            "pattern": {
             "shape": ""
            }
           },
           "name": "4",
           "offsetgroup": "4",
           "orientation": "v",
           "showlegend": true,
           "type": "histogram",
           "x": [
            4,
            4
           ],
           "xaxis": "x",
           "y": [
            0,
            20.13
           ],
           "yaxis": "y"
          },
          {
           "alignmentgroup": "True",
           "bingroup": "x",
           "histfunc": "sum",
           "hovertemplate": "Region=%{x}<br> Date= 30-04-2020<br>sum of  Estimated Unemployment Rate (%)=%{y}<extra></extra>",
           "legendgroup": "5",
           "marker": {
            "color": "#FFA15A",
            "pattern": {
             "shape": ""
            }
           },
           "name": "5",
           "offsetgroup": "5",
           "orientation": "v",
           "showlegend": true,
           "type": "histogram",
           "x": [
            5,
            5
           ],
           "xaxis": "x",
           "y": [
            20.69,
            16.51
           ],
           "yaxis": "y"
          },
          {
           "alignmentgroup": "True",
           "bingroup": "x",
           "histfunc": "sum",
           "hovertemplate": "Region=%{x}<br> Date= 30-04-2020<br>sum of  Estimated Unemployment Rate (%)=%{y}<extra></extra>",
           "legendgroup": "6",
           "marker": {
            "color": "#19d3f3",
            "pattern": {
             "shape": ""
            }
           },
           "name": "6",
           "offsetgroup": "6",
           "orientation": "v",
           "showlegend": true,
           "type": "histogram",
           "x": [
            6,
            6
           ],
           "xaxis": "x",
           "y": [
            15.91,
            11.76
           ],
           "yaxis": "y"
          },
          {
           "alignmentgroup": "True",
           "bingroup": "x",
           "histfunc": "sum",
           "hovertemplate": "Region=%{x}<br> Date= 30-04-2020<br>sum of  Estimated Unemployment Rate (%)=%{y}<extra></extra>",
           "legendgroup": "7",
           "marker": {
            "color": "#FF6692",
            "pattern": {
             "shape": ""
            }
           },
           "name": "7",
           "offsetgroup": "7",
           "orientation": "v",
           "showlegend": true,
           "type": "histogram",
           "x": [
            7,
            7
           ],
           "xaxis": "x",
           "y": [
            12,
            25.94
           ],
           "yaxis": "y"
          },
          {
           "alignmentgroup": "True",
           "bingroup": "x",
           "histfunc": "sum",
           "hovertemplate": "Region=%{x}<br> Date= 30-04-2020<br>sum of  Estimated Unemployment Rate (%)=%{y}<extra></extra>",
           "legendgroup": "8",
           "marker": {
            "color": "#B6E880",
            "pattern": {
             "shape": ""
            }
           },
           "name": "8",
           "offsetgroup": "8",
           "orientation": "v",
           "showlegend": true,
           "type": "histogram",
           "x": [
            8,
            8
           ],
           "xaxis": "x",
           "y": [
            41.61,
            46.89
           ],
           "yaxis": "y"
          },
          {
           "alignmentgroup": "True",
           "bingroup": "x",
           "histfunc": "sum",
           "hovertemplate": "Region=%{x}<br> Date= 30-04-2020<br>sum of  Estimated Unemployment Rate (%)=%{y}<extra></extra>",
           "legendgroup": "9",
           "marker": {
            "color": "#FF97FF",
            "pattern": {
             "shape": ""
            }
           },
           "name": "9",
           "offsetgroup": "9",
           "orientation": "v",
           "showlegend": true,
           "type": "histogram",
           "x": [
            9,
            9
           ],
           "xaxis": "x",
           "y": [
            2.13,
            2.7
           ],
           "yaxis": "y"
          },
          {
           "alignmentgroup": "True",
           "bingroup": "x",
           "histfunc": "sum",
           "hovertemplate": "Region=%{x}<br> Date= 30-04-2020<br>sum of  Estimated Unemployment Rate (%)=%{y}<extra></extra>",
           "legendgroup": "11",
           "marker": {
            "color": "#636efa",
            "pattern": {
             "shape": ""
            }
           },
           "name": "11",
           "offsetgroup": "11",
           "orientation": "v",
           "showlegend": true,
           "type": "histogram",
           "x": [
            11,
            11
           ],
           "xaxis": "x",
           "y": [
            41.72,
            61.48
           ],
           "yaxis": "y"
          },
          {
           "alignmentgroup": "True",
           "bingroup": "x",
           "histfunc": "sum",
           "hovertemplate": "Region=%{x}<br> Date= 30-04-2020<br>sum of  Estimated Unemployment Rate (%)=%{y}<extra></extra>",
           "legendgroup": "12",
           "marker": {
            "color": "#EF553B",
            "pattern": {
             "shape": ""
            }
           },
           "name": "12",
           "offsetgroup": "12",
           "orientation": "v",
           "showlegend": true,
           "type": "histogram",
           "x": [
            12,
            12
           ],
           "xaxis": "x",
           "y": [
            33.17,
            25.12
           ],
           "yaxis": "y"
          },
          {
           "alignmentgroup": "True",
           "bingroup": "x",
           "histfunc": "sum",
           "hovertemplate": "Region=%{x}<br> Date= 30-04-2020<br>sum of  Estimated Unemployment Rate (%)=%{y}<extra></extra>",
           "legendgroup": "13",
           "marker": {
            "color": "#00cc96",
            "pattern": {
             "shape": ""
            }
           },
           "name": "13",
           "offsetgroup": "13",
           "orientation": "v",
           "showlegend": true,
           "type": "histogram",
           "x": [
            13,
            13
           ],
           "xaxis": "x",
           "y": [
            10.71,
            21.43
           ],
           "yaxis": "y"
          },
          {
           "alignmentgroup": "True",
           "bingroup": "x",
           "histfunc": "sum",
           "hovertemplate": "Region=%{x}<br> Date= 30-04-2020<br>sum of  Estimated Unemployment Rate (%)=%{y}<extra></extra>",
           "legendgroup": "14",
           "marker": {
            "color": "#ab63fa",
            "pattern": {
             "shape": ""
            }
           },
           "name": "14",
           "offsetgroup": "14",
           "orientation": "v",
           "showlegend": true,
           "type": "histogram",
           "x": [
            14,
            14
           ],
           "xaxis": "x",
           "y": [
            12.5,
            11.94
           ],
           "yaxis": "y"
          },
          {
           "alignmentgroup": "True",
           "bingroup": "x",
           "histfunc": "sum",
           "hovertemplate": "Region=%{x}<br> Date= 30-04-2020<br>sum of  Estimated Unemployment Rate (%)=%{y}<extra></extra>",
           "legendgroup": "15",
           "marker": {
            "color": "#FFA15A",
            "pattern": {
             "shape": ""
            }
           },
           "name": "15",
           "offsetgroup": "15",
           "orientation": "v",
           "showlegend": true,
           "type": "histogram",
           "x": [
            15,
            15
           ],
           "xaxis": "x",
           "y": [
            25.28,
            14.99
           ],
           "yaxis": "y"
          },
          {
           "alignmentgroup": "True",
           "bingroup": "x",
           "histfunc": "sum",
           "hovertemplate": "Region=%{x}<br> Date= 30-04-2020<br>sum of  Estimated Unemployment Rate (%)=%{y}<extra></extra>",
           "legendgroup": "16",
           "marker": {
            "color": "#19d3f3",
            "pattern": {
             "shape": ""
            }
           },
           "name": "16",
           "offsetgroup": "16",
           "orientation": "v",
           "showlegend": true,
           "type": "histogram",
           "x": [
            16,
            16
           ],
           "xaxis": "x",
           "y": [
            8.38,
            17.39
           ],
           "yaxis": "y"
          },
          {
           "alignmentgroup": "True",
           "bingroup": "x",
           "histfunc": "sum",
           "hovertemplate": "Region=%{x}<br> Date= 30-04-2020<br>sum of  Estimated Unemployment Rate (%)=%{y}<extra></extra>",
           "legendgroup": "17",
           "marker": {
            "color": "#FF6692",
            "pattern": {
             "shape": ""
            }
           },
           "name": "17",
           "offsetgroup": "17",
           "orientation": "v",
           "showlegend": true,
           "type": "histogram",
           "x": [
            17,
            17
           ],
           "xaxis": "x",
           "y": [
            24.48,
            20.5
           ],
           "yaxis": "y"
          },
          {
           "alignmentgroup": "True",
           "bingroup": "x",
           "histfunc": "sum",
           "hovertemplate": "Region=%{x}<br> Date= 30-04-2020<br>sum of  Estimated Unemployment Rate (%)=%{y}<extra></extra>",
           "legendgroup": "18",
           "marker": {
            "color": "#B6E880",
            "pattern": {
             "shape": ""
            }
           },
           "name": "18",
           "offsetgroup": "18",
           "orientation": "v",
           "showlegend": true,
           "type": "histogram",
           "x": [
            18,
            18
           ],
           "xaxis": "x",
           "y": [
            74.51,
            76.74
           ],
           "yaxis": "y"
          },
          {
           "alignmentgroup": "True",
           "bingroup": "x",
           "histfunc": "sum",
           "hovertemplate": "Region=%{x}<br> Date= 30-04-2020<br>sum of  Estimated Unemployment Rate (%)=%{y}<extra></extra>",
           "legendgroup": "19",
           "marker": {
            "color": "#FF97FF",
            "pattern": {
             "shape": ""
            }
           },
           "name": "19",
           "offsetgroup": "19",
           "orientation": "v",
           "showlegend": true,
           "type": "histogram",
           "x": [
            19,
            19
           ],
           "xaxis": "x",
           "y": [
            3.69,
            1.13
           ],
           "yaxis": "y"
          },
          {
           "alignmentgroup": "True",
           "bingroup": "x",
           "histfunc": "sum",
           "hovertemplate": "Region=%{x}<br> Date= 30-04-2020<br>sum of  Estimated Unemployment Rate (%)=%{y}<extra></extra>",
           "legendgroup": "20",
           "marker": {
            "color": "#FECB52",
            "pattern": {
             "shape": ""
            }
           },
           "name": "20",
           "offsetgroup": "20",
           "orientation": "v",
           "showlegend": true,
           "type": "histogram",
           "x": [
            20,
            20
           ],
           "xaxis": "x",
           "y": [
            12.25,
            35.53
           ],
           "yaxis": "y"
          },
          {
           "alignmentgroup": "True",
           "bingroup": "x",
           "histfunc": "sum",
           "hovertemplate": "Region=%{x}<br> Date= 30-04-2020<br>sum of  Estimated Unemployment Rate (%)=%{y}<extra></extra>",
           "legendgroup": "21",
           "marker": {
            "color": "#636efa",
            "pattern": {
             "shape": ""
            }
           },
           "name": "21",
           "offsetgroup": "21",
           "orientation": "v",
           "showlegend": true,
           "type": "histogram",
           "x": [
            21,
            21
           ],
           "xaxis": "x",
           "y": [
            0,
            5.77
           ],
           "yaxis": "y"
          },
          {
           "alignmentgroup": "True",
           "bingroup": "x",
           "histfunc": "sum",
           "hovertemplate": "Region=%{x}<br> Date= 30-04-2020<br>sum of  Estimated Unemployment Rate (%)=%{y}<extra></extra>",
           "legendgroup": "22",
           "marker": {
            "color": "#EF553B",
            "pattern": {
             "shape": ""
            }
           },
           "name": "22",
           "offsetgroup": "22",
           "orientation": "v",
           "showlegend": true,
           "type": "histogram",
           "x": [
            22,
            22
           ],
           "xaxis": "x",
           "y": [
            53.19,
            45.55
           ],
           "yaxis": "y"
          },
          {
           "alignmentgroup": "True",
           "bingroup": "x",
           "histfunc": "sum",
           "hovertemplate": "Region=%{x}<br> Date= 30-04-2020<br>sum of  Estimated Unemployment Rate (%)=%{y}<extra></extra>",
           "legendgroup": "23",
           "marker": {
            "color": "#00cc96",
            "pattern": {
             "shape": ""
            }
           },
           "name": "23",
           "offsetgroup": "23",
           "orientation": "v",
           "showlegend": true,
           "type": "histogram",
           "x": [
            23,
            23
           ],
           "xaxis": "x",
           "y": [
            4.51,
            10.5
           ],
           "yaxis": "y"
          },
          {
           "alignmentgroup": "True",
           "bingroup": "x",
           "histfunc": "sum",
           "hovertemplate": "Region=%{x}<br> Date= 30-04-2020<br>sum of  Estimated Unemployment Rate (%)=%{y}<extra></extra>",
           "legendgroup": "24",
           "marker": {
            "color": "#ab63fa",
            "pattern": {
             "shape": ""
            }
           },
           "name": "24",
           "offsetgroup": "24",
           "orientation": "v",
           "showlegend": true,
           "type": "histogram",
           "x": [
            24,
            24
           ],
           "xaxis": "x",
           "y": [
            43.64,
            34.88
           ],
           "yaxis": "y"
          },
          {
           "alignmentgroup": "True",
           "bingroup": "x",
           "histfunc": "sum",
           "hovertemplate": "Region=%{x}<br> Date= 30-04-2020<br>sum of  Estimated Unemployment Rate (%)=%{y}<extra></extra>",
           "legendgroup": "25",
           "marker": {
            "color": "#FFA15A",
            "pattern": {
             "shape": ""
            }
           },
           "name": "25",
           "offsetgroup": "25",
           "orientation": "v",
           "showlegend": true,
           "type": "histogram",
           "x": [
            25,
            25
           ],
           "xaxis": "x",
           "y": [
            19.92,
            26.94
           ],
           "yaxis": "y"
          },
          {
           "alignmentgroup": "True",
           "bingroup": "x",
           "histfunc": "sum",
           "hovertemplate": "Region=%{x}<br> Date= 30-04-2020<br>sum of  Estimated Unemployment Rate (%)=%{y}<extra></extra>",
           "legendgroup": "26",
           "marker": {
            "color": "#19d3f3",
            "pattern": {
             "shape": ""
            }
           },
           "name": "26",
           "offsetgroup": "26",
           "orientation": "v",
           "showlegend": true,
           "type": "histogram",
           "x": [
            26,
            26
           ],
           "xaxis": "x",
           "y": [
            3.66,
            13.18
           ],
           "yaxis": "y"
          },
          {
           "alignmentgroup": "True",
           "bingroup": "x",
           "histfunc": "sum",
           "hovertemplate": "Region=%{x}<br> Date= 30-04-2020<br>sum of  Estimated Unemployment Rate (%)=%{y}<extra></extra>",
           "legendgroup": "27",
           "marker": {
            "color": "#FF6692",
            "pattern": {
             "shape": ""
            }
           },
           "name": "27",
           "offsetgroup": "27",
           "orientation": "v",
           "showlegend": true,
           "type": "histogram",
           "x": [
            27,
            27
           ],
           "xaxis": "x",
           "y": [
            18.32,
            15.63
           ],
           "yaxis": "y"
          }
         ],
         "name": " 30-04-2020"
        },
        {
         "data": [
          {
           "alignmentgroup": "True",
           "bingroup": "x",
           "histfunc": "sum",
           "hovertemplate": "Region=%{x}<br> Date= 31-05-2020<br>sum of  Estimated Unemployment Rate (%)=%{y}<extra></extra>",
           "legendgroup": "0",
           "marker": {
            "color": "#636efa",
            "pattern": {
             "shape": ""
            }
           },
           "name": "0",
           "offsetgroup": "0",
           "orientation": "v",
           "showlegend": true,
           "type": "histogram",
           "x": [
            0,
            0
           ],
           "xaxis": "x",
           "y": [
            14.46,
            24.91
           ],
           "yaxis": "y"
          },
          {
           "alignmentgroup": "True",
           "bingroup": "x",
           "histfunc": "sum",
           "hovertemplate": "Region=%{x}<br> Date= 31-05-2020<br>sum of  Estimated Unemployment Rate (%)=%{y}<extra></extra>",
           "legendgroup": "1",
           "marker": {
            "color": "#EF553B",
            "pattern": {
             "shape": ""
            }
           },
           "name": "1",
           "offsetgroup": "1",
           "orientation": "v",
           "showlegend": true,
           "type": "histogram",
           "x": [
            1,
            1
           ],
           "xaxis": "x",
           "y": [
            9.38,
            10.77
           ],
           "yaxis": "y"
          },
          {
           "alignmentgroup": "True",
           "bingroup": "x",
           "histfunc": "sum",
           "hovertemplate": "Region=%{x}<br> Date= 31-05-2020<br>sum of  Estimated Unemployment Rate (%)=%{y}<extra></extra>",
           "legendgroup": "2",
           "marker": {
            "color": "#00cc96",
            "pattern": {
             "shape": ""
            }
           },
           "name": "2",
           "offsetgroup": "2",
           "orientation": "v",
           "showlegend": true,
           "type": "histogram",
           "x": [
            2,
            2
           ],
           "xaxis": "x",
           "y": [
            47.26,
            37.87
           ],
           "yaxis": "y"
          },
          {
           "alignmentgroup": "True",
           "bingroup": "x",
           "histfunc": "sum",
           "hovertemplate": "Region=%{x}<br> Date= 31-05-2020<br>sum of  Estimated Unemployment Rate (%)=%{y}<extra></extra>",
           "legendgroup": "4",
           "marker": {
            "color": "#ab63fa",
            "pattern": {
             "shape": ""
            }
           },
           "name": "4",
           "offsetgroup": "4",
           "orientation": "v",
           "showlegend": true,
           "type": "histogram",
           "x": [
            4,
            4
           ],
           "xaxis": "x",
           "y": [
            7.64,
            24.1
           ],
           "yaxis": "y"
          },
          {
           "alignmentgroup": "True",
           "bingroup": "x",
           "histfunc": "sum",
           "hovertemplate": "Region=%{x}<br> Date= 31-05-2020<br>sum of  Estimated Unemployment Rate (%)=%{y}<extra></extra>",
           "legendgroup": "5",
           "marker": {
            "color": "#FFA15A",
            "pattern": {
             "shape": ""
            }
           },
           "name": "5",
           "offsetgroup": "5",
           "orientation": "v",
           "showlegend": true,
           "type": "histogram",
           "x": [
            5,
            5
           ],
           "xaxis": "x",
           "y": [
            22.76,
            45.78
           ],
           "yaxis": "y"
          },
          {
           "alignmentgroup": "True",
           "bingroup": "x",
           "histfunc": "sum",
           "hovertemplate": "Region=%{x}<br> Date= 31-05-2020<br>sum of  Estimated Unemployment Rate (%)=%{y}<extra></extra>",
           "legendgroup": "6",
           "marker": {
            "color": "#19d3f3",
            "pattern": {
             "shape": ""
            }
           },
           "name": "6",
           "offsetgroup": "6",
           "orientation": "v",
           "showlegend": true,
           "type": "histogram",
           "x": [
            6
           ],
           "xaxis": "x",
           "y": [
            20
           ],
           "yaxis": "y"
          },
          {
           "alignmentgroup": "True",
           "bingroup": "x",
           "histfunc": "sum",
           "hovertemplate": "Region=%{x}<br> Date= 31-05-2020<br>sum of  Estimated Unemployment Rate (%)=%{y}<extra></extra>",
           "legendgroup": "7",
           "marker": {
            "color": "#FF6692",
            "pattern": {
             "shape": ""
            }
           },
           "name": "7",
           "offsetgroup": "7",
           "orientation": "v",
           "showlegend": true,
           "type": "histogram",
           "x": [
            7,
            7
           ],
           "xaxis": "x",
           "y": [
            14.58,
            11.62
           ],
           "yaxis": "y"
          },
          {
           "alignmentgroup": "True",
           "bingroup": "x",
           "histfunc": "sum",
           "hovertemplate": "Region=%{x}<br> Date= 31-05-2020<br>sum of  Estimated Unemployment Rate (%)=%{y}<extra></extra>",
           "legendgroup": "8",
           "marker": {
            "color": "#B6E880",
            "pattern": {
             "shape": ""
            }
           },
           "name": "8",
           "offsetgroup": "8",
           "orientation": "v",
           "showlegend": true,
           "type": "histogram",
           "x": [
            8,
            8
           ],
           "xaxis": "x",
           "y": [
            34.22,
            38.46
           ],
           "yaxis": "y"
          },
          {
           "alignmentgroup": "True",
           "bingroup": "x",
           "histfunc": "sum",
           "hovertemplate": "Region=%{x}<br> Date= 31-05-2020<br>sum of  Estimated Unemployment Rate (%)=%{y}<extra></extra>",
           "legendgroup": "9",
           "marker": {
            "color": "#FF97FF",
            "pattern": {
             "shape": ""
            }
           },
           "name": "9",
           "offsetgroup": "9",
           "orientation": "v",
           "showlegend": true,
           "type": "histogram",
           "x": [
            9,
            9
           ],
           "xaxis": "x",
           "y": [
            25.64,
            50
           ],
           "yaxis": "y"
          },
          {
           "alignmentgroup": "True",
           "bingroup": "x",
           "histfunc": "sum",
           "hovertemplate": "Region=%{x}<br> Date= 31-05-2020<br>sum of  Estimated Unemployment Rate (%)=%{y}<extra></extra>",
           "legendgroup": "10",
           "marker": {
            "color": "#FECB52",
            "pattern": {
             "shape": ""
            }
           },
           "name": "10",
           "offsetgroup": "10",
           "orientation": "v",
           "showlegend": true,
           "type": "histogram",
           "x": [
            10,
            10
           ],
           "xaxis": "x",
           "y": [
            2.22,
            12.96
           ],
           "yaxis": "y"
          },
          {
           "alignmentgroup": "True",
           "bingroup": "x",
           "histfunc": "sum",
           "hovertemplate": "Region=%{x}<br> Date= 31-05-2020<br>sum of  Estimated Unemployment Rate (%)=%{y}<extra></extra>",
           "legendgroup": "11",
           "marker": {
            "color": "#636efa",
            "pattern": {
             "shape": ""
            }
           },
           "name": "11",
           "offsetgroup": "11",
           "orientation": "v",
           "showlegend": true,
           "type": "histogram",
           "x": [
            11,
            11
           ],
           "xaxis": "x",
           "y": [
            55.1,
            70.17
           ],
           "yaxis": "y"
          },
          {
           "alignmentgroup": "True",
           "bingroup": "x",
           "histfunc": "sum",
           "hovertemplate": "Region=%{x}<br> Date= 31-05-2020<br>sum of  Estimated Unemployment Rate (%)=%{y}<extra></extra>",
           "legendgroup": "12",
           "marker": {
            "color": "#EF553B",
            "pattern": {
             "shape": ""
            }
           },
           "name": "12",
           "offsetgroup": "12",
           "orientation": "v",
           "showlegend": true,
           "type": "histogram",
           "x": [
            12,
            12
           ],
           "xaxis": "x",
           "y": [
            23.72,
            15.88
           ],
           "yaxis": "y"
          },
          {
           "alignmentgroup": "True",
           "bingroup": "x",
           "histfunc": "sum",
           "hovertemplate": "Region=%{x}<br> Date= 31-05-2020<br>sum of  Estimated Unemployment Rate (%)=%{y}<extra></extra>",
           "legendgroup": "13",
           "marker": {
            "color": "#00cc96",
            "pattern": {
             "shape": ""
            }
           },
           "name": "13",
           "offsetgroup": "13",
           "orientation": "v",
           "showlegend": true,
           "type": "histogram",
           "x": [
            13,
            13
           ],
           "xaxis": "x",
           "y": [
            23.38,
            30.28
           ],
           "yaxis": "y"
          },
          {
           "alignmentgroup": "True",
           "bingroup": "x",
           "histfunc": "sum",
           "hovertemplate": "Region=%{x}<br> Date= 31-05-2020<br>sum of  Estimated Unemployment Rate (%)=%{y}<extra></extra>",
           "legendgroup": "14",
           "marker": {
            "color": "#ab63fa",
            "pattern": {
             "shape": ""
            }
           },
           "name": "14",
           "offsetgroup": "14",
           "orientation": "v",
           "showlegend": true,
           "type": "histogram",
           "x": [
            14,
            14
           ],
           "xaxis": "x",
           "y": [
            22.46,
            40.49
           ],
           "yaxis": "y"
          },
          {
           "alignmentgroup": "True",
           "bingroup": "x",
           "histfunc": "sum",
           "hovertemplate": "Region=%{x}<br> Date= 31-05-2020<br>sum of  Estimated Unemployment Rate (%)=%{y}<extra></extra>",
           "legendgroup": "15",
           "marker": {
            "color": "#FFA15A",
            "pattern": {
             "shape": ""
            }
           },
           "name": "15",
           "offsetgroup": "15",
           "orientation": "v",
           "showlegend": true,
           "type": "histogram",
           "x": [
            15,
            15
           ],
           "xaxis": "x",
           "y": [
            16.89,
            15.92
           ],
           "yaxis": "y"
          },
          {
           "alignmentgroup": "True",
           "bingroup": "x",
           "histfunc": "sum",
           "hovertemplate": "Region=%{x}<br> Date= 31-05-2020<br>sum of  Estimated Unemployment Rate (%)=%{y}<extra></extra>",
           "legendgroup": "16",
           "marker": {
            "color": "#19d3f3",
            "pattern": {
             "shape": ""
            }
           },
           "name": "16",
           "offsetgroup": "16",
           "orientation": "v",
           "showlegend": true,
           "type": "histogram",
           "x": [
            16,
            16
           ],
           "xaxis": "x",
           "y": [
            3.73,
            14.58
           ],
           "yaxis": "y"
          },
          {
           "alignmentgroup": "True",
           "bingroup": "x",
           "histfunc": "sum",
           "hovertemplate": "Region=%{x}<br> Date= 31-05-2020<br>sum of  Estimated Unemployment Rate (%)=%{y}<extra></extra>",
           "legendgroup": "17",
           "marker": {
            "color": "#FF6692",
            "pattern": {
             "shape": ""
            }
           },
           "name": "17",
           "offsetgroup": "17",
           "orientation": "v",
           "showlegend": true,
           "type": "histogram",
           "x": [
            17,
            17
           ],
           "xaxis": "x",
           "y": [
            9.45,
            10
           ],
           "yaxis": "y"
          },
          {
           "alignmentgroup": "True",
           "bingroup": "x",
           "histfunc": "sum",
           "hovertemplate": "Region=%{x}<br> Date= 31-05-2020<br>sum of  Estimated Unemployment Rate (%)=%{y}<extra></extra>",
           "legendgroup": "18",
           "marker": {
            "color": "#B6E880",
            "pattern": {
             "shape": ""
            }
           },
           "name": "18",
           "offsetgroup": "18",
           "orientation": "v",
           "showlegend": true,
           "type": "histogram",
           "x": [
            18
           ],
           "xaxis": "x",
           "y": [
            75
           ],
           "yaxis": "y"
          },
          {
           "alignmentgroup": "True",
           "bingroup": "x",
           "histfunc": "sum",
           "hovertemplate": "Region=%{x}<br> Date= 31-05-2020<br>sum of  Estimated Unemployment Rate (%)=%{y}<extra></extra>",
           "legendgroup": "19",
           "marker": {
            "color": "#FF97FF",
            "pattern": {
             "shape": ""
            }
           },
           "name": "19",
           "offsetgroup": "19",
           "orientation": "v",
           "showlegend": true,
           "type": "histogram",
           "x": [
            19,
            19
           ],
           "xaxis": "x",
           "y": [
            40.59,
            20.54
           ],
           "yaxis": "y"
          },
          {
           "alignmentgroup": "True",
           "bingroup": "x",
           "histfunc": "sum",
           "hovertemplate": "Region=%{x}<br> Date= 31-05-2020<br>sum of  Estimated Unemployment Rate (%)=%{y}<extra></extra>",
           "legendgroup": "20",
           "marker": {
            "color": "#FECB52",
            "pattern": {
             "shape": ""
            }
           },
           "name": "20",
           "offsetgroup": "20",
           "orientation": "v",
           "showlegend": true,
           "type": "histogram",
           "x": [
            20,
            20
           ],
           "xaxis": "x",
           "y": [
            10.45,
            25.35
           ],
           "yaxis": "y"
          },
          {
           "alignmentgroup": "True",
           "bingroup": "x",
           "histfunc": "sum",
           "hovertemplate": "Region=%{x}<br> Date= 31-05-2020<br>sum of  Estimated Unemployment Rate (%)=%{y}<extra></extra>",
           "legendgroup": "21",
           "marker": {
            "color": "#636efa",
            "pattern": {
             "shape": ""
            }
           },
           "name": "21",
           "offsetgroup": "21",
           "orientation": "v",
           "showlegend": true,
           "type": "histogram",
           "x": [
            21
           ],
           "xaxis": "x",
           "y": [
            19.75
           ],
           "yaxis": "y"
          },
          {
           "alignmentgroup": "True",
           "bingroup": "x",
           "histfunc": "sum",
           "hovertemplate": "Region=%{x}<br> Date= 31-05-2020<br>sum of  Estimated Unemployment Rate (%)=%{y}<extra></extra>",
           "legendgroup": "22",
           "marker": {
            "color": "#EF553B",
            "pattern": {
             "shape": ""
            }
           },
           "name": "22",
           "offsetgroup": "22",
           "orientation": "v",
           "showlegend": true,
           "type": "histogram",
           "x": [
            22,
            22
           ],
           "xaxis": "x",
           "y": [
            38.73,
            25.95
           ],
           "yaxis": "y"
          },
          {
           "alignmentgroup": "True",
           "bingroup": "x",
           "histfunc": "sum",
           "hovertemplate": "Region=%{x}<br> Date= 31-05-2020<br>sum of  Estimated Unemployment Rate (%)=%{y}<extra></extra>",
           "legendgroup": "23",
           "marker": {
            "color": "#00cc96",
            "pattern": {
             "shape": ""
            }
           },
           "name": "23",
           "offsetgroup": "23",
           "orientation": "v",
           "showlegend": true,
           "type": "histogram",
           "x": [
            23,
            23
           ],
           "xaxis": "x",
           "y": [
            34.01,
            36.57
           ],
           "yaxis": "y"
          },
          {
           "alignmentgroup": "True",
           "bingroup": "x",
           "histfunc": "sum",
           "hovertemplate": "Region=%{x}<br> Date= 31-05-2020<br>sum of  Estimated Unemployment Rate (%)=%{y}<extra></extra>",
           "legendgroup": "24",
           "marker": {
            "color": "#ab63fa",
            "pattern": {
             "shape": ""
            }
           },
           "name": "24",
           "offsetgroup": "24",
           "orientation": "v",
           "showlegend": true,
           "type": "histogram",
           "x": [
            24,
            24
           ],
           "xaxis": "x",
           "y": [
            14.71,
            16.78
           ],
           "yaxis": "y"
          },
          {
           "alignmentgroup": "True",
           "bingroup": "x",
           "histfunc": "sum",
           "hovertemplate": "Region=%{x}<br> Date= 31-05-2020<br>sum of  Estimated Unemployment Rate (%)=%{y}<extra></extra>",
           "legendgroup": "25",
           "marker": {
            "color": "#FFA15A",
            "pattern": {
             "shape": ""
            }
           },
           "name": "25",
           "offsetgroup": "25",
           "orientation": "v",
           "showlegend": true,
           "type": "histogram",
           "x": [
            25,
            25
           ],
           "xaxis": "x",
           "y": [
            16.89,
            32.06
           ],
           "yaxis": "y"
          },
          {
           "alignmentgroup": "True",
           "bingroup": "x",
           "histfunc": "sum",
           "hovertemplate": "Region=%{x}<br> Date= 31-05-2020<br>sum of  Estimated Unemployment Rate (%)=%{y}<extra></extra>",
           "legendgroup": "26",
           "marker": {
            "color": "#19d3f3",
            "pattern": {
             "shape": ""
            }
           },
           "name": "26",
           "offsetgroup": "26",
           "orientation": "v",
           "showlegend": true,
           "type": "histogram",
           "x": [
            26,
            26
           ],
           "xaxis": "x",
           "y": [
            3.57,
            17.36
           ],
           "yaxis": "y"
          },
          {
           "alignmentgroup": "True",
           "bingroup": "x",
           "histfunc": "sum",
           "hovertemplate": "Region=%{x}<br> Date= 31-05-2020<br>sum of  Estimated Unemployment Rate (%)=%{y}<extra></extra>",
           "legendgroup": "27",
           "marker": {
            "color": "#FF6692",
            "pattern": {
             "shape": ""
            }
           },
           "name": "27",
           "offsetgroup": "27",
           "orientation": "v",
           "showlegend": true,
           "type": "histogram",
           "x": [
            27,
            27
           ],
           "xaxis": "x",
           "y": [
            18.43,
            15.22
           ],
           "yaxis": "y"
          }
         ],
         "name": " 31-05-2020"
        },
        {
         "data": [
          {
           "alignmentgroup": "True",
           "bingroup": "x",
           "histfunc": "sum",
           "hovertemplate": "Region=%{x}<br> Date= 30-06-2020<br>sum of  Estimated Unemployment Rate (%)=%{y}<extra></extra>",
           "legendgroup": "0",
           "marker": {
            "color": "#636efa",
            "pattern": {
             "shape": ""
            }
           },
           "name": "0",
           "offsetgroup": "0",
           "orientation": "v",
           "showlegend": true,
           "type": "histogram",
           "x": [
            0,
            0
           ],
           "xaxis": "x",
           "y": [
            0.85,
            5.86
           ],
           "yaxis": "y"
          },
          {
           "alignmentgroup": "True",
           "bingroup": "x",
           "histfunc": "sum",
           "hovertemplate": "Region=%{x}<br> Date= 30-06-2020<br>sum of  Estimated Unemployment Rate (%)=%{y}<extra></extra>",
           "legendgroup": "1",
           "marker": {
            "color": "#EF553B",
            "pattern": {
             "shape": ""
            }
           },
           "name": "1",
           "offsetgroup": "1",
           "orientation": "v",
           "showlegend": true,
           "type": "histogram",
           "x": [
            1,
            1
           ],
           "xaxis": "x",
           "y": [
            0,
            3.42
           ],
           "yaxis": "y"
          },
          {
           "alignmentgroup": "True",
           "bingroup": "x",
           "histfunc": "sum",
           "hovertemplate": "Region=%{x}<br> Date= 30-06-2020<br>sum of  Estimated Unemployment Rate (%)=%{y}<extra></extra>",
           "legendgroup": "2",
           "marker": {
            "color": "#00cc96",
            "pattern": {
             "shape": ""
            }
           },
           "name": "2",
           "offsetgroup": "2",
           "orientation": "v",
           "showlegend": true,
           "type": "histogram",
           "x": [
            2,
            2
           ],
           "xaxis": "x",
           "y": [
            20.49,
            12.45
           ],
           "yaxis": "y"
          },
          {
           "alignmentgroup": "True",
           "bingroup": "x",
           "histfunc": "sum",
           "hovertemplate": "Region=%{x}<br> Date= 30-06-2020<br>sum of  Estimated Unemployment Rate (%)=%{y}<extra></extra>",
           "legendgroup": "4",
           "marker": {
            "color": "#ab63fa",
            "pattern": {
             "shape": ""
            }
           },
           "name": "4",
           "offsetgroup": "4",
           "orientation": "v",
           "showlegend": true,
           "type": "histogram",
           "x": [
            4,
            4
           ],
           "xaxis": "x",
           "y": [
            10.14,
            27.07
           ],
           "yaxis": "y"
          },
          {
           "alignmentgroup": "True",
           "bingroup": "x",
           "histfunc": "sum",
           "hovertemplate": "Region=%{x}<br> Date= 30-06-2020<br>sum of  Estimated Unemployment Rate (%)=%{y}<extra></extra>",
           "legendgroup": "5",
           "marker": {
            "color": "#FFA15A",
            "pattern": {
             "shape": ""
            }
           },
           "name": "5",
           "offsetgroup": "5",
           "orientation": "v",
           "showlegend": true,
           "type": "histogram",
           "x": [
            5,
            5
           ],
           "xaxis": "x",
           "y": [
            21.14,
            18.11
           ],
           "yaxis": "y"
          },
          {
           "alignmentgroup": "True",
           "bingroup": "x",
           "histfunc": "sum",
           "hovertemplate": "Region=%{x}<br> Date= 30-06-2020<br>sum of  Estimated Unemployment Rate (%)=%{y}<extra></extra>",
           "legendgroup": "7",
           "marker": {
            "color": "#FF6692",
            "pattern": {
             "shape": ""
            }
           },
           "name": "7",
           "offsetgroup": "7",
           "orientation": "v",
           "showlegend": true,
           "type": "histogram",
           "x": [
            7,
            7
           ],
           "xaxis": "x",
           "y": [
            1.41,
            4.54
           ],
           "yaxis": "y"
          },
          {
           "alignmentgroup": "True",
           "bingroup": "x",
           "histfunc": "sum",
           "hovertemplate": "Region=%{x}<br> Date= 30-06-2020<br>sum of  Estimated Unemployment Rate (%)=%{y}<extra></extra>",
           "legendgroup": "8",
           "marker": {
            "color": "#B6E880",
            "pattern": {
             "shape": ""
            }
           },
           "name": "8",
           "offsetgroup": "8",
           "orientation": "v",
           "showlegend": true,
           "type": "histogram",
           "x": [
            8,
            8
           ],
           "xaxis": "x",
           "y": [
            35.57,
            29.41
           ],
           "yaxis": "y"
          },
          {
           "alignmentgroup": "True",
           "bingroup": "x",
           "histfunc": "sum",
           "hovertemplate": "Region=%{x}<br> Date= 30-06-2020<br>sum of  Estimated Unemployment Rate (%)=%{y}<extra></extra>",
           "legendgroup": "9",
           "marker": {
            "color": "#FF97FF",
            "pattern": {
             "shape": ""
            }
           },
           "name": "9",
           "offsetgroup": "9",
           "orientation": "v",
           "showlegend": true,
           "type": "histogram",
           "x": [
            9,
            9
           ],
           "xaxis": "x",
           "y": [
            1.12,
            10.81
           ],
           "yaxis": "y"
          },
          {
           "alignmentgroup": "True",
           "bingroup": "x",
           "histfunc": "sum",
           "hovertemplate": "Region=%{x}<br> Date= 30-06-2020<br>sum of  Estimated Unemployment Rate (%)=%{y}<extra></extra>",
           "legendgroup": "10",
           "marker": {
            "color": "#FECB52",
            "pattern": {
             "shape": ""
            }
           },
           "name": "10",
           "offsetgroup": "10",
           "orientation": "v",
           "showlegend": true,
           "type": "histogram",
           "x": [
            10
           ],
           "xaxis": "x",
           "y": [
            18.97
           ],
           "yaxis": "y"
          },
          {
           "alignmentgroup": "True",
           "bingroup": "x",
           "histfunc": "sum",
           "hovertemplate": "Region=%{x}<br> Date= 30-06-2020<br>sum of  Estimated Unemployment Rate (%)=%{y}<extra></extra>",
           "legendgroup": "11",
           "marker": {
            "color": "#636efa",
            "pattern": {
             "shape": ""
            }
           },
           "name": "11",
           "offsetgroup": "11",
           "orientation": "v",
           "showlegend": true,
           "type": "histogram",
           "x": [
            11,
            11
           ],
           "xaxis": "x",
           "y": [
            21.53,
            19.38
           ],
           "yaxis": "y"
          },
          {
           "alignmentgroup": "True",
           "bingroup": "x",
           "histfunc": "sum",
           "hovertemplate": "Region=%{x}<br> Date= 30-06-2020<br>sum of  Estimated Unemployment Rate (%)=%{y}<extra></extra>",
           "legendgroup": "12",
           "marker": {
            "color": "#EF553B",
            "pattern": {
             "shape": ""
            }
           },
           "name": "12",
           "offsetgroup": "12",
           "orientation": "v",
           "showlegend": true,
           "type": "histogram",
           "x": [
            12,
            12
           ],
           "xaxis": "x",
           "y": [
            10.92,
            6.12
           ],
           "yaxis": "y"
          },
          {
           "alignmentgroup": "True",
           "bingroup": "x",
           "histfunc": "sum",
           "hovertemplate": "Region=%{x}<br> Date= 30-06-2020<br>sum of  Estimated Unemployment Rate (%)=%{y}<extra></extra>",
           "legendgroup": "13",
           "marker": {
            "color": "#00cc96",
            "pattern": {
             "shape": ""
            }
           },
           "name": "13",
           "offsetgroup": "13",
           "orientation": "v",
           "showlegend": true,
           "type": "histogram",
           "x": [
            13,
            13
           ],
           "xaxis": "x",
           "y": [
            27.66,
            12.17
           ],
           "yaxis": "y"
          },
          {
           "alignmentgroup": "True",
           "bingroup": "x",
           "histfunc": "sum",
           "hovertemplate": "Region=%{x}<br> Date= 30-06-2020<br>sum of  Estimated Unemployment Rate (%)=%{y}<extra></extra>",
           "legendgroup": "14",
           "marker": {
            "color": "#ab63fa",
            "pattern": {
             "shape": ""
            }
           },
           "name": "14",
           "offsetgroup": "14",
           "orientation": "v",
           "showlegend": true,
           "type": "histogram",
           "x": [
            14,
            14
           ],
           "xaxis": "x",
           "y": [
            6.46,
            12.72
           ],
           "yaxis": "y"
          },
          {
           "alignmentgroup": "True",
           "bingroup": "x",
           "histfunc": "sum",
           "hovertemplate": "Region=%{x}<br> Date= 30-06-2020<br>sum of  Estimated Unemployment Rate (%)=%{y}<extra></extra>",
           "legendgroup": "15",
           "marker": {
            "color": "#FFA15A",
            "pattern": {
             "shape": ""
            }
           },
           "name": "15",
           "offsetgroup": "15",
           "orientation": "v",
           "showlegend": true,
           "type": "histogram",
           "x": [
            15,
            15
           ],
           "xaxis": "x",
           "y": [
            9.4,
            10.01
           ],
           "yaxis": "y"
          },
          {
           "alignmentgroup": "True",
           "bingroup": "x",
           "histfunc": "sum",
           "hovertemplate": "Region=%{x}<br> Date= 30-06-2020<br>sum of  Estimated Unemployment Rate (%)=%{y}<extra></extra>",
           "legendgroup": "16",
           "marker": {
            "color": "#19d3f3",
            "pattern": {
             "shape": ""
            }
           },
           "name": "16",
           "offsetgroup": "16",
           "orientation": "v",
           "showlegend": true,
           "type": "histogram",
           "x": [
            16
           ],
           "xaxis": "x",
           "y": [
            1.35
           ],
           "yaxis": "y"
          },
          {
           "alignmentgroup": "True",
           "bingroup": "x",
           "histfunc": "sum",
           "hovertemplate": "Region=%{x}<br> Date= 30-06-2020<br>sum of  Estimated Unemployment Rate (%)=%{y}<extra></extra>",
           "legendgroup": "17",
           "marker": {
            "color": "#FF6692",
            "pattern": {
             "shape": ""
            }
           },
           "name": "17",
           "offsetgroup": "17",
           "orientation": "v",
           "showlegend": true,
           "type": "histogram",
           "x": [
            17,
            17
           ],
           "xaxis": "x",
           "y": [
            4.59,
            2.18
           ],
           "yaxis": "y"
          },
          {
           "alignmentgroup": "True",
           "bingroup": "x",
           "histfunc": "sum",
           "hovertemplate": "Region=%{x}<br> Date= 30-06-2020<br>sum of  Estimated Unemployment Rate (%)=%{y}<extra></extra>",
           "legendgroup": "18",
           "marker": {
            "color": "#B6E880",
            "pattern": {
             "shape": ""
            }
           },
           "name": "18",
           "offsetgroup": "18",
           "orientation": "v",
           "showlegend": true,
           "type": "histogram",
           "x": [
            18
           ],
           "xaxis": "x",
           "y": [
            4.55
           ],
           "yaxis": "y"
          },
          {
           "alignmentgroup": "True",
           "bingroup": "x",
           "histfunc": "sum",
           "hovertemplate": "Region=%{x}<br> Date= 30-06-2020<br>sum of  Estimated Unemployment Rate (%)=%{y}<extra></extra>",
           "legendgroup": "19",
           "marker": {
            "color": "#FF97FF",
            "pattern": {
             "shape": ""
            }
           },
           "name": "19",
           "offsetgroup": "19",
           "orientation": "v",
           "showlegend": true,
           "type": "histogram",
           "x": [
            19,
            19
           ],
           "xaxis": "x",
           "y": [
            20,
            10.55
           ],
           "yaxis": "y"
          },
          {
           "alignmentgroup": "True",
           "bingroup": "x",
           "histfunc": "sum",
           "hovertemplate": "Region=%{x}<br> Date= 30-06-2020<br>sum of  Estimated Unemployment Rate (%)=%{y}<extra></extra>",
           "legendgroup": "20",
           "marker": {
            "color": "#FECB52",
            "pattern": {
             "shape": ""
            }
           },
           "name": "20",
           "offsetgroup": "20",
           "orientation": "v",
           "showlegend": true,
           "type": "histogram",
           "x": [
            20,
            20
           ],
           "xaxis": "x",
           "y": [
            13.86,
            13.04
           ],
           "yaxis": "y"
          },
          {
           "alignmentgroup": "True",
           "bingroup": "x",
           "histfunc": "sum",
           "hovertemplate": "Region=%{x}<br> Date= 30-06-2020<br>sum of  Estimated Unemployment Rate (%)=%{y}<extra></extra>",
           "legendgroup": "21",
           "marker": {
            "color": "#636efa",
            "pattern": {
             "shape": ""
            }
           },
           "name": "21",
           "offsetgroup": "21",
           "orientation": "v",
           "showlegend": true,
           "type": "histogram",
           "x": [
            21,
            21
           ],
           "xaxis": "x",
           "y": [
            5.81,
            2.63
           ],
           "yaxis": "y"
          },
          {
           "alignmentgroup": "True",
           "bingroup": "x",
           "histfunc": "sum",
           "hovertemplate": "Region=%{x}<br> Date= 30-06-2020<br>sum of  Estimated Unemployment Rate (%)=%{y}<extra></extra>",
           "legendgroup": "22",
           "marker": {
            "color": "#EF553B",
            "pattern": {
             "shape": ""
            }
           },
           "name": "22",
           "offsetgroup": "22",
           "orientation": "v",
           "showlegend": true,
           "type": "histogram",
           "x": [
            22,
            22
           ],
           "xaxis": "x",
           "y": [
            2.06,
            24.93
           ],
           "yaxis": "y"
          },
          {
           "alignmentgroup": "True",
           "bingroup": "x",
           "histfunc": "sum",
           "hovertemplate": "Region=%{x}<br> Date= 30-06-2020<br>sum of  Estimated Unemployment Rate (%)=%{y}<extra></extra>",
           "legendgroup": "23",
           "marker": {
            "color": "#00cc96",
            "pattern": {
             "shape": ""
            }
           },
           "name": "23",
           "offsetgroup": "23",
           "orientation": "v",
           "showlegend": true,
           "type": "histogram",
           "x": [
            23,
            23
           ],
           "xaxis": "x",
           "y": [
            19.3,
            6.92
           ],
           "yaxis": "y"
          },
          {
           "alignmentgroup": "True",
           "bingroup": "x",
           "histfunc": "sum",
           "hovertemplate": "Region=%{x}<br> Date= 30-06-2020<br>sum of  Estimated Unemployment Rate (%)=%{y}<extra></extra>",
           "legendgroup": "24",
           "marker": {
            "color": "#ab63fa",
            "pattern": {
             "shape": ""
            }
           },
           "name": "24",
           "offsetgroup": "24",
           "orientation": "v",
           "showlegend": true,
           "type": "histogram",
           "x": [
            24,
            24
           ],
           "xaxis": "x",
           "y": [
            18.84,
            27.47
           ],
           "yaxis": "y"
          },
          {
           "alignmentgroup": "True",
           "bingroup": "x",
           "histfunc": "sum",
           "hovertemplate": "Region=%{x}<br> Date= 30-06-2020<br>sum of  Estimated Unemployment Rate (%)=%{y}<extra></extra>",
           "legendgroup": "25",
           "marker": {
            "color": "#FFA15A",
            "pattern": {
             "shape": ""
            }
           },
           "name": "25",
           "offsetgroup": "25",
           "orientation": "v",
           "showlegend": true,
           "type": "histogram",
           "x": [
            25,
            25
           ],
           "xaxis": "x",
           "y": [
            8.51,
            13.05
           ],
           "yaxis": "y"
          },
          {
           "alignmentgroup": "True",
           "bingroup": "x",
           "histfunc": "sum",
           "hovertemplate": "Region=%{x}<br> Date= 30-06-2020<br>sum of  Estimated Unemployment Rate (%)=%{y}<extra></extra>",
           "legendgroup": "26",
           "marker": {
            "color": "#19d3f3",
            "pattern": {
             "shape": ""
            }
           },
           "name": "26",
           "offsetgroup": "26",
           "orientation": "v",
           "showlegend": true,
           "type": "histogram",
           "x": [
            26,
            26
           ],
           "xaxis": "x",
           "y": [
            10.71,
            5.08
           ],
           "yaxis": "y"
          },
          {
           "alignmentgroup": "True",
           "bingroup": "x",
           "histfunc": "sum",
           "hovertemplate": "Region=%{x}<br> Date= 30-06-2020<br>sum of  Estimated Unemployment Rate (%)=%{y}<extra></extra>",
           "legendgroup": "27",
           "marker": {
            "color": "#FF6692",
            "pattern": {
             "shape": ""
            }
           },
           "name": "27",
           "offsetgroup": "27",
           "orientation": "v",
           "showlegend": true,
           "type": "histogram",
           "x": [
            27,
            27
           ],
           "xaxis": "x",
           "y": [
            4.94,
            9.86
           ],
           "yaxis": "y"
          },
          {
           "alignmentgroup": "True",
           "bingroup": "x",
           "histfunc": "sum",
           "hovertemplate": "Region=%{x}<br> Date= 30-06-2020<br>sum of  Estimated Unemployment Rate (%)=%{y}<extra></extra>",
           "legendgroup": "3",
           "marker": {
            "color": "#FF97FF",
            "pattern": {
             "shape": ""
            }
           },
           "name": "3",
           "offsetgroup": "3",
           "orientation": "v",
           "showlegend": true,
           "type": "histogram",
           "x": [
            3
           ],
           "xaxis": "x",
           "y": [
            7.22
           ],
           "yaxis": "y"
          }
         ],
         "name": " 30-06-2020"
        }
       ],
       "layout": {
        "barmode": "relative",
        "legend": {
         "title": {
          "text": "Region"
         },
         "tracegroupgap": 0
        },
        "sliders": [
         {
          "active": 0,
          "currentvalue": {
           "prefix": " Date="
          },
          "len": 0.9,
          "pad": {
           "b": 10,
           "t": 60
          },
          "steps": [
           {
            "args": [
             [
              " 31-05-2019"
             ],
             {
              "frame": {
               "duration": 0,
               "redraw": true
              },
              "fromcurrent": true,
              "mode": "immediate",
              "transition": {
               "duration": 0,
               "easing": "linear"
              }
             }
            ],
            "label": " 31-05-2019",
            "method": "animate"
           },
           {
            "args": [
             [
              " 30-06-2019"
             ],
             {
              "frame": {
               "duration": 0,
               "redraw": true
              },
              "fromcurrent": true,
              "mode": "immediate",
              "transition": {
               "duration": 0,
               "easing": "linear"
              }
             }
            ],
            "label": " 30-06-2019",
            "method": "animate"
           },
           {
            "args": [
             [
              " 31-07-2019"
             ],
             {
              "frame": {
               "duration": 0,
               "redraw": true
              },
              "fromcurrent": true,
              "mode": "immediate",
              "transition": {
               "duration": 0,
               "easing": "linear"
              }
             }
            ],
            "label": " 31-07-2019",
            "method": "animate"
           },
           {
            "args": [
             [
              " 31-08-2019"
             ],
             {
              "frame": {
               "duration": 0,
               "redraw": true
              },
              "fromcurrent": true,
              "mode": "immediate",
              "transition": {
               "duration": 0,
               "easing": "linear"
              }
             }
            ],
            "label": " 31-08-2019",
            "method": "animate"
           },
           {
            "args": [
             [
              " 30-09-2019"
             ],
             {
              "frame": {
               "duration": 0,
               "redraw": true
              },
              "fromcurrent": true,
              "mode": "immediate",
              "transition": {
               "duration": 0,
               "easing": "linear"
              }
             }
            ],
            "label": " 30-09-2019",
            "method": "animate"
           },
           {
            "args": [
             [
              " 31-10-2019"
             ],
             {
              "frame": {
               "duration": 0,
               "redraw": true
              },
              "fromcurrent": true,
              "mode": "immediate",
              "transition": {
               "duration": 0,
               "easing": "linear"
              }
             }
            ],
            "label": " 31-10-2019",
            "method": "animate"
           },
           {
            "args": [
             [
              " 30-11-2019"
             ],
             {
              "frame": {
               "duration": 0,
               "redraw": true
              },
              "fromcurrent": true,
              "mode": "immediate",
              "transition": {
               "duration": 0,
               "easing": "linear"
              }
             }
            ],
            "label": " 30-11-2019",
            "method": "animate"
           },
           {
            "args": [
             [
              " 31-12-2019"
             ],
             {
              "frame": {
               "duration": 0,
               "redraw": true
              },
              "fromcurrent": true,
              "mode": "immediate",
              "transition": {
               "duration": 0,
               "easing": "linear"
              }
             }
            ],
            "label": " 31-12-2019",
            "method": "animate"
           },
           {
            "args": [
             [
              " 31-01-2020"
             ],
             {
              "frame": {
               "duration": 0,
               "redraw": true
              },
              "fromcurrent": true,
              "mode": "immediate",
              "transition": {
               "duration": 0,
               "easing": "linear"
              }
             }
            ],
            "label": " 31-01-2020",
            "method": "animate"
           },
           {
            "args": [
             [
              " 29-02-2020"
             ],
             {
              "frame": {
               "duration": 0,
               "redraw": true
              },
              "fromcurrent": true,
              "mode": "immediate",
              "transition": {
               "duration": 0,
               "easing": "linear"
              }
             }
            ],
            "label": " 29-02-2020",
            "method": "animate"
           },
           {
            "args": [
             [
              " 31-03-2020"
             ],
             {
              "frame": {
               "duration": 0,
               "redraw": true
              },
              "fromcurrent": true,
              "mode": "immediate",
              "transition": {
               "duration": 0,
               "easing": "linear"
              }
             }
            ],
            "label": " 31-03-2020",
            "method": "animate"
           },
           {
            "args": [
             [
              " 30-04-2020"
             ],
             {
              "frame": {
               "duration": 0,
               "redraw": true
              },
              "fromcurrent": true,
              "mode": "immediate",
              "transition": {
               "duration": 0,
               "easing": "linear"
              }
             }
            ],
            "label": " 30-04-2020",
            "method": "animate"
           },
           {
            "args": [
             [
              " 31-05-2020"
             ],
             {
              "frame": {
               "duration": 0,
               "redraw": true
              },
              "fromcurrent": true,
              "mode": "immediate",
              "transition": {
               "duration": 0,
               "easing": "linear"
              }
             }
            ],
            "label": " 31-05-2020",
            "method": "animate"
           },
           {
            "args": [
             [
              " 30-06-2020"
             ],
             {
              "frame": {
               "duration": 0,
               "redraw": true
              },
              "fromcurrent": true,
              "mode": "immediate",
              "transition": {
               "duration": 0,
               "easing": "linear"
              }
             }
            ],
            "label": " 30-06-2020",
            "method": "animate"
           }
          ],
          "x": 0.1,
          "xanchor": "left",
          "y": 0,
          "yanchor": "top"
         }
        ],
        "template": {
         "data": {
          "bar": [
           {
            "error_x": {
             "color": "#2a3f5f"
            },
            "error_y": {
             "color": "#2a3f5f"
            },
            "marker": {
             "line": {
              "color": "#E5ECF6",
              "width": 0.5
             },
             "pattern": {
              "fillmode": "overlay",
              "size": 10,
              "solidity": 0.2
             }
            },
            "type": "bar"
           }
          ],
          "barpolar": [
           {
            "marker": {
             "line": {
              "color": "#E5ECF6",
              "width": 0.5
             },
             "pattern": {
              "fillmode": "overlay",
              "size": 10,
              "solidity": 0.2
             }
            },
            "type": "barpolar"
           }
          ],
          "carpet": [
           {
            "aaxis": {
             "endlinecolor": "#2a3f5f",
             "gridcolor": "white",
             "linecolor": "white",
             "minorgridcolor": "white",
             "startlinecolor": "#2a3f5f"
            },
            "baxis": {
             "endlinecolor": "#2a3f5f",
             "gridcolor": "white",
             "linecolor": "white",
             "minorgridcolor": "white",
             "startlinecolor": "#2a3f5f"
            },
            "type": "carpet"
           }
          ],
          "choropleth": [
           {
            "colorbar": {
             "outlinewidth": 0,
             "ticks": ""
            },
            "type": "choropleth"
           }
          ],
          "contour": [
           {
            "colorbar": {
             "outlinewidth": 0,
             "ticks": ""
            },
            "colorscale": [
             [
              0,
              "#0d0887"
             ],
             [
              0.1111111111111111,
              "#46039f"
             ],
             [
              0.2222222222222222,
              "#7201a8"
             ],
             [
              0.3333333333333333,
              "#9c179e"
             ],
             [
              0.4444444444444444,
              "#bd3786"
             ],
             [
              0.5555555555555556,
              "#d8576b"
             ],
             [
              0.6666666666666666,
              "#ed7953"
             ],
             [
              0.7777777777777778,
              "#fb9f3a"
             ],
             [
              0.8888888888888888,
              "#fdca26"
             ],
             [
              1,
              "#f0f921"
             ]
            ],
            "type": "contour"
           }
          ],
          "contourcarpet": [
           {
            "colorbar": {
             "outlinewidth": 0,
             "ticks": ""
            },
            "type": "contourcarpet"
           }
          ],
          "heatmap": [
           {
            "colorbar": {
             "outlinewidth": 0,
             "ticks": ""
            },
            "colorscale": [
             [
              0,
              "#0d0887"
             ],
             [
              0.1111111111111111,
              "#46039f"
             ],
             [
              0.2222222222222222,
              "#7201a8"
             ],
             [
              0.3333333333333333,
              "#9c179e"
             ],
             [
              0.4444444444444444,
              "#bd3786"
             ],
             [
              0.5555555555555556,
              "#d8576b"
             ],
             [
              0.6666666666666666,
              "#ed7953"
             ],
             [
              0.7777777777777778,
              "#fb9f3a"
             ],
             [
              0.8888888888888888,
              "#fdca26"
             ],
             [
              1,
              "#f0f921"
             ]
            ],
            "type": "heatmap"
           }
          ],
          "heatmapgl": [
           {
            "colorbar": {
             "outlinewidth": 0,
             "ticks": ""
            },
            "colorscale": [
             [
              0,
              "#0d0887"
             ],
             [
              0.1111111111111111,
              "#46039f"
             ],
             [
              0.2222222222222222,
              "#7201a8"
             ],
             [
              0.3333333333333333,
              "#9c179e"
             ],
             [
              0.4444444444444444,
              "#bd3786"
             ],
             [
              0.5555555555555556,
              "#d8576b"
             ],
             [
              0.6666666666666666,
              "#ed7953"
             ],
             [
              0.7777777777777778,
              "#fb9f3a"
             ],
             [
              0.8888888888888888,
              "#fdca26"
             ],
             [
              1,
              "#f0f921"
             ]
            ],
            "type": "heatmapgl"
           }
          ],
          "histogram": [
           {
            "marker": {
             "pattern": {
              "fillmode": "overlay",
              "size": 10,
              "solidity": 0.2
             }
            },
            "type": "histogram"
           }
          ],
          "histogram2d": [
           {
            "colorbar": {
             "outlinewidth": 0,
             "ticks": ""
            },
            "colorscale": [
             [
              0,
              "#0d0887"
             ],
             [
              0.1111111111111111,
              "#46039f"
             ],
             [
              0.2222222222222222,
              "#7201a8"
             ],
             [
              0.3333333333333333,
              "#9c179e"
             ],
             [
              0.4444444444444444,
              "#bd3786"
             ],
             [
              0.5555555555555556,
              "#d8576b"
             ],
             [
              0.6666666666666666,
              "#ed7953"
             ],
             [
              0.7777777777777778,
              "#fb9f3a"
             ],
             [
              0.8888888888888888,
              "#fdca26"
             ],
             [
              1,
              "#f0f921"
             ]
            ],
            "type": "histogram2d"
           }
          ],
          "histogram2dcontour": [
           {
            "colorbar": {
             "outlinewidth": 0,
             "ticks": ""
            },
            "colorscale": [
             [
              0,
              "#0d0887"
             ],
             [
              0.1111111111111111,
              "#46039f"
             ],
             [
              0.2222222222222222,
              "#7201a8"
             ],
             [
              0.3333333333333333,
              "#9c179e"
             ],
             [
              0.4444444444444444,
              "#bd3786"
             ],
             [
              0.5555555555555556,
              "#d8576b"
             ],
             [
              0.6666666666666666,
              "#ed7953"
             ],
             [
              0.7777777777777778,
              "#fb9f3a"
             ],
             [
              0.8888888888888888,
              "#fdca26"
             ],
             [
              1,
              "#f0f921"
             ]
            ],
            "type": "histogram2dcontour"
           }
          ],
          "mesh3d": [
           {
            "colorbar": {
             "outlinewidth": 0,
             "ticks": ""
            },
            "type": "mesh3d"
           }
          ],
          "parcoords": [
           {
            "line": {
             "colorbar": {
              "outlinewidth": 0,
              "ticks": ""
             }
            },
            "type": "parcoords"
           }
          ],
          "pie": [
           {
            "automargin": true,
            "type": "pie"
           }
          ],
          "scatter": [
           {
            "fillpattern": {
             "fillmode": "overlay",
             "size": 10,
             "solidity": 0.2
            },
            "type": "scatter"
           }
          ],
          "scatter3d": [
           {
            "line": {
             "colorbar": {
              "outlinewidth": 0,
              "ticks": ""
             }
            },
            "marker": {
             "colorbar": {
              "outlinewidth": 0,
              "ticks": ""
             }
            },
            "type": "scatter3d"
           }
          ],
          "scattercarpet": [
           {
            "marker": {
             "colorbar": {
              "outlinewidth": 0,
              "ticks": ""
             }
            },
            "type": "scattercarpet"
           }
          ],
          "scattergeo": [
           {
            "marker": {
             "colorbar": {
              "outlinewidth": 0,
              "ticks": ""
             }
            },
            "type": "scattergeo"
           }
          ],
          "scattergl": [
           {
            "marker": {
             "colorbar": {
              "outlinewidth": 0,
              "ticks": ""
             }
            },
            "type": "scattergl"
           }
          ],
          "scattermapbox": [
           {
            "marker": {
             "colorbar": {
              "outlinewidth": 0,
              "ticks": ""
             }
            },
            "type": "scattermapbox"
           }
          ],
          "scatterpolar": [
           {
            "marker": {
             "colorbar": {
              "outlinewidth": 0,
              "ticks": ""
             }
            },
            "type": "scatterpolar"
           }
          ],
          "scatterpolargl": [
           {
            "marker": {
             "colorbar": {
              "outlinewidth": 0,
              "ticks": ""
             }
            },
            "type": "scatterpolargl"
           }
          ],
          "scatterternary": [
           {
            "marker": {
             "colorbar": {
              "outlinewidth": 0,
              "ticks": ""
             }
            },
            "type": "scatterternary"
           }
          ],
          "surface": [
           {
            "colorbar": {
             "outlinewidth": 0,
             "ticks": ""
            },
            "colorscale": [
             [
              0,
              "#0d0887"
             ],
             [
              0.1111111111111111,
              "#46039f"
             ],
             [
              0.2222222222222222,
              "#7201a8"
             ],
             [
              0.3333333333333333,
              "#9c179e"
             ],
             [
              0.4444444444444444,
              "#bd3786"
             ],
             [
              0.5555555555555556,
              "#d8576b"
             ],
             [
              0.6666666666666666,
              "#ed7953"
             ],
             [
              0.7777777777777778,
              "#fb9f3a"
             ],
             [
              0.8888888888888888,
              "#fdca26"
             ],
             [
              1,
              "#f0f921"
             ]
            ],
            "type": "surface"
           }
          ],
          "table": [
           {
            "cells": {
             "fill": {
              "color": "#EBF0F8"
             },
             "line": {
              "color": "white"
             }
            },
            "header": {
             "fill": {
              "color": "#C8D4E3"
             },
             "line": {
              "color": "white"
             }
            },
            "type": "table"
           }
          ]
         },
         "layout": {
          "annotationdefaults": {
           "arrowcolor": "#2a3f5f",
           "arrowhead": 0,
           "arrowwidth": 1
          },
          "autotypenumbers": "strict",
          "coloraxis": {
           "colorbar": {
            "outlinewidth": 0,
            "ticks": ""
           }
          },
          "colorscale": {
           "diverging": [
            [
             0,
             "#8e0152"
            ],
            [
             0.1,
             "#c51b7d"
            ],
            [
             0.2,
             "#de77ae"
            ],
            [
             0.3,
             "#f1b6da"
            ],
            [
             0.4,
             "#fde0ef"
            ],
            [
             0.5,
             "#f7f7f7"
            ],
            [
             0.6,
             "#e6f5d0"
            ],
            [
             0.7,
             "#b8e186"
            ],
            [
             0.8,
             "#7fbc41"
            ],
            [
             0.9,
             "#4d9221"
            ],
            [
             1,
             "#276419"
            ]
           ],
           "sequential": [
            [
             0,
             "#0d0887"
            ],
            [
             0.1111111111111111,
             "#46039f"
            ],
            [
             0.2222222222222222,
             "#7201a8"
            ],
            [
             0.3333333333333333,
             "#9c179e"
            ],
            [
             0.4444444444444444,
             "#bd3786"
            ],
            [
             0.5555555555555556,
             "#d8576b"
            ],
            [
             0.6666666666666666,
             "#ed7953"
            ],
            [
             0.7777777777777778,
             "#fb9f3a"
            ],
            [
             0.8888888888888888,
             "#fdca26"
            ],
            [
             1,
             "#f0f921"
            ]
           ],
           "sequentialminus": [
            [
             0,
             "#0d0887"
            ],
            [
             0.1111111111111111,
             "#46039f"
            ],
            [
             0.2222222222222222,
             "#7201a8"
            ],
            [
             0.3333333333333333,
             "#9c179e"
            ],
            [
             0.4444444444444444,
             "#bd3786"
            ],
            [
             0.5555555555555556,
             "#d8576b"
            ],
            [
             0.6666666666666666,
             "#ed7953"
            ],
            [
             0.7777777777777778,
             "#fb9f3a"
            ],
            [
             0.8888888888888888,
             "#fdca26"
            ],
            [
             1,
             "#f0f921"
            ]
           ]
          },
          "colorway": [
           "#636efa",
           "#EF553B",
           "#00cc96",
           "#ab63fa",
           "#FFA15A",
           "#19d3f3",
           "#FF6692",
           "#B6E880",
           "#FF97FF",
           "#FECB52"
          ],
          "font": {
           "color": "#2a3f5f"
          },
          "geo": {
           "bgcolor": "white",
           "lakecolor": "white",
           "landcolor": "#E5ECF6",
           "showlakes": true,
           "showland": true,
           "subunitcolor": "white"
          },
          "hoverlabel": {
           "align": "left"
          },
          "hovermode": "closest",
          "mapbox": {
           "style": "light"
          },
          "paper_bgcolor": "white",
          "plot_bgcolor": "#E5ECF6",
          "polar": {
           "angularaxis": {
            "gridcolor": "white",
            "linecolor": "white",
            "ticks": ""
           },
           "bgcolor": "#E5ECF6",
           "radialaxis": {
            "gridcolor": "white",
            "linecolor": "white",
            "ticks": ""
           }
          },
          "scene": {
           "xaxis": {
            "backgroundcolor": "#E5ECF6",
            "gridcolor": "white",
            "gridwidth": 2,
            "linecolor": "white",
            "showbackground": true,
            "ticks": "",
            "zerolinecolor": "white"
           },
           "yaxis": {
            "backgroundcolor": "#E5ECF6",
            "gridcolor": "white",
            "gridwidth": 2,
            "linecolor": "white",
            "showbackground": true,
            "ticks": "",
            "zerolinecolor": "white"
           },
           "zaxis": {
            "backgroundcolor": "#E5ECF6",
            "gridcolor": "white",
            "gridwidth": 2,
            "linecolor": "white",
            "showbackground": true,
            "ticks": "",
            "zerolinecolor": "white"
           }
          },
          "shapedefaults": {
           "line": {
            "color": "#2a3f5f"
           }
          },
          "ternary": {
           "aaxis": {
            "gridcolor": "white",
            "linecolor": "white",
            "ticks": ""
           },
           "baxis": {
            "gridcolor": "white",
            "linecolor": "white",
            "ticks": ""
           },
           "bgcolor": "#E5ECF6",
           "caxis": {
            "gridcolor": "white",
            "linecolor": "white",
            "ticks": ""
           }
          },
          "title": {
           "x": 0.05
          },
          "xaxis": {
           "automargin": true,
           "gridcolor": "white",
           "linecolor": "white",
           "ticks": "",
           "title": {
            "standoff": 15
           },
           "zerolinecolor": "white",
           "zerolinewidth": 2
          },
          "yaxis": {
           "automargin": true,
           "gridcolor": "white",
           "linecolor": "white",
           "ticks": "",
           "title": {
            "standoff": 15
           },
           "zerolinecolor": "white",
           "zerolinewidth": 2
          }
         }
        },
        "title": {
         "text": "Unemployment rate"
        },
        "updatemenus": [
         {
          "buttons": [
           {
            "args": [
             null,
             {
              "frame": {
               "duration": 500,
               "redraw": true
              },
              "fromcurrent": true,
              "mode": "immediate",
              "transition": {
               "duration": 500,
               "easing": "linear"
              }
             }
            ],
            "label": "&#9654;",
            "method": "animate"
           },
           {
            "args": [
             [
              null
             ],
             {
              "frame": {
               "duration": 0,
               "redraw": true
              },
              "fromcurrent": true,
              "mode": "immediate",
              "transition": {
               "duration": 0,
               "easing": "linear"
              }
             }
            ],
            "label": "&#9724;",
            "method": "animate"
           }
          ],
          "direction": "left",
          "pad": {
           "r": 10,
           "t": 70
          },
          "showactive": false,
          "type": "buttons",
          "x": 0.1,
          "xanchor": "right",
          "y": 0,
          "yanchor": "top"
         }
        ],
        "xaxis": {
         "anchor": "y",
         "categoryarray": [
          0,
          1,
          2,
          4,
          5,
          6,
          7,
          8,
          9,
          10,
          11,
          12,
          13,
          14,
          15,
          16,
          17,
          18,
          19,
          20,
          21,
          22,
          23,
          24,
          25,
          26,
          27,
          28,
          3
         ],
         "categoryorder": "total descending",
         "domain": [
          0,
          1
         ],
         "title": {
          "text": "Region"
         }
        },
        "yaxis": {
         "anchor": "x",
         "domain": [
          0,
          1
         ],
         "title": {
          "text": "sum of  Estimated Unemployment Rate (%)"
         }
        }
       }
      }
     },
     "metadata": {},
     "output_type": "display_data"
    }
   ],
   "source": [
    "fg = px.histogram(df,x='Region',y=' Estimated Unemployment Rate (%)',color='Region',title='Unemployment rate',animation_frame=' Date',template='plotly')\n",
    "fg.update_layout(xaxis={'categoryorder':'total descending'})\n",
    "fg.show()"
   ]
  }
 ],
 "metadata": {
  "kernelspec": {
   "display_name": "base",
   "language": "python",
   "name": "python3"
  },
  "language_info": {
   "codemirror_mode": {
    "name": "ipython",
    "version": 3
   },
   "file_extension": ".py",
   "mimetype": "text/x-python",
   "name": "python",
   "nbconvert_exporter": "python",
   "pygments_lexer": "ipython3",
   "version": "3.9.13"
  },
  "orig_nbformat": 4,
  "vscode": {
   "interpreter": {
    "hash": "ad2bdc8ecc057115af97d19610ffacc2b4e99fae6737bb82f5d7fb13d2f2c186"
   }
  }
 },
 "nbformat": 4,
 "nbformat_minor": 2
}
